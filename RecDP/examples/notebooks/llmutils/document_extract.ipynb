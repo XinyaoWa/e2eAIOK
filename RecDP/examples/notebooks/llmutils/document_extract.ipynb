{
 "cells": [
  {
   "cell_type": "markdown",
   "id": "eUmHSaVVFVMg",
   "metadata": {
    "id": "eUmHSaVVFVMg"
   },
   "source": [
    "# RecDP LLM - Document Extract\n",
    "\n",
    "standard input for LLM pretrain/finetune is a folder of files containing multiple samples. Each sample is a json format or tabular format row.\n",
    "\n",
    "This function is used to convert text, images, pdfs, docs to jsonl files and then used for LLM data process.\n",
    "\n",
    "Output format:\n",
    "\n",
    "| text                | meta                              |\n",
    "| ------------------- | --------------------------------- |\n",
    "| This is a cool tool | {'source': 'dummy', 'lang': 'en'} |\n",
    "| llm is fun          | {'source': 'dummy', 'lang': 'en'} |\n",
    "| ...                 | {'source': 'dummy', 'lang': 'en'} |\n",
    "\n",
    "input types supported:\n",
    "* image (png, jpg)\n",
    "* pdf\n",
    "* docs"
   ]
  },
  {
   "cell_type": "markdown",
   "id": "zbISMsN5GTb5",
   "metadata": {
    "id": "zbISMsN5GTb5"
   },
   "source": [
    "# Get started"
   ]
  },
  {
   "cell_type": "markdown",
   "id": "tlDs3s2IGav-",
   "metadata": {
    "id": "tlDs3s2IGav-"
   },
   "source": [
    "## 1. Install pyrecdp and dependencies"
   ]
  },
  {
   "cell_type": "code",
   "execution_count": null,
   "id": "736fb211-dbe6-4ca9-a1b1-db2cff2d287a",
   "metadata": {
    "id": "736fb211-dbe6-4ca9-a1b1-db2cff2d287a"
   },
   "outputs": [],
   "source": [
    "! DEBIAN_FRONTEND=noninteractive apt-get install -qq -y openjdk-8-jre\n",
    "! pip install -q pyrecdp --pre\n",
    "# ! pip install 'git+https://github.com/intel/e2eAIOK.git#egg=pyrecdp&subdirectory=RecDP'"
   ]
  },
  {
   "cell_type": "markdown",
   "id": "LOquUg-OG0MS",
   "metadata": {
    "id": "LOquUg-OG0MS"
   },
   "source": [
    "## 2. prepare your own data"
   ]
  },
  {
   "cell_type": "code",
   "execution_count": null,
   "id": "RHHGVvuZGzSS",
   "metadata": {
    "id": "RHHGVvuZGzSS"
   },
   "outputs": [],
   "source": [
    "%mkdir -p /content/test_data\n",
    "%cd /content/test_data\n",
    "%mkdir -p /content/doc_jsonl\n",
    "file_names = ['english-and-korean.png', 'handbook-872p.docx', 'layout-parser-paper-10p.jpg', 'layout-parser-paper.pdf']\n",
    "file_list = [f\"https://raw.githubusercontent.com/intel/e2eAIOK/main/RecDP/tests/data/llm_data/document/{i}\" for i in file_names]\n",
    "!wget -P /content/test_data/document/ {\" \".join(file_list)}"
   ]
  },
  {
   "cell_type": "markdown",
   "id": "dhrC92TbIriM",
   "metadata": {
    "id": "dhrC92TbIriM"
   },
   "source": [
    "## 3. load  documents"
   ]
  },
  {
   "cell_type": "markdown",
   "id": "MLj8YsmXgKFa",
   "metadata": {
    "id": "MLj8YsmXgKFa"
   },
   "source": [
    "#### 3.1 load pdf documents"
   ]
  },
  {
   "cell_type": "code",
   "execution_count": 1,
   "id": "bKDlmC0CdlGY",
   "metadata": {
    "colab": {
     "base_uri": "https://localhost:8080/"
    },
    "id": "bKDlmC0CdlGY",
    "outputId": "8d7b2a4f-2ce3-48a0-e92f-fd6548428349"
   },
   "outputs": [
    {
     "name": "stdout",
     "output_type": "stream",
     "text": [
      "_get_loader\n",
      "\u001b[32m2023-12-20 14:52:16.382\u001b[0m | \u001b[1mINFO    \u001b[0m | \u001b[36mpyrecdp.core.import_utils\u001b[0m:\u001b[36mcheck_availability_and_install\u001b[0m:\u001b[36m52\u001b[0m - \u001b[1mcheck_availability_and_install pypdf\u001b[0m\n"
     ]
    },
    {
     "name": "stdout",
     "output_type": "stream",
     "text": [
      "_get_loader\n",
      "\u001b[32m2023-12-20 14:52:16.469\u001b[0m | \u001b[1mINFO    \u001b[0m | \u001b[36mpyrecdp.core.import_utils\u001b[0m:\u001b[36mcheck_availability_and_install\u001b[0m:\u001b[36m52\u001b[0m - \u001b[1mcheck_availability_and_install pypdf\u001b[0m\n",
      "init ray\n",
      "init ray with total mem of 324413575987, total core of 48\n"
     ]
    },
    {
     "name": "stderr",
     "output_type": "stream",
     "text": [
      "2023-12-20 14:52:21,156\tINFO worker.py:1642 -- Started a local Ray instance.\n"
     ]
    },
    {
     "name": "stdout",
     "output_type": "stream",
     "text": [
      "execute with ray started ...\n"
     ]
    },
    {
     "name": "stderr",
     "output_type": "stream",
     "text": [
      "100%|██████████| 1/1 [00:00<00:00,  2.85it/s]\n",
      "2023-12-20 14:52:22,927\tINFO streaming_executor.py:93 -- Executing DAG InputDataBuffer[Input] -> TaskPoolMapOperator[Write]\n",
      "2023-12-20 14:52:22,932\tINFO streaming_executor.py:94 -- Execution config: ExecutionOptions(resource_limits=ExecutionResources(cpu=None, gpu=None, object_store_memory=None), locality_with_output=False, preserve_order=False, actor_locality_enabled=True, verbose_progress=False)\n",
      "2023-12-20 14:52:22,933\tINFO streaming_executor.py:96 -- Tip: For detailed progress reporting, run `ray.data.DataContext.get_current().execution_options.verbose_progress = True`\n"
     ]
    },
    {
     "data": {
      "application/vnd.jupyter.widget-view+json": {
       "model_id": "1defe0fb210a4084b4b8967891df4251",
       "version_major": 2,
       "version_minor": 0
      },
      "text/plain": [
       "Running 0:   0%|          | 0/1 [00:00<?, ?it/s]"
      ]
     },
     "metadata": {},
     "output_type": "display_data"
    },
    {
     "name": "stdout",
     "output_type": "stream",
     "text": [
      "execute with ray took 1.1216576620936394 sec\n"
     ]
    },
    {
     "data": {
      "text/html": [
       "<div>\n",
       "<style scoped>\n",
       "    .dataframe tbody tr th:only-of-type {\n",
       "        vertical-align: middle;\n",
       "    }\n",
       "\n",
       "    .dataframe tbody tr th {\n",
       "        vertical-align: top;\n",
       "    }\n",
       "\n",
       "    .dataframe thead th {\n",
       "        text-align: right;\n",
       "    }\n",
       "</style>\n",
       "<table border=\"1\" class=\"dataframe\">\n",
       "  <thead>\n",
       "    <tr style=\"text-align: right;\">\n",
       "      <th></th>\n",
       "      <th>text</th>\n",
       "      <th>metadata</th>\n",
       "    </tr>\n",
       "  </thead>\n",
       "  <tbody>\n",
       "    <tr>\n",
       "      <th>0</th>\n",
       "      <td>\\n\\n LayoutParser : A Uniﬁed Toolkit for Deep\\...</td>\n",
       "      <td>{'source': '/content/test_data/document/layout...</td>\n",
       "    </tr>\n",
       "  </tbody>\n",
       "</table>\n",
       "</div>"
      ],
      "text/plain": [
       "                                                text                                           metadata\n",
       "0  \\n\\n LayoutParser : A Uniﬁed Toolkit for Deep\\...  {'source': '/content/test_data/document/layout..."
      ]
     },
     "metadata": {},
     "output_type": "display_data"
    },
    {
     "name": "stderr",
     "output_type": "stream",
     "text": [
      "\u001b[2m\u001b[33m(raylet)\u001b[0m [2023-12-20 14:52:30,040 E 2010245 2010266] (raylet) file_system_monitor.cc:111: /tmp/ray/session_2023-12-20_14-52-18_287180_2002748 is over 95% full, available space: 0; capacity: 422146228224. Object creation will fail if spilling is required.\n",
      "\u001b[2m\u001b[33m(raylet)\u001b[0m [2023-12-20 14:52:40,054 E 2010245 2010266] (raylet) file_system_monitor.cc:111: /tmp/ray/session_2023-12-20_14-52-18_287180_2002748 is over 95% full, available space: 0; capacity: 422146228224. Object creation will fail if spilling is required.\n",
      "\u001b[2m\u001b[33m(raylet)\u001b[0m [2023-12-20 14:52:50,065 E 2010245 2010266] (raylet) file_system_monitor.cc:111: /tmp/ray/session_2023-12-20_14-52-18_287180_2002748 is over 95% full, available space: 0; capacity: 422146228224. Object creation will fail if spilling is required.\n",
      "\u001b[2m\u001b[33m(raylet)\u001b[0m [2023-12-20 14:53:00,079 E 2010245 2010266] (raylet) file_system_monitor.cc:111: /tmp/ray/session_2023-12-20_14-52-18_287180_2002748 is over 95% full, available space: 0; capacity: 422146228224. Object creation will fail if spilling is required.\n",
      "\u001b[2m\u001b[33m(raylet)\u001b[0m [2023-12-20 14:53:10,093 E 2010245 2010266] (raylet) file_system_monitor.cc:111: /tmp/ray/session_2023-12-20_14-52-18_287180_2002748 is over 95% full, available space: 0; capacity: 422146228224. Object creation will fail if spilling is required.\n"
     ]
    }
   ],
   "source": [
    "from pyrecdp.primitives.operations import DirectoryLoader\n",
    "\n",
    "from pyrecdp.LLM import TextPipeline\n",
    " \n",
    "pipeline = TextPipeline()\n",
    "ops = [\n",
    "    DirectoryLoader(input_dir=\"/content/test_data/document\", glob=\"**/*.pdf\")\n",
    "]\n",
    "pipeline.add_operations(ops)\n",
    "ds = pipeline.execute()\n",
    "display(ds.to_pandas())\n",
    " "
   ]
  },
  {
   "cell_type": "markdown",
   "id": "UAWi-jXFgXuy",
   "metadata": {
    "id": "UAWi-jXFgXuy"
   },
   "source": [
    "#### 3.2 load word documents"
   ]
  },
  {
   "cell_type": "code",
   "execution_count": 2,
   "id": "pWl-ym01ga9D",
   "metadata": {
    "colab": {
     "base_uri": "https://localhost:8080/"
    },
    "id": "pWl-ym01ga9D",
    "outputId": "840eb142-aadf-4d2e-e52b-4f66b1c172bb"
   },
   "outputs": [
    {
     "name": "stdout",
     "output_type": "stream",
     "text": [
      "_get_loader\n",
      "\u001b[32m2023-12-20 14:53:12.711\u001b[0m | \u001b[1mINFO    \u001b[0m | \u001b[36mpyrecdp.core.import_utils\u001b[0m:\u001b[36mcheck_availability_and_install\u001b[0m:\u001b[36m52\u001b[0m - \u001b[1mcheck_availability_and_install python-docx\u001b[0m\n",
      "_get_loader\n",
      "\u001b[32m2023-12-20 14:53:12.803\u001b[0m | \u001b[1mINFO    \u001b[0m | \u001b[36mpyrecdp.core.import_utils\u001b[0m:\u001b[36mcheck_availability_and_install\u001b[0m:\u001b[36m52\u001b[0m - \u001b[1mcheck_availability_and_install python-docx\u001b[0m\n",
      "init ray\n",
      "init ray with total mem of 324413575987, total core of 48\n"
     ]
    },
    {
     "name": "stderr",
     "output_type": "stream",
     "text": [
      "2023-12-20 14:53:17,517\tINFO worker.py:1642 -- Started a local Ray instance.\n"
     ]
    },
    {
     "name": "stdout",
     "output_type": "stream",
     "text": [
      "execute with ray started ...\n"
     ]
    },
    {
     "name": "stderr",
     "output_type": "stream",
     "text": [
      "100%|██████████| 1/1 [00:00<00:00,  1.64it/s]\n",
      "2023-12-20 14:53:19,445\tINFO streaming_executor.py:93 -- Executing DAG InputDataBuffer[Input] -> TaskPoolMapOperator[Write]\n",
      "2023-12-20 14:53:19,448\tINFO streaming_executor.py:94 -- Execution config: ExecutionOptions(resource_limits=ExecutionResources(cpu=None, gpu=None, object_store_memory=None), locality_with_output=False, preserve_order=False, actor_locality_enabled=True, verbose_progress=False)\n",
      "2023-12-20 14:53:19,450\tINFO streaming_executor.py:96 -- Tip: For detailed progress reporting, run `ray.data.DataContext.get_current().execution_options.verbose_progress = True`\n"
     ]
    },
    {
     "data": {
      "application/vnd.jupyter.widget-view+json": {
       "model_id": "34082bbc3a274e59961eea59b5059b3a",
       "version_major": 2,
       "version_minor": 0
      },
      "text/plain": [
       "Running 0:   0%|          | 0/1 [00:00<?, ?it/s]"
      ]
     },
     "metadata": {},
     "output_type": "display_data"
    },
    {
     "name": "stdout",
     "output_type": "stream",
     "text": [
      "execute with ray took 1.2985519338399172 sec\n"
     ]
    },
    {
     "data": {
      "text/html": [
       "<div>\n",
       "<style scoped>\n",
       "    .dataframe tbody tr th:only-of-type {\n",
       "        vertical-align: middle;\n",
       "    }\n",
       "\n",
       "    .dataframe tbody tr th {\n",
       "        vertical-align: top;\n",
       "    }\n",
       "\n",
       "    .dataframe thead th {\n",
       "        text-align: right;\n",
       "    }\n",
       "</style>\n",
       "<table border=\"1\" class=\"dataframe\">\n",
       "  <thead>\n",
       "    <tr style=\"text-align: right;\">\n",
       "      <th></th>\n",
       "      <th>text</th>\n",
       "      <th>metadata</th>\n",
       "    </tr>\n",
       "  </thead>\n",
       "  <tbody>\n",
       "    <tr>\n",
       "      <th>0</th>\n",
       "      <td>\\n\\n U.S. Department of Justice\\n\\n Executive ...</td>\n",
       "      <td>{'source': '/content/test_data/document/handbo...</td>\n",
       "    </tr>\n",
       "  </tbody>\n",
       "</table>\n",
       "</div>"
      ],
      "text/plain": [
       "                                                text                                           metadata\n",
       "0  \\n\\n U.S. Department of Justice\\n\\n Executive ...  {'source': '/content/test_data/document/handbo..."
      ]
     },
     "metadata": {},
     "output_type": "display_data"
    },
    {
     "name": "stderr",
     "output_type": "stream",
     "text": [
      "\u001b[2m\u001b[33m(raylet)\u001b[0m [2023-12-20 14:53:26,399 E 2015878 2015899] (raylet) file_system_monitor.cc:111: /tmp/ray/session_2023-12-20_14-53-14_626786_2002748 is over 95% full, available space: 0; capacity: 422146228224. Object creation will fail if spilling is required.\n"
     ]
    }
   ],
   "source": [
    "from pyrecdp.primitives.operations import DirectoryLoader\n",
    "\n",
    "from pyrecdp.LLM import TextPipeline\n",
    " \n",
    "pipeline = TextPipeline()\n",
    "ops = [\n",
    "    DirectoryLoader(input_dir=\"/content/test_data/document\", glob=\"**/*.docx\")\n",
    "]\n",
    "pipeline.add_operations(ops)\n",
    "ds = pipeline.execute()\n",
    "display(ds.to_pandas())"
   ]
  },
  {
   "cell_type": "markdown",
   "id": "fUrG8v1Og7Tb",
   "metadata": {
    "id": "fUrG8v1Og7Tb"
   },
   "source": [
    "#### 3.3 load images"
   ]
  },
  {
   "cell_type": "code",
   "execution_count": 3,
   "id": "0bowqv7Ag7hI",
   "metadata": {
    "colab": {
     "base_uri": "https://localhost:8080/"
    },
    "id": "0bowqv7Ag7hI",
    "outputId": "9a20c81f-a198-4f7c-f777-c0f8829e81c1"
   },
   "outputs": [
    {
     "name": "stdout",
     "output_type": "stream",
     "text": [
      "_get_loader\n",
      "Reading package lists...\n",
      "Building dependency tree...\n",
      "Reading state information...\n",
      "tesseract-ocr is already the newest version (4.1.1-2.1build1).\n",
      "0 upgraded, 0 newly installed, 0 to remove and 134 not upgraded.\n",
      "\u001b[32m2023-12-20 14:53:36.861\u001b[0m | \u001b[1mINFO    \u001b[0m | \u001b[36mpyrecdp.core.import_utils\u001b[0m:\u001b[36mcheck_availability_and_install\u001b[0m:\u001b[36m52\u001b[0m - \u001b[1mcheck_availability_and_install pillow\u001b[0m\n"
     ]
    },
    {
     "name": "stderr",
     "output_type": "stream",
     "text": [
      "WARNING: pip is being invoked by an old script wrapper. This will fail in a future version of pip.\n",
      "Please see https://github.com/pypa/pip/issues/5599 for advice on fixing the underlying issue.\n",
      "To avoid this problem you can invoke Python with '-m pip' instead of running pip directly.\n"
     ]
    },
    {
     "data": {
      "text/html": [
       "<pre style=\"white-space:pre;overflow-x:auto;line-height:normal;font-family:Menlo,'DejaVu Sans Mono',consolas,'Courier New',monospace\"><span style=\"color: #808000; text-decoration-color: #808000\">WARNING: Running pip as the 'root' user can result in broken permissions and conflicting behaviour with the system package manager. It is recommended to use a virtual environment instead: https://pip.pypa.io/warnings/venv\n",
       "</span></pre>\n"
      ],
      "text/plain": [
       "\u001b[33mWARNING: Running pip as the 'root' user can result in broken permissions and conflicting behaviour with the system package manager. It is recommended to use a virtual environment instead: https://pip.pypa.io/warnings/venv\u001b[0m\u001b[33m\n",
       "\u001b[0m"
      ]
     },
     "metadata": {},
     "output_type": "display_data"
    },
    {
     "name": "stdout",
     "output_type": "stream",
     "text": [
      "\u001b[32m2023-12-20 14:53:46.379\u001b[0m | \u001b[1mINFO    \u001b[0m | \u001b[36mpyrecdp.core.import_utils\u001b[0m:\u001b[36mcheck_availability_and_install\u001b[0m:\u001b[36m52\u001b[0m - \u001b[1mcheck_availability_and_install pytesseract\u001b[0m\n",
      "_get_loader\n",
      "Reading package lists...\n",
      "Building dependency tree...\n",
      "Reading state information...\n",
      "tesseract-ocr is already the newest version (4.1.1-2.1build1).\n",
      "0 upgraded, 0 newly installed, 0 to remove and 134 not upgraded.\n",
      "\u001b[32m2023-12-20 14:53:46.933\u001b[0m | \u001b[1mINFO    \u001b[0m | \u001b[36mpyrecdp.core.import_utils\u001b[0m:\u001b[36mcheck_availability_and_install\u001b[0m:\u001b[36m52\u001b[0m - \u001b[1mcheck_availability_and_install pillow\u001b[0m\n"
     ]
    },
    {
     "name": "stderr",
     "output_type": "stream",
     "text": [
      "WARNING: pip is being invoked by an old script wrapper. This will fail in a future version of pip.\n",
      "Please see https://github.com/pypa/pip/issues/5599 for advice on fixing the underlying issue.\n",
      "To avoid this problem you can invoke Python with '-m pip' instead of running pip directly.\n"
     ]
    },
    {
     "data": {
      "text/html": [
       "<pre style=\"white-space:pre;overflow-x:auto;line-height:normal;font-family:Menlo,'DejaVu Sans Mono',consolas,'Courier New',monospace\"><span style=\"color: #808000; text-decoration-color: #808000\">WARNING: Running pip as the 'root' user can result in broken permissions and conflicting behaviour with the system package manager. It is recommended to use a virtual environment instead: https://pip.pypa.io/warnings/venv\n",
       "</span></pre>\n"
      ],
      "text/plain": [
       "\u001b[33mWARNING: Running pip as the 'root' user can result in broken permissions and conflicting behaviour with the system package manager. It is recommended to use a virtual environment instead: https://pip.pypa.io/warnings/venv\u001b[0m\u001b[33m\n",
       "\u001b[0m"
      ]
     },
     "metadata": {},
     "output_type": "display_data"
    },
    {
     "name": "stdout",
     "output_type": "stream",
     "text": [
      "\u001b[32m2023-12-20 14:53:54.602\u001b[0m | \u001b[1mINFO    \u001b[0m | \u001b[36mpyrecdp.core.import_utils\u001b[0m:\u001b[36mcheck_availability_and_install\u001b[0m:\u001b[36m52\u001b[0m - \u001b[1mcheck_availability_and_install pytesseract\u001b[0m\n",
      "init ray\n",
      "init ray with total mem of 324413575987, total core of 48\n"
     ]
    },
    {
     "name": "stderr",
     "output_type": "stream",
     "text": [
      "2023-12-20 14:53:59,250\tINFO worker.py:1642 -- Started a local Ray instance.\n"
     ]
    },
    {
     "name": "stdout",
     "output_type": "stream",
     "text": [
      "execute with ray started ...\n"
     ]
    },
    {
     "name": "stderr",
     "output_type": "stream",
     "text": [
      "  0%|          | 0/1 [00:00<?, ?it/s]\u001b[2m\u001b[33m(raylet)\u001b[0m [2023-12-20 14:54:08,227 E 2021288 2021308] (raylet) file_system_monitor.cc:111: /tmp/ray/session_2023-12-20_14-53-56_430977_2002748 is over 95% full, available space: 0; capacity: 422146228224. Object creation will fail if spilling is required.\n",
      "\u001b[2m\u001b[33m(raylet)\u001b[0m [2023-12-20 14:54:18,238 E 2021288 2021308] (raylet) file_system_monitor.cc:111: /tmp/ray/session_2023-12-20_14-53-56_430977_2002748 is over 95% full, available space: 0; capacity: 422146228224. Object creation will fail if spilling is required.\n",
      "\u001b[2m\u001b[33m(raylet)\u001b[0m [2023-12-20 14:54:28,251 E 2021288 2021308] (raylet) file_system_monitor.cc:111: /tmp/ray/session_2023-12-20_14-53-56_430977_2002748 is over 95% full, available space: 0; capacity: 422146228224. Object creation will fail if spilling is required.\n",
      "100%|██████████| 1/1 [00:35<00:00, 35.02s/it]\n",
      "2023-12-20 14:54:35,490\tINFO streaming_executor.py:93 -- Executing DAG InputDataBuffer[Input] -> TaskPoolMapOperator[Write]\n",
      "2023-12-20 14:54:35,492\tINFO streaming_executor.py:94 -- Execution config: ExecutionOptions(resource_limits=ExecutionResources(cpu=None, gpu=None, object_store_memory=None), locality_with_output=False, preserve_order=False, actor_locality_enabled=True, verbose_progress=False)\n",
      "2023-12-20 14:54:35,493\tINFO streaming_executor.py:96 -- Tip: For detailed progress reporting, run `ray.data.DataContext.get_current().execution_options.verbose_progress = True`\n"
     ]
    },
    {
     "data": {
      "application/vnd.jupyter.widget-view+json": {
       "model_id": "456480681a1143d7940f174694d8ddf1",
       "version_major": 2,
       "version_minor": 0
      },
      "text/plain": [
       "Running 0:   0%|          | 0/1 [00:00<?, ?it/s]"
      ]
     },
     "metadata": {},
     "output_type": "display_data"
    },
    {
     "name": "stdout",
     "output_type": "stream",
     "text": [
      "execute with ray took 35.629308976233006 sec\n"
     ]
    },
    {
     "data": {
      "text/html": [
       "<div>\n",
       "<style scoped>\n",
       "    .dataframe tbody tr th:only-of-type {\n",
       "        vertical-align: middle;\n",
       "    }\n",
       "\n",
       "    .dataframe tbody tr th {\n",
       "        vertical-align: top;\n",
       "    }\n",
       "\n",
       "    .dataframe thead th {\n",
       "        text-align: right;\n",
       "    }\n",
       "</style>\n",
       "<table border=\"1\" class=\"dataframe\">\n",
       "  <thead>\n",
       "    <tr style=\"text-align: right;\">\n",
       "      <th></th>\n",
       "      <th>text</th>\n",
       "      <th>metadata</th>\n",
       "    </tr>\n",
       "  </thead>\n",
       "  <tbody>\n",
       "    <tr>\n",
       "      <th>0</th>\n",
       "      <td>2103.15348v2 [cs.CV] 21 Jun 2021\\n\\narXiv\\n\\n...</td>\n",
       "      <td>{'source': '/content/test_data/document/layout...</td>\n",
       "    </tr>\n",
       "  </tbody>\n",
       "</table>\n",
       "</div>"
      ],
      "text/plain": [
       "                                                text                                           metadata\n",
       "0   2103.15348v2 [cs.CV] 21 Jun 2021\\n\\narXiv\\n\\n...  {'source': '/content/test_data/document/layout..."
      ]
     },
     "metadata": {},
     "output_type": "display_data"
    },
    {
     "name": "stderr",
     "output_type": "stream",
     "text": [
      "\u001b[2m\u001b[33m(raylet)\u001b[0m [2023-12-20 14:54:38,262 E 2021288 2021308] (raylet) file_system_monitor.cc:111: /tmp/ray/session_2023-12-20_14-53-56_430977_2002748 is over 95% full, available space: 0; capacity: 422146228224. Object creation will fail if spilling is required.\n"
     ]
    }
   ],
   "source": [
    "from pyrecdp.primitives.operations import DirectoryLoader\n",
    "\n",
    "from pyrecdp.LLM import TextPipeline\n",
    " \n",
    "pipeline = TextPipeline()\n",
    "ops = [\n",
    "    DirectoryLoader(input_dir=\"/content/test_data/document\", glob=\"**/*.jpg\")\n",
    "]\n",
    "pipeline.add_operations(ops)\n",
    "ds = pipeline.execute()\n",
    "display(ds.to_pandas())"
   ]
  },
  {
   "cell_type": "markdown",
   "id": "yzrS5hVsl8QZ",
   "metadata": {
    "id": "yzrS5hVsl8QZ"
   },
   "source": [
    "#### 3.4 load entire directory"
   ]
  },
  {
   "cell_type": "code",
   "execution_count": 1,
   "id": "wXR8_zDUdy2w",
   "metadata": {
    "colab": {
     "base_uri": "https://localhost:8080/"
    },
    "id": "wXR8_zDUdy2w",
    "outputId": "77c2a54d-509b-4c54-e3de-8b51fefff080"
   },
   "outputs": [
    {
     "name": "stderr",
     "output_type": "stream",
     "text": [
      "/root/miniforge3/envs/recdp/lib/python3.10/site-packages/_distutils_hack/__init__.py:33: UserWarning: Setuptools is replacing distutils.\n",
      "  warnings.warn(\"Setuptools is replacing distutils.\")\n",
      "/root/miniforge3/envs/recdp/lib/python3.10/site-packages/pyspark/pandas/__init__.py:50: UserWarning: 'PYARROW_IGNORE_TIMEZONE' environment variable was not set. It is required to set this environment variable to '1' in both driver and executor sides if you use pyarrow>=2.0.0. pandas-on-Spark will set it for you but it does not work if there is a Spark context already launched.\n",
      "  warnings.warn(\n",
      "\u001b[32m2023-12-20 15:20:13.169\u001b[0m | \u001b[1mINFO    \u001b[0m | \u001b[36mpyrecdp.core.import_utils\u001b[0m:\u001b[36mcheck_availability_and_install\u001b[0m:\u001b[36m52\u001b[0m - \u001b[1mcheck_availability_and_install emoji==2.2.0\u001b[0m\n"
     ]
    },
    {
     "name": "stdout",
     "output_type": "stream",
     "text": [
      "_get_loader\n",
      "Reading package lists...\n",
      "Building dependency tree...\n",
      "Reading state information...\n",
      "tesseract-ocr is already the newest version (4.1.1-2.1build1).\n",
      "0 upgraded, 0 newly installed, 0 to remove and 134 not upgraded.\n",
      "\u001b[32m2023-12-20 15:20:13.692\u001b[0m | \u001b[1mINFO    \u001b[0m | \u001b[36mpyrecdp.core.import_utils\u001b[0m:\u001b[36mcheck_availability_and_install\u001b[0m:\u001b[36m52\u001b[0m - \u001b[1mcheck_availability_and_install pillow\u001b[0m\n"
     ]
    },
    {
     "name": "stderr",
     "output_type": "stream",
     "text": [
      "WARNING: pip is being invoked by an old script wrapper. This will fail in a future version of pip.\n",
      "Please see https://github.com/pypa/pip/issues/5599 for advice on fixing the underlying issue.\n",
      "To avoid this problem you can invoke Python with '-m pip' instead of running pip directly.\n"
     ]
    },
    {
     "data": {
      "text/html": [
       "<pre style=\"white-space:pre;overflow-x:auto;line-height:normal;font-family:Menlo,'DejaVu Sans Mono',consolas,'Courier New',monospace\"><span style=\"color: #808000; text-decoration-color: #808000\">WARNING: Running pip as the 'root' user can result in broken permissions and conflicting behaviour with the system package manager. It is recommended to use a virtual environment instead: https://pip.pypa.io/warnings/venv\n",
       "</span></pre>\n"
      ],
      "text/plain": [
       "\u001b[33mWARNING: Running pip as the 'root' user can result in broken permissions and conflicting behaviour with the system package manager. It is recommended to use a virtual environment instead: https://pip.pypa.io/warnings/venv\u001b[0m\u001b[33m\n",
       "\u001b[0m"
      ]
     },
     "metadata": {},
     "output_type": "display_data"
    },
    {
     "name": "stdout",
     "output_type": "stream",
     "text": [
      "\u001b[32m2023-12-20 15:20:23.167\u001b[0m | \u001b[1mINFO    \u001b[0m | \u001b[36mpyrecdp.core.import_utils\u001b[0m:\u001b[36mcheck_availability_and_install\u001b[0m:\u001b[36m52\u001b[0m - \u001b[1mcheck_availability_and_install pytesseract\u001b[0m\n",
      "\u001b[32m2023-12-20 15:20:23.172\u001b[0m | \u001b[1mINFO    \u001b[0m | \u001b[36mpyrecdp.core.import_utils\u001b[0m:\u001b[36mcheck_availability_and_install\u001b[0m:\u001b[36m52\u001b[0m - \u001b[1mcheck_availability_and_install pypdf\u001b[0m\n",
      "\u001b[32m2023-12-20 15:20:23.382\u001b[0m | \u001b[1mINFO    \u001b[0m | \u001b[36mpyrecdp.core.import_utils\u001b[0m:\u001b[36mcheck_availability_and_install\u001b[0m:\u001b[36m52\u001b[0m - \u001b[1mcheck_availability_and_install python-docx\u001b[0m\n",
      "Reading package lists...\n",
      "Building dependency tree...\n",
      "Reading state information...\n",
      "tesseract-ocr is already the newest version (4.1.1-2.1build1).\n",
      "0 upgraded, 0 newly installed, 0 to remove and 134 not upgraded.\n",
      "\u001b[32m2023-12-20 15:20:23.902\u001b[0m | \u001b[1mINFO    \u001b[0m | \u001b[36mpyrecdp.core.import_utils\u001b[0m:\u001b[36mcheck_availability_and_install\u001b[0m:\u001b[36m52\u001b[0m - \u001b[1mcheck_availability_and_install pillow\u001b[0m\n"
     ]
    },
    {
     "name": "stderr",
     "output_type": "stream",
     "text": [
      "WARNING: pip is being invoked by an old script wrapper. This will fail in a future version of pip.\n",
      "Please see https://github.com/pypa/pip/issues/5599 for advice on fixing the underlying issue.\n",
      "To avoid this problem you can invoke Python with '-m pip' instead of running pip directly.\n"
     ]
    },
    {
     "data": {
      "text/html": [
       "<pre style=\"white-space:pre;overflow-x:auto;line-height:normal;font-family:Menlo,'DejaVu Sans Mono',consolas,'Courier New',monospace\"><span style=\"color: #808000; text-decoration-color: #808000\">WARNING: Running pip as the 'root' user can result in broken permissions and conflicting behaviour with the system package manager. It is recommended to use a virtual environment instead: https://pip.pypa.io/warnings/venv\n",
       "</span></pre>\n"
      ],
      "text/plain": [
       "\u001b[33mWARNING: Running pip as the 'root' user can result in broken permissions and conflicting behaviour with the system package manager. It is recommended to use a virtual environment instead: https://pip.pypa.io/warnings/venv\u001b[0m\u001b[33m\n",
       "\u001b[0m"
      ]
     },
     "metadata": {},
     "output_type": "display_data"
    },
    {
     "name": "stdout",
     "output_type": "stream",
     "text": [
      "\u001b[32m2023-12-20 15:20:31.290\u001b[0m | \u001b[1mINFO    \u001b[0m | \u001b[36mpyrecdp.core.import_utils\u001b[0m:\u001b[36mcheck_availability_and_install\u001b[0m:\u001b[36m52\u001b[0m - \u001b[1mcheck_availability_and_install pytesseract\u001b[0m\n",
      "_get_loader\n",
      "Reading package lists...\n",
      "Building dependency tree...\n",
      "Reading state information...\n",
      "tesseract-ocr is already the newest version (4.1.1-2.1build1).\n",
      "0 upgraded, 0 newly installed, 0 to remove and 134 not upgraded.\n",
      "\u001b[32m2023-12-20 15:20:31.823\u001b[0m | \u001b[1mINFO    \u001b[0m | \u001b[36mpyrecdp.core.import_utils\u001b[0m:\u001b[36mcheck_availability_and_install\u001b[0m:\u001b[36m52\u001b[0m - \u001b[1mcheck_availability_and_install pillow\u001b[0m\n"
     ]
    },
    {
     "name": "stderr",
     "output_type": "stream",
     "text": [
      "WARNING: pip is being invoked by an old script wrapper. This will fail in a future version of pip.\n",
      "Please see https://github.com/pypa/pip/issues/5599 for advice on fixing the underlying issue.\n",
      "To avoid this problem you can invoke Python with '-m pip' instead of running pip directly.\n"
     ]
    },
    {
     "data": {
      "text/html": [
       "<pre style=\"white-space:pre;overflow-x:auto;line-height:normal;font-family:Menlo,'DejaVu Sans Mono',consolas,'Courier New',monospace\"><span style=\"color: #808000; text-decoration-color: #808000\">WARNING: Running pip as the 'root' user can result in broken permissions and conflicting behaviour with the system package manager. It is recommended to use a virtual environment instead: https://pip.pypa.io/warnings/venv\n",
       "</span></pre>\n"
      ],
      "text/plain": [
       "\u001b[33mWARNING: Running pip as the 'root' user can result in broken permissions and conflicting behaviour with the system package manager. It is recommended to use a virtual environment instead: https://pip.pypa.io/warnings/venv\u001b[0m\u001b[33m\n",
       "\u001b[0m"
      ]
     },
     "metadata": {},
     "output_type": "display_data"
    },
    {
     "name": "stdout",
     "output_type": "stream",
     "text": [
      "\u001b[32m2023-12-20 15:20:38.180\u001b[0m | \u001b[1mINFO    \u001b[0m | \u001b[36mpyrecdp.core.import_utils\u001b[0m:\u001b[36mcheck_availability_and_install\u001b[0m:\u001b[36m52\u001b[0m - \u001b[1mcheck_availability_and_install pytesseract\u001b[0m\n",
      "\u001b[32m2023-12-20 15:20:38.183\u001b[0m | \u001b[1mINFO    \u001b[0m | \u001b[36mpyrecdp.core.import_utils\u001b[0m:\u001b[36mcheck_availability_and_install\u001b[0m:\u001b[36m52\u001b[0m - \u001b[1mcheck_availability_and_install pypdf\u001b[0m\n",
      "\u001b[32m2023-12-20 15:20:38.185\u001b[0m | \u001b[1mINFO    \u001b[0m | \u001b[36mpyrecdp.core.import_utils\u001b[0m:\u001b[36mcheck_availability_and_install\u001b[0m:\u001b[36m52\u001b[0m - \u001b[1mcheck_availability_and_install python-docx\u001b[0m\n",
      "Reading package lists...\n",
      "Building dependency tree...\n",
      "Reading state information...\n",
      "tesseract-ocr is already the newest version (4.1.1-2.1build1).\n",
      "0 upgraded, 0 newly installed, 0 to remove and 134 not upgraded.\n",
      "\u001b[32m2023-12-20 15:20:38.670\u001b[0m | \u001b[1mINFO    \u001b[0m | \u001b[36mpyrecdp.core.import_utils\u001b[0m:\u001b[36mcheck_availability_and_install\u001b[0m:\u001b[36m52\u001b[0m - \u001b[1mcheck_availability_and_install pillow\u001b[0m\n"
     ]
    },
    {
     "name": "stderr",
     "output_type": "stream",
     "text": [
      "WARNING: pip is being invoked by an old script wrapper. This will fail in a future version of pip.\n",
      "Please see https://github.com/pypa/pip/issues/5599 for advice on fixing the underlying issue.\n",
      "To avoid this problem you can invoke Python with '-m pip' instead of running pip directly.\n"
     ]
    },
    {
     "data": {
      "text/html": [
       "<pre style=\"white-space:pre;overflow-x:auto;line-height:normal;font-family:Menlo,'DejaVu Sans Mono',consolas,'Courier New',monospace\"><span style=\"color: #808000; text-decoration-color: #808000\">WARNING: Running pip as the 'root' user can result in broken permissions and conflicting behaviour with the system package manager. It is recommended to use a virtual environment instead: https://pip.pypa.io/warnings/venv\n",
       "</span></pre>\n"
      ],
      "text/plain": [
       "\u001b[33mWARNING: Running pip as the 'root' user can result in broken permissions and conflicting behaviour with the system package manager. It is recommended to use a virtual environment instead: https://pip.pypa.io/warnings/venv\u001b[0m\u001b[33m\n",
       "\u001b[0m"
      ]
     },
     "metadata": {},
     "output_type": "display_data"
    },
    {
     "name": "stdout",
     "output_type": "stream",
     "text": [
      "\u001b[32m2023-12-20 15:20:52.243\u001b[0m | \u001b[1mINFO    \u001b[0m | \u001b[36mpyrecdp.core.import_utils\u001b[0m:\u001b[36mcheck_availability_and_install\u001b[0m:\u001b[36m52\u001b[0m - \u001b[1mcheck_availability_and_install pytesseract\u001b[0m\n",
      "init ray\n",
      "init ray with total mem of 324413575987, total core of 48\n"
     ]
    },
    {
     "name": "stderr",
     "output_type": "stream",
     "text": [
      "2023-12-20 15:20:56,945\tINFO worker.py:1642 -- Started a local Ray instance.\n"
     ]
    },
    {
     "name": "stdout",
     "output_type": "stream",
     "text": [
      "execute with ray started ...\n"
     ]
    },
    {
     "name": "stderr",
     "output_type": "stream",
     "text": [
      " 92%|█████████▎| 37/40 [00:00<00:00, 91.06it/s]\u001b[2m\u001b[33m(raylet)\u001b[0m [2023-12-20 15:21:05,827 E 2140220 2140243] (raylet) file_system_monitor.cc:111: /tmp/ray/session_2023-12-20_15-20-54_049751_2138313 is over 95% full, available space: 0; capacity: 422146228224. Object creation will fail if spilling is required.\n",
      "\u001b[2m\u001b[33m(raylet)\u001b[0m [2023-12-20 15:21:15,838 E 2140220 2140243] (raylet) file_system_monitor.cc:111: /tmp/ray/session_2023-12-20_15-20-54_049751_2138313 is over 95% full, available space: 0; capacity: 422146228224. Object creation will fail if spilling is required.\n",
      " 98%|█████████▊| 39/40 [00:19<00:00, 91.06it/s]\u001b[2m\u001b[33m(raylet)\u001b[0m [2023-12-20 15:21:25,850 E 2140220 2140243] (raylet) file_system_monitor.cc:111: /tmp/ray/session_2023-12-20_15-20-54_049751_2138313 is over 95% full, available space: 0; capacity: 422146228224. Object creation will fail if spilling is required.\n",
      "100%|██████████| 40/40 [00:35<00:00,  1.13it/s]\n",
      "2023-12-20 15:21:33,755\tINFO streaming_executor.py:93 -- Executing DAG InputDataBuffer[Input] -> TaskPoolMapOperator[Write]\n",
      "2023-12-20 15:21:33,757\tINFO streaming_executor.py:94 -- Execution config: ExecutionOptions(resource_limits=ExecutionResources(cpu=None, gpu=None, object_store_memory=None), locality_with_output=False, preserve_order=False, actor_locality_enabled=True, verbose_progress=False)\n",
      "2023-12-20 15:21:33,758\tINFO streaming_executor.py:96 -- Tip: For detailed progress reporting, run `ray.data.DataContext.get_current().execution_options.verbose_progress = True`\n"
     ]
    },
    {
     "data": {
      "application/vnd.jupyter.widget-view+json": {
       "model_id": "f83689225b41469a8d7c1b59f24f81bb",
       "version_major": 2,
       "version_minor": 0
      },
      "text/plain": [
       "Running 0:   0%|          | 0/4 [00:00<?, ?it/s]"
      ]
     },
     "metadata": {},
     "output_type": "display_data"
    },
    {
     "name": "stdout",
     "output_type": "stream",
     "text": [
      "execute with ray took 36.26759174466133 sec\n"
     ]
    },
    {
     "data": {
      "text/html": [
       "<div>\n",
       "<style scoped>\n",
       "    .dataframe tbody tr th:only-of-type {\n",
       "        vertical-align: middle;\n",
       "    }\n",
       "\n",
       "    .dataframe tbody tr th {\n",
       "        vertical-align: top;\n",
       "    }\n",
       "\n",
       "    .dataframe thead th {\n",
       "        text-align: right;\n",
       "    }\n",
       "</style>\n",
       "<table border=\"1\" class=\"dataframe\">\n",
       "  <thead>\n",
       "    <tr style=\"text-align: right;\">\n",
       "      <th></th>\n",
       "      <th>text</th>\n",
       "      <th>metadata</th>\n",
       "    </tr>\n",
       "  </thead>\n",
       "  <tbody>\n",
       "    <tr>\n",
       "      <th>0</th>\n",
       "      <td>\\n\\n RULES AND INSTRUCTIONS\\n\\n1. Template for...</td>\n",
       "      <td>{'source': '/content/test_data/document/englis...</td>\n",
       "    </tr>\n",
       "    <tr>\n",
       "      <th>1</th>\n",
       "      <td>\\n\\n U.S. Department of Justice\\n\\n Executive ...</td>\n",
       "      <td>{'source': '/content/test_data/document/handbo...</td>\n",
       "    </tr>\n",
       "    <tr>\n",
       "      <th>2</th>\n",
       "      <td>2103.15348v2 [cs.CV] 21 Jun 2021\\n\\narXiv\\n\\n...</td>\n",
       "      <td>{'source': '/content/test_data/document/layout...</td>\n",
       "    </tr>\n",
       "    <tr>\n",
       "      <th>3</th>\n",
       "      <td>\\n\\n LayoutParser : A Uniﬁed Toolkit for Deep\\...</td>\n",
       "      <td>{'source': '/content/test_data/document/layout...</td>\n",
       "    </tr>\n",
       "  </tbody>\n",
       "</table>\n",
       "</div>"
      ],
      "text/plain": [
       "                                                text  \\\n",
       "0  \\n\\n RULES AND INSTRUCTIONS\\n\\n1. Template for...   \n",
       "1  \\n\\n U.S. Department of Justice\\n\\n Executive ...   \n",
       "2   2103.15348v2 [cs.CV] 21 Jun 2021\\n\\narXiv\\n\\n...   \n",
       "3  \\n\\n LayoutParser : A Uniﬁed Toolkit for Deep\\...   \n",
       "\n",
       "                                            metadata  \n",
       "0  {'source': '/content/test_data/document/englis...  \n",
       "1  {'source': '/content/test_data/document/handbo...  \n",
       "2  {'source': '/content/test_data/document/layout...  \n",
       "3  {'source': '/content/test_data/document/layout...  "
      ]
     },
     "metadata": {},
     "output_type": "display_data"
    },
    {
     "name": "stderr",
     "output_type": "stream",
     "text": [
      "\u001b[2m\u001b[33m(raylet)\u001b[0m [2023-12-20 15:21:35,862 E 2140220 2140243] (raylet) file_system_monitor.cc:111: /tmp/ray/session_2023-12-20_15-20-54_049751_2138313 is over 95% full, available space: 0; capacity: 422146228224. Object creation will fail if spilling is required.\n",
      "\u001b[2m\u001b[33m(raylet)\u001b[0m [2023-12-20 15:21:45,876 E 2140220 2140243] (raylet) file_system_monitor.cc:111: /tmp/ray/session_2023-12-20_15-20-54_049751_2138313 is over 95% full, available space: 0; capacity: 422146228224. Object creation will fail if spilling is required.\n"
     ]
    }
   ],
   "source": [
    "from pyrecdp.primitives.operations import DirectoryLoader\n",
    "\n",
    "from pyrecdp.LLM import TextPipeline\n",
    " \n",
    "pipeline = TextPipeline()\n",
    "ops = [\n",
    "    DirectoryLoader(input_dir=\"/content/test_data/document\")\n",
    "]\n",
    "pipeline.add_operations(ops)\n",
    "ds = pipeline.execute()\n",
    "display(ds.to_pandas())"
   ]
  },
  {
   "cell_type": "markdown",
   "id": "182fe042",
   "metadata": {},
   "source": [
    "#### 3.5 Url Loaders with langchain RecusiverUrlLoader"
   ]
  },
  {
   "cell_type": "code",
   "execution_count": 4,
   "id": "71f1ead9",
   "metadata": {},
   "outputs": [
    {
     "name": "stdout",
     "output_type": "stream",
     "text": [
      "init ray\n",
      "init ray with total mem of 324413575987, total core of 48\n"
     ]
    },
    {
     "name": "stderr",
     "output_type": "stream",
     "text": [
      "2023-12-20 15:28:21,062\tINFO worker.py:1642 -- Started a local Ray instance.\n"
     ]
    },
    {
     "name": "stdout",
     "output_type": "stream",
     "text": [
      "execute with ray started ...\n"
     ]
    },
    {
     "name": "stderr",
     "output_type": "stream",
     "text": [
      "\u001b[2m\u001b[33m(raylet)\u001b[0m [2023-12-20 15:28:30,032 E 2159771 2159790] (raylet) file_system_monitor.cc:111: /tmp/ray/session_2023-12-20_15-28-18_227590_2138313 is over 95% full, available space: 0; capacity: 422146228224. Object creation will fail if spilling is required.\n",
      "\u001b[2m\u001b[33m(raylet)\u001b[0m [2023-12-20 15:28:40,047 E 2159771 2159790] (raylet) file_system_monitor.cc:111: /tmp/ray/session_2023-12-20_15-28-18_227590_2138313 is over 95% full, available space: 0; capacity: 422146228224. Object creation will fail if spilling is required.\n",
      "2023-12-20 15:28:41,766\tINFO streaming_executor.py:93 -- Executing DAG InputDataBuffer[Input] -> TaskPoolMapOperator[Write]\n",
      "2023-12-20 15:28:41,767\tINFO streaming_executor.py:94 -- Execution config: ExecutionOptions(resource_limits=ExecutionResources(cpu=None, gpu=None, object_store_memory=None), locality_with_output=False, preserve_order=False, actor_locality_enabled=True, verbose_progress=False)\n",
      "2023-12-20 15:28:41,768\tINFO streaming_executor.py:96 -- Tip: For detailed progress reporting, run `ray.data.DataContext.get_current().execution_options.verbose_progress = True`\n"
     ]
    },
    {
     "data": {
      "application/vnd.jupyter.widget-view+json": {
       "model_id": "f30151903fdf42978b4f2166f24e5ce9",
       "version_major": 2,
       "version_minor": 0
      },
      "text/plain": [
       "Running 0:   0%|          | 0/17 [00:00<?, ?it/s]"
      ]
     },
     "metadata": {},
     "output_type": "display_data"
    },
    {
     "name": "stdout",
     "output_type": "stream",
     "text": [
      "execute with ray took 20.301080273464322 sec\n"
     ]
    },
    {
     "data": {
      "text/html": [
       "<div>\n",
       "<style scoped>\n",
       "    .dataframe tbody tr th:only-of-type {\n",
       "        vertical-align: middle;\n",
       "    }\n",
       "\n",
       "    .dataframe tbody tr th {\n",
       "        vertical-align: top;\n",
       "    }\n",
       "\n",
       "    .dataframe thead th {\n",
       "        text-align: right;\n",
       "    }\n",
       "</style>\n",
       "<table border=\"1\" class=\"dataframe\">\n",
       "  <thead>\n",
       "    <tr style=\"text-align: right;\">\n",
       "      <th></th>\n",
       "      <th>text</th>\n",
       "      <th>metadata</th>\n",
       "    </tr>\n",
       "  </thead>\n",
       "  <tbody>\n",
       "    <tr>\n",
       "      <th>0</th>\n",
       "      <td>&lt;!DOCTYPE html&gt;\\n&lt;html lang=\"en-US\"&gt;\\n  &lt;head&gt;...</td>\n",
       "      <td>{'description': 'Documentation website for cnv...</td>\n",
       "    </tr>\n",
       "    <tr>\n",
       "      <th>1</th>\n",
       "      <td>&lt;!DOCTYPE html&gt;\\n&lt;html lang=\"en-US\"&gt;\\n  &lt;head&gt;...</td>\n",
       "      <td>{'description': 'Documentation website for cnv...</td>\n",
       "    </tr>\n",
       "    <tr>\n",
       "      <th>2</th>\n",
       "      <td>&lt;!DOCTYPE html&gt;\\n&lt;html lang=\"en-US\"&gt;\\n  &lt;head&gt;...</td>\n",
       "      <td>{'description': 'Documentation website for cnv...</td>\n",
       "    </tr>\n",
       "    <tr>\n",
       "      <th>3</th>\n",
       "      <td>&lt;!DOCTYPE html&gt;\\n&lt;html lang=\"en-US\"&gt;\\n  &lt;head&gt;...</td>\n",
       "      <td>{'description': 'Documentation website for cnv...</td>\n",
       "    </tr>\n",
       "    <tr>\n",
       "      <th>4</th>\n",
       "      <td>&lt;!DOCTYPE html&gt;\\n&lt;html lang=\"en-US\"&gt;\\n  &lt;head&gt;...</td>\n",
       "      <td>{'description': 'Documentation website for cnv...</td>\n",
       "    </tr>\n",
       "    <tr>\n",
       "      <th>5</th>\n",
       "      <td>&lt;!DOCTYPE html&gt;\\n&lt;html lang=\"en-US\"&gt;\\n  &lt;head&gt;...</td>\n",
       "      <td>{'description': 'Documentation website for cnv...</td>\n",
       "    </tr>\n",
       "    <tr>\n",
       "      <th>6</th>\n",
       "      <td>&lt;!DOCTYPE html&gt;\\n&lt;html lang=\"en-US\"&gt;\\n  &lt;head&gt;...</td>\n",
       "      <td>{'description': 'Documentation website for cnv...</td>\n",
       "    </tr>\n",
       "    <tr>\n",
       "      <th>7</th>\n",
       "      <td>&lt;!DOCTYPE html&gt;\\n&lt;html lang=\"en-US\"&gt;\\n  &lt;head&gt;...</td>\n",
       "      <td>{'description': 'Documentation website for cnv...</td>\n",
       "    </tr>\n",
       "    <tr>\n",
       "      <th>8</th>\n",
       "      <td>&lt;!DOCTYPE html&gt;\\n&lt;html lang=\"en-US\"&gt;\\n  &lt;head&gt;...</td>\n",
       "      <td>{'description': 'Documentation website for cnv...</td>\n",
       "    </tr>\n",
       "    <tr>\n",
       "      <th>9</th>\n",
       "      <td>&lt;!DOCTYPE html&gt;\\n&lt;html lang=\"en-US\"&gt;\\n  &lt;head&gt;...</td>\n",
       "      <td>{'description': 'Documentation website for cnv...</td>\n",
       "    </tr>\n",
       "    <tr>\n",
       "      <th>10</th>\n",
       "      <td>&lt;!DOCTYPE html&gt;\\n&lt;html lang=\"en-US\"&gt;\\n  &lt;head&gt;...</td>\n",
       "      <td>{'description': 'Documentation website for cnv...</td>\n",
       "    </tr>\n",
       "    <tr>\n",
       "      <th>11</th>\n",
       "      <td>&lt;!DOCTYPE html&gt;\\n&lt;html lang=\"en-US\"&gt;\\n  &lt;head&gt;...</td>\n",
       "      <td>{'description': 'Documentation website for cnv...</td>\n",
       "    </tr>\n",
       "    <tr>\n",
       "      <th>12</th>\n",
       "      <td>&lt;!DOCTYPE html&gt;\\n&lt;html lang=\"en-US\"&gt;\\n  &lt;head&gt;...</td>\n",
       "      <td>{'description': 'Documentation website for cnv...</td>\n",
       "    </tr>\n",
       "    <tr>\n",
       "      <th>13</th>\n",
       "      <td>&lt;!DOCTYPE html&gt;\\n&lt;html lang=\"en-US\"&gt;\\n  &lt;head&gt;...</td>\n",
       "      <td>{'description': 'Documentation website for cnv...</td>\n",
       "    </tr>\n",
       "    <tr>\n",
       "      <th>14</th>\n",
       "      <td>&lt;!DOCTYPE html&gt;\\n&lt;html lang=\"en-US\"&gt;\\n  &lt;head&gt;...</td>\n",
       "      <td>{'description': 'Documentation website for cnv...</td>\n",
       "    </tr>\n",
       "    <tr>\n",
       "      <th>15</th>\n",
       "      <td>&lt;!DOCTYPE html&gt;\\n&lt;html lang=\"en-US\"&gt;\\n  &lt;head&gt;...</td>\n",
       "      <td>{'description': 'Documentation website for cnv...</td>\n",
       "    </tr>\n",
       "    <tr>\n",
       "      <th>16</th>\n",
       "      <td>&lt;!DOCTYPE html&gt;\\n&lt;html lang=\"en-US\"&gt;\\n  &lt;head&gt;...</td>\n",
       "      <td>{'description': 'Documentation website for cnv...</td>\n",
       "    </tr>\n",
       "  </tbody>\n",
       "</table>\n",
       "</div>"
      ],
      "text/plain": [
       "                                                 text  \\\n",
       "0   <!DOCTYPE html>\\n<html lang=\"en-US\">\\n  <head>...   \n",
       "1   <!DOCTYPE html>\\n<html lang=\"en-US\">\\n  <head>...   \n",
       "2   <!DOCTYPE html>\\n<html lang=\"en-US\">\\n  <head>...   \n",
       "3   <!DOCTYPE html>\\n<html lang=\"en-US\">\\n  <head>...   \n",
       "4   <!DOCTYPE html>\\n<html lang=\"en-US\">\\n  <head>...   \n",
       "5   <!DOCTYPE html>\\n<html lang=\"en-US\">\\n  <head>...   \n",
       "6   <!DOCTYPE html>\\n<html lang=\"en-US\">\\n  <head>...   \n",
       "7   <!DOCTYPE html>\\n<html lang=\"en-US\">\\n  <head>...   \n",
       "8   <!DOCTYPE html>\\n<html lang=\"en-US\">\\n  <head>...   \n",
       "9   <!DOCTYPE html>\\n<html lang=\"en-US\">\\n  <head>...   \n",
       "10  <!DOCTYPE html>\\n<html lang=\"en-US\">\\n  <head>...   \n",
       "11  <!DOCTYPE html>\\n<html lang=\"en-US\">\\n  <head>...   \n",
       "12  <!DOCTYPE html>\\n<html lang=\"en-US\">\\n  <head>...   \n",
       "13  <!DOCTYPE html>\\n<html lang=\"en-US\">\\n  <head>...   \n",
       "14  <!DOCTYPE html>\\n<html lang=\"en-US\">\\n  <head>...   \n",
       "15  <!DOCTYPE html>\\n<html lang=\"en-US\">\\n  <head>...   \n",
       "16  <!DOCTYPE html>\\n<html lang=\"en-US\">\\n  <head>...   \n",
       "\n",
       "                                             metadata  \n",
       "0   {'description': 'Documentation website for cnv...  \n",
       "1   {'description': 'Documentation website for cnv...  \n",
       "2   {'description': 'Documentation website for cnv...  \n",
       "3   {'description': 'Documentation website for cnv...  \n",
       "4   {'description': 'Documentation website for cnv...  \n",
       "5   {'description': 'Documentation website for cnv...  \n",
       "6   {'description': 'Documentation website for cnv...  \n",
       "7   {'description': 'Documentation website for cnv...  \n",
       "8   {'description': 'Documentation website for cnv...  \n",
       "9   {'description': 'Documentation website for cnv...  \n",
       "10  {'description': 'Documentation website for cnv...  \n",
       "11  {'description': 'Documentation website for cnv...  \n",
       "12  {'description': 'Documentation website for cnv...  \n",
       "13  {'description': 'Documentation website for cnv...  \n",
       "14  {'description': 'Documentation website for cnv...  \n",
       "15  {'description': 'Documentation website for cnv...  \n",
       "16  {'description': 'Documentation website for cnv...  "
      ]
     },
     "metadata": {},
     "output_type": "display_data"
    },
    {
     "name": "stderr",
     "output_type": "stream",
     "text": [
      "\u001b[2m\u001b[33m(raylet)\u001b[0m [2023-12-20 15:28:50,060 E 2159771 2159790] (raylet) file_system_monitor.cc:111: /tmp/ray/session_2023-12-20_15-28-18_227590_2138313 is over 95% full, available space: 0; capacity: 422146228224. Object creation will fail if spilling is required.\n",
      "\u001b[2m\u001b[33m(raylet)\u001b[0m [2023-12-20 15:29:00,074 E 2159771 2159790] (raylet) file_system_monitor.cc:111: /tmp/ray/session_2023-12-20_15-28-18_227590_2138313 is over 95% full, available space: 0; capacity: 422146228224. Object creation will fail if spilling is required.\n",
      "\u001b[2m\u001b[33m(raylet)\u001b[0m [2023-12-20 15:29:10,089 E 2159771 2159790] (raylet) file_system_monitor.cc:111: /tmp/ray/session_2023-12-20_15-28-18_227590_2138313 is over 95% full, available space: 0; capacity: 422146228224. Object creation will fail if spilling is required.\n",
      "\u001b[2m\u001b[33m(raylet)\u001b[0m [2023-12-20 15:29:20,105 E 2159771 2159790] (raylet) file_system_monitor.cc:111: /tmp/ray/session_2023-12-20_15-28-18_227590_2138313 is over 95% full, available space: 0; capacity: 422146228224. Object creation will fail if spilling is required.\n",
      "\u001b[2m\u001b[33m(raylet)\u001b[0m [2023-12-20 15:29:30,116 E 2159771 2159790] (raylet) file_system_monitor.cc:111: /tmp/ray/session_2023-12-20_15-28-18_227590_2138313 is over 95% full, available space: 0; capacity: 422146228224. Object creation will fail if spilling is required.\n",
      "\u001b[2m\u001b[33m(raylet)\u001b[0m [2023-12-20 15:29:40,128 E 2159771 2159790] (raylet) file_system_monitor.cc:111: /tmp/ray/session_2023-12-20_15-28-18_227590_2138313 is over 95% full, available space: 0; capacity: 422146228224. Object creation will fail if spilling is required.\n",
      "\u001b[2m\u001b[33m(raylet)\u001b[0m [2023-12-20 15:29:50,142 E 2159771 2159790] (raylet) file_system_monitor.cc:111: /tmp/ray/session_2023-12-20_15-28-18_227590_2138313 is over 95% full, available space: 0; capacity: 422146228224. Object creation will fail if spilling is required.\n",
      "\u001b[2m\u001b[33m(raylet)\u001b[0m [2023-12-20 15:30:00,153 E 2159771 2159790] (raylet) file_system_monitor.cc:111: /tmp/ray/session_2023-12-20_15-28-18_227590_2138313 is over 95% full, available space: 0; capacity: 422146228224. Object creation will fail if spilling is required.\n",
      "\u001b[2m\u001b[33m(raylet)\u001b[0m [2023-12-20 15:30:10,166 E 2159771 2159790] (raylet) file_system_monitor.cc:111: /tmp/ray/session_2023-12-20_15-28-18_227590_2138313 is over 95% full, available space: 0; capacity: 422146228224. Object creation will fail if spilling is required.\n",
      "\u001b[2m\u001b[33m(raylet)\u001b[0m [2023-12-20 15:30:20,178 E 2159771 2159790] (raylet) file_system_monitor.cc:111: /tmp/ray/session_2023-12-20_15-28-18_227590_2138313 is over 95% full, available space: 0; capacity: 422146228224. Object creation will fail if spilling is required.\n",
      "\u001b[2m\u001b[33m(raylet)\u001b[0m [2023-12-20 15:30:30,192 E 2159771 2159790] (raylet) file_system_monitor.cc:111: /tmp/ray/session_2023-12-20_15-28-18_227590_2138313 is over 95% full, available space: 0; capacity: 422146228224. Object creation will fail if spilling is required.\n",
      "\u001b[2m\u001b[33m(raylet)\u001b[0m [2023-12-20 15:30:40,206 E 2159771 2159790] (raylet) file_system_monitor.cc:111: /tmp/ray/session_2023-12-20_15-28-18_227590_2138313 is over 95% full, available space: 0; capacity: 422146228224. Object creation will fail if spilling is required.\n",
      "\u001b[2m\u001b[33m(raylet)\u001b[0m [2023-12-20 15:30:50,219 E 2159771 2159790] (raylet) file_system_monitor.cc:111: /tmp/ray/session_2023-12-20_15-28-18_227590_2138313 is over 95% full, available space: 0; capacity: 422146228224. Object creation will fail if spilling is required.\n",
      "\u001b[2m\u001b[33m(raylet)\u001b[0m [2023-12-20 15:31:00,233 E 2159771 2159790] (raylet) file_system_monitor.cc:111: /tmp/ray/session_2023-12-20_15-28-18_227590_2138313 is over 95% full, available space: 0; capacity: 422146228224. Object creation will fail if spilling is required.\n",
      "\u001b[2m\u001b[33m(raylet)\u001b[0m [2023-12-20 15:31:10,245 E 2159771 2159790] (raylet) file_system_monitor.cc:111: /tmp/ray/session_2023-12-20_15-28-18_227590_2138313 is over 95% full, available space: 0; capacity: 422146228224. Object creation will fail if spilling is required.\n",
      "\u001b[2m\u001b[33m(raylet)\u001b[0m [2023-12-20 15:31:20,257 E 2159771 2159790] (raylet) file_system_monitor.cc:111: /tmp/ray/session_2023-12-20_15-28-18_227590_2138313 is over 95% full, available space: 0; capacity: 422146228224. Object creation will fail if spilling is required.\n",
      "\u001b[2m\u001b[33m(raylet)\u001b[0m [2023-12-20 15:31:30,271 E 2159771 2159790] (raylet) file_system_monitor.cc:111: /tmp/ray/session_2023-12-20_15-28-18_227590_2138313 is over 95% full, available space: 0; capacity: 422146228224. Object creation will fail if spilling is required.\n",
      "\u001b[2m\u001b[33m(raylet)\u001b[0m [2023-12-20 15:31:40,285 E 2159771 2159790] (raylet) file_system_monitor.cc:111: /tmp/ray/session_2023-12-20_15-28-18_227590_2138313 is over 95% full, available space: 0; capacity: 422146228224. Object creation will fail if spilling is required.\n",
      "\u001b[2m\u001b[33m(raylet)\u001b[0m [2023-12-20 15:31:50,298 E 2159771 2159790] (raylet) file_system_monitor.cc:111: /tmp/ray/session_2023-12-20_15-28-18_227590_2138313 is over 95% full, available space: 0; capacity: 422146228224. Object creation will fail if spilling is required.\n",
      "\u001b[2m\u001b[33m(raylet)\u001b[0m [2023-12-20 15:32:00,312 E 2159771 2159790] (raylet) file_system_monitor.cc:111: /tmp/ray/session_2023-12-20_15-28-18_227590_2138313 is over 95% full, available space: 0; capacity: 422146228224. Object creation will fail if spilling is required.\n",
      "\u001b[2m\u001b[33m(raylet)\u001b[0m [2023-12-20 15:32:10,323 E 2159771 2159790] (raylet) file_system_monitor.cc:111: /tmp/ray/session_2023-12-20_15-28-18_227590_2138313 is over 95% full, available space: 0; capacity: 422146228224. Object creation will fail if spilling is required.\n",
      "\u001b[2m\u001b[33m(raylet)\u001b[0m [2023-12-20 15:32:20,336 E 2159771 2159790] (raylet) file_system_monitor.cc:111: /tmp/ray/session_2023-12-20_15-28-18_227590_2138313 is over 95% full, available space: 0; capacity: 422146228224. Object creation will fail if spilling is required.\n",
      "\u001b[2m\u001b[33m(raylet)\u001b[0m [2023-12-20 15:32:30,349 E 2159771 2159790] (raylet) file_system_monitor.cc:111: /tmp/ray/session_2023-12-20_15-28-18_227590_2138313 is over 95% full, available space: 0; capacity: 422146228224. Object creation will fail if spilling is required.\n",
      "\u001b[2m\u001b[33m(raylet)\u001b[0m [2023-12-20 15:32:40,362 E 2159771 2159790] (raylet) file_system_monitor.cc:111: /tmp/ray/session_2023-12-20_15-28-18_227590_2138313 is over 95% full, available space: 0; capacity: 422146228224. Object creation will fail if spilling is required.\n",
      "\u001b[2m\u001b[33m(raylet)\u001b[0m [2023-12-20 15:32:50,375 E 2159771 2159790] (raylet) file_system_monitor.cc:111: /tmp/ray/session_2023-12-20_15-28-18_227590_2138313 is over 95% full, available space: 0; capacity: 422146228224. Object creation will fail if spilling is required.\n",
      "\u001b[2m\u001b[33m(raylet)\u001b[0m [2023-12-20 15:33:00,386 E 2159771 2159790] (raylet) file_system_monitor.cc:111: /tmp/ray/session_2023-12-20_15-28-18_227590_2138313 is over 95% full, available space: 0; capacity: 422146228224. Object creation will fail if spilling is required.\n",
      "\u001b[2m\u001b[33m(raylet)\u001b[0m [2023-12-20 15:33:10,401 E 2159771 2159790] (raylet) file_system_monitor.cc:111: /tmp/ray/session_2023-12-20_15-28-18_227590_2138313 is over 95% full, available space: 0; capacity: 422146228224. Object creation will fail if spilling is required.\n",
      "\u001b[2m\u001b[33m(raylet)\u001b[0m [2023-12-20 15:33:20,414 E 2159771 2159790] (raylet) file_system_monitor.cc:111: /tmp/ray/session_2023-12-20_15-28-18_227590_2138313 is over 95% full, available space: 0; capacity: 422146228224. Object creation will fail if spilling is required.\n",
      "\u001b[2m\u001b[33m(raylet)\u001b[0m [2023-12-20 15:33:30,428 E 2159771 2159790] (raylet) file_system_monitor.cc:111: /tmp/ray/session_2023-12-20_15-28-18_227590_2138313 is over 95% full, available space: 0; capacity: 422146228224. Object creation will fail if spilling is required.\n",
      "\u001b[2m\u001b[33m(raylet)\u001b[0m [2023-12-20 15:33:40,443 E 2159771 2159790] (raylet) file_system_monitor.cc:111: /tmp/ray/session_2023-12-20_15-28-18_227590_2138313 is over 95% full, available space: 0; capacity: 422146228224. Object creation will fail if spilling is required.\n",
      "\u001b[2m\u001b[33m(raylet)\u001b[0m [2023-12-20 15:33:50,458 E 2159771 2159790] (raylet) file_system_monitor.cc:111: /tmp/ray/session_2023-12-20_15-28-18_227590_2138313 is over 95% full, available space: 0; capacity: 422146228224. Object creation will fail if spilling is required.\n",
      "\u001b[2m\u001b[33m(raylet)\u001b[0m [2023-12-20 15:34:00,471 E 2159771 2159790] (raylet) file_system_monitor.cc:111: /tmp/ray/session_2023-12-20_15-28-18_227590_2138313 is over 95% full, available space: 0; capacity: 422146228224. Object creation will fail if spilling is required.\n",
      "\u001b[2m\u001b[33m(raylet)\u001b[0m [2023-12-20 15:34:10,485 E 2159771 2159790] (raylet) file_system_monitor.cc:111: /tmp/ray/session_2023-12-20_15-28-18_227590_2138313 is over 95% full, available space: 0; capacity: 422146228224. Object creation will fail if spilling is required.\n",
      "\u001b[2m\u001b[33m(raylet)\u001b[0m [2023-12-20 15:34:20,499 E 2159771 2159790] (raylet) file_system_monitor.cc:111: /tmp/ray/session_2023-12-20_15-28-18_227590_2138313 is over 95% full, available space: 0; capacity: 422146228224. Object creation will fail if spilling is required.\n"
     ]
    }
   ],
   "source": [
    "url = 'https://app.cnvrg.io/docs/'\n",
    "\n",
    "from pyrecdp.LLM import TextPipeline\n",
    "from pyrecdp.primitives.operations import DocumentLoader\n",
    "\n",
    "pipeline = TextPipeline()\n",
    "ops = [\n",
    "    DocumentLoader(loader='RecursiveUrlLoader', loader_args={\"url\": url}),\n",
    "]\n",
    "pipeline.add_operations(ops)\n",
    "ds = pipeline.execute()\n",
    "display(ds.to_pandas())\n",
    "\n"
   ]
  },
  {
   "cell_type": "markdown",
   "id": "198739a6",
   "metadata": {},
   "source": [
    "#### 3.5 Online Pdf loader"
   ]
  },
  {
   "cell_type": "code",
   "execution_count": 5,
   "id": "514d9f03",
   "metadata": {},
   "outputs": [
    {
     "name": "stdout",
     "output_type": "stream",
     "text": [
      "init ray\n",
      "init ray with total mem of 324413575987, total core of 48\n"
     ]
    },
    {
     "name": "stderr",
     "output_type": "stream",
     "text": [
      "2023-12-20 15:37:49,289\tINFO worker.py:1642 -- Started a local Ray instance.\n"
     ]
    },
    {
     "name": "stdout",
     "output_type": "stream",
     "text": [
      "execute with ray started ...\n"
     ]
    },
    {
     "name": "stderr",
     "output_type": "stream",
     "text": [
      "\u001b[2m\u001b[33m(raylet)\u001b[0m [2023-12-20 15:37:58,263 E 2179392 2179417] (raylet) file_system_monitor.cc:111: /tmp/ray/session_2023-12-20_15-37-46_470728_2138313 is over 95% full, available space: 0; capacity: 422146228224. Object creation will fail if spilling is required.\n",
      "2023-12-20 15:37:58,360\tINFO streaming_executor.py:93 -- Executing DAG InputDataBuffer[Input] -> TaskPoolMapOperator[Write]\n",
      "2023-12-20 15:37:58,362\tINFO streaming_executor.py:94 -- Execution config: ExecutionOptions(resource_limits=ExecutionResources(cpu=None, gpu=None, object_store_memory=None), locality_with_output=False, preserve_order=False, actor_locality_enabled=True, verbose_progress=False)\n",
      "2023-12-20 15:37:58,363\tINFO streaming_executor.py:96 -- Tip: For detailed progress reporting, run `ray.data.DataContext.get_current().execution_options.verbose_progress = True`\n"
     ]
    },
    {
     "data": {
      "application/vnd.jupyter.widget-view+json": {
       "model_id": "6d4d0dd6aa644a6fa584cb901dbad3e3",
       "version_major": 2,
       "version_minor": 0
      },
      "text/plain": [
       "Running 0:   0%|          | 0/1 [00:00<?, ?it/s]"
      ]
     },
     "metadata": {},
     "output_type": "display_data"
    },
    {
     "name": "stdout",
     "output_type": "stream",
     "text": [
      "execute with ray took 8.47647582553327 sec\n"
     ]
    },
    {
     "data": {
      "text/html": [
       "<div>\n",
       "<style scoped>\n",
       "    .dataframe tbody tr th:only-of-type {\n",
       "        vertical-align: middle;\n",
       "    }\n",
       "\n",
       "    .dataframe tbody tr th {\n",
       "        vertical-align: top;\n",
       "    }\n",
       "\n",
       "    .dataframe thead th {\n",
       "        text-align: right;\n",
       "    }\n",
       "</style>\n",
       "<table border=\"1\" class=\"dataframe\">\n",
       "  <thead>\n",
       "    <tr style=\"text-align: right;\">\n",
       "      <th></th>\n",
       "      <th>text</th>\n",
       "      <th>metadata</th>\n",
       "    </tr>\n",
       "  </thead>\n",
       "  <tbody>\n",
       "    <tr>\n",
       "      <th>0</th>\n",
       "      <td>3 2 0 2\\n\\ng u A 2\\n\\n] L C . s c [\\n\\n7 v 2 6...</td>\n",
       "      <td>{'source': '/tmp/tmp7lpqus0e/tmp.pdf'}</td>\n",
       "    </tr>\n",
       "  </tbody>\n",
       "</table>\n",
       "</div>"
      ],
      "text/plain": [
       "                                                text  \\\n",
       "0  3 2 0 2\\n\\ng u A 2\\n\\n] L C . s c [\\n\\n7 v 2 6...   \n",
       "\n",
       "                                 metadata  \n",
       "0  {'source': '/tmp/tmp7lpqus0e/tmp.pdf'}  "
      ]
     },
     "metadata": {},
     "output_type": "display_data"
    },
    {
     "name": "stderr",
     "output_type": "stream",
     "text": [
      "\u001b[2m\u001b[33m(raylet)\u001b[0m [2023-12-20 15:38:08,277 E 2179392 2179417] (raylet) file_system_monitor.cc:111: /tmp/ray/session_2023-12-20_15-37-46_470728_2138313 is over 95% full, available space: 0; capacity: 422146228224. Object creation will fail if spilling is required.\n"
     ]
    }
   ],
   "source": [
    "attention_is_all_you_need_pdf = 'https://arxiv.org/pdf/1706.03762.pdf'\n",
    "\n",
    "from pyrecdp.LLM import TextPipeline\n",
    "from pyrecdp.primitives.operations import DocumentLoader\n",
    "\n",
    "pipeline = TextPipeline()\n",
    "ops = [\n",
    "    DocumentLoader(loader='OnlinePDFLoader', loader_args={\"file_path\": attention_is_all_you_need_pdf}),\n",
    "]\n",
    "pipeline.add_operations(ops)\n",
    "ds = pipeline.execute()\n",
    "display(ds.to_pandas())"
   ]
  }
 ],
 "metadata": {
  "colab": {
   "provenance": []
  },
  "kernelspec": {
   "display_name": "Python 3 (ipykernel)",
   "language": "python",
   "name": "python3"
  },
  "language_info": {
   "codemirror_mode": {
    "name": "ipython",
    "version": 3
   },
   "file_extension": ".py",
   "mimetype": "text/x-python",
   "name": "python",
   "nbconvert_exporter": "python",
   "pygments_lexer": "ipython3",
   "version": "3.10.12"
  }
 },
 "nbformat": 4,
 "nbformat_minor": 5
}
