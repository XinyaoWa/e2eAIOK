{
 "cells": [
  {
   "cell_type": "markdown",
   "id": "xqO9S27psEaG",
   "metadata": {
    "id": "xqO9S27psEaG"
   },
   "source": [
    "# RecDP LLM - TextToQA\n",
    "\n",
    "This component is using pretrained large language model to generate QA dataset for a given text"
   ]
  },
  {
   "cell_type": "markdown",
   "id": "x19WYyOQsdDq",
   "metadata": {
    "id": "x19WYyOQsdDq"
   },
   "source": [
    "# Get Started"
   ]
  },
  {
   "cell_type": "markdown",
   "id": "hNOO3-I-Tgzd",
   "metadata": {
    "id": "hNOO3-I-Tgzd"
   },
   "source": [
    "## 1. Install pyrecdp and dependencies"
   ]
  },
  {
   "cell_type": "code",
   "execution_count": null,
   "id": "736fb211-dbe6-4ca9-a1b1-db2cff2d287a",
   "metadata": {
    "id": "736fb211-dbe6-4ca9-a1b1-db2cff2d287a"
   },
   "outputs": [],
   "source": [
    "! DEBIAN_FRONTEND=noninteractive apt-get install -qq -y openjdk-8-jre\n",
    "! pip install -q pyrecdp --pre\n",
    "# ! pip install 'git+https://github.com/intel/e2eAIOK.git#egg=pyrecdp&subdirectory=RecDP'"
   ]
  },
  {
   "cell_type": "markdown",
   "id": "3UMkbvwwT2Vc",
   "metadata": {
    "id": "3UMkbvwwT2Vc"
   },
   "source": [
    "## 2. Prepare your data"
   ]
  },
  {
   "cell_type": "code",
   "execution_count": null,
   "id": "d6fX0InLTTXt",
   "metadata": {
    "id": "d6fX0InLTTXt"
   },
   "outputs": [],
   "source": [
    "%mkdir -p /content/test_data\n",
    "%cd /content/test_data\n",
    "!wget https://raw.githubusercontent.com/intel/e2eAIOK/main/RecDP/tests/data/llm_data/text.parquet"
   ]
  },
  {
   "cell_type": "markdown",
   "id": "G3wjx-yItOkR",
   "metadata": {
    "id": "G3wjx-yItOkR"
   },
   "source": [
    "## 3. Generate QA from text"
   ]
  },
  {
   "cell_type": "markdown",
   "id": "yAscO0gQWBKa",
   "metadata": {
    "id": "yAscO0gQWBKa"
   },
   "source": [
    "### 3.1 Process with TextToQA"
   ]
  },
  {
   "cell_type": "code",
   "execution_count": null,
   "id": "q65vRbH7uJwC",
   "metadata": {
    "colab": {
     "base_uri": "https://localhost:8080/",
     "height": 396,
     "referenced_widgets": [
      "db4260225b4f4c59a65491860c2cfd40",
      "c617382f949f41a899a8891abae6ac05",
      "793adfc9606547dd95e09534c6a8ee9c",
      "53d09e33fd3b4532937a0d383fe28310",
      "2910b4043048423b94958349a212d7b6",
      "0c1a1de47d404194b50c571744337ab2",
      "148574df54a94354a4978cf94be86a76",
      "d67f914b86584956b643e5b017ebf2fd",
      "9756942b4f9b426897fb92b6b353017d",
      "e44de870690644f88c24a0afa74aa54d",
      "cfe7ffb4c8194d88aed5c0564b25eef5"
     ]
    },
    "id": "q65vRbH7uJwC",
    "outputId": "7ca9b420-4f1e-48a1-c539-fd5beb0907e7"
   },
   "outputs": [],
   "source": [
    "from pyrecdp.LLM import TextPipeline, ResumableTextPipeline\n",
    "from pyrecdp.primitives.operations import *\n",
    "\n",
    "pipeline = TextPipeline(engine_name=\"spark\")\n",
    "data_path=\"/content/test_data/text.parquet\"\n",
    "text_key = \"text_prompt\"\n",
    "model_name=\"neural-chat-7b-v3\"\n",
    "out_path = \"ResumableTextPipeline_output\"\n",
    "ops = [\n",
    "    ParquetReader(data_path),\n",
    "    # TextPrompt(dataset_name=\"text\", prompt_name=\"generate_qa\",new_name=text_key),\n",
    "    TextToQA(outdir=out_path,model_name=model_name,text_key=text_key),\n",
    "    ParquetWriter(out_path)\n",
    "]\n",
    "pipeline.add_operations(ops)\n",
    "ret = pipeline.execute()\n",
    "del pipeline"
   ]
  },
  {
   "cell_type": "markdown",
   "id": "Lt5IM4guvKt6",
   "metadata": {
    "id": "Lt5IM4guvKt6"
   },
   "source": [
    "### 3.2 View processed data"
   ]
  },
  {
   "cell_type": "code",
   "execution_count": 1,
   "id": "DWJpiKfzvQ0o",
   "metadata": {
    "colab": {
     "base_uri": "https://localhost:8080/",
     "height": 206
    },
    "id": "DWJpiKfzvQ0o",
    "outputId": "a5e56303-68fc-492f-f89b-de34508bc15c"
   },
   "outputs": [
    {
     "data": {
      "text/html": [
       "<div>\n",
       "<style scoped>\n",
       "    .dataframe tbody tr th:only-of-type {\n",
       "        vertical-align: middle;\n",
       "    }\n",
       "\n",
       "    .dataframe tbody tr th {\n",
       "        vertical-align: top;\n",
       "    }\n",
       "\n",
       "    .dataframe thead th {\n",
       "        text-align: right;\n",
       "    }\n",
       "</style>\n",
       "<table border=\"1\" class=\"dataframe\">\n",
       "  <thead>\n",
       "    <tr style=\"text-align: right;\">\n",
       "      <th></th>\n",
       "      <th>text_prompt</th>\n",
       "      <th>QA_output</th>\n",
       "      <th>Question</th>\n",
       "      <th>Answer</th>\n",
       "    </tr>\n",
       "  </thead>\n",
       "  <tbody>\n",
       "    <tr>\n",
       "      <th>0</th>\n",
       "      <td>You will be provided an article. After reading...</td>\n",
       "      <td>Question: What change in the estimated useful ...</td>\n",
       "      <td>What change in the estimated useful life of c...</td>\n",
       "      <td>In January 2023, Intel increased the estimate...</td>\n",
       "    </tr>\n",
       "    <tr>\n",
       "      <th>1</th>\n",
       "      <td>You will be provided an article. After reading...</td>\n",
       "      <td>Question: What change in the estimated useful ...</td>\n",
       "      <td>How did this change affect Intel's financial ...</td>\n",
       "      <td>The change is expected to reduce total deprec...</td>\n",
       "    </tr>\n",
       "    <tr>\n",
       "      <th>2</th>\n",
       "      <td>You will be provided an article. After reading...</td>\n",
       "      <td>Question: What change in the estimated useful ...</td>\n",
       "      <td>What is the purpose of Intel's Q1 2023 outloo...</td>\n",
       "      <td>Intel estimates a $350 million to $500 millio...</td>\n",
       "    </tr>\n",
       "    <tr>\n",
       "      <th>3</th>\n",
       "      <td>You will be provided an article. After reading...</td>\n",
       "      <td>Question: What change in the estimated useful ...</td>\n",
       "      <td>When did Intel hold a public webcast to discu...</td>\n",
       "      <td>Intel held a public webcast at 2 p.m. PST on ...</td>\n",
       "    </tr>\n",
       "    <tr>\n",
       "      <th>4</th>\n",
       "      <td>You will be provided an article. After reading...</td>\n",
       "      <td>Question: What change in the estimated useful ...</td>\n",
       "      <td>Where can the live public webcast, earnings p...</td>\n",
       "      <td>The live public webcast, earnings presentatio...</td>\n",
       "    </tr>\n",
       "  </tbody>\n",
       "</table>\n",
       "</div>"
      ],
      "text/plain": [
       "                                         text_prompt  \\\n",
       "0  You will be provided an article. After reading...   \n",
       "1  You will be provided an article. After reading...   \n",
       "2  You will be provided an article. After reading...   \n",
       "3  You will be provided an article. After reading...   \n",
       "4  You will be provided an article. After reading...   \n",
       "\n",
       "                                           QA_output  \\\n",
       "0  Question: What change in the estimated useful ...   \n",
       "1  Question: What change in the estimated useful ...   \n",
       "2  Question: What change in the estimated useful ...   \n",
       "3  Question: What change in the estimated useful ...   \n",
       "4  Question: What change in the estimated useful ...   \n",
       "\n",
       "                                            Question  \\\n",
       "0   What change in the estimated useful life of c...   \n",
       "1   How did this change affect Intel's financial ...   \n",
       "2   What is the purpose of Intel's Q1 2023 outloo...   \n",
       "3   When did Intel hold a public webcast to discu...   \n",
       "4   Where can the live public webcast, earnings p...   \n",
       "\n",
       "                                              Answer  \n",
       "0   In January 2023, Intel increased the estimate...  \n",
       "1   The change is expected to reduce total deprec...  \n",
       "2   Intel estimates a $350 million to $500 millio...  \n",
       "3   Intel held a public webcast at 2 p.m. PST on ...  \n",
       "4   The live public webcast, earnings presentatio...  "
      ]
     },
     "execution_count": 1,
     "metadata": {},
     "output_type": "execute_result"
    }
   ],
   "source": [
    "import pandas as pd\n",
    "data_pd = pd.read_parquet(out_path)\n",
    "data_pd.head()"
   ]
  }
 ],
 "metadata": {
  "colab": {
   "provenance": []
  },
  "kernelspec": {
   "display_name": "Python 3 (ipykernel)",
   "language": "python",
   "name": "python3"
  },
  "language_info": {
   "codemirror_mode": {
    "name": "ipython",
    "version": 3
   },
   "file_extension": ".py",
   "mimetype": "text/x-python",
   "name": "python",
   "nbconvert_exporter": "python",
   "pygments_lexer": "ipython3",
   "version": "3.9.12"
  },
  "widgets": {
   "application/vnd.jupyter.widget-state+json": {
    "0c1a1de47d404194b50c571744337ab2": {
     "model_module": "@jupyter-widgets/base",
     "model_module_version": "1.2.0",
     "model_name": "LayoutModel",
     "state": {
      "_model_module": "@jupyter-widgets/base",
      "_model_module_version": "1.2.0",
      "_model_name": "LayoutModel",
      "_view_count": null,
      "_view_module": "@jupyter-widgets/base",
      "_view_module_version": "1.2.0",
      "_view_name": "LayoutView",
      "align_content": null,
      "align_items": null,
      "align_self": null,
      "border": null,
      "bottom": null,
      "display": null,
      "flex": null,
      "flex_flow": null,
      "grid_area": null,
      "grid_auto_columns": null,
      "grid_auto_flow": null,
      "grid_auto_rows": null,
      "grid_column": null,
      "grid_gap": null,
      "grid_row": null,
      "grid_template_areas": null,
      "grid_template_columns": null,
      "grid_template_rows": null,
      "height": null,
      "justify_content": null,
      "justify_items": null,
      "left": null,
      "margin": null,
      "max_height": null,
      "max_width": null,
      "min_height": null,
      "min_width": null,
      "object_fit": null,
      "object_position": null,
      "order": null,
      "overflow": null,
      "overflow_x": null,
      "overflow_y": null,
      "padding": null,
      "right": null,
      "top": null,
      "visibility": null,
      "width": null
     }
    },
    "148574df54a94354a4978cf94be86a76": {
     "model_module": "@jupyter-widgets/controls",
     "model_module_version": "1.5.0",
     "model_name": "DescriptionStyleModel",
     "state": {
      "_model_module": "@jupyter-widgets/controls",
      "_model_module_version": "1.5.0",
      "_model_name": "DescriptionStyleModel",
      "_view_count": null,
      "_view_module": "@jupyter-widgets/base",
      "_view_module_version": "1.2.0",
      "_view_name": "StyleView",
      "description_width": ""
     }
    },
    "2910b4043048423b94958349a212d7b6": {
     "model_module": "@jupyter-widgets/base",
     "model_module_version": "1.2.0",
     "model_name": "LayoutModel",
     "state": {
      "_model_module": "@jupyter-widgets/base",
      "_model_module_version": "1.2.0",
      "_model_name": "LayoutModel",
      "_view_count": null,
      "_view_module": "@jupyter-widgets/base",
      "_view_module_version": "1.2.0",
      "_view_name": "LayoutView",
      "align_content": null,
      "align_items": null,
      "align_self": null,
      "border": null,
      "bottom": null,
      "display": null,
      "flex": null,
      "flex_flow": null,
      "grid_area": null,
      "grid_auto_columns": null,
      "grid_auto_flow": null,
      "grid_auto_rows": null,
      "grid_column": null,
      "grid_gap": null,
      "grid_row": null,
      "grid_template_areas": null,
      "grid_template_columns": null,
      "grid_template_rows": null,
      "height": null,
      "justify_content": null,
      "justify_items": null,
      "left": null,
      "margin": null,
      "max_height": null,
      "max_width": null,
      "min_height": null,
      "min_width": null,
      "object_fit": null,
      "object_position": null,
      "order": null,
      "overflow": null,
      "overflow_x": null,
      "overflow_y": null,
      "padding": null,
      "right": null,
      "top": null,
      "visibility": null,
      "width": null
     }
    },
    "53d09e33fd3b4532937a0d383fe28310": {
     "model_module": "@jupyter-widgets/controls",
     "model_module_version": "1.5.0",
     "model_name": "HTMLModel",
     "state": {
      "_dom_classes": [],
      "_model_module": "@jupyter-widgets/controls",
      "_model_module_version": "1.5.0",
      "_model_name": "HTMLModel",
      "_view_count": null,
      "_view_module": "@jupyter-widgets/controls",
      "_view_module_version": "1.5.0",
      "_view_name": "HTMLView",
      "description": "",
      "description_tooltip": null,
      "layout": "IPY_MODEL_e44de870690644f88c24a0afa74aa54d",
      "placeholder": "​",
      "style": "IPY_MODEL_cfe7ffb4c8194d88aed5c0564b25eef5",
      "value": " 0/0 [00:00&lt;?, ?it/s]"
     }
    },
    "793adfc9606547dd95e09534c6a8ee9c": {
     "model_module": "@jupyter-widgets/controls",
     "model_module_version": "1.5.0",
     "model_name": "FloatProgressModel",
     "state": {
      "_dom_classes": [],
      "_model_module": "@jupyter-widgets/controls",
      "_model_module_version": "1.5.0",
      "_model_name": "FloatProgressModel",
      "_view_count": null,
      "_view_module": "@jupyter-widgets/controls",
      "_view_module_version": "1.5.0",
      "_view_name": "ProgressView",
      "bar_style": "success",
      "description": "",
      "description_tooltip": null,
      "layout": "IPY_MODEL_d67f914b86584956b643e5b017ebf2fd",
      "max": 1,
      "min": 0,
      "orientation": "horizontal",
      "style": "IPY_MODEL_9756942b4f9b426897fb92b6b353017d",
      "value": 0
     }
    },
    "9756942b4f9b426897fb92b6b353017d": {
     "model_module": "@jupyter-widgets/controls",
     "model_module_version": "1.5.0",
     "model_name": "ProgressStyleModel",
     "state": {
      "_model_module": "@jupyter-widgets/controls",
      "_model_module_version": "1.5.0",
      "_model_name": "ProgressStyleModel",
      "_view_count": null,
      "_view_module": "@jupyter-widgets/base",
      "_view_module_version": "1.2.0",
      "_view_name": "StyleView",
      "bar_color": null,
      "description_width": ""
     }
    },
    "c617382f949f41a899a8891abae6ac05": {
     "model_module": "@jupyter-widgets/controls",
     "model_module_version": "1.5.0",
     "model_name": "HTMLModel",
     "state": {
      "_dom_classes": [],
      "_model_module": "@jupyter-widgets/controls",
      "_model_module_version": "1.5.0",
      "_model_name": "HTMLModel",
      "_view_count": null,
      "_view_module": "@jupyter-widgets/controls",
      "_view_module_version": "1.5.0",
      "_view_name": "HTMLView",
      "description": "",
      "description_tooltip": null,
      "layout": "IPY_MODEL_0c1a1de47d404194b50c571744337ab2",
      "placeholder": "​",
      "style": "IPY_MODEL_148574df54a94354a4978cf94be86a76",
      "value": ""
     }
    },
    "cfe7ffb4c8194d88aed5c0564b25eef5": {
     "model_module": "@jupyter-widgets/controls",
     "model_module_version": "1.5.0",
     "model_name": "DescriptionStyleModel",
     "state": {
      "_model_module": "@jupyter-widgets/controls",
      "_model_module_version": "1.5.0",
      "_model_name": "DescriptionStyleModel",
      "_view_count": null,
      "_view_module": "@jupyter-widgets/base",
      "_view_module_version": "1.2.0",
      "_view_name": "StyleView",
      "description_width": ""
     }
    },
    "d67f914b86584956b643e5b017ebf2fd": {
     "model_module": "@jupyter-widgets/base",
     "model_module_version": "1.2.0",
     "model_name": "LayoutModel",
     "state": {
      "_model_module": "@jupyter-widgets/base",
      "_model_module_version": "1.2.0",
      "_model_name": "LayoutModel",
      "_view_count": null,
      "_view_module": "@jupyter-widgets/base",
      "_view_module_version": "1.2.0",
      "_view_name": "LayoutView",
      "align_content": null,
      "align_items": null,
      "align_self": null,
      "border": null,
      "bottom": null,
      "display": null,
      "flex": null,
      "flex_flow": null,
      "grid_area": null,
      "grid_auto_columns": null,
      "grid_auto_flow": null,
      "grid_auto_rows": null,
      "grid_column": null,
      "grid_gap": null,
      "grid_row": null,
      "grid_template_areas": null,
      "grid_template_columns": null,
      "grid_template_rows": null,
      "height": null,
      "justify_content": null,
      "justify_items": null,
      "left": null,
      "margin": null,
      "max_height": null,
      "max_width": null,
      "min_height": null,
      "min_width": null,
      "object_fit": null,
      "object_position": null,
      "order": null,
      "overflow": null,
      "overflow_x": null,
      "overflow_y": null,
      "padding": null,
      "right": null,
      "top": null,
      "visibility": null,
      "width": "20px"
     }
    },
    "db4260225b4f4c59a65491860c2cfd40": {
     "model_module": "@jupyter-widgets/controls",
     "model_module_version": "1.5.0",
     "model_name": "HBoxModel",
     "state": {
      "_dom_classes": [],
      "_model_module": "@jupyter-widgets/controls",
      "_model_module_version": "1.5.0",
      "_model_name": "HBoxModel",
      "_view_count": null,
      "_view_module": "@jupyter-widgets/controls",
      "_view_module_version": "1.5.0",
      "_view_name": "HBoxView",
      "box_style": "",
      "children": [
       "IPY_MODEL_c617382f949f41a899a8891abae6ac05",
       "IPY_MODEL_793adfc9606547dd95e09534c6a8ee9c",
       "IPY_MODEL_53d09e33fd3b4532937a0d383fe28310"
      ],
      "layout": "IPY_MODEL_2910b4043048423b94958349a212d7b6"
     }
    },
    "e44de870690644f88c24a0afa74aa54d": {
     "model_module": "@jupyter-widgets/base",
     "model_module_version": "1.2.0",
     "model_name": "LayoutModel",
     "state": {
      "_model_module": "@jupyter-widgets/base",
      "_model_module_version": "1.2.0",
      "_model_name": "LayoutModel",
      "_view_count": null,
      "_view_module": "@jupyter-widgets/base",
      "_view_module_version": "1.2.0",
      "_view_name": "LayoutView",
      "align_content": null,
      "align_items": null,
      "align_self": null,
      "border": null,
      "bottom": null,
      "display": null,
      "flex": null,
      "flex_flow": null,
      "grid_area": null,
      "grid_auto_columns": null,
      "grid_auto_flow": null,
      "grid_auto_rows": null,
      "grid_column": null,
      "grid_gap": null,
      "grid_row": null,
      "grid_template_areas": null,
      "grid_template_columns": null,
      "grid_template_rows": null,
      "height": null,
      "justify_content": null,
      "justify_items": null,
      "left": null,
      "margin": null,
      "max_height": null,
      "max_width": null,
      "min_height": null,
      "min_width": null,
      "object_fit": null,
      "object_position": null,
      "order": null,
      "overflow": null,
      "overflow_x": null,
      "overflow_y": null,
      "padding": null,
      "right": null,
      "top": null,
      "visibility": null,
      "width": null
     }
    }
   }
  }
 },
 "nbformat": 4,
 "nbformat_minor": 5
}
