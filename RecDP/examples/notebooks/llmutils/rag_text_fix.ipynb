{
  "cells": [
    {
      "cell_type": "markdown",
      "id": "z_gVsK2fahsZ",
      "metadata": {
        "id": "z_gVsK2fahsZ"
      },
      "source": [
        "# RecDP LLM - RAG Text fixer\n",
        "\n",
        "Clean and refine the documents for RAG process.\n",
        "\n",
        "\n",
        "\n",
        "\n"
      ]
    },
    {
      "cell_type": "markdown",
      "id": "lFH8BqLubYLI",
      "metadata": {
        "id": "lFH8BqLubYLI"
      },
      "source": [
        "# Get started"
      ]
    },
    {
      "cell_type": "markdown",
      "id": "n35FAQmcbdY_",
      "metadata": {
        "id": "n35FAQmcbdY_"
      },
      "source": [
        "## 1. Install pyrecdp and dependencies"
      ]
    },
    {
      "cell_type": "code",
      "execution_count": null,
      "id": "wzlH_Ms3bnGM",
      "metadata": {
        "id": "wzlH_Ms3bnGM"
      },
      "outputs": [],
      "source": [
        "! DEBIAN_FRONTEND=noninteractive apt-get install -y openjdk-8-jre\n",
        "! pip install pyrecdp --pre\n",
        "# ! pip install 'git+https://github.com/intel/e2eAIOK.git#egg=pyrecdp&subdirectory=RecDP'"
      ]
    },
    {
      "cell_type": "markdown",
      "id": "LHPfbKs7be8l",
      "metadata": {
        "id": "LHPfbKs7be8l"
      },
      "source": [
        "## 2. Usage"
      ]
    },
    {
      "cell_type": "markdown",
      "source": [
        "### 2.1 Use UrlLoader to load a list of urls. Show results without using RAGTextFix.\n",
        "\n",
        "\n",
        "\n"
      ],
      "metadata": {
        "id": "5EaDIIzQ0YiG"
      },
      "id": "5EaDIIzQ0YiG"
    },
    {
      "cell_type": "code",
      "execution_count": null,
      "id": "736fb211-dbe6-4ca9-a1b1-db2cff2d287a",
      "metadata": {
        "id": "736fb211-dbe6-4ca9-a1b1-db2cff2d287a"
      },
      "outputs": [],
      "source": [
        "from pyrecdp.LLM import TextPipeline\n",
        "from pyrecdp.primitives.operations import *\n",
        "\n",
        "urls = ['https://app.cnvrg.io/docs/',\n",
        "        'https://app.cnvrg.io/docs/core_concepts/python_sdk_v2.html',\n",
        "        'https://app.cnvrg.io/docs/cli_v2/cnvrgv2_cli.html',\n",
        "        'https://app.cnvrg.io/docs/collections/tutorials.html']\n",
        "\n",
        "loader = UrlLoader(urls=url, max_depth=2, extractor=lambda x: Soup(x, \"html.parser\").text)\n",
        "ds = loader.process_rayds()\n",
        "for row in ds.iter_rows():\n",
        "    print(row['text'])\n"
      ]
    },
    {
      "cell_type": "markdown",
      "source": [
        "### 2.2 Use UrlLoader to load a list of urls recursively and use RAGTextFix to clean up documents.\n",
        "\n",
        "* Step 1: Fix unicode errors in text using ftfy\n",
        "\n",
        "* Step 2: Normalize different kinds of whitespaces to whitespace ' ' (0x20) in text. Different kinds of whitespaces can be found here: https://en.wikipedia.org/wiki/Whitespace_character\n",
        "\n",
        "* Step 3: Clean specific chars in text.\n",
        "\n",
        "* Step 4: Replace the specified string.\n",
        "\n",
        "* Step 5: Remove extra whitespaces.\n",
        "\n",
        "* Step 6: Re segment sentences in the text to avoid sentence segmentation errors caused by unnecessary line breaks."
      ],
      "metadata": {
        "id": "J5Lv3IZw0TNG"
      },
      "id": "J5Lv3IZw0TNG"
    },
    {
      "cell_type": "code",
      "source": [
        "from pyrecdp.LLM import TextPipeline\n",
        "from pyrecdp.primitives.operations import *\n",
        "\n",
        "output_path = \"TextPipeline_output\"\n",
        "pipeline = TextPipeline()\n",
        "ops = [\n",
        "    loader,\n",
        "    RAGTextFix(str_to_replace={'\\n###': '', '\\n##': '', '\\n#': ''}, remove_extra_whitespace=True),\n",
        "    ParquetWriter(output_path)\n",
        "]\n",
        "pipeline.add_operations(ops)\n",
        "ret = pipeline.execute()\n",
        "del pipeline"
      ],
      "metadata": {
        "id": "5wlprXy00gBf"
      },
      "id": "5wlprXy00gBf",
      "execution_count": null,
      "outputs": []
    },
    {
      "cell_type": "markdown",
      "source": [
        "### 2.3 Show results after RAGTextFix"
      ],
      "metadata": {
        "id": "HB2wZVn77v5u"
      },
      "id": "HB2wZVn77v5u"
    },
    {
      "cell_type": "code",
      "source": [
        "import pandas as pd\n",
        "result_pd = pd.read_parquet(output_path)\n",
        "result_pd.head()"
      ],
      "metadata": {
        "id": "ZN8rnxGR7wbo"
      },
      "id": "ZN8rnxGR7wbo",
      "execution_count": null,
      "outputs": []
    }
  ],
  "metadata": {
    "colab": {
      "provenance": []
    },
    "kernelspec": {
      "display_name": "Python 3 (ipykernel)",
      "language": "python",
      "name": "python3"
    },
    "language_info": {
      "codemirror_mode": {
        "name": "ipython",
        "version": 3
      },
      "file_extension": ".py",
      "mimetype": "text/x-python",
      "name": "python",
      "nbconvert_exporter": "python",
      "pygments_lexer": "ipython3",
      "version": "3.10.12"
    }
  },
  "nbformat": 4,
  "nbformat_minor": 5
}