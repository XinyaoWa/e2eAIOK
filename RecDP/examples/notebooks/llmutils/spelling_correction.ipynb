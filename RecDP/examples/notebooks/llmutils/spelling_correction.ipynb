{
  "cells": [
    {
      "cell_type": "markdown",
      "id": "z_gVsK2fahsZ",
      "metadata": {
        "id": "z_gVsK2fahsZ"
      },
      "source": [
        "# RecDP LLM - Spelling Correction\n",
        "Spelling Correction with library [TextBlob](https://textblob.readthedocs.io/en/dev/)\n"
      ]
    },
    {
      "cell_type": "markdown",
      "id": "lFH8BqLubYLI",
      "metadata": {
        "id": "lFH8BqLubYLI"
      },
      "source": [
        "# Get started"
      ]
    },
    {
      "cell_type": "markdown",
      "id": "n35FAQmcbdY_",
      "metadata": {
        "id": "n35FAQmcbdY_"
      },
      "source": [
        "## 1. Install pyrecdp and dependencies"
      ]
    },
    {
      "cell_type": "code",
      "execution_count": null,
      "id": "wzlH_Ms3bnGM",
      "metadata": {
        "id": "wzlH_Ms3bnGM"
      },
      "outputs": [],
      "source": [
        "! DEBIAN_FRONTEND=noninteractive apt-get install -y openjdk-8-jre\n",
        "# ! pip install pyrecdp --pre\n",
        "! pip install 'git+https://github.com/intel/e2eAIOK.git#egg=pyrecdp&subdirectory=RecDP'"
      ]
    },
    {
      "cell_type": "markdown",
      "id": "LHPfbKs7be8l",
      "metadata": {
        "id": "LHPfbKs7be8l"
      },
      "source": [
        "## 2. Prepare your own data"
      ]
    },
    {
      "cell_type": "code",
      "execution_count": null,
      "id": "ED6Z8QPdbwoF",
      "metadata": {
        "id": "ED6Z8QPdbwoF"
      },
      "outputs": [],
      "source": [
        "%mkdir -p /content/test_data\n",
        "%cd /content/test_data\n",
        "!wget https://raw.githubusercontent.com/intel/e2eAIOK/main/RecDP/tests/data/llm_data/github_sample_50.jsonl"
      ]
    },
    {
      "cell_type": "markdown",
      "id": "iIZVijQ7cG1N",
      "metadata": {
        "id": "iIZVijQ7cG1N"
      },
      "source": [
        "## 3. Spelling Correction"
      ]
    },
    {
      "cell_type": "markdown",
      "source": [
        "### 3.1 Process with Spelling Correction\n"
      ],
      "metadata": {
        "id": "5EaDIIzQ0YiG"
      },
      "id": "5EaDIIzQ0YiG"
    },
    {
      "cell_type": "code",
      "execution_count": null,
      "id": "736fb211-dbe6-4ca9-a1b1-db2cff2d287a",
      "metadata": {
        "id": "736fb211-dbe6-4ca9-a1b1-db2cff2d287a"
      },
      "outputs": [],
      "source": [
        "from pyrecdp.LLM import TextPipeline\n",
        "from pyrecdp.primitives.operations import *\n",
        "\n",
        "input_path = \"/content/test_data/\"\n",
        "output_path = \"TextPipeline_output\"\n",
        "pipeline = TextPipeline()\n",
        "ops = [\n",
        "    JsonlReader(input_path),\n",
        "    TextSpellCorrect(),\n",
        "    ParquetWriter(output_path)\n",
        "]\n",
        "pipeline.add_operations(ops)\n",
        "ret = pipeline.execute()\n",
        "del pipeline\n"
      ]
    },
    {
      "cell_type": "markdown",
      "source": [
        "### 3.2 View processed data"
      ],
      "metadata": {
        "id": "J5Lv3IZw0TNG"
      },
      "id": "J5Lv3IZw0TNG"
    },
    {
      "cell_type": "code",
      "source": [
        "import pandas as pd\n",
        "result_pd = pd.read_parquet(output_path)\n",
        "result_pd.head()"
      ],
      "metadata": {
        "id": "5wlprXy00gBf"
      },
      "id": "5wlprXy00gBf",
      "execution_count": null,
      "outputs": []
    }
  ],
  "metadata": {
    "colab": {
      "provenance": []
    },
    "kernelspec": {
      "display_name": "Python 3 (ipykernel)",
      "language": "python",
      "name": "python3"
    },
    "language_info": {
      "codemirror_mode": {
        "name": "ipython",
        "version": 3
      },
      "file_extension": ".py",
      "mimetype": "text/x-python",
      "name": "python",
      "nbconvert_exporter": "python",
      "pygments_lexer": "ipython3",
      "version": "3.10.12"
    }
  },
  "nbformat": 4,
  "nbformat_minor": 5
}