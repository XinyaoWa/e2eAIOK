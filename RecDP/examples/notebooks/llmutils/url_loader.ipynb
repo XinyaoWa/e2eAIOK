{
  "cells": [
    {
      "cell_type": "markdown",
      "id": "z_gVsK2fahsZ",
      "metadata": {
        "id": "z_gVsK2fahsZ"
      },
      "source": [
        "# RecDP LLM - UrlLoader\n",
        "\n",
        "\n",
        "UrlLoader can load all text from HTML webpages into a document format or process load all URLs under a root directory.\n",
        "\n",
        "\n",
        "\n"
      ]
    },
    {
      "cell_type": "markdown",
      "id": "lFH8BqLubYLI",
      "metadata": {
        "id": "lFH8BqLubYLI"
      },
      "source": [
        "# Get started"
      ]
    },
    {
      "cell_type": "markdown",
      "id": "n35FAQmcbdY_",
      "metadata": {
        "id": "n35FAQmcbdY_"
      },
      "source": [
        "## 1. Install pyrecdp and dependencies"
      ]
    },
    {
      "cell_type": "code",
      "execution_count": null,
      "id": "wzlH_Ms3bnGM",
      "metadata": {
        "id": "wzlH_Ms3bnGM"
      },
      "outputs": [],
      "source": [
        "! DEBIAN_FRONTEND=noninteractive apt-get install -y openjdk-8-jre\n",
        "! pip install pyrecdp --pre\n",
        "# ! pip install 'git+https://github.com/intel/e2eAIOK.git#egg=pyrecdp&subdirectory=RecDP'"
      ]
    },
    {
      "cell_type": "markdown",
      "id": "LHPfbKs7be8l",
      "metadata": {
        "id": "LHPfbKs7be8l"
      },
      "source": [
        "## 2. Usage"
      ]
    },
    {
      "cell_type": "markdown",
      "source": [
        "### 2.1 Use UrlLoader to load a list of urls.\n",
        "\n"
      ],
      "metadata": {
        "id": "5EaDIIzQ0YiG"
      },
      "id": "5EaDIIzQ0YiG"
    },
    {
      "cell_type": "code",
      "execution_count": null,
      "id": "736fb211-dbe6-4ca9-a1b1-db2cff2d287a",
      "metadata": {
        "id": "736fb211-dbe6-4ca9-a1b1-db2cff2d287a"
      },
      "outputs": [],
      "source": [
        "from pyrecdp.LLM import TextPipeline\n",
        "from pyrecdp.primitives.operations import *\n",
        "\n",
        "urls = ['https://app.cnvrg.io/docs/',\n",
        "        'https://app.cnvrg.io/docs/core_concepts/python_sdk_v2.html',\n",
        "        'https://app.cnvrg.io/docs/cli_v2/cnvrgv2_cli.html',\n",
        "        'https://app.cnvrg.io/docs/collections/tutorials.html']\n",
        "\n",
        "loader = UrlLoader(urls=url)\n",
        "ds = loader.process_rayds()\n",
        "for row in ds.iter_rows():\n",
        "    print(row['text'])\n"
      ]
    },
    {
      "cell_type": "markdown",
      "source": [
        "### 2.2 Use UrlLoader to load a list of urls recursively ."
      ],
      "metadata": {
        "id": "J5Lv3IZw0TNG"
      },
      "id": "J5Lv3IZw0TNG"
    },
    {
      "cell_type": "code",
      "source": [
        "loader = UrlLoader(urls=url, max_depth=2)\n",
        "ds = loader.process_rayds()\n",
        "for row in ds.iter_rows():\n",
        "    print(row['text'])"
      ],
      "metadata": {
        "id": "5wlprXy00gBf"
      },
      "id": "5wlprXy00gBf",
      "execution_count": null,
      "outputs": []
    },
    {
      "cell_type": "markdown",
      "source": [
        "### 2.3 Specify a function to extract the text of the document from the webpage for UrlLoader to load a list of urls"
      ],
      "metadata": {
        "id": "HB2wZVn77v5u"
      },
      "id": "HB2wZVn77v5u"
    },
    {
      "cell_type": "code",
      "source": [
        "loader = UrlLoader(urls=url, max_depth=2, extractor=lambda x: Soup(x, \"html.parser\").text)\n",
        "ds = loader.process_rayds()\n",
        "for row in ds.iter_rows():\n",
        "    print(row['text'])"
      ],
      "metadata": {
        "id": "ZN8rnxGR7wbo"
      },
      "id": "ZN8rnxGR7wbo",
      "execution_count": null,
      "outputs": []
    }
  ],
  "metadata": {
    "colab": {
      "provenance": []
    },
    "kernelspec": {
      "display_name": "Python 3 (ipykernel)",
      "language": "python",
      "name": "python3"
    },
    "language_info": {
      "codemirror_mode": {
        "name": "ipython",
        "version": 3
      },
      "file_extension": ".py",
      "mimetype": "text/x-python",
      "name": "python",
      "nbconvert_exporter": "python",
      "pygments_lexer": "ipython3",
      "version": "3.10.12"
    }
  },
  "nbformat": 4,
  "nbformat_minor": 5
}