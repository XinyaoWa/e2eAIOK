{
 "cells": [
  {
   "cell_type": "markdown",
   "id": "z_gVsK2fahsZ",
   "metadata": {
    "id": "z_gVsK2fahsZ"
   },
   "source": [
    "# RecDP LLM - RAG"
   ]
  },
  {
   "cell_type": "markdown",
   "id": "lFH8BqLubYLI",
   "metadata": {
    "id": "lFH8BqLubYLI"
   },
   "source": [
    "# Get started"
   ]
  },
  {
   "cell_type": "markdown",
   "id": "n35FAQmcbdY_",
   "metadata": {
    "id": "n35FAQmcbdY_"
   },
   "source": [
    "## 1. Install pyrecdp and dependencies"
   ]
  },
  {
   "cell_type": "code",
   "execution_count": null,
   "id": "wzlH_Ms3bnGM",
   "metadata": {
    "id": "wzlH_Ms3bnGM",
    "pycharm": {
     "is_executing": true
    }
   },
   "outputs": [],
   "source": [
    "! DEBIAN_FRONTEND=noninteractive apt-get install -y openjdk-8-jre\n",
    "! pip install -q pyrecdp --pre\n",
    "# ! pip install 'git+https://github.com/intel/e2eAIOK.git#egg=pyrecdp&subdirectory=RecDP'"
   ]
  },
  {
   "cell_type": "markdown",
   "id": "iIZVijQ7cG1N",
   "metadata": {
    "id": "iIZVijQ7cG1N"
   },
   "source": [
    "## 2. RAG Workflow"
   ]
  },
  {
   "cell_type": "markdown",
   "id": "90ce4efa",
   "metadata": {},
   "source": [
    "Setup and Run RAG Indexer Pipeline"
   ]
  },
  {
   "cell_type": "code",
   "execution_count": 2,
   "id": "736fb211-dbe6-4ca9-a1b1-db2cff2d287a",
   "metadata": {
    "colab": {
     "base_uri": "https://localhost:8080/",
     "height": 545
    },
    "id": "736fb211-dbe6-4ca9-a1b1-db2cff2d287a",
    "outputId": "5e26940b-d62b-406f-f7ae-293e1b88da83"
   },
   "outputs": [
    {
     "name": "stdout",
     "output_type": "stream",
     "text": [
      "\u001b[32m2023-12-19 16:55:34.829\u001b[0m | \u001b[1mINFO    \u001b[0m | \u001b[36mpyrecdp.core.import_utils\u001b[0m:\u001b[36mcheck_availability_and_install\u001b[0m:\u001b[36m47\u001b[0m - \u001b[1mcheck_availability_and_install ['bs4', 'langchain']\u001b[0m\n",
      "\u001b[32m2023-12-19 16:55:34.833\u001b[0m | \u001b[1mINFO    \u001b[0m | \u001b[36mpyrecdp.core.import_utils\u001b[0m:\u001b[36mcheck_availability_and_install\u001b[0m:\u001b[36m47\u001b[0m - \u001b[1mcheck_availability_and_install ['ftfy', 'selectolax']\u001b[0m\n",
      "\u001b[32m2023-12-19 16:55:34.836\u001b[0m | \u001b[1mINFO    \u001b[0m | \u001b[36mpyrecdp.core.import_utils\u001b[0m:\u001b[36mcheck_availability_and_install\u001b[0m:\u001b[36m47\u001b[0m - \u001b[1mcheck_availability_and_install ['langchain']\u001b[0m\n"
     ]
    },
    {
     "name": "stdout",
     "output_type": "stream",
     "text": [
      "\u001b[32m2023-12-19 16:55:34.894\u001b[0m | \u001b[1mINFO    \u001b[0m | \u001b[36mpyrecdp.core.import_utils\u001b[0m:\u001b[36mcheck_availability_and_install\u001b[0m:\u001b[36m47\u001b[0m - \u001b[1mcheck_availability_and_install ['bs4', 'langchain']\u001b[0m\n",
      "\u001b[32m2023-12-19 16:55:34.897\u001b[0m | \u001b[1mINFO    \u001b[0m | \u001b[36mpyrecdp.core.import_utils\u001b[0m:\u001b[36mcheck_availability_and_install\u001b[0m:\u001b[36m47\u001b[0m - \u001b[1mcheck_availability_and_install ['ftfy', 'selectolax']\u001b[0m\n",
      "\u001b[32m2023-12-19 16:55:34.900\u001b[0m | \u001b[1mINFO    \u001b[0m | \u001b[36mpyrecdp.core.import_utils\u001b[0m:\u001b[36mcheck_availability_and_install\u001b[0m:\u001b[36m47\u001b[0m - \u001b[1mcheck_availability_and_install ['langchain']\u001b[0m\n",
      "init ray\n",
      "execute with ray started ...\n"
     ]
    },
    {
     "name": "stderr",
     "output_type": "stream",
     "text": [
      "\u001b[2m\u001b[33m(raylet)\u001b[0m [2023-12-19 16:55:38,001 E 241023 241042] (raylet) file_system_monitor.cc:111: /tmp/ray/session_2023-12-19_16-52-05_854938_240267 is over 95% full, available space: 456495104; capacity: 422146228224. Object creation will fail if spilling is required.\n",
      "\u001b[2m\u001b[33m(raylet)\u001b[0m [2023-12-19 16:55:48,016 E 241023 241042] (raylet) file_system_monitor.cc:111: /tmp/ray/session_2023-12-19_16-52-05_854938_240267 is over 95% full, available space: 456441856; capacity: 422146228224. Object creation will fail if spilling is required.\n",
      "\u001b[2m\u001b[33m(raylet)\u001b[0m [2023-12-19 16:55:58,028 E 241023 241042] (raylet) file_system_monitor.cc:111: /tmp/ray/session_2023-12-19_16-52-05_854938_240267 is over 95% full, available space: 456417280; capacity: 422146228224. Object creation will fail if spilling is required.\n"
     ]
    },
    {
     "name": "stdout",
     "output_type": "stream",
     "text": [
      "\u001b[32m2023-12-19 16:56:00.001\u001b[0m | \u001b[1mINFO    \u001b[0m | \u001b[36mpyrecdp.core.import_utils\u001b[0m:\u001b[36mcheck_availability_and_install\u001b[0m:\u001b[36m47\u001b[0m - \u001b[1mcheck_availability_and_install ['farm-haystack', 'farm-haystack[elasticsearch7]']\u001b[0m\n"
     ]
    },
    {
     "name": "stderr",
     "output_type": "stream",
     "text": [
      "WARNING: pip is being invoked by an old script wrapper. This will fail in a future version of pip.\n",
      "Please see https://github.com/pypa/pip/issues/5599 for advice on fixing the underlying issue.\n",
      "To avoid this problem you can invoke Python with '-m pip' instead of running pip directly.\n"
     ]
    },
    {
     "data": {
      "text/html": [
       "<pre style=\"white-space:pre;overflow-x:auto;line-height:normal;font-family:Menlo,'DejaVu Sans Mono',consolas,'Courier New',monospace\"><span style=\"color: #808000; text-decoration-color: #808000\">WARNING: Running pip as the 'root' user can result in broken permissions and conflicting behaviour with the system package manager. It is recommended to use a virtual environment instead: https://pip.pypa.io/warnings/venv\n",
       "</span></pre>\n"
      ],
      "text/plain": [
       "\u001b[33mWARNING: Running pip as the 'root' user can result in broken permissions and conflicting behaviour with the system package manager. It is recommended to use a virtual environment instead: https://pip.pypa.io/warnings/venv\u001b[0m\u001b[33m\n",
       "\u001b[0m"
      ]
     },
     "metadata": {},
     "output_type": "display_data"
    },
    {
     "name": "stderr",
     "output_type": "stream",
     "text": [
      "\u001b[2m\u001b[33m(raylet)\u001b[0m [2023-12-19 16:56:08,042 E 241023 241042] (raylet) file_system_monitor.cc:111: /tmp/ray/session_2023-12-19_16-52-05_854938_240267 is over 95% full, available space: 456359936; capacity: 422146228224. Object creation will fail if spilling is required.\n",
      "WARNING: pip is being invoked by an old script wrapper. This will fail in a future version of pip.\n",
      "Please see https://github.com/pypa/pip/issues/5599 for advice on fixing the underlying issue.\n",
      "To avoid this problem you can invoke Python with '-m pip' instead of running pip directly.\n"
     ]
    },
    {
     "data": {
      "text/html": [
       "<pre style=\"white-space:pre;overflow-x:auto;line-height:normal;font-family:Menlo,'DejaVu Sans Mono',consolas,'Courier New',monospace\"><span style=\"color: #808000; text-decoration-color: #808000\">WARNING: Running pip as the 'root' user can result in broken permissions and conflicting behaviour with the system package manager. It is recommended to use a virtual environment instead: https://pip.pypa.io/warnings/venv\n",
       "</span></pre>\n"
      ],
      "text/plain": [
       "\u001b[33mWARNING: Running pip as the 'root' user can result in broken permissions and conflicting behaviour with the system package manager. It is recommended to use a virtual environment instead: https://pip.pypa.io/warnings/venv\u001b[0m\u001b[33m\n",
       "\u001b[0m"
      ]
     },
     "metadata": {},
     "output_type": "display_data"
    },
    {
     "name": "stderr",
     "output_type": "stream",
     "text": [
      "\u001b[2m\u001b[33m(raylet)\u001b[0m [2023-12-19 16:56:18,054 E 241023 241042] (raylet) file_system_monitor.cc:111: /tmp/ray/session_2023-12-19_16-52-05_854938_240267 is over 95% full, available space: 455839744; capacity: 422146228224. Object creation will fail if spilling is required.\n",
      "2023-12-19 16:56:21,436\tINFO streaming_executor.py:93 -- Executing DAG InputDataBuffer[Input] -> TaskPoolMapOperator[Map(<lambda>)->FlatMap(<lambda>)->Filter(<lambda>)->FlatMap(<lambda>)->MapBatches(<lambda>)]\n",
      "2023-12-19 16:56:21,438\tINFO streaming_executor.py:94 -- Execution config: ExecutionOptions(resource_limits=ExecutionResources(cpu=None, gpu=None, object_store_memory=None), locality_with_output=False, preserve_order=False, actor_locality_enabled=True, verbose_progress=False)\n",
      "2023-12-19 16:56:21,439\tINFO streaming_executor.py:96 -- Tip: For detailed progress reporting, run `ray.data.DataContext.get_current().execution_options.verbose_progress = True`\n"
     ]
    },
    {
     "data": {
      "application/vnd.jupyter.widget-view+json": {
       "model_id": "aaed7a3fc37b404198626b3247b75137",
       "version_major": 2,
       "version_minor": 0
      },
      "text/plain": [
       "Running 0:   0%|          | 0/20 [00:00<?, ?it/s]"
      ]
     },
     "metadata": {},
     "output_type": "display_data"
    },
    {
     "name": "stderr",
     "output_type": "stream",
     "text": [
      "/root/miniforge3/envs/recdp/lib/python3.10/site-packages/elasticsearch/connection/base.py:200: ElasticsearchWarning: Elasticsearch built-in security features are not enabled. Without authentication, your cluster could be accessible to anyone. See https://www.elastic.co/guide/en/elasticsearch/reference/7.17/security-minimal-setup.html to enable security.\n",
      "  warnings.warn(message, category=ElasticsearchWarning)\n",
      "2023-12-19 16:56:26,361\tINFO streaming_executor.py:93 -- Executing DAG InputDataBuffer[Input] -> TaskPoolMapOperator[Map(<lambda>)->FlatMap(<lambda>)->Filter(<lambda>)->FlatMap(<lambda>)]\n",
      "2023-12-19 16:56:26,363\tINFO streaming_executor.py:94 -- Execution config: ExecutionOptions(resource_limits=ExecutionResources(cpu=None, gpu=None, object_store_memory=None), locality_with_output=False, preserve_order=False, actor_locality_enabled=True, verbose_progress=False)\n",
      "2023-12-19 16:56:26,366\tINFO streaming_executor.py:96 -- Tip: For detailed progress reporting, run `ray.data.DataContext.get_current().execution_options.verbose_progress = True`\n"
     ]
    },
    {
     "data": {
      "application/vnd.jupyter.widget-view+json": {
       "model_id": "a9b523831f6c4c5fa0d23db8e5fb3f7b",
       "version_major": 2,
       "version_minor": 0
      },
      "text/plain": [
       "Running 0:   0%|          | 0/20 [00:00<?, ?it/s]"
      ]
     },
     "metadata": {},
     "output_type": "display_data"
    },
    {
     "name": "stdout",
     "output_type": "stream",
     "text": [
      "execute with ray took 51.880861999467015 sec\n"
     ]
    },
    {
     "data": {
      "text/html": [
       "<div>\n",
       "<style scoped>\n",
       "    .dataframe tbody tr th:only-of-type {\n",
       "        vertical-align: middle;\n",
       "    }\n",
       "\n",
       "    .dataframe tbody tr th {\n",
       "        vertical-align: top;\n",
       "    }\n",
       "\n",
       "    .dataframe thead th {\n",
       "        text-align: right;\n",
       "    }\n",
       "</style>\n",
       "<table border=\"1\" class=\"dataframe\">\n",
       "  <thead>\n",
       "    <tr style=\"text-align: right;\">\n",
       "      <th></th>\n",
       "      <th>text</th>\n",
       "      <th>metadata</th>\n",
       "    </tr>\n",
       "  </thead>\n",
       "  <tbody>\n",
       "    <tr>\n",
       "      <th>0</th>\n",
       "      <td>Welcome to cnvrg.io cnvrg.io is a machine lear...</td>\n",
       "      <td>{'description': 'Documentation website for cnv...</td>\n",
       "    </tr>\n",
       "    <tr>\n",
       "      <th>1</th>\n",
       "      <td>Dataset Use Datasets to manage data with versi...</td>\n",
       "      <td>{'description': 'Documentation website for cnv...</td>\n",
       "    </tr>\n",
       "    <tr>\n",
       "      <th>2</th>\n",
       "      <td>Use Papers to consolidate comparison across ex...</td>\n",
       "      <td>{'description': 'Documentation website for cnv...</td>\n",
       "    </tr>\n",
       "    <tr>\n",
       "      <th>3</th>\n",
       "      <td>Resource Management With our Dashboard, get a ...</td>\n",
       "      <td>{'description': 'Documentation website for cnv...</td>\n",
       "    </tr>\n",
       "    <tr>\n",
       "      <th>4</th>\n",
       "      <td>AI Library Continual learning and building mac...</td>\n",
       "      <td>{'description': 'Documentation website for cnv...</td>\n",
       "    </tr>\n",
       "    <tr>\n",
       "      <th>...</th>\n",
       "      <td>...</td>\n",
       "      <td>...</td>\n",
       "    </tr>\n",
       "    <tr>\n",
       "      <th>900</th>\n",
       "      <td>Delete a registry To delete a registry from th...</td>\n",
       "      <td>{'description': 'Documentation website for cnv...</td>\n",
       "    </tr>\n",
       "    <tr>\n",
       "      <th>901</th>\n",
       "      <td>Create an image To create an image, use the fo...</td>\n",
       "      <td>{'description': 'Documentation website for cnv...</td>\n",
       "    </tr>\n",
       "    <tr>\n",
       "      <th>902</th>\n",
       "      <td>Get an image To retrieve information about an ...</td>\n",
       "      <td>{'description': 'Documentation website for cnv...</td>\n",
       "    </tr>\n",
       "    <tr>\n",
       "      <th>903</th>\n",
       "      <td>when reffering to an image built from dockerfi...</td>\n",
       "      <td>{'description': 'Documentation website for cnv...</td>\n",
       "    </tr>\n",
       "    <tr>\n",
       "      <th>904</th>\n",
       "      <td>Delete an image To delete an image using its n...</td>\n",
       "      <td>{'description': 'Documentation website for cnv...</td>\n",
       "    </tr>\n",
       "  </tbody>\n",
       "</table>\n",
       "<p>905 rows × 2 columns</p>\n",
       "</div>"
      ],
      "text/plain": [
       "                                                  text  \\\n",
       "0    Welcome to cnvrg.io cnvrg.io is a machine lear...   \n",
       "1    Dataset Use Datasets to manage data with versi...   \n",
       "2    Use Papers to consolidate comparison across ex...   \n",
       "3    Resource Management With our Dashboard, get a ...   \n",
       "4    AI Library Continual learning and building mac...   \n",
       "..                                                 ...   \n",
       "900  Delete a registry To delete a registry from th...   \n",
       "901  Create an image To create an image, use the fo...   \n",
       "902  Get an image To retrieve information about an ...   \n",
       "903  when reffering to an image built from dockerfi...   \n",
       "904  Delete an image To delete an image using its n...   \n",
       "\n",
       "                                              metadata  \n",
       "0    {'description': 'Documentation website for cnv...  \n",
       "1    {'description': 'Documentation website for cnv...  \n",
       "2    {'description': 'Documentation website for cnv...  \n",
       "3    {'description': 'Documentation website for cnv...  \n",
       "4    {'description': 'Documentation website for cnv...  \n",
       "..                                                 ...  \n",
       "900  {'description': 'Documentation website for cnv...  \n",
       "901  {'description': 'Documentation website for cnv...  \n",
       "902  {'description': 'Documentation website for cnv...  \n",
       "903  {'description': 'Documentation website for cnv...  \n",
       "904  {'description': 'Documentation website for cnv...  \n",
       "\n",
       "[905 rows x 2 columns]"
      ]
     },
     "metadata": {},
     "output_type": "display_data"
    },
    {
     "name": "stderr",
     "output_type": "stream",
     "text": [
      "\u001b[2m\u001b[33m(raylet)\u001b[0m [2023-12-19 16:56:28,069 E 241023 241042] (raylet) file_system_monitor.cc:111: /tmp/ray/session_2023-12-19_16-52-05_854938_240267 is over 95% full, available space: 454561792; capacity: 422146228224. Object creation will fail if spilling is required.\n",
      "\u001b[2m\u001b[33m(raylet)\u001b[0m [2023-12-19 16:56:38,082 E 241023 241042] (raylet) file_system_monitor.cc:111: /tmp/ray/session_2023-12-19_16-52-05_854938_240267 is over 95% full, available space: 454459392; capacity: 422146228224. Object creation will fail if spilling is required.\n",
      "\u001b[2m\u001b[33m(raylet)\u001b[0m [2023-12-19 16:56:48,096 E 241023 241042] (raylet) file_system_monitor.cc:111: /tmp/ray/session_2023-12-19_16-52-05_854938_240267 is over 95% full, available space: 454348800; capacity: 422146228224. Object creation will fail if spilling is required.\n",
      "\u001b[2m\u001b[33m(raylet)\u001b[0m [2023-12-19 16:56:58,109 E 241023 241042] (raylet) file_system_monitor.cc:111: /tmp/ray/session_2023-12-19_16-52-05_854938_240267 is over 95% full, available space: 454307840; capacity: 422146228224. Object creation will fail if spilling is required.\n",
      "\u001b[2m\u001b[33m(raylet)\u001b[0m [2023-12-19 16:57:08,122 E 241023 241042] (raylet) file_system_monitor.cc:111: /tmp/ray/session_2023-12-19_16-52-05_854938_240267 is over 95% full, available space: 454258688; capacity: 422146228224. Object creation will fail if spilling is required.\n",
      "\u001b[2m\u001b[33m(raylet)\u001b[0m [2023-12-19 16:57:18,135 E 241023 241042] (raylet) file_system_monitor.cc:111: /tmp/ray/session_2023-12-19_16-52-05_854938_240267 is over 95% full, available space: 454017024; capacity: 422146228224. Object creation will fail if spilling is required.\n",
      "\u001b[2m\u001b[33m(raylet)\u001b[0m [2023-12-19 16:57:28,149 E 241023 241042] (raylet) file_system_monitor.cc:111: /tmp/ray/session_2023-12-19_16-52-05_854938_240267 is over 95% full, available space: 453988352; capacity: 422146228224. Object creation will fail if spilling is required.\n"
     ]
    }
   ],
   "source": [
    "from pyrecdp.primitives.operations import RecursiveUrlLoader,RAGTextFix,CustomerDocumentSplit,TextCustomerFilter,DocumentIngestion\n",
    "from pyrecdp.LLM import TextPipeline\n",
    "import os\n",
    "\n",
    "urls = ['https://app.cnvrg.io/docs/', \n",
    "        'https://app.cnvrg.io/docs/core_concepts/python_sdk_v2.html',\n",
    "        'https://app.cnvrg.io/docs/cli_v2/cnvrgv2_cli.html',\n",
    "        'https://app.cnvrg.io/docs/collections/tutorials.html']\n",
    "\n",
    "def custom_filter(text):\n",
    "    from nltk.tokenize import word_tokenize\n",
    "    ret_txt = None\n",
    "    if len(word_tokenize(text)) >10:\n",
    "        if text.split(' ')[0].lower()!='version':\n",
    "            ret_txt = text\n",
    "    return ret_txt != None\n",
    "\n",
    "def chunk_doc(text,max_num_of_words):\n",
    "    from nltk.tokenize import word_tokenize,sent_tokenize\n",
    "    text= text.strip()\n",
    "    if len(word_tokenize(text)) <= max_num_of_words:\n",
    "        return [text]\n",
    "    else:\n",
    "        chunks = []\n",
    "        # split by sentence\n",
    "        sentences = sent_tokenize(text)\n",
    "        # print('number of sentences: ', len(sentences))\n",
    "        words_count = 0\n",
    "        temp_chunk = \"\"\n",
    "        for s in sentences:\n",
    "            temp_chunk+=(s+\" \")\n",
    "            words_count += len(word_tokenize(s))\n",
    "            if len(word_tokenize(temp_chunk))> max_num_of_words:\n",
    "                chunks.append(temp_chunk)\n",
    "                words_count = 0\n",
    "                temp_chunk = \"\"\n",
    "                \n",
    "        return chunks\n",
    "\n",
    "pipeline = TextPipeline()\n",
    "ops = [\n",
    "    RecursiveUrlLoader(urls, max_depth=2),\n",
    "    RAGTextFix(str_to_replace={'\\n###': '', '\\n##': '', '\\n#': ''}, remove_extra_whitespace=True),\n",
    "    CustomerDocumentSplit(func=lambda text: text.split('# ')[1:]),\n",
    "    TextCustomerFilter(custom_filter),\n",
    "    CustomerDocumentSplit(func=chunk_doc, max_num_of_words=50),\n",
    "    DocumentIngestion(\n",
    "        rag_framework='haystack',\n",
    "        vector_store='elasticsearch',\n",
    "        vector_store_args={'host': 'localhost', 'port': 9200}\n",
    "    )\n",
    "]\n",
    "pipeline.add_operations(ops)\n",
    "ds = pipeline.execute()\n",
    "display(ds.to_pandas())\n"
   ]
  }
 ],
 "metadata": {
  "colab": {
   "provenance": []
  },
  "kernelspec": {
   "display_name": "Python 3 (ipykernel)",
   "language": "python",
   "name": "python3"
  },
  "language_info": {
   "codemirror_mode": {
    "name": "ipython",
    "version": 3
   },
   "file_extension": ".py",
   "mimetype": "text/x-python",
   "name": "python",
   "nbconvert_exporter": "python",
   "pygments_lexer": "ipython3",
   "version": "3.10.12"
  }
 },
 "nbformat": 4,
 "nbformat_minor": 5
}
