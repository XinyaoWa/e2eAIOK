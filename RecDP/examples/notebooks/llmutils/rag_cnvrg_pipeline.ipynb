{
 "cells": [
  {
   "cell_type": "markdown",
   "id": "z_gVsK2fahsZ",
   "metadata": {
    "id": "z_gVsK2fahsZ"
   },
   "source": [
    "# RecDP LLM - RAG"
   ]
  },
  {
   "cell_type": "markdown",
   "id": "lFH8BqLubYLI",
   "metadata": {
    "id": "lFH8BqLubYLI"
   },
   "source": [
    "# Get started"
   ]
  },
  {
   "cell_type": "markdown",
   "id": "n35FAQmcbdY_",
   "metadata": {
    "id": "n35FAQmcbdY_"
   },
   "source": [
    "## 1. Install pyrecdp and dependencies"
   ]
  },
  {
   "cell_type": "code",
   "execution_count": null,
   "id": "wzlH_Ms3bnGM",
   "metadata": {
    "id": "wzlH_Ms3bnGM",
    "pycharm": {
     "is_executing": true
    }
   },
   "outputs": [],
   "source": [
    "! DEBIAN_FRONTEND=noninteractive apt-get install -y openjdk-8-jre\n",
    "! pip install /work/e2eAIOK/RecDP\n",
    "# ! pip install 'git+https://github.com/intel/e2eAIOK.git#egg=pyrecdp&subdirectory=RecDP'"
   ]
  },
  {
   "cell_type": "markdown",
   "id": "iIZVijQ7cG1N",
   "metadata": {
    "id": "iIZVijQ7cG1N"
   },
   "source": [
    "## 2. RAG Workflow"
   ]
  },
  {
   "cell_type": "markdown",
   "metadata": {},
   "source": [
    "### Step 1. Setup RAG Indexer Pipeline"
   ]
  },
  {
   "cell_type": "code",
   "execution_count": null,
   "id": "736fb211-dbe6-4ca9-a1b1-db2cff2d287a",
   "metadata": {
    "colab": {
     "base_uri": "https://localhost:8080/",
     "height": 545
    },
    "id": "736fb211-dbe6-4ca9-a1b1-db2cff2d287a",
    "outputId": "5e26940b-d62b-406f-f7ae-293e1b88da83",
    "pycharm": {
     "is_executing": true
    }
   },
   "outputs": [],
   "source": [
    "from pyrecdp.primitives.operations import *\n",
    "from pyrecdp.LLM import TextPipeline\n",
    "import os\n",
    "\n",
    "urls = ['https://app.cnvrg.io/docs/', \n",
    "        'https://app.cnvrg.io/docs/core_concepts/python_sdk_v2.html',\n",
    "        'https://app.cnvrg.io/docs/cli_v2/cnvrgv2_cli.html',\n",
    "        'https://app.cnvrg.io/docs/collections/tutorials.html']\n",
    "\n",
    "def custom_filter(text):\n",
    "    from nltk.tokenize import word_tokenize\n",
    "    ret_txt = None\n",
    "    if len(word_tokenize(text)) >10:\n",
    "        if text.split(' ')[0].lower()!='version':\n",
    "            ret_txt = text\n",
    "    return ret_txt != None\n",
    "\n",
    "def chunk_doc(text):\n",
    "    max_num_of_words=50\n",
    "    from nltk.tokenize import word_tokenize,sent_tokenize\n",
    "    text= text.strip()\n",
    "    if len(word_tokenize(text)) <= max_num_of_words:\n",
    "        return [text]\n",
    "    else:\n",
    "        chunks = []\n",
    "        # split by sentence\n",
    "        sentences = sent_tokenize(text)\n",
    "        # print('number of sentences: ', len(sentences))\n",
    "        words_count = 0\n",
    "        temp_chunk = \"\"\n",
    "        for s in sentences:\n",
    "            temp_chunk+=(s+\" \")\n",
    "            words_count += len(word_tokenize(s))\n",
    "            if len(word_tokenize(temp_chunk))> max_num_of_words:\n",
    "                chunks.append(temp_chunk)\n",
    "                words_count = 0\n",
    "                temp_chunk = \"\"\n",
    "                \n",
    "        return chunks\n",
    "\n",
    "parquet_file=\"/content/test/parquet\"\n",
    "pipeline = TextPipeline()\n",
    "ops = [\n",
    "    DocumentLoader(loader='UnstructuredURLLoader', loader_args={'urls': urls}),\n",
    "    RAGTextFix(str_to_replace={'\\n###': '', '\\n##': '', '\\n#': ''}, remove_extra_whitespace=True),\n",
    "    CustomerDocumentSplit(func=lambda text: text.split('# ')[1:]),\n",
    "    TextCustomerFilter(custom_filter),\n",
    "    CustomerDocumentSplit(func=chunk_doc),\n",
    "    DocumentIngestion(\n",
    "        rag_framework='haystack',\n",
    "        vector_store='elasticsearch',\n",
    "        embeddings=None,\n",
    "        vector_store_args={'host': 'localhost', 'port': 9200}\n",
    "    )\n",
    "]\n",
    "pipeline.add_operations(ops)\n"
   ]
  },
  {
   "cell_type": "markdown",
   "id": "7f53fe2a",
   "metadata": {},
   "source": [
    "### Step 2. Run RAG Indexer Pipeline"
   ]
  },
  {
   "cell_type": "code",
   "execution_count": 2,
   "id": "90e6e67b",
   "metadata": {},
   "outputs": [
    {
     "name": "stdout",
     "output_type": "stream",
     "text": [
      "\u001B[32m2023-12-12 21:52:00.129\u001B[0m | \u001B[1mINFO    \u001B[0m | \u001B[36mpyrecdp.core.import_utils\u001B[0m:\u001B[36mcheck_availability_and_install\u001B[0m:\u001B[36m45\u001B[0m - \u001B[1mcheck_availability_and_install ['ftfy', 'selectolax']\u001B[0m\n",
      "\u001B[32m2023-12-12 21:52:00.131\u001B[0m | \u001B[1mINFO    \u001B[0m | \u001B[36mpyrecdp.core.import_utils\u001B[0m:\u001B[36mcheck_availability_and_install\u001B[0m:\u001B[36m45\u001B[0m - \u001B[1mcheck_availability_and_install ['langchain']\u001B[0m\n"
     ]
    },
    {
     "name": "stdout",
     "output_type": "stream",
     "text": [
      "init ray\n",
      "init ray with total mem of 324413575987, total core of 48\n"
     ]
    },
    {
     "name": "stderr",
     "output_type": "stream",
     "text": [
      "2023-12-12 21:52:03,943\tINFO worker.py:1642 -- Started a local Ray instance.\n"
     ]
    },
    {
     "name": "stdout",
     "output_type": "stream",
     "text": [
      "execute with ray started ...\n",
      "\u001B[32m2023-12-12 21:52:25.937\u001B[0m | \u001B[1mINFO    \u001B[0m | \u001B[36mpyrecdp.core.import_utils\u001B[0m:\u001B[36mcheck_availability_and_install\u001B[0m:\u001B[36m50\u001B[0m - \u001B[1mcheck_availability_and_install nltk\u001B[0m\n",
      "\u001B[32m2023-12-12 21:52:25.940\u001B[0m | \u001B[1mINFO    \u001B[0m | \u001B[36mpyrecdp.core.model_utils\u001B[0m:\u001B[36mprepare_nltk_model\u001B[0m:\u001B[36m164\u001B[0m - \u001B[1mLoading nltk punkt split model...\u001B[0m\n",
      "\u001B[32m2023-12-12 21:52:25.954\u001B[0m | \u001B[1mINFO    \u001B[0m | \u001B[36mpyrecdp.core.import_utils\u001B[0m:\u001B[36mcheck_availability_and_install\u001B[0m:\u001B[36m45\u001B[0m - \u001B[1mcheck_availability_and_install ['farm-haystack', 'farm-haystack[elasticsearch7]']\u001B[0m\n"
     ]
    },
    {
     "name": "stderr",
     "output_type": "stream",
     "text": [
      "WARNING: pip is being invoked by an old script wrapper. This will fail in a future version of pip.\n",
      "Please see https://github.com/pypa/pip/issues/5599 for advice on fixing the underlying issue.\n",
      "To avoid this problem you can invoke Python with '-m pip' instead of running pip directly.\n"
     ]
    },
    {
     "data": {
      "text/html": [
       "<pre style=\"white-space:pre;overflow-x:auto;line-height:normal;font-family:Menlo,'DejaVu Sans Mono',consolas,'Courier New',monospace\"><span style=\"color: #808000; text-decoration-color: #808000\">WARNING: Running pip as the 'root' user can result in broken permissions and conflicting behaviour with the system package manager. It is recommended to use a virtual environment instead: https://pip.pypa.io/warnings/venv\n",
       "</span></pre>\n"
      ],
      "text/plain": [
       "\u001B[33mWARNING: Running pip as the 'root' user can result in broken permissions and conflicting behaviour with the system package manager. It is recommended to use a virtual environment instead: https://pip.pypa.io/warnings/venv\u001B[0m\u001B[33m\n",
       "\u001B[0m"
      ]
     },
     "metadata": {},
     "output_type": "display_data"
    },
    {
     "name": "stderr",
     "output_type": "stream",
     "text": [
      "WARNING: pip is being invoked by an old script wrapper. This will fail in a future version of pip.\n",
      "Please see https://github.com/pypa/pip/issues/5599 for advice on fixing the underlying issue.\n",
      "To avoid this problem you can invoke Python with '-m pip' instead of running pip directly.\n"
     ]
    },
    {
     "data": {
      "text/html": [
       "<pre style=\"white-space:pre;overflow-x:auto;line-height:normal;font-family:Menlo,'DejaVu Sans Mono',consolas,'Courier New',monospace\"><span style=\"color: #808000; text-decoration-color: #808000\">WARNING: Running pip as the 'root' user can result in broken permissions and conflicting behaviour with the system package manager. It is recommended to use a virtual environment instead: https://pip.pypa.io/warnings/venv\n",
       "</span></pre>\n"
      ],
      "text/plain": [
       "\u001B[33mWARNING: Running pip as the 'root' user can result in broken permissions and conflicting behaviour with the system package manager. It is recommended to use a virtual environment instead: https://pip.pypa.io/warnings/venv\u001B[0m\u001B[33m\n",
       "\u001B[0m"
      ]
     },
     "metadata": {},
     "output_type": "display_data"
    },
    {
     "name": "stderr",
     "output_type": "stream",
     "text": [
      "/root/miniforge3/envs/recdp/lib/python3.10/site-packages/elasticsearch/connection/base.py:200: ElasticsearchWarning: Elasticsearch built-in security features are not enabled. Without authentication, your cluster could be accessible to anyone. See https://www.elastic.co/guide/en/elasticsearch/reference/7.17/security-minimal-setup.html to enable security.\n",
      "  warnings.warn(message, category=ElasticsearchWarning)\n",
      "2023-12-12 21:52:41,235\tINFO streaming_executor.py:93 -- Executing DAG InputDataBuffer[Input] -> TaskPoolMapOperator[Map(<lambda>)->FlatMap(<lambda>)->Filter(<lambda>)->FlatMap(<lambda>)]\n",
      "2023-12-12 21:52:41,237\tINFO streaming_executor.py:94 -- Execution config: ExecutionOptions(resource_limits=ExecutionResources(cpu=None, gpu=None, object_store_memory=None), locality_with_output=False, preserve_order=False, actor_locality_enabled=True, verbose_progress=False)\n",
      "2023-12-12 21:52:41,239\tINFO streaming_executor.py:96 -- Tip: For detailed progress reporting, run `ray.data.DataContext.get_current().execution_options.verbose_progress = True`\n"
     ]
    },
    {
     "data": {
      "application/vnd.jupyter.widget-view+json": {
       "model_id": "339be4aa26b1480fb96ade16976a1d27",
       "version_major": 2,
       "version_minor": 0
      },
      "text/plain": [
       "Running 0:   0%|          | 0/4 [00:00<?, ?it/s]"
      ]
     },
     "metadata": {},
     "output_type": "display_data"
    },
    {
     "name": "stderr",
     "output_type": "stream",
     "text": [
      "\u001B[2m\u001B[36m(Map(<lambda>)->FlatMap(<lambda>)->Filter(<lambda>)->FlatMap(<lambda>) pid=752835)\u001B[0m /root/miniforge3/envs/recdp/lib/python3.10/site-packages/_distutils_hack/__init__.py:33: UserWarning: Setuptools is replacing distutils.\n",
      "\u001B[2m\u001B[36m(Map(<lambda>)->FlatMap(<lambda>)->Filter(<lambda>)->FlatMap(<lambda>) pid=752835)\u001B[0m   warnings.warn(\"Setuptools is replacing distutils.\")\n",
      "\u001B[2m\u001B[36m(Map(<lambda>)->FlatMap(<lambda>)->Filter(<lambda>)->FlatMap(<lambda>) pid=752838)\u001B[0m 2023-12-12 21:52:43.205 | INFO     | pyrecdp.core.import_utils:check_availability_and_install:50 - check_availability_and_install emoji==2.2.0\n"
     ]
    },
    {
     "name": "stdout",
     "output_type": "stream",
     "text": [
      "execute with ray took 40.127191949635744 sec\n"
     ]
    },
    {
     "ename": "RayTaskError(TypeError)",
     "evalue": "\u001B[36mray::Map(<lambda>)->FlatMap(<lambda>)->Filter(<lambda>)->FlatMap(<lambda>)()\u001B[39m (pid=752835, ip=10.0.0.137)\n  File \"/root/miniforge3/envs/recdp/lib/python3.10/site-packages/ray/data/_internal/execution/operators/map_operator.py\", line 405, in _map_task\n    for b_out in map_transformer.apply_transform(iter(blocks), ctx):\n  File \"/root/miniforge3/envs/recdp/lib/python3.10/site-packages/ray/data/_internal/execution/operators/map_transformer.py\", line 345, in __call__\n    for data in iter:\n  File \"/root/miniforge3/envs/recdp/lib/python3.10/site-packages/ray/data/_internal/execution/operators/map_transformer.py\", line 171, in __call__\n    yield from self._row_fn(input, ctx)\n  File \"/root/miniforge3/envs/recdp/lib/python3.10/site-packages/ray/data/_internal/planner/plan_udf_map_op.py\", line 244, in transform_fn\n    for row in rows:\n  File \"/root/miniforge3/envs/recdp/lib/python3.10/site-packages/ray/data/_internal/execution/operators/map_transformer.py\", line 223, in __call__\n    for block in blocks:\n  File \"/root/miniforge3/envs/recdp/lib/python3.10/site-packages/ray/data/_internal/execution/operators/map_transformer.py\", line 345, in __call__\n    for data in iter:\n  File \"/root/miniforge3/envs/recdp/lib/python3.10/site-packages/ray/data/_internal/execution/operators/map_transformer.py\", line 171, in __call__\n    yield from self._row_fn(input, ctx)\n  File \"/root/miniforge3/envs/recdp/lib/python3.10/site-packages/ray/data/_internal/planner/plan_udf_map_op.py\", line 256, in transform_fn\n    for row in rows:\n  File \"/root/miniforge3/envs/recdp/lib/python3.10/site-packages/ray/data/_internal/execution/operators/map_transformer.py\", line 223, in __call__\n    for block in blocks:\n  File \"/root/miniforge3/envs/recdp/lib/python3.10/site-packages/ray/data/_internal/execution/operators/map_transformer.py\", line 345, in __call__\n    for data in iter:\n  File \"/root/miniforge3/envs/recdp/lib/python3.10/site-packages/ray/data/_internal/execution/operators/map_transformer.py\", line 171, in __call__\n    yield from self._row_fn(input, ctx)\n  File \"/root/miniforge3/envs/recdp/lib/python3.10/site-packages/ray/data/_internal/planner/plan_udf_map_op.py\", line 245, in transform_fn\n    for out_row in fn(row):\n  File \"/root/miniforge3/envs/recdp/lib/python3.10/site-packages/ray/data/_internal/planner/plan_udf_map_op.py\", line 119, in fn\n    return op_fn(item, *fn_args, **fn_kwargs)\n  File \"/root/miniforge3/envs/recdp/lib/python3.10/site-packages/pyrecdp/primitives/operations/text_split.py\", line 69, in <lambda>\n    return ds.flat_map(lambda sample: split_text(sample, self.text_split_func))\n  File \"/root/miniforge3/envs/recdp/lib/python3.10/site-packages/pyrecdp/primitives/operations/text_split.py\", line 63, in split_text\n    for text in text_split_func(sample[self.text_key]):\n  File \"/root/miniforge3/envs/recdp/lib/python3.10/site-packages/pyrecdp/primitives/operations/text_split.py\", line 296, in process\n    return self.split_func(text, **self.func_kwargs)\nTypeError: 'str' object is not callable",
     "output_type": "error",
     "traceback": [
      "\u001B[0;31m---------------------------------------------------------------------------\u001B[0m",
      "\u001B[0;31mObjectRefStreamEndOfStreamError\u001B[0m           Traceback (most recent call last)",
      "File \u001B[0;32mpython/ray/_raylet.pyx:345\u001B[0m, in \u001B[0;36mray._raylet.StreamingObjectRefGenerator._next_sync\u001B[0;34m()\u001B[0m\n",
      "File \u001B[0;32mpython/ray/_raylet.pyx:4533\u001B[0m, in \u001B[0;36mray._raylet.CoreWorker.try_read_next_object_ref_stream\u001B[0;34m()\u001B[0m\n",
      "File \u001B[0;32mpython/ray/_raylet.pyx:443\u001B[0m, in \u001B[0;36mray._raylet.check_status\u001B[0;34m()\u001B[0m\n",
      "\u001B[0;31mObjectRefStreamEndOfStreamError\u001B[0m: ",
      "\nDuring handling of the above exception, another exception occurred:\n",
      "\u001B[0;31mStopIteration\u001B[0m                             Traceback (most recent call last)",
      "File \u001B[0;32m~/miniforge3/envs/recdp/lib/python3.10/site-packages/ray/data/_internal/execution/interfaces/physical_operator.py:80\u001B[0m, in \u001B[0;36mDataOpTask.on_waitable_ready\u001B[0;34m(self)\u001B[0m\n\u001B[1;32m     79\u001B[0m \u001B[39mtry\u001B[39;00m:\n\u001B[0;32m---> 80\u001B[0m     meta \u001B[39m=\u001B[39m ray\u001B[39m.\u001B[39mget(\u001B[39mnext\u001B[39;49m(\u001B[39mself\u001B[39;49m\u001B[39m.\u001B[39;49m_streaming_gen))\n\u001B[1;32m     81\u001B[0m \u001B[39mexcept\u001B[39;00m \u001B[39mStopIteration\u001B[39;00m:\n\u001B[1;32m     82\u001B[0m     \u001B[39m# The generator should always yield 2 values (block and metadata)\u001B[39;00m\n\u001B[1;32m     83\u001B[0m     \u001B[39m# each time. If we get a StopIteration here, it means an error\u001B[39;00m\n\u001B[0;32m   (...)\u001B[0m\n\u001B[1;32m     86\u001B[0m     \u001B[39m# TODO(hchen): Ray Core should have a better interface for\u001B[39;00m\n\u001B[1;32m     87\u001B[0m     \u001B[39m# detecting and obtaining the exception.\u001B[39;00m\n",
      "File \u001B[0;32mpython/ray/_raylet.pyx:300\u001B[0m, in \u001B[0;36mray._raylet.StreamingObjectRefGenerator.__next__\u001B[0;34m()\u001B[0m\n",
      "File \u001B[0;32mpython/ray/_raylet.pyx:351\u001B[0m, in \u001B[0;36mray._raylet.StreamingObjectRefGenerator._next_sync\u001B[0;34m()\u001B[0m\n",
      "\u001B[0;31mStopIteration\u001B[0m: ",
      "\nDuring handling of the above exception, another exception occurred:\n",
      "\u001B[0;31mRayTaskError(TypeError)\u001B[0m                   Traceback (most recent call last)",
      "\u001B[1;32m/work/e2eAIOK/RecDP/examples/notebooks/llmutils/rag_cnvrg_pipeline.ipynb Cell 9\u001B[0m line \u001B[0;36m1\n\u001B[0;32m----> <a href='vscode-notebook-cell://ssh-remote%2B137/work/e2eAIOK/RecDP/examples/notebooks/llmutils/rag_cnvrg_pipeline.ipynb#X12sdnNjb2RlLXJlbW90ZQ%3D%3D?line=0'>1</a>\u001B[0m ds \u001B[39m=\u001B[39m pipeline\u001B[39m.\u001B[39;49mexecute()\n\u001B[1;32m      <a href='vscode-notebook-cell://ssh-remote%2B137/work/e2eAIOK/RecDP/examples/notebooks/llmutils/rag_cnvrg_pipeline.ipynb#X12sdnNjb2RlLXJlbW90ZQ%3D%3D?line=1'>2</a>\u001B[0m display(ds\u001B[39m.\u001B[39mto_pandas())\n",
      "File \u001B[0;32m~/miniforge3/envs/recdp/lib/python3.10/site-packages/pyrecdp/LLM/TextPipeline.py:115\u001B[0m, in \u001B[0;36mTextPipeline.execute\u001B[0;34m(self, ds)\u001B[0m\n\u001B[1;32m    113\u001B[0m         op\u001B[39m.\u001B[39mcache \u001B[39m=\u001B[39m ds\n\u001B[1;32m    114\u001B[0m     \u001B[39melse\u001B[39;00m:\n\u001B[0;32m--> 115\u001B[0m         op\u001B[39m.\u001B[39;49mexecute_ray(executable_pipeline)\n\u001B[1;32m    116\u001B[0m \u001B[39mif\u001B[39;00m \u001B[39mlen\u001B[39m(executable_sequence) \u001B[39m>\u001B[39m \u001B[39m0\u001B[39m:\n\u001B[1;32m    117\u001B[0m     ds \u001B[39m=\u001B[39m executable_sequence[\u001B[39m-\u001B[39m\u001B[39m1\u001B[39m]\u001B[39m.\u001B[39mcache\n",
      "File \u001B[0;32m~/miniforge3/envs/recdp/lib/python3.10/site-packages/pyrecdp/primitives/operations/base.py:172\u001B[0m, in \u001B[0;36mBaseLLMOperation.execute_ray\u001B[0;34m(self, pipeline, child_ds)\u001B[0m\n\u001B[1;32m    170\u001B[0m     \u001B[39mfor\u001B[39;00m op \u001B[39min\u001B[39;00m children:\n\u001B[1;32m    171\u001B[0m         child_output\u001B[39m.\u001B[39mappend(pipeline[op]\u001B[39m.\u001B[39mcache)\n\u001B[0;32m--> 172\u001B[0m     \u001B[39mself\u001B[39m\u001B[39m.\u001B[39mcache \u001B[39m=\u001B[39m \u001B[39mself\u001B[39;49m\u001B[39m.\u001B[39;49mprocess_rayds(\u001B[39m*\u001B[39;49mchild_output)\n\u001B[1;32m    173\u001B[0m \u001B[39mreturn\u001B[39;00m \u001B[39mself\u001B[39m\u001B[39m.\u001B[39mcache\n",
      "File \u001B[0;32m~/miniforge3/envs/recdp/lib/python3.10/site-packages/pyrecdp/primitives/operations/text_ingestion.py:302\u001B[0m, in \u001B[0;36mDocumentIngestion.process_rayds\u001B[0;34m(self, ds)\u001B[0m\n\u001B[1;32m    301\u001B[0m \u001B[39mdef\u001B[39;00m \u001B[39mprocess_rayds\u001B[39m(\u001B[39mself\u001B[39m, ds: Dataset \u001B[39m=\u001B[39m \u001B[39mNone\u001B[39;00m):\n\u001B[0;32m--> 302\u001B[0m     \u001B[39mreturn\u001B[39;00m \u001B[39mself\u001B[39;49m\u001B[39m.\u001B[39;49mdocument_store\u001B[39m.\u001B[39;49mpersist(ds, \u001B[39m*\u001B[39;49m\u001B[39m*\u001B[39;49m\u001B[39mself\u001B[39;49m\u001B[39m.\u001B[39;49mcompute_args)\n",
      "File \u001B[0;32m~/miniforge3/envs/recdp/lib/python3.10/site-packages/pyrecdp/primitives/operations/text_ingestion.py:173\u001B[0m, in \u001B[0;36mHaystackElasticSearch.persist\u001B[0;34m(self, ds, **kwargs)\u001B[0m\n\u001B[1;32m    172\u001B[0m \u001B[39mdef\u001B[39;00m \u001B[39mpersist\u001B[39m(\u001B[39mself\u001B[39m, ds, \u001B[39m*\u001B[39m\u001B[39m*\u001B[39mkwargs):\n\u001B[0;32m--> 173\u001B[0m     \u001B[39mreturn\u001B[39;00m \u001B[39mself\u001B[39;49m\u001B[39m.\u001B[39;49mdo_persist(ds, \u001B[39m*\u001B[39;49m\u001B[39m*\u001B[39;49mkwargs)\n",
      "File \u001B[0;32m~/miniforge3/envs/recdp/lib/python3.10/site-packages/pyrecdp/primitives/operations/text_ingestion.py:184\u001B[0m, in \u001B[0;36mHaystackElasticSearch.do_persist\u001B[0;34m(self, ds, **kwargs)\u001B[0m\n\u001B[1;32m    182\u001B[0m rows \u001B[39m=\u001B[39m ds\u001B[39m.\u001B[39miter_rows() \u001B[39mif\u001B[39;00m \u001B[39misinstance\u001B[39m(ds, Dataset) \u001B[39melse\u001B[39;00m ds\u001B[39m.\u001B[39mcollect()\n\u001B[1;32m    183\u001B[0m \u001B[39mfrom\u001B[39;00m \u001B[39mhaystack\u001B[39;00m \u001B[39mimport\u001B[39;00m Document \u001B[39mas\u001B[39;00m SDocument\n\u001B[0;32m--> 184\u001B[0m documents \u001B[39m=\u001B[39m [SDocument(content\u001B[39m=\u001B[39mrow[\u001B[39mself\u001B[39m\u001B[39m.\u001B[39mtext_column]) \u001B[39mfor\u001B[39;00m row \u001B[39min\u001B[39;00m rows]\n\u001B[1;32m    185\u001B[0m elasticsearch\u001B[39m.\u001B[39mwrite_documents(documents)\n\u001B[1;32m    186\u001B[0m \u001B[39mreturn\u001B[39;00m ds\n",
      "File \u001B[0;32m~/miniforge3/envs/recdp/lib/python3.10/site-packages/pyrecdp/primitives/operations/text_ingestion.py:184\u001B[0m, in \u001B[0;36m<listcomp>\u001B[0;34m(.0)\u001B[0m\n\u001B[1;32m    182\u001B[0m rows \u001B[39m=\u001B[39m ds\u001B[39m.\u001B[39miter_rows() \u001B[39mif\u001B[39;00m \u001B[39misinstance\u001B[39m(ds, Dataset) \u001B[39melse\u001B[39;00m ds\u001B[39m.\u001B[39mcollect()\n\u001B[1;32m    183\u001B[0m \u001B[39mfrom\u001B[39;00m \u001B[39mhaystack\u001B[39;00m \u001B[39mimport\u001B[39;00m Document \u001B[39mas\u001B[39;00m SDocument\n\u001B[0;32m--> 184\u001B[0m documents \u001B[39m=\u001B[39m [SDocument(content\u001B[39m=\u001B[39mrow[\u001B[39mself\u001B[39m\u001B[39m.\u001B[39mtext_column]) \u001B[39mfor\u001B[39;00m row \u001B[39min\u001B[39;00m rows]\n\u001B[1;32m    185\u001B[0m elasticsearch\u001B[39m.\u001B[39mwrite_documents(documents)\n\u001B[1;32m    186\u001B[0m \u001B[39mreturn\u001B[39;00m ds\n",
      "File \u001B[0;32m~/miniforge3/envs/recdp/lib/python3.10/site-packages/ray/data/iterator.py:271\u001B[0m, in \u001B[0;36mDataIterator.iter_rows.<locals>._wrapped_iterator\u001B[0;34m()\u001B[0m\n\u001B[1;32m    270\u001B[0m \u001B[39mdef\u001B[39;00m \u001B[39m_wrapped_iterator\u001B[39m():\n\u001B[0;32m--> 271\u001B[0m     \u001B[39mfor\u001B[39;00m batch \u001B[39min\u001B[39;00m batch_iterable:\n\u001B[1;32m    272\u001B[0m         batch \u001B[39m=\u001B[39m BlockAccessor\u001B[39m.\u001B[39mfor_block(BlockAccessor\u001B[39m.\u001B[39mbatch_to_block(batch))\n\u001B[1;32m    273\u001B[0m         \u001B[39mfor\u001B[39;00m row \u001B[39min\u001B[39;00m batch\u001B[39m.\u001B[39miter_rows(public_row_format\u001B[39m=\u001B[39m\u001B[39mTrue\u001B[39;00m):\n",
      "File \u001B[0;32m~/miniforge3/envs/recdp/lib/python3.10/site-packages/ray/data/iterator.py:181\u001B[0m, in \u001B[0;36mDataIterator.iter_batches.<locals>._create_iterator\u001B[0;34m()\u001B[0m\n\u001B[1;32m    176\u001B[0m time_start \u001B[39m=\u001B[39m time\u001B[39m.\u001B[39mperf_counter()\n\u001B[1;32m    177\u001B[0m \u001B[39m# Iterate through the dataset from the start each time\u001B[39;00m\n\u001B[1;32m    178\u001B[0m \u001B[39m# _iterator_gen is called.\u001B[39;00m\n\u001B[1;32m    179\u001B[0m \u001B[39m# This allows multiple iterations of the dataset without\u001B[39;00m\n\u001B[1;32m    180\u001B[0m \u001B[39m# needing to explicitly call `iter_batches()` multiple times.\u001B[39;00m\n\u001B[0;32m--> 181\u001B[0m block_iterator, stats, blocks_owned_by_consumer \u001B[39m=\u001B[39m \u001B[39mself\u001B[39;49m\u001B[39m.\u001B[39;49m_to_block_iterator()\n\u001B[1;32m    183\u001B[0m \u001B[39mif\u001B[39;00m use_legacy:\n\u001B[1;32m    184\u001B[0m     \u001B[39m# Legacy iter_batches does not use metadata.\u001B[39;00m\n\u001B[1;32m    185\u001B[0m     \u001B[39mdef\u001B[39;00m \u001B[39mdrop_metadata\u001B[39m(block_iterator):\n",
      "File \u001B[0;32m~/miniforge3/envs/recdp/lib/python3.10/site-packages/ray/data/_internal/iterator/iterator_impl.py:32\u001B[0m, in \u001B[0;36mDataIteratorImpl._to_block_iterator\u001B[0;34m(self)\u001B[0m\n\u001B[1;32m     24\u001B[0m \u001B[39mdef\u001B[39;00m \u001B[39m_to_block_iterator\u001B[39m(\n\u001B[1;32m     25\u001B[0m     \u001B[39mself\u001B[39m,\n\u001B[1;32m     26\u001B[0m ) \u001B[39m-\u001B[39m\u001B[39m>\u001B[39m Tuple[\n\u001B[0;32m   (...)\u001B[0m\n\u001B[1;32m     29\u001B[0m     \u001B[39mbool\u001B[39m,\n\u001B[1;32m     30\u001B[0m ]:\n\u001B[1;32m     31\u001B[0m     ds \u001B[39m=\u001B[39m \u001B[39mself\u001B[39m\u001B[39m.\u001B[39m_base_dataset\n\u001B[0;32m---> 32\u001B[0m     block_iterator, stats, executor \u001B[39m=\u001B[39m ds\u001B[39m.\u001B[39;49m_plan\u001B[39m.\u001B[39;49mexecute_to_iterator()\n\u001B[1;32m     33\u001B[0m     ds\u001B[39m.\u001B[39m_current_executor \u001B[39m=\u001B[39m executor\n\u001B[1;32m     34\u001B[0m     \u001B[39mreturn\u001B[39;00m block_iterator, stats, \u001B[39mFalse\u001B[39;00m\n",
      "File \u001B[0;32m~/miniforge3/envs/recdp/lib/python3.10/site-packages/ray/data/_internal/plan.py:538\u001B[0m, in \u001B[0;36mExecutionPlan.execute_to_iterator\u001B[0;34m(self, allow_clear_input_blocks, force_read)\u001B[0m\n\u001B[1;32m    536\u001B[0m gen \u001B[39m=\u001B[39m \u001B[39miter\u001B[39m(block_iter)\n\u001B[1;32m    537\u001B[0m \u001B[39mtry\u001B[39;00m:\n\u001B[0;32m--> 538\u001B[0m     block_iter \u001B[39m=\u001B[39m itertools\u001B[39m.\u001B[39mchain([\u001B[39mnext\u001B[39;49m(gen)], gen)\n\u001B[1;32m    539\u001B[0m \u001B[39mexcept\u001B[39;00m \u001B[39mStopIteration\u001B[39;00m:\n\u001B[1;32m    540\u001B[0m     \u001B[39mpass\u001B[39;00m\n",
      "File \u001B[0;32m~/miniforge3/envs/recdp/lib/python3.10/site-packages/ray/data/_internal/execution/legacy_compat.py:54\u001B[0m, in \u001B[0;36mexecute_to_legacy_block_iterator\u001B[0;34m(executor, plan, allow_clear_input_blocks, dataset_uuid)\u001B[0m\n\u001B[1;32m     50\u001B[0m \u001B[39m\u001B[39m\u001B[39m\"\"\"Same as execute_to_legacy_bundle_iterator but returning blocks and metadata.\"\"\"\u001B[39;00m\n\u001B[1;32m     51\u001B[0m bundle_iter \u001B[39m=\u001B[39m execute_to_legacy_bundle_iterator(\n\u001B[1;32m     52\u001B[0m     executor, plan, allow_clear_input_blocks, dataset_uuid\n\u001B[1;32m     53\u001B[0m )\n\u001B[0;32m---> 54\u001B[0m \u001B[39mfor\u001B[39;00m bundle \u001B[39min\u001B[39;00m bundle_iter:\n\u001B[1;32m     55\u001B[0m     \u001B[39mfor\u001B[39;00m block, metadata \u001B[39min\u001B[39;00m bundle\u001B[39m.\u001B[39mblocks:\n\u001B[1;32m     56\u001B[0m         \u001B[39myield\u001B[39;00m block, metadata\n",
      "File \u001B[0;32m~/miniforge3/envs/recdp/lib/python3.10/site-packages/ray/data/_internal/execution/interfaces/executor.py:37\u001B[0m, in \u001B[0;36mOutputIterator.__next__\u001B[0;34m(self)\u001B[0m\n\u001B[1;32m     36\u001B[0m \u001B[39mdef\u001B[39;00m \u001B[39m__next__\u001B[39m(\u001B[39mself\u001B[39m) \u001B[39m-\u001B[39m\u001B[39m>\u001B[39m RefBundle:\n\u001B[0;32m---> 37\u001B[0m     \u001B[39mreturn\u001B[39;00m \u001B[39mself\u001B[39;49m\u001B[39m.\u001B[39;49mget_next()\n",
      "File \u001B[0;32m~/miniforge3/envs/recdp/lib/python3.10/site-packages/ray/data/_internal/execution/streaming_executor.py:129\u001B[0m, in \u001B[0;36mStreamingExecutor.execute.<locals>.StreamIterator.get_next\u001B[0;34m(self, output_split_idx)\u001B[0m\n\u001B[1;32m    127\u001B[0m         \u001B[39mraise\u001B[39;00m \u001B[39mStopIteration\u001B[39;00m\n\u001B[1;32m    128\u001B[0m \u001B[39melif\u001B[39;00m \u001B[39misinstance\u001B[39m(item, \u001B[39mException\u001B[39;00m):\n\u001B[0;32m--> 129\u001B[0m     \u001B[39mraise\u001B[39;00m item\n\u001B[1;32m    130\u001B[0m \u001B[39melse\u001B[39;00m:\n\u001B[1;32m    131\u001B[0m     \u001B[39m# Otherwise return a concrete RefBundle.\u001B[39;00m\n\u001B[1;32m    132\u001B[0m     \u001B[39mif\u001B[39;00m \u001B[39mself\u001B[39m\u001B[39m.\u001B[39m_outer\u001B[39m.\u001B[39m_global_info:\n",
      "File \u001B[0;32m~/miniforge3/envs/recdp/lib/python3.10/site-packages/ray/data/_internal/execution/streaming_executor.py:187\u001B[0m, in \u001B[0;36mStreamingExecutor.run\u001B[0;34m(self)\u001B[0m\n\u001B[1;32m    181\u001B[0m \u001B[39m\u001B[39m\u001B[39m\"\"\"Run the control loop in a helper thread.\u001B[39;00m\n\u001B[1;32m    182\u001B[0m \n\u001B[1;32m    183\u001B[0m \u001B[39mResults are returned via the output node's outqueue.\u001B[39;00m\n\u001B[1;32m    184\u001B[0m \u001B[39m\"\"\"\u001B[39;00m\n\u001B[1;32m    185\u001B[0m \u001B[39mtry\u001B[39;00m:\n\u001B[1;32m    186\u001B[0m     \u001B[39m# Run scheduling loop until complete.\u001B[39;00m\n\u001B[0;32m--> 187\u001B[0m     \u001B[39mwhile\u001B[39;00m \u001B[39mself\u001B[39;49m\u001B[39m.\u001B[39;49m_scheduling_loop_step(\u001B[39mself\u001B[39;49m\u001B[39m.\u001B[39;49m_topology) \u001B[39mand\u001B[39;00m \u001B[39mnot\u001B[39;00m \u001B[39mself\u001B[39m\u001B[39m.\u001B[39m_shutdown:\n\u001B[1;32m    188\u001B[0m         \u001B[39mpass\u001B[39;00m\n\u001B[1;32m    189\u001B[0m \u001B[39mexcept\u001B[39;00m \u001B[39mException\u001B[39;00m \u001B[39mas\u001B[39;00m e:\n\u001B[1;32m    190\u001B[0m     \u001B[39m# Propagate it to the result iterator.\u001B[39;00m\n",
      "File \u001B[0;32m~/miniforge3/envs/recdp/lib/python3.10/site-packages/ray/data/_internal/execution/streaming_executor.py:235\u001B[0m, in \u001B[0;36mStreamingExecutor._scheduling_loop_step\u001B[0;34m(self, topology)\u001B[0m\n\u001B[1;32m    230\u001B[0m     logger\u001B[39m.\u001B[39mget_logger()\u001B[39m.\u001B[39minfo(\u001B[39m\"\u001B[39m\u001B[39mScheduling loop step...\u001B[39m\u001B[39m\"\u001B[39m)\n\u001B[1;32m    232\u001B[0m \u001B[39m# Note: calling process_completed_tasks() is expensive since it incurs\u001B[39;00m\n\u001B[1;32m    233\u001B[0m \u001B[39m# ray.wait() overhead, so make sure to allow multiple dispatch per call for\u001B[39;00m\n\u001B[1;32m    234\u001B[0m \u001B[39m# greater parallelism.\u001B[39;00m\n\u001B[0;32m--> 235\u001B[0m process_completed_tasks(topology)\n\u001B[1;32m    237\u001B[0m \u001B[39m# Dispatch as many operators as we can for completed tasks.\u001B[39;00m\n\u001B[1;32m    238\u001B[0m limits \u001B[39m=\u001B[39m \u001B[39mself\u001B[39m\u001B[39m.\u001B[39m_get_or_refresh_resource_limits()\n",
      "File \u001B[0;32m~/miniforge3/envs/recdp/lib/python3.10/site-packages/ray/data/_internal/execution/streaming_executor_state.py:333\u001B[0m, in \u001B[0;36mprocess_completed_tasks\u001B[0;34m(topology)\u001B[0m\n\u001B[1;32m    326\u001B[0m     ready, _ \u001B[39m=\u001B[39m ray\u001B[39m.\u001B[39mwait(\n\u001B[1;32m    327\u001B[0m         \u001B[39mlist\u001B[39m(active_tasks\u001B[39m.\u001B[39mkeys()),\n\u001B[1;32m    328\u001B[0m         num_returns\u001B[39m=\u001B[39m\u001B[39mlen\u001B[39m(active_tasks),\n\u001B[1;32m    329\u001B[0m         fetch_local\u001B[39m=\u001B[39m\u001B[39mFalse\u001B[39;00m,\n\u001B[1;32m    330\u001B[0m         timeout\u001B[39m=\u001B[39m\u001B[39m0.1\u001B[39m,\n\u001B[1;32m    331\u001B[0m     )\n\u001B[1;32m    332\u001B[0m     \u001B[39mfor\u001B[39;00m ref \u001B[39min\u001B[39;00m ready:\n\u001B[0;32m--> 333\u001B[0m         active_tasks[ref]\u001B[39m.\u001B[39;49mon_waitable_ready()\n\u001B[1;32m    335\u001B[0m \u001B[39m# Pull any operator outputs into the streaming op state.\u001B[39;00m\n\u001B[1;32m    336\u001B[0m \u001B[39mfor\u001B[39;00m op, op_state \u001B[39min\u001B[39;00m topology\u001B[39m.\u001B[39mitems():\n",
      "File \u001B[0;32m~/miniforge3/envs/recdp/lib/python3.10/site-packages/ray/data/_internal/execution/interfaces/physical_operator.py:88\u001B[0m, in \u001B[0;36mDataOpTask.on_waitable_ready\u001B[0;34m(self)\u001B[0m\n\u001B[1;32m     80\u001B[0m     meta \u001B[39m=\u001B[39m ray\u001B[39m.\u001B[39mget(\u001B[39mnext\u001B[39m(\u001B[39mself\u001B[39m\u001B[39m.\u001B[39m_streaming_gen))\n\u001B[1;32m     81\u001B[0m \u001B[39mexcept\u001B[39;00m \u001B[39mStopIteration\u001B[39;00m:\n\u001B[1;32m     82\u001B[0m     \u001B[39m# The generator should always yield 2 values (block and metadata)\u001B[39;00m\n\u001B[1;32m     83\u001B[0m     \u001B[39m# each time. If we get a StopIteration here, it means an error\u001B[39;00m\n\u001B[0;32m   (...)\u001B[0m\n\u001B[1;32m     86\u001B[0m     \u001B[39m# TODO(hchen): Ray Core should have a better interface for\u001B[39;00m\n\u001B[1;32m     87\u001B[0m     \u001B[39m# detecting and obtaining the exception.\u001B[39;00m\n\u001B[0;32m---> 88\u001B[0m     ex \u001B[39m=\u001B[39m ray\u001B[39m.\u001B[39;49mget(block_ref)\n\u001B[1;32m     89\u001B[0m     \u001B[39mself\u001B[39m\u001B[39m.\u001B[39m_task_done_callback()\n\u001B[1;32m     90\u001B[0m     \u001B[39mraise\u001B[39;00m ex\n",
      "File \u001B[0;32m~/miniforge3/envs/recdp/lib/python3.10/site-packages/ray/_private/auto_init_hook.py:24\u001B[0m, in \u001B[0;36mwrap_auto_init.<locals>.auto_init_wrapper\u001B[0;34m(*args, **kwargs)\u001B[0m\n\u001B[1;32m     21\u001B[0m \u001B[39m@wraps\u001B[39m(fn)\n\u001B[1;32m     22\u001B[0m \u001B[39mdef\u001B[39;00m \u001B[39mauto_init_wrapper\u001B[39m(\u001B[39m*\u001B[39margs, \u001B[39m*\u001B[39m\u001B[39m*\u001B[39mkwargs):\n\u001B[1;32m     23\u001B[0m     auto_init_ray()\n\u001B[0;32m---> 24\u001B[0m     \u001B[39mreturn\u001B[39;00m fn(\u001B[39m*\u001B[39;49margs, \u001B[39m*\u001B[39;49m\u001B[39m*\u001B[39;49mkwargs)\n",
      "File \u001B[0;32m~/miniforge3/envs/recdp/lib/python3.10/site-packages/ray/_private/client_mode_hook.py:103\u001B[0m, in \u001B[0;36mclient_mode_hook.<locals>.wrapper\u001B[0;34m(*args, **kwargs)\u001B[0m\n\u001B[1;32m    101\u001B[0m     \u001B[39mif\u001B[39;00m func\u001B[39m.\u001B[39m\u001B[39m__name__\u001B[39m \u001B[39m!=\u001B[39m \u001B[39m\"\u001B[39m\u001B[39minit\u001B[39m\u001B[39m\"\u001B[39m \u001B[39mor\u001B[39;00m is_client_mode_enabled_by_default:\n\u001B[1;32m    102\u001B[0m         \u001B[39mreturn\u001B[39;00m \u001B[39mgetattr\u001B[39m(ray, func\u001B[39m.\u001B[39m\u001B[39m__name__\u001B[39m)(\u001B[39m*\u001B[39margs, \u001B[39m*\u001B[39m\u001B[39m*\u001B[39mkwargs)\n\u001B[0;32m--> 103\u001B[0m \u001B[39mreturn\u001B[39;00m func(\u001B[39m*\u001B[39;49margs, \u001B[39m*\u001B[39;49m\u001B[39m*\u001B[39;49mkwargs)\n",
      "File \u001B[0;32m~/miniforge3/envs/recdp/lib/python3.10/site-packages/ray/_private/worker.py:2547\u001B[0m, in \u001B[0;36mget\u001B[0;34m(object_refs, timeout)\u001B[0m\n\u001B[1;32m   2545\u001B[0m     worker\u001B[39m.\u001B[39mcore_worker\u001B[39m.\u001B[39mdump_object_store_memory_usage()\n\u001B[1;32m   2546\u001B[0m \u001B[39mif\u001B[39;00m \u001B[39misinstance\u001B[39m(value, RayTaskError):\n\u001B[0;32m-> 2547\u001B[0m     \u001B[39mraise\u001B[39;00m value\u001B[39m.\u001B[39mas_instanceof_cause()\n\u001B[1;32m   2548\u001B[0m \u001B[39melse\u001B[39;00m:\n\u001B[1;32m   2549\u001B[0m     \u001B[39mraise\u001B[39;00m value\n",
      "\u001B[0;31mRayTaskError(TypeError)\u001B[0m: \u001B[36mray::Map(<lambda>)->FlatMap(<lambda>)->Filter(<lambda>)->FlatMap(<lambda>)()\u001B[39m (pid=752835, ip=10.0.0.137)\n  File \"/root/miniforge3/envs/recdp/lib/python3.10/site-packages/ray/data/_internal/execution/operators/map_operator.py\", line 405, in _map_task\n    for b_out in map_transformer.apply_transform(iter(blocks), ctx):\n  File \"/root/miniforge3/envs/recdp/lib/python3.10/site-packages/ray/data/_internal/execution/operators/map_transformer.py\", line 345, in __call__\n    for data in iter:\n  File \"/root/miniforge3/envs/recdp/lib/python3.10/site-packages/ray/data/_internal/execution/operators/map_transformer.py\", line 171, in __call__\n    yield from self._row_fn(input, ctx)\n  File \"/root/miniforge3/envs/recdp/lib/python3.10/site-packages/ray/data/_internal/planner/plan_udf_map_op.py\", line 244, in transform_fn\n    for row in rows:\n  File \"/root/miniforge3/envs/recdp/lib/python3.10/site-packages/ray/data/_internal/execution/operators/map_transformer.py\", line 223, in __call__\n    for block in blocks:\n  File \"/root/miniforge3/envs/recdp/lib/python3.10/site-packages/ray/data/_internal/execution/operators/map_transformer.py\", line 345, in __call__\n    for data in iter:\n  File \"/root/miniforge3/envs/recdp/lib/python3.10/site-packages/ray/data/_internal/execution/operators/map_transformer.py\", line 171, in __call__\n    yield from self._row_fn(input, ctx)\n  File \"/root/miniforge3/envs/recdp/lib/python3.10/site-packages/ray/data/_internal/planner/plan_udf_map_op.py\", line 256, in transform_fn\n    for row in rows:\n  File \"/root/miniforge3/envs/recdp/lib/python3.10/site-packages/ray/data/_internal/execution/operators/map_transformer.py\", line 223, in __call__\n    for block in blocks:\n  File \"/root/miniforge3/envs/recdp/lib/python3.10/site-packages/ray/data/_internal/execution/operators/map_transformer.py\", line 345, in __call__\n    for data in iter:\n  File \"/root/miniforge3/envs/recdp/lib/python3.10/site-packages/ray/data/_internal/execution/operators/map_transformer.py\", line 171, in __call__\n    yield from self._row_fn(input, ctx)\n  File \"/root/miniforge3/envs/recdp/lib/python3.10/site-packages/ray/data/_internal/planner/plan_udf_map_op.py\", line 245, in transform_fn\n    for out_row in fn(row):\n  File \"/root/miniforge3/envs/recdp/lib/python3.10/site-packages/ray/data/_internal/planner/plan_udf_map_op.py\", line 119, in fn\n    return op_fn(item, *fn_args, **fn_kwargs)\n  File \"/root/miniforge3/envs/recdp/lib/python3.10/site-packages/pyrecdp/primitives/operations/text_split.py\", line 69, in <lambda>\n    return ds.flat_map(lambda sample: split_text(sample, self.text_split_func))\n  File \"/root/miniforge3/envs/recdp/lib/python3.10/site-packages/pyrecdp/primitives/operations/text_split.py\", line 63, in split_text\n    for text in text_split_func(sample[self.text_key]):\n  File \"/root/miniforge3/envs/recdp/lib/python3.10/site-packages/pyrecdp/primitives/operations/text_split.py\", line 296, in process\n    return self.split_func(text, **self.func_kwargs)\nTypeError: 'str' object is not callable"
     ]
    }
   ],
   "source": [
    "ds = pipeline.execute()\n",
    "display(ds.to_pandas())"
   ]
  }
 ],
 "metadata": {
  "colab": {
   "provenance": []
  },
  "kernelspec": {
   "display_name": "Python 3 (ipykernel)",
   "language": "python",
   "name": "python3"
  },
  "language_info": {
   "codemirror_mode": {
    "name": "ipython",
    "version": 3
   },
   "file_extension": ".py",
   "mimetype": "text/x-python",
   "name": "python",
   "nbconvert_exporter": "python",
   "pygments_lexer": "ipython3",
   "version": "3.10.12"
  }
 },
 "nbformat": 4,
 "nbformat_minor": 5
}
