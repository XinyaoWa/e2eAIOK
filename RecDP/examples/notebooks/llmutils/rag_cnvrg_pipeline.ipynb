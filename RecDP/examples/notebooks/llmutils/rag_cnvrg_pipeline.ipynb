{
 "cells": [
  {
   "cell_type": "markdown",
   "id": "z_gVsK2fahsZ",
   "metadata": {
    "id": "z_gVsK2fahsZ"
   },
   "source": [
    "# RecDP LLM - RAG"
   ]
  },
  {
   "cell_type": "markdown",
   "id": "lFH8BqLubYLI",
   "metadata": {
    "id": "lFH8BqLubYLI"
   },
   "source": [
    "# Get started"
   ]
  },
  {
   "cell_type": "markdown",
   "id": "n35FAQmcbdY_",
   "metadata": {
    "id": "n35FAQmcbdY_"
   },
   "source": [
    "## 1. Install pyrecdp and dependencies"
   ]
  },
  {
   "cell_type": "code",
   "execution_count": null,
   "id": "wzlH_Ms3bnGM",
   "metadata": {
    "id": "wzlH_Ms3bnGM",
    "pycharm": {
     "is_executing": true
    }
   },
   "outputs": [],
   "source": [
    "! DEBIAN_FRONTEND=noninteractive apt-get install -y openjdk-8-jre\n",
    "! pip install -q pyrecdp --pre\n",
    "# ! pip install 'git+https://github.com/intel/e2eAIOK.git#egg=pyrecdp&subdirectory=RecDP'"
   ]
  },
  {
   "cell_type": "markdown",
   "id": "iIZVijQ7cG1N",
   "metadata": {
    "id": "iIZVijQ7cG1N"
   },
   "source": [
    "## 2. RAG Workflow"
   ]
  },
  {
   "cell_type": "markdown",
   "id": "90ce4efa",
   "metadata": {},
   "source": [
    "Setup and Run RAG Indexer Pipeline"
   ]
  },
  {
   "cell_type": "code",
   "execution_count": 10,
   "id": "736fb211-dbe6-4ca9-a1b1-db2cff2d287a",
   "metadata": {
    "colab": {
     "base_uri": "https://localhost:8080/",
     "height": 545
    },
    "id": "736fb211-dbe6-4ca9-a1b1-db2cff2d287a",
    "outputId": "5e26940b-d62b-406f-f7ae-293e1b88da83"
   },
   "outputs": [
    {
     "name": "stdout",
     "output_type": "stream",
     "text": [
      "\u001B[32m2023-12-13 11:30:37.277\u001B[0m | \u001B[1mINFO    \u001B[0m | \u001B[36mpyrecdp.core.import_utils\u001B[0m:\u001B[36mcheck_availability_and_install\u001B[0m:\u001B[36m45\u001B[0m - \u001B[1mcheck_availability_and_install ['unstructured']\u001B[0m\n",
      "\u001B[32m2023-12-13 11:30:37.281\u001B[0m | \u001B[1mINFO    \u001B[0m | \u001B[36mpyrecdp.core.import_utils\u001B[0m:\u001B[36mcheck_availability_and_install\u001B[0m:\u001B[36m45\u001B[0m - \u001B[1mcheck_availability_and_install ['ftfy', 'selectolax']\u001B[0m\n",
      "\u001B[32m2023-12-13 11:30:37.284\u001B[0m | \u001B[1mINFO    \u001B[0m | \u001B[36mpyrecdp.core.import_utils\u001B[0m:\u001B[36mcheck_availability_and_install\u001B[0m:\u001B[36m45\u001B[0m - \u001B[1mcheck_availability_and_install ['langchain']\u001B[0m\n",
      "\u001B[32m2023-12-13 11:30:37.341\u001B[0m | \u001B[1mINFO    \u001B[0m | \u001B[36mpyrecdp.core.import_utils\u001B[0m:\u001B[36mcheck_availability_and_install\u001B[0m:\u001B[36m45\u001B[0m - \u001B[1mcheck_availability_and_install ['unstructured']\u001B[0m\n",
      "\u001B[32m2023-12-13 11:30:37.344\u001B[0m | \u001B[1mINFO    \u001B[0m | \u001B[36mpyrecdp.core.import_utils\u001B[0m:\u001B[36mcheck_availability_and_install\u001B[0m:\u001B[36m45\u001B[0m - \u001B[1mcheck_availability_and_install ['ftfy', 'selectolax']\u001B[0m\n",
      "\u001B[32m2023-12-13 11:30:37.347\u001B[0m | \u001B[1mINFO    \u001B[0m | \u001B[36mpyrecdp.core.import_utils\u001B[0m:\u001B[36mcheck_availability_and_install\u001B[0m:\u001B[36m45\u001B[0m - \u001B[1mcheck_availability_and_install ['langchain']\u001B[0m\n",
      "init ray\n",
      "execute with ray started ...\n",
      "\u001B[32m2023-12-13 11:30:50.901\u001B[0m | \u001B[1mINFO    \u001B[0m | \u001B[36mpyrecdp.core.import_utils\u001B[0m:\u001B[36mcheck_availability_and_install\u001B[0m:\u001B[36m45\u001B[0m - \u001B[1mcheck_availability_and_install ['farm-haystack', 'farm-haystack[elasticsearch7]']\u001B[0m\n"
     ]
    },
    {
     "name": "stderr",
     "output_type": "stream",
     "text": [
      "WARNING: pip is being invoked by an old script wrapper. This will fail in a future version of pip.\n",
      "Please see https://github.com/pypa/pip/issues/5599 for advice on fixing the underlying issue.\n",
      "To avoid this problem you can invoke Python with '-m pip' instead of running pip directly.\n"
     ]
    },
    {
     "data": {
      "text/html": [
       "<pre style=\"white-space:pre;overflow-x:auto;line-height:normal;font-family:Menlo,'DejaVu Sans Mono',consolas,'Courier New',monospace\"><span style=\"color: #808000; text-decoration-color: #808000\">WARNING: Running pip as the 'root' user can result in broken permissions and conflicting behaviour with the system package manager. It is recommended to use a virtual environment instead: https://pip.pypa.io/warnings/venv\n",
       "</span></pre>\n"
      ],
      "text/plain": [
       "\u001B[33mWARNING: Running pip as the 'root' user can result in broken permissions and conflicting behaviour with the system package manager. It is recommended to use a virtual environment instead: https://pip.pypa.io/warnings/venv\u001B[0m\u001B[33m\n",
       "\u001B[0m"
      ]
     },
     "metadata": {},
     "output_type": "display_data"
    },
    {
     "name": "stderr",
     "output_type": "stream",
     "text": [
      "WARNING: pip is being invoked by an old script wrapper. This will fail in a future version of pip.\n",
      "Please see https://github.com/pypa/pip/issues/5599 for advice on fixing the underlying issue.\n",
      "To avoid this problem you can invoke Python with '-m pip' instead of running pip directly.\n"
     ]
    },
    {
     "data": {
      "text/html": [
       "<pre style=\"white-space:pre;overflow-x:auto;line-height:normal;font-family:Menlo,'DejaVu Sans Mono',consolas,'Courier New',monospace\"><span style=\"color: #808000; text-decoration-color: #808000\">WARNING: Running pip as the 'root' user can result in broken permissions and conflicting behaviour with the system package manager. It is recommended to use a virtual environment instead: https://pip.pypa.io/warnings/venv\n",
       "</span></pre>\n"
      ],
      "text/plain": [
       "\u001B[33mWARNING: Running pip as the 'root' user can result in broken permissions and conflicting behaviour with the system package manager. It is recommended to use a virtual environment instead: https://pip.pypa.io/warnings/venv\u001B[0m\u001B[33m\n",
       "\u001B[0m"
      ]
     },
     "metadata": {},
     "output_type": "display_data"
    },
    {
     "name": "stderr",
     "output_type": "stream",
     "text": [
      "/root/miniforge3/envs/recdp/lib/python3.10/site-packages/elasticsearch/connection/base.py:200: ElasticsearchWarning: Elasticsearch built-in security features are not enabled. Without authentication, your cluster could be accessible to anyone. See https://www.elastic.co/guide/en/elasticsearch/reference/7.17/security-minimal-setup.html to enable security.\n",
      "  warnings.warn(message, category=ElasticsearchWarning)\n",
      "2023-12-13 11:31:01,645\tINFO streaming_executor.py:93 -- Executing DAG InputDataBuffer[Input] -> TaskPoolMapOperator[Map(<lambda>)->FlatMap(<lambda>)->Filter(<lambda>)->FlatMap(<lambda>)]\n",
      "2023-12-13 11:31:01,649\tINFO streaming_executor.py:94 -- Execution config: ExecutionOptions(resource_limits=ExecutionResources(cpu=None, gpu=None, object_store_memory=None), locality_with_output=False, preserve_order=False, actor_locality_enabled=True, verbose_progress=False)\n",
      "2023-12-13 11:31:01,652\tINFO streaming_executor.py:96 -- Tip: For detailed progress reporting, run `ray.data.DataContext.get_current().execution_options.verbose_progress = True`\n"
     ]
    },
    {
     "data": {
      "application/vnd.jupyter.widget-view+json": {
       "model_id": "52053bfce56a451a85c7811a8a6a2e87",
       "version_major": 2,
       "version_minor": 0
      },
      "text/plain": [
       "Running 0:   0%|          | 0/4 [00:00<?, ?it/s]"
      ]
     },
     "metadata": {},
     "output_type": "display_data"
    },
    {
     "name": "stderr",
     "output_type": "stream",
     "text": [
      "2023-12-13 11:31:02,271\tINFO streaming_executor.py:93 -- Executing DAG InputDataBuffer[Input] -> TaskPoolMapOperator[Map(<lambda>)->FlatMap(<lambda>)->Filter(<lambda>)->FlatMap(<lambda>)->Write]\n",
      "2023-12-13 11:31:02,273\tINFO streaming_executor.py:94 -- Execution config: ExecutionOptions(resource_limits=ExecutionResources(cpu=None, gpu=None, object_store_memory=None), locality_with_output=False, preserve_order=False, actor_locality_enabled=True, verbose_progress=False)\n",
      "2023-12-13 11:31:02,274\tINFO streaming_executor.py:96 -- Tip: For detailed progress reporting, run `ray.data.DataContext.get_current().execution_options.verbose_progress = True`\n"
     ]
    },
    {
     "data": {
      "application/vnd.jupyter.widget-view+json": {
       "model_id": "a70f455b10144dce9da455ff0ebc90cb",
       "version_major": 2,
       "version_minor": 0
      },
      "text/plain": [
       "Running 0:   0%|          | 0/4 [00:00<?, ?it/s]"
      ]
     },
     "metadata": {},
     "output_type": "display_data"
    },
    {
     "name": "stderr",
     "output_type": "stream",
     "text": [
      "2023-12-13 11:31:02,685\tINFO streaming_executor.py:93 -- Executing DAG InputDataBuffer[Input] -> TaskPoolMapOperator[Map(<lambda>)->FlatMap(<lambda>)->Filter(<lambda>)->FlatMap(<lambda>)]\n",
      "2023-12-13 11:31:02,686\tINFO streaming_executor.py:94 -- Execution config: ExecutionOptions(resource_limits=ExecutionResources(cpu=None, gpu=None, object_store_memory=None), locality_with_output=False, preserve_order=False, actor_locality_enabled=True, verbose_progress=False)\n",
      "2023-12-13 11:31:02,688\tINFO streaming_executor.py:96 -- Tip: For detailed progress reporting, run `ray.data.DataContext.get_current().execution_options.verbose_progress = True`\n"
     ]
    },
    {
     "data": {
      "application/vnd.jupyter.widget-view+json": {
       "model_id": "98e0f8516b1f4bd7a819a98ae7d99ec3",
       "version_major": 2,
       "version_minor": 0
      },
      "text/plain": [
       "Running 0:   0%|          | 0/4 [00:00<?, ?it/s]"
      ]
     },
     "metadata": {},
     "output_type": "display_data"
    },
    {
     "name": "stdout",
     "output_type": "stream",
     "text": [
      "execute with ray took 25.74781428091228 sec\n"
     ]
    },
    {
     "data": {
      "text/html": [
       "<div>\n",
       "<style scoped>\n",
       "    .dataframe tbody tr th:only-of-type {\n",
       "        vertical-align: middle;\n",
       "    }\n",
       "\n",
       "    .dataframe tbody tr th {\n",
       "        vertical-align: top;\n",
       "    }\n",
       "\n",
       "    .dataframe thead th {\n",
       "        text-align: right;\n",
       "    }\n",
       "</style>\n",
       "<table border=\"1\" class=\"dataframe\">\n",
       "  <thead>\n",
       "    <tr style=\"text-align: right;\">\n",
       "      <th></th>\n",
       "      <th>text</th>\n",
       "      <th>metadata</th>\n",
       "    </tr>\n",
       "  </thead>\n",
       "  <tbody>\n",
       "    <tr>\n",
       "      <th>0</th>\n",
       "      <td>Welcome to cnvrg.io cnvrg.io is a machine lear...</td>\n",
       "      <td>{'source': 'https://app.cnvrg.io/docs/'}</td>\n",
       "    </tr>\n",
       "    <tr>\n",
       "      <th>1</th>\n",
       "      <td>Dataset Use Datasets to manage data with versi...</td>\n",
       "      <td>{'source': 'https://app.cnvrg.io/docs/'}</td>\n",
       "    </tr>\n",
       "    <tr>\n",
       "      <th>2</th>\n",
       "      <td>Use Papers to consolidate comparison across ex...</td>\n",
       "      <td>{'source': 'https://app.cnvrg.io/docs/'}</td>\n",
       "    </tr>\n",
       "    <tr>\n",
       "      <th>3</th>\n",
       "      <td>Easily update your running serving to keep it ...</td>\n",
       "      <td>{'source': 'https://app.cnvrg.io/docs/'}</td>\n",
       "    </tr>\n",
       "    <tr>\n",
       "      <th>4</th>\n",
       "      <td>Tutorials and Examples To help you get started...</td>\n",
       "      <td>{'source': 'https://app.cnvrg.io/docs/collecti...</td>\n",
       "    </tr>\n",
       "    <tr>\n",
       "      <th>...</th>\n",
       "      <td>...</td>\n",
       "      <td>...</td>\n",
       "    </tr>\n",
       "    <tr>\n",
       "      <th>92</th>\n",
       "      <td>For example, gputype=v100 .To specify several,...</td>\n",
       "      <td>{'source': 'https://app.cnvrg.io/docs/core_con...</td>\n",
       "    </tr>\n",
       "    <tr>\n",
       "      <th>93</th>\n",
       "      <td>For example, gputype=v100 .To specify several,...</td>\n",
       "      <td>{'source': 'https://app.cnvrg.io/docs/core_con...</td>\n",
       "    </tr>\n",
       "    <tr>\n",
       "      <th>94</th>\n",
       "      <td>For example, gputype=v100 .To specify several,...</td>\n",
       "      <td>{'source': 'https://app.cnvrg.io/docs/core_con...</td>\n",
       "    </tr>\n",
       "    <tr>\n",
       "      <th>95</th>\n",
       "      <td>options are: cnvrg, dockerhub, gcr, acr, ecr, ...</td>\n",
       "      <td>{'source': 'https://app.cnvrg.io/docs/core_con...</td>\n",
       "    </tr>\n",
       "    <tr>\n",
       "      <th>96</th>\n",
       "      <td>options are: cnvrg, dockerhub, gcr, acr, ecr, ...</td>\n",
       "      <td>{'source': 'https://app.cnvrg.io/docs/core_con...</td>\n",
       "    </tr>\n",
       "  </tbody>\n",
       "</table>\n",
       "<p>97 rows × 2 columns</p>\n",
       "</div>"
      ],
      "text/plain": [
       "                                                 text  \\\n",
       "0   Welcome to cnvrg.io cnvrg.io is a machine lear...   \n",
       "1   Dataset Use Datasets to manage data with versi...   \n",
       "2   Use Papers to consolidate comparison across ex...   \n",
       "3   Easily update your running serving to keep it ...   \n",
       "4   Tutorials and Examples To help you get started...   \n",
       "..                                                ...   \n",
       "92  For example, gputype=v100 .To specify several,...   \n",
       "93  For example, gputype=v100 .To specify several,...   \n",
       "94  For example, gputype=v100 .To specify several,...   \n",
       "95  options are: cnvrg, dockerhub, gcr, acr, ecr, ...   \n",
       "96  options are: cnvrg, dockerhub, gcr, acr, ecr, ...   \n",
       "\n",
       "                                             metadata  \n",
       "0            {'source': 'https://app.cnvrg.io/docs/'}  \n",
       "1            {'source': 'https://app.cnvrg.io/docs/'}  \n",
       "2            {'source': 'https://app.cnvrg.io/docs/'}  \n",
       "3            {'source': 'https://app.cnvrg.io/docs/'}  \n",
       "4   {'source': 'https://app.cnvrg.io/docs/collecti...  \n",
       "..                                                ...  \n",
       "92  {'source': 'https://app.cnvrg.io/docs/core_con...  \n",
       "93  {'source': 'https://app.cnvrg.io/docs/core_con...  \n",
       "94  {'source': 'https://app.cnvrg.io/docs/core_con...  \n",
       "95  {'source': 'https://app.cnvrg.io/docs/core_con...  \n",
       "96  {'source': 'https://app.cnvrg.io/docs/core_con...  \n",
       "\n",
       "[97 rows x 2 columns]"
      ]
     },
     "metadata": {},
     "output_type": "display_data"
    }
   ],
   "source": [
    "from pyrecdp.primitives.operations import DocumentLoader,RAGTextFix,CustomerDocumentSplit,TextCustomerFilter,DocumentIngestion\n",
    "from pyrecdp.LLM import TextPipeline\n",
    "import os\n",
    "\n",
    "urls = ['https://app.cnvrg.io/docs/', \n",
    "        'https://app.cnvrg.io/docs/core_concepts/python_sdk_v2.html',\n",
    "        'https://app.cnvrg.io/docs/cli_v2/cnvrgv2_cli.html',\n",
    "        'https://app.cnvrg.io/docs/collections/tutorials.html']\n",
    "\n",
    "def custom_filter(text):\n",
    "    from nltk.tokenize import word_tokenize\n",
    "    ret_txt = None\n",
    "    if len(word_tokenize(text)) >10:\n",
    "        if text.split(' ')[0].lower()!='version':\n",
    "            ret_txt = text\n",
    "    return ret_txt != None\n",
    "\n",
    "def chunk_doc(text,max_num_of_words):\n",
    "    from nltk.tokenize import word_tokenize,sent_tokenize\n",
    "    text= text.strip()\n",
    "    if len(word_tokenize(text)) <= max_num_of_words:\n",
    "        return [text]\n",
    "    else:\n",
    "        chunks = []\n",
    "        # split by sentence\n",
    "        sentences = sent_tokenize(text)\n",
    "        # print('number of sentences: ', len(sentences))\n",
    "        words_count = 0\n",
    "        temp_chunk = \"\"\n",
    "        for s in sentences:\n",
    "            temp_chunk+=(s+\" \")\n",
    "            words_count += len(word_tokenize(s))\n",
    "            if len(word_tokenize(temp_chunk))> max_num_of_words:\n",
    "                chunks.append(temp_chunk)\n",
    "                words_count = 0\n",
    "                temp_chunk = \"\"\n",
    "                \n",
    "        return chunks\n",
    "\n",
    "pipeline = TextPipeline()\n",
    "ops = [\n",
    "    DocumentLoader(loader='UnstructuredURLLoader', loader_args={'urls': urls}, requirements=['unstructured']),\n",
    "    RAGTextFix(str_to_replace={'\\n###': '', '\\n##': '', '\\n#': ''}, remove_extra_whitespace=True),\n",
    "    CustomerDocumentSplit(func=lambda text: text.split('# ')[1:]),\n",
    "    TextCustomerFilter(custom_filter),\n",
    "    CustomerDocumentSplit(func=chunk_doc, max_num_of_words=50),\n",
    "    DocumentIngestion(\n",
    "        rag_framework='haystack',\n",
    "        vector_store='elasticsearch',\n",
    "        vector_store_args={'host': 'localhost', 'port': 9200}\n",
    "    )\n",
    "]\n",
    "pipeline.add_operations(ops)\n",
    "ds = pipeline.execute()\n",
    "display(ds.to_pandas())\n"
   ]
  }
 ],
 "metadata": {
  "colab": {
   "provenance": []
  },
  "kernelspec": {
   "display_name": "Python 3 (ipykernel)",
   "language": "python",
   "name": "python3"
  },
  "language_info": {
   "codemirror_mode": {
    "name": "ipython",
    "version": 3
   },
   "file_extension": ".py",
   "mimetype": "text/x-python",
   "name": "python",
   "nbconvert_exporter": "python",
   "pygments_lexer": "ipython3",
   "version": "3.10.12"
  }
 },
 "nbformat": 4,
 "nbformat_minor": 5
}
