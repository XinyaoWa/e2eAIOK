{
 "cells": [
  {
   "cell_type": "markdown",
   "metadata": {
    "id": "VkgW3cFeoYmv"
   },
   "source": [
    "# RecDP LLM - RAG Indexer Pipeline (ElasticSearch)\n",
    "\n",
    "This notebook will show you how to construct a RAG indexer pipeline with RecDP-LLM, it use Elasticsearch as backend document store"
   ]
  },
  {
   "cell_type": "markdown",
   "metadata": {
    "id": "Gb8OEtJCo4X0"
   },
   "source": [
    "# Get started"
   ]
  },
  {
   "cell_type": "markdown",
   "metadata": {
    "id": "BT-BjcaHj3eh"
   },
   "source": [
    "## 1. Install pyrecdp and dependencies"
   ]
  },
  {
   "cell_type": "code",
   "execution_count": 2,
   "metadata": {
    "id": "E3ffXVymdeKg"
   },
   "outputs": [],
   "source": [
    "! DEBIAN_FRONTEND=noninteractive apt-get install -qq -y openjdk-8-jre\n",
    "! pip install -q pyrecdp --pre\n",
    "# ! pip install 'git+https://github.com/intel/e2eAIOK.git#egg=pyrecdp&subdirectory=RecDP'"
   ]
  },
  {
   "cell_type": "markdown",
   "metadata": {
    "id": "JjTnnzw_kRVV"
   },
   "source": [
    "## 2. Setup and run RAG indexer pipeline"
   ]
  },
  {
   "cell_type": "markdown",
   "metadata": {},
   "source": [
    "### 2.1 Loader documents"
   ]
  },
  {
   "cell_type": "code",
   "execution_count": 1,
   "metadata": {},
   "outputs": [
    {
     "name": "stderr",
     "output_type": "stream",
     "text": [
      "/root/miniforge3/envs/recdp/lib/python3.10/site-packages/_distutils_hack/__init__.py:33: UserWarning: Setuptools is replacing distutils.\n",
      "  warnings.warn(\"Setuptools is replacing distutils.\")\n",
      "/root/miniforge3/envs/recdp/lib/python3.10/site-packages/pyspark/pandas/__init__.py:50: UserWarning: 'PYARROW_IGNORE_TIMEZONE' environment variable was not set. It is required to set this environment variable to '1' in both driver and executor sides if you use pyarrow>=2.0.0. pandas-on-Spark will set it for you but it does not work if there is a Spark context already launched.\n",
      "  warnings.warn(\n",
      "\u001b[32m2023-12-19 16:28:23.864\u001b[0m | \u001b[1mINFO    \u001b[0m | \u001b[36mpyrecdp.core.import_utils\u001b[0m:\u001b[36mcheck_availability_and_install\u001b[0m:\u001b[36m52\u001b[0m - \u001b[1mcheck_availability_and_install emoji==2.2.0\u001b[0m\n"
     ]
    },
    {
     "name": "stdout",
     "output_type": "stream",
     "text": [
      "\u001b[32m2023-12-19 16:28:23.958\u001b[0m | \u001b[1mINFO    \u001b[0m | \u001b[36mpyrecdp.core.import_utils\u001b[0m:\u001b[36mcheck_availability_and_install\u001b[0m:\u001b[36m47\u001b[0m - \u001b[1mcheck_availability_and_install ['bs4', 'langchain']\u001b[0m\n"
     ]
    },
    {
     "name": "stderr",
     "output_type": "stream",
     "text": [
      "2023-12-19 16:28:50,843\tINFO worker.py:1642 -- Started a local Ray instance.\n"
     ]
    },
    {
     "data": {
      "text/html": [
       "<div>\n",
       "<style scoped>\n",
       "    .dataframe tbody tr th:only-of-type {\n",
       "        vertical-align: middle;\n",
       "    }\n",
       "\n",
       "    .dataframe tbody tr th {\n",
       "        vertical-align: top;\n",
       "    }\n",
       "\n",
       "    .dataframe thead th {\n",
       "        text-align: right;\n",
       "    }\n",
       "</style>\n",
       "<table border=\"1\" class=\"dataframe\">\n",
       "  <thead>\n",
       "    <tr style=\"text-align: right;\">\n",
       "      <th></th>\n",
       "      <th>text</th>\n",
       "      <th>metadata</th>\n",
       "    </tr>\n",
       "  </thead>\n",
       "  <tbody>\n",
       "    <tr>\n",
       "      <th>0</th>\n",
       "      <td>\\n\\n\\n\\n\\nWelcome to cnvrg.io | cnvrg.io docs\\...</td>\n",
       "      <td>{'description': 'Documentation website for cnv...</td>\n",
       "    </tr>\n",
       "    <tr>\n",
       "      <th>1</th>\n",
       "      <td>\\n\\n\\n\\n\\nProjects | cnvrg.io docs\\n\\n\\n\\n\\n\\n...</td>\n",
       "      <td>{'description': 'Documentation website for cnv...</td>\n",
       "    </tr>\n",
       "    <tr>\n",
       "      <th>2</th>\n",
       "      <td>\\n\\n\\n\\n\\nExperiments | cnvrg.io docs\\n\\n\\n\\n\\...</td>\n",
       "      <td>{'description': 'Documentation website for cnv...</td>\n",
       "    </tr>\n",
       "    <tr>\n",
       "      <th>3</th>\n",
       "      <td>\\n\\n\\n\\n\\nServing | cnvrg.io docs\\n\\n\\n\\n\\n\\n\\...</td>\n",
       "      <td>{'description': 'Documentation website for cnv...</td>\n",
       "    </tr>\n",
       "    <tr>\n",
       "      <th>4</th>\n",
       "      <td>\\n\\n\\n\\n\\nContainers | cnvrg.io docs\\n\\n\\n\\n\\n...</td>\n",
       "      <td>{'description': 'Documentation website for cnv...</td>\n",
       "    </tr>\n",
       "    <tr>\n",
       "      <th>5</th>\n",
       "      <td>\\n\\n\\n\\n\\nOrganization, Account, and Team Sett...</td>\n",
       "      <td>{'description': 'Documentation website for cnv...</td>\n",
       "    </tr>\n",
       "    <tr>\n",
       "      <th>6</th>\n",
       "      <td>\\n\\n\\n\\n\\nWorkspaces | cnvrg.io docs\\n\\n\\n\\n\\n...</td>\n",
       "      <td>{'description': 'Documentation website for cnv...</td>\n",
       "    </tr>\n",
       "    <tr>\n",
       "      <th>7</th>\n",
       "      <td>\\n\\n\\n\\n\\nCompute | cnvrg.io docs\\n\\n\\n\\n\\n\\n\\...</td>\n",
       "      <td>{'description': 'Documentation website for cnv...</td>\n",
       "    </tr>\n",
       "    <tr>\n",
       "      <th>8</th>\n",
       "      <td>\\n\\n\\n\\n\\nTutorials and Examples | cnvrg.io do...</td>\n",
       "      <td>{'description': 'Documentation website for cnv...</td>\n",
       "    </tr>\n",
       "    <tr>\n",
       "      <th>9</th>\n",
       "      <td>\\n\\n\\n\\n\\nRelease Notes | cnvrg.io docs\\n\\n\\n\\...</td>\n",
       "      <td>{'description': 'Documentation website for cnv...</td>\n",
       "    </tr>\n",
       "    <tr>\n",
       "      <th>10</th>\n",
       "      <td>\\n\\n\\n\\n\\nVideos | cnvrg.io docs\\n\\n\\n\\n\\n\\n\\n...</td>\n",
       "      <td>{'description': 'Documentation website for cnv...</td>\n",
       "    </tr>\n",
       "    <tr>\n",
       "      <th>11</th>\n",
       "      <td>\\n\\n\\n\\n\\nDistributed Jobs | cnvrg.io docs\\n\\n...</td>\n",
       "      <td>{'description': 'Documentation website for cnv...</td>\n",
       "    </tr>\n",
       "    <tr>\n",
       "      <th>12</th>\n",
       "      <td>\\n\\n\\n\\n\\nFlows | cnvrg.io docs\\n\\n\\n\\n\\n\\n\\n\\...</td>\n",
       "      <td>{'description': 'Documentation website for cnv...</td>\n",
       "    </tr>\n",
       "    <tr>\n",
       "      <th>13</th>\n",
       "      <td>\\n\\n\\n\\n\\nDashboard | cnvrg.io docs\\n\\n\\n\\n\\n\\...</td>\n",
       "      <td>{'description': 'Documentation website for cnv...</td>\n",
       "    </tr>\n",
       "    <tr>\n",
       "      <th>14</th>\n",
       "      <td>\\n\\n\\n\\n\\nAI Library | cnvrg.io docs\\n\\n\\n\\n\\n...</td>\n",
       "      <td>{'description': 'Documentation website for cnv...</td>\n",
       "    </tr>\n",
       "    <tr>\n",
       "      <th>15</th>\n",
       "      <td>\\n\\n\\n\\n\\nApps | cnvrg.io docs\\n\\n\\n\\n\\n\\n\\n\\n...</td>\n",
       "      <td>{'description': 'Documentation website for cnv...</td>\n",
       "    </tr>\n",
       "    <tr>\n",
       "      <th>16</th>\n",
       "      <td>\\n\\n\\n\\n\\nDatasets | cnvrg.io docs\\n\\n\\n\\n\\n\\n...</td>\n",
       "      <td>{'description': 'Documentation website for cnv...</td>\n",
       "    </tr>\n",
       "    <tr>\n",
       "      <th>17</th>\n",
       "      <td>\\n\\n\\n\\n\\ncnvrg SDK V2 | cnvrg.io docs\\n\\n\\n\\n...</td>\n",
       "      <td>{'description': 'Documentation website for cnv...</td>\n",
       "    </tr>\n",
       "    <tr>\n",
       "      <th>18</th>\n",
       "      <td>\\n\\n\\n\\n\\ncnvrgv2 CLI | cnvrg.io docs\\n\\n\\n\\n\\...</td>\n",
       "      <td>{'description': 'Documentation website for cnv...</td>\n",
       "    </tr>\n",
       "    <tr>\n",
       "      <th>19</th>\n",
       "      <td>\\n\\n\\n\\n\\nTutorials and Examples | cnvrg.io do...</td>\n",
       "      <td>{'description': 'Documentation website for cnv...</td>\n",
       "    </tr>\n",
       "  </tbody>\n",
       "</table>\n",
       "</div>"
      ],
      "text/plain": [
       "                                                 text  \\\n",
       "0   \\n\\n\\n\\n\\nWelcome to cnvrg.io | cnvrg.io docs\\...   \n",
       "1   \\n\\n\\n\\n\\nProjects | cnvrg.io docs\\n\\n\\n\\n\\n\\n...   \n",
       "2   \\n\\n\\n\\n\\nExperiments | cnvrg.io docs\\n\\n\\n\\n\\...   \n",
       "3   \\n\\n\\n\\n\\nServing | cnvrg.io docs\\n\\n\\n\\n\\n\\n\\...   \n",
       "4   \\n\\n\\n\\n\\nContainers | cnvrg.io docs\\n\\n\\n\\n\\n...   \n",
       "5   \\n\\n\\n\\n\\nOrganization, Account, and Team Sett...   \n",
       "6   \\n\\n\\n\\n\\nWorkspaces | cnvrg.io docs\\n\\n\\n\\n\\n...   \n",
       "7   \\n\\n\\n\\n\\nCompute | cnvrg.io docs\\n\\n\\n\\n\\n\\n\\...   \n",
       "8   \\n\\n\\n\\n\\nTutorials and Examples | cnvrg.io do...   \n",
       "9   \\n\\n\\n\\n\\nRelease Notes | cnvrg.io docs\\n\\n\\n\\...   \n",
       "10  \\n\\n\\n\\n\\nVideos | cnvrg.io docs\\n\\n\\n\\n\\n\\n\\n...   \n",
       "11  \\n\\n\\n\\n\\nDistributed Jobs | cnvrg.io docs\\n\\n...   \n",
       "12  \\n\\n\\n\\n\\nFlows | cnvrg.io docs\\n\\n\\n\\n\\n\\n\\n\\...   \n",
       "13  \\n\\n\\n\\n\\nDashboard | cnvrg.io docs\\n\\n\\n\\n\\n\\...   \n",
       "14  \\n\\n\\n\\n\\nAI Library | cnvrg.io docs\\n\\n\\n\\n\\n...   \n",
       "15  \\n\\n\\n\\n\\nApps | cnvrg.io docs\\n\\n\\n\\n\\n\\n\\n\\n...   \n",
       "16  \\n\\n\\n\\n\\nDatasets | cnvrg.io docs\\n\\n\\n\\n\\n\\n...   \n",
       "17  \\n\\n\\n\\n\\ncnvrg SDK V2 | cnvrg.io docs\\n\\n\\n\\n...   \n",
       "18  \\n\\n\\n\\n\\ncnvrgv2 CLI | cnvrg.io docs\\n\\n\\n\\n\\...   \n",
       "19  \\n\\n\\n\\n\\nTutorials and Examples | cnvrg.io do...   \n",
       "\n",
       "                                             metadata  \n",
       "0   {'description': 'Documentation website for cnv...  \n",
       "1   {'description': 'Documentation website for cnv...  \n",
       "2   {'description': 'Documentation website for cnv...  \n",
       "3   {'description': 'Documentation website for cnv...  \n",
       "4   {'description': 'Documentation website for cnv...  \n",
       "5   {'description': 'Documentation website for cnv...  \n",
       "6   {'description': 'Documentation website for cnv...  \n",
       "7   {'description': 'Documentation website for cnv...  \n",
       "8   {'description': 'Documentation website for cnv...  \n",
       "9   {'description': 'Documentation website for cnv...  \n",
       "10  {'description': 'Documentation website for cnv...  \n",
       "11  {'description': 'Documentation website for cnv...  \n",
       "12  {'description': 'Documentation website for cnv...  \n",
       "13  {'description': 'Documentation website for cnv...  \n",
       "14  {'description': 'Documentation website for cnv...  \n",
       "15  {'description': 'Documentation website for cnv...  \n",
       "16  {'description': 'Documentation website for cnv...  \n",
       "17  {'description': 'Documentation website for cnv...  \n",
       "18  {'description': 'Documentation website for cnv...  \n",
       "19  {'description': 'Documentation website for cnv...  "
      ]
     },
     "metadata": {},
     "output_type": "display_data"
    },
    {
     "name": "stderr",
     "output_type": "stream",
     "text": [
      "\u001b[2m\u001b[33m(raylet)\u001b[0m [2023-12-19 16:28:59,723 E 184744 184762] (raylet) file_system_monitor.cc:111: /tmp/ray/session_2023-12-19_16-28-47_846155_183468 is over 95% full, available space: 482947072; capacity: 422146228224. Object creation will fail if spilling is required.\n"
     ]
    }
   ],
   "source": [
    "urls = ['https://app.cnvrg.io/docs/', \n",
    "        'https://app.cnvrg.io/docs/core_concepts/python_sdk_v2.html',\n",
    "        'https://app.cnvrg.io/docs/cli_v2/cnvrgv2_cli.html',\n",
    "        'https://app.cnvrg.io/docs/collections/tutorials.html']\n",
    "\n",
    "from pyrecdp.primitives.operations import UrlLoader\n",
    "url_loader = UrlLoader(urls, max_depth=2)\n",
    "\n",
    "ds = url_loader.process_rayds()\n",
    "display(ds.to_pandas())"
   ]
  },
  {
   "cell_type": "markdown",
   "metadata": {},
   "source": [
    "### 2.2 Preprocess documents"
   ]
  },
  {
   "cell_type": "markdown",
   "metadata": {},
   "source": [
    "#### 2.2.1 Remove header separator and Extra white space"
   ]
  },
  {
   "cell_type": "code",
   "execution_count": 3,
   "metadata": {},
   "outputs": [
    {
     "name": "stdout",
     "output_type": "stream",
     "text": [
      "\u001b[32m2023-12-19 15:43:27.897\u001b[0m | \u001b[1mINFO    \u001b[0m | \u001b[36mpyrecdp.core.import_utils\u001b[0m:\u001b[36mcheck_availability_and_install\u001b[0m:\u001b[36m47\u001b[0m - \u001b[1mcheck_availability_and_install ['ftfy', 'selectolax']\u001b[0m\n",
      "\u001b[32m2023-12-19 15:43:27.954\u001b[0m | \u001b[1mINFO    \u001b[0m | \u001b[36mpyrecdp.core.import_utils\u001b[0m:\u001b[36mcheck_availability_and_install\u001b[0m:\u001b[36m52\u001b[0m - \u001b[1mcheck_availability_and_install nltk\u001b[0m\n",
      "\u001b[32m2023-12-19 15:43:28.263\u001b[0m | \u001b[1mINFO    \u001b[0m | \u001b[36mpyrecdp.core.model_utils\u001b[0m:\u001b[36mprepare_nltk_model\u001b[0m:\u001b[36m164\u001b[0m - \u001b[1mLoading nltk punkt split model...\u001b[0m\n"
     ]
    },
    {
     "name": "stderr",
     "output_type": "stream",
     "text": [
      "2023-12-19 15:43:28,273\tINFO streaming_executor.py:93 -- Executing DAG InputDataBuffer[Input] -> TaskPoolMapOperator[Map(<lambda>)]\n",
      "2023-12-19 15:43:28,274\tINFO streaming_executor.py:94 -- Execution config: ExecutionOptions(resource_limits=ExecutionResources(cpu=None, gpu=None, object_store_memory=None), locality_with_output=False, preserve_order=False, actor_locality_enabled=True, verbose_progress=False)\n",
      "2023-12-19 15:43:28,276\tINFO streaming_executor.py:96 -- Tip: For detailed progress reporting, run `ray.data.DataContext.get_current().execution_options.verbose_progress = True`\n"
     ]
    },
    {
     "data": {
      "application/vnd.jupyter.widget-view+json": {
       "model_id": "a9fe241413bc403cb2e169ff5b7a3305",
       "version_major": 2,
       "version_minor": 0
      },
      "text/plain": [
       "Running 0:   0%|          | 0/20 [00:00<?, ?it/s]"
      ]
     },
     "metadata": {},
     "output_type": "display_data"
    },
    {
     "name": "stderr",
     "output_type": "stream",
     "text": [
      "\u001b[2m\u001b[36m(Map(<lambda>) pid=109694)\u001b[0m /root/miniforge3/envs/recdp/lib/python3.10/site-packages/_distutils_hack/__init__.py:33: UserWarning: Setuptools is replacing distutils.\n",
      "\u001b[2m\u001b[36m(Map(<lambda>) pid=109694)\u001b[0m   warnings.warn(\"Setuptools is replacing distutils.\")\n",
      "\u001b[2m\u001b[36m(Map(<lambda>) pid=109694)\u001b[0m 2023-12-19 15:43:30.292 | INFO     | pyrecdp.core.import_utils:check_availability_and_install:52 - check_availability_and_install emoji==2.2.0\n"
     ]
    },
    {
     "data": {
      "text/html": [
       "<div>\n",
       "<style scoped>\n",
       "    .dataframe tbody tr th:only-of-type {\n",
       "        vertical-align: middle;\n",
       "    }\n",
       "\n",
       "    .dataframe tbody tr th {\n",
       "        vertical-align: top;\n",
       "    }\n",
       "\n",
       "    .dataframe thead th {\n",
       "        text-align: right;\n",
       "    }\n",
       "</style>\n",
       "<table border=\"1\" class=\"dataframe\">\n",
       "  <thead>\n",
       "    <tr style=\"text-align: right;\">\n",
       "      <th></th>\n",
       "      <th>text</th>\n",
       "      <th>metadata</th>\n",
       "    </tr>\n",
       "  </thead>\n",
       "  <tbody>\n",
       "    <tr>\n",
       "      <th>0</th>\n",
       "      <td>Flows | cnvrg.io docs cnvrg.io docs Tutorials...</td>\n",
       "      <td>{'description': 'Documentation website for cnv...</td>\n",
       "    </tr>\n",
       "    <tr>\n",
       "      <th>1</th>\n",
       "      <td>Organization, Account, and Team Settings | cn...</td>\n",
       "      <td>{'description': 'Documentation website for cnv...</td>\n",
       "    </tr>\n",
       "    <tr>\n",
       "      <th>2</th>\n",
       "      <td>Experiments | cnvrg.io docs cnvrg.io docs Tut...</td>\n",
       "      <td>{'description': 'Documentation website for cnv...</td>\n",
       "    </tr>\n",
       "    <tr>\n",
       "      <th>3</th>\n",
       "      <td>Tutorials and Examples | cnvrg.io docs cnvrg....</td>\n",
       "      <td>{'description': 'Documentation website for cnv...</td>\n",
       "    </tr>\n",
       "    <tr>\n",
       "      <th>4</th>\n",
       "      <td>Datasets | cnvrg.io docs cnvrg.io docs Tutori...</td>\n",
       "      <td>{'description': 'Documentation website for cnv...</td>\n",
       "    </tr>\n",
       "    <tr>\n",
       "      <th>5</th>\n",
       "      <td>Distributed Jobs | cnvrg.io docs cnvrg.io doc...</td>\n",
       "      <td>{'description': 'Documentation website for cnv...</td>\n",
       "    </tr>\n",
       "    <tr>\n",
       "      <th>6</th>\n",
       "      <td>cnvrgv2 CLI | cnvrg.io docs cnvrg.io docs Tut...</td>\n",
       "      <td>{'description': 'Documentation website for cnv...</td>\n",
       "    </tr>\n",
       "    <tr>\n",
       "      <th>7</th>\n",
       "      <td>Videos | cnvrg.io docs cnvrg.io docs Tutorial...</td>\n",
       "      <td>{'description': 'Documentation website for cnv...</td>\n",
       "    </tr>\n",
       "    <tr>\n",
       "      <th>8</th>\n",
       "      <td>Workspaces | cnvrg.io docs cnvrg.io docs Tuto...</td>\n",
       "      <td>{'description': 'Documentation website for cnv...</td>\n",
       "    </tr>\n",
       "    <tr>\n",
       "      <th>9</th>\n",
       "      <td>Projects | cnvrg.io docs cnvrg.io docs Tutori...</td>\n",
       "      <td>{'description': 'Documentation website for cnv...</td>\n",
       "    </tr>\n",
       "    <tr>\n",
       "      <th>10</th>\n",
       "      <td>Dashboard | cnvrg.io docs cnvrg.io docs Tutor...</td>\n",
       "      <td>{'description': 'Documentation website for cnv...</td>\n",
       "    </tr>\n",
       "    <tr>\n",
       "      <th>11</th>\n",
       "      <td>cnvrg SDK V2 | cnvrg.io docs cnvrg.io docs Tu...</td>\n",
       "      <td>{'description': 'Documentation website for cnv...</td>\n",
       "    </tr>\n",
       "    <tr>\n",
       "      <th>12</th>\n",
       "      <td>Welcome to cnvrg.io | cnvrg.io docs cnvrg.io ...</td>\n",
       "      <td>{'description': 'Documentation website for cnv...</td>\n",
       "    </tr>\n",
       "    <tr>\n",
       "      <th>13</th>\n",
       "      <td>Apps | cnvrg.io docs cnvrg.io docs Tutorials ...</td>\n",
       "      <td>{'description': 'Documentation website for cnv...</td>\n",
       "    </tr>\n",
       "    <tr>\n",
       "      <th>14</th>\n",
       "      <td>Serving | cnvrg.io docs cnvrg.io docs Tutoria...</td>\n",
       "      <td>{'description': 'Documentation website for cnv...</td>\n",
       "    </tr>\n",
       "    <tr>\n",
       "      <th>15</th>\n",
       "      <td>AI Library | cnvrg.io docs cnvrg.io docs Tuto...</td>\n",
       "      <td>{'description': 'Documentation website for cnv...</td>\n",
       "    </tr>\n",
       "    <tr>\n",
       "      <th>16</th>\n",
       "      <td>Release Notes | cnvrg.io docs cnvrg.io docs T...</td>\n",
       "      <td>{'description': 'Documentation website for cnv...</td>\n",
       "    </tr>\n",
       "    <tr>\n",
       "      <th>17</th>\n",
       "      <td>Containers | cnvrg.io docs cnvrg.io docs Tuto...</td>\n",
       "      <td>{'description': 'Documentation website for cnv...</td>\n",
       "    </tr>\n",
       "    <tr>\n",
       "      <th>18</th>\n",
       "      <td>Compute | cnvrg.io docs cnvrg.io docs Tutoria...</td>\n",
       "      <td>{'description': 'Documentation website for cnv...</td>\n",
       "    </tr>\n",
       "    <tr>\n",
       "      <th>19</th>\n",
       "      <td>Tutorials and Examples | cnvrg.io docs cnvrg....</td>\n",
       "      <td>{'description': 'Documentation website for cnv...</td>\n",
       "    </tr>\n",
       "  </tbody>\n",
       "</table>\n",
       "</div>"
      ],
      "text/plain": [
       "                                                 text  \\\n",
       "0    Flows | cnvrg.io docs cnvrg.io docs Tutorials...   \n",
       "1    Organization, Account, and Team Settings | cn...   \n",
       "2    Experiments | cnvrg.io docs cnvrg.io docs Tut...   \n",
       "3    Tutorials and Examples | cnvrg.io docs cnvrg....   \n",
       "4    Datasets | cnvrg.io docs cnvrg.io docs Tutori...   \n",
       "5    Distributed Jobs | cnvrg.io docs cnvrg.io doc...   \n",
       "6    cnvrgv2 CLI | cnvrg.io docs cnvrg.io docs Tut...   \n",
       "7    Videos | cnvrg.io docs cnvrg.io docs Tutorial...   \n",
       "8    Workspaces | cnvrg.io docs cnvrg.io docs Tuto...   \n",
       "9    Projects | cnvrg.io docs cnvrg.io docs Tutori...   \n",
       "10   Dashboard | cnvrg.io docs cnvrg.io docs Tutor...   \n",
       "11   cnvrg SDK V2 | cnvrg.io docs cnvrg.io docs Tu...   \n",
       "12   Welcome to cnvrg.io | cnvrg.io docs cnvrg.io ...   \n",
       "13   Apps | cnvrg.io docs cnvrg.io docs Tutorials ...   \n",
       "14   Serving | cnvrg.io docs cnvrg.io docs Tutoria...   \n",
       "15   AI Library | cnvrg.io docs cnvrg.io docs Tuto...   \n",
       "16   Release Notes | cnvrg.io docs cnvrg.io docs T...   \n",
       "17   Containers | cnvrg.io docs cnvrg.io docs Tuto...   \n",
       "18   Compute | cnvrg.io docs cnvrg.io docs Tutoria...   \n",
       "19   Tutorials and Examples | cnvrg.io docs cnvrg....   \n",
       "\n",
       "                                             metadata  \n",
       "0   {'description': 'Documentation website for cnv...  \n",
       "1   {'description': 'Documentation website for cnv...  \n",
       "2   {'description': 'Documentation website for cnv...  \n",
       "3   {'description': 'Documentation website for cnv...  \n",
       "4   {'description': 'Documentation website for cnv...  \n",
       "5   {'description': 'Documentation website for cnv...  \n",
       "6   {'description': 'Documentation website for cnv...  \n",
       "7   {'description': 'Documentation website for cnv...  \n",
       "8   {'description': 'Documentation website for cnv...  \n",
       "9   {'description': 'Documentation website for cnv...  \n",
       "10  {'description': 'Documentation website for cnv...  \n",
       "11  {'description': 'Documentation website for cnv...  \n",
       "12  {'description': 'Documentation website for cnv...  \n",
       "13  {'description': 'Documentation website for cnv...  \n",
       "14  {'description': 'Documentation website for cnv...  \n",
       "15  {'description': 'Documentation website for cnv...  \n",
       "16  {'description': 'Documentation website for cnv...  \n",
       "17  {'description': 'Documentation website for cnv...  \n",
       "18  {'description': 'Documentation website for cnv...  \n",
       "19  {'description': 'Documentation website for cnv...  "
      ]
     },
     "metadata": {},
     "output_type": "display_data"
    }
   ],
   "source": [
    "from pyrecdp.primitives.operations import RAGTextFix\n",
    "text_fixer = RAGTextFix(str_to_replace={'\\n###': '', '\\n##': '', '\\n#': ''}, remove_extra_whitespace=True)\n",
    "ds = text_fixer.process_rayds(ds)\n",
    "display(ds.to_pandas())\n"
   ]
  },
  {
   "cell_type": "markdown",
   "metadata": {},
   "source": [
    "#### 2.2.2 Split document"
   ]
  },
  {
   "cell_type": "code",
   "execution_count": 4,
   "metadata": {},
   "outputs": [
    {
     "name": "stderr",
     "output_type": "stream",
     "text": [
      "2023-12-19 15:43:33,682\tINFO streaming_executor.py:93 -- Executing DAG InputDataBuffer[Input] -> TaskPoolMapOperator[Map(<lambda>)->FlatMap(<lambda>)]\n",
      "2023-12-19 15:43:33,683\tINFO streaming_executor.py:94 -- Execution config: ExecutionOptions(resource_limits=ExecutionResources(cpu=None, gpu=None, object_store_memory=None), locality_with_output=False, preserve_order=False, actor_locality_enabled=True, verbose_progress=False)\n",
      "2023-12-19 15:43:33,684\tINFO streaming_executor.py:96 -- Tip: For detailed progress reporting, run `ray.data.DataContext.get_current().execution_options.verbose_progress = True`\n"
     ]
    },
    {
     "data": {
      "application/vnd.jupyter.widget-view+json": {
       "model_id": "1d0c25ef14a845cbaedd7683b1a8aa12",
       "version_major": 2,
       "version_minor": 0
      },
      "text/plain": [
       "Running 0:   0%|          | 0/20 [00:00<?, ?it/s]"
      ]
     },
     "metadata": {},
     "output_type": "display_data"
    },
    {
     "data": {
      "text/html": [
       "<div>\n",
       "<style scoped>\n",
       "    .dataframe tbody tr th:only-of-type {\n",
       "        vertical-align: middle;\n",
       "    }\n",
       "\n",
       "    .dataframe tbody tr th {\n",
       "        vertical-align: top;\n",
       "    }\n",
       "\n",
       "    .dataframe thead th {\n",
       "        text-align: right;\n",
       "    }\n",
       "</style>\n",
       "<table border=\"1\" class=\"dataframe\">\n",
       "  <thead>\n",
       "    <tr style=\"text-align: right;\">\n",
       "      <th></th>\n",
       "      <th>text</th>\n",
       "      <th>metadata</th>\n",
       "    </tr>\n",
       "  </thead>\n",
       "  <tbody>\n",
       "    <tr>\n",
       "      <th>0</th>\n",
       "      <td>Welcome to cnvrg.io cnvrg.io is a machine lear...</td>\n",
       "      <td>{'description': 'Documentation website for cnv...</td>\n",
       "    </tr>\n",
       "    <tr>\n",
       "      <th>1</th>\n",
       "      <td>Resource Management With our Dashboard, get a ...</td>\n",
       "      <td>{'description': 'Documentation website for cnv...</td>\n",
       "    </tr>\n",
       "    <tr>\n",
       "      <th>2</th>\n",
       "      <td>Apps cnvrg is a full-stack platform, designed ...</td>\n",
       "      <td>{'description': 'Documentation website for cnv...</td>\n",
       "    </tr>\n",
       "    <tr>\n",
       "      <th>3</th>\n",
       "      <td>R Shiny Shiny is an R package that simplifies ...</td>\n",
       "      <td>{'description': 'Documentation website for cnv...</td>\n",
       "    </tr>\n",
       "    <tr>\n",
       "      <th>4</th>\n",
       "      <td>Use R Shiny Complete the following steps to se...</td>\n",
       "      <td>{'description': 'Documentation website for cnv...</td>\n",
       "    </tr>\n",
       "    <tr>\n",
       "      <th>...</th>\n",
       "      <td>...</td>\n",
       "      <td>...</td>\n",
       "    </tr>\n",
       "    <tr>\n",
       "      <th>828</th>\n",
       "      <td>Tutorials and Examples To help you get started...</td>\n",
       "      <td>{'description': 'Documentation website for cnv...</td>\n",
       "    </tr>\n",
       "    <tr>\n",
       "      <th>829</th>\n",
       "      <td>Example Projects Build and Deploy an IMDB NLP ...</td>\n",
       "      <td>{'description': 'Documentation website for cnv...</td>\n",
       "    </tr>\n",
       "    <tr>\n",
       "      <th>830</th>\n",
       "      <td>Workspaces, Experiments and IDEs Run an Experi...</td>\n",
       "      <td>{'description': 'Documentation website for cnv...</td>\n",
       "    </tr>\n",
       "    <tr>\n",
       "      <th>831</th>\n",
       "      <td>Flows and Serving Processing your Dataset with...</td>\n",
       "      <td>{'description': 'Documentation website for cnv...</td>\n",
       "    </tr>\n",
       "    <tr>\n",
       "      <th>832</th>\n",
       "      <td>Other Setup Slack Integration for Experiments ...</td>\n",
       "      <td>{'description': 'Documentation website for cnv...</td>\n",
       "    </tr>\n",
       "  </tbody>\n",
       "</table>\n",
       "<p>833 rows × 2 columns</p>\n",
       "</div>"
      ],
      "text/plain": [
       "                                                  text  \\\n",
       "0    Welcome to cnvrg.io cnvrg.io is a machine lear...   \n",
       "1    Resource Management With our Dashboard, get a ...   \n",
       "2    Apps cnvrg is a full-stack platform, designed ...   \n",
       "3    R Shiny Shiny is an R package that simplifies ...   \n",
       "4    Use R Shiny Complete the following steps to se...   \n",
       "..                                                 ...   \n",
       "828  Tutorials and Examples To help you get started...   \n",
       "829  Example Projects Build and Deploy an IMDB NLP ...   \n",
       "830  Workspaces, Experiments and IDEs Run an Experi...   \n",
       "831  Flows and Serving Processing your Dataset with...   \n",
       "832  Other Setup Slack Integration for Experiments ...   \n",
       "\n",
       "                                              metadata  \n",
       "0    {'description': 'Documentation website for cnv...  \n",
       "1    {'description': 'Documentation website for cnv...  \n",
       "2    {'description': 'Documentation website for cnv...  \n",
       "3    {'description': 'Documentation website for cnv...  \n",
       "4    {'description': 'Documentation website for cnv...  \n",
       "..                                                 ...  \n",
       "828  {'description': 'Documentation website for cnv...  \n",
       "829  {'description': 'Documentation website for cnv...  \n",
       "830  {'description': 'Documentation website for cnv...  \n",
       "831  {'description': 'Documentation website for cnv...  \n",
       "832  {'description': 'Documentation website for cnv...  \n",
       "\n",
       "[833 rows x 2 columns]"
      ]
     },
     "metadata": {},
     "output_type": "display_data"
    },
    {
     "name": "stderr",
     "output_type": "stream",
     "text": [
      "\u001b[2m\u001b[33m(raylet)\u001b[0m [2023-12-19 15:43:34,260 E 109492 109513] (raylet) file_system_monitor.cc:111: /tmp/ray/session_2023-12-19_15-37-41_942580_108415 is over 95% full, available space: 511860736; capacity: 422146228224. Object creation will fail if spilling is required.\n"
     ]
    }
   ],
   "source": [
    "from pyrecdp.primitives.operations import CustomerDocumentSplit\n",
    "split_doc_op = CustomerDocumentSplit(func=lambda text: text.split('# ')[1:])\n",
    "ds = split_doc_op.process_rayds(ds)\n",
    "display(ds.to_pandas())"
   ]
  },
  {
   "cell_type": "markdown",
   "metadata": {},
   "source": [
    "#### 2.2.3 Add customer filter"
   ]
  },
  {
   "cell_type": "code",
   "execution_count": 5,
   "metadata": {},
   "outputs": [
    {
     "name": "stderr",
     "output_type": "stream",
     "text": [
      "2023-12-19 15:43:36,846\tINFO streaming_executor.py:93 -- Executing DAG InputDataBuffer[Input] -> TaskPoolMapOperator[Map(<lambda>)->FlatMap(<lambda>)->Filter(<lambda>)]\n",
      "2023-12-19 15:43:36,847\tINFO streaming_executor.py:94 -- Execution config: ExecutionOptions(resource_limits=ExecutionResources(cpu=None, gpu=None, object_store_memory=None), locality_with_output=False, preserve_order=False, actor_locality_enabled=True, verbose_progress=False)\n",
      "2023-12-19 15:43:36,848\tINFO streaming_executor.py:96 -- Tip: For detailed progress reporting, run `ray.data.DataContext.get_current().execution_options.verbose_progress = True`\n"
     ]
    },
    {
     "data": {
      "application/vnd.jupyter.widget-view+json": {
       "model_id": "9973f7e8dcf64a059f1539515d619ed9",
       "version_major": 2,
       "version_minor": 0
      },
      "text/plain": [
       "Running 0:   0%|          | 0/20 [00:00<?, ?it/s]"
      ]
     },
     "metadata": {},
     "output_type": "display_data"
    },
    {
     "data": {
      "text/html": [
       "<div>\n",
       "<style scoped>\n",
       "    .dataframe tbody tr th:only-of-type {\n",
       "        vertical-align: middle;\n",
       "    }\n",
       "\n",
       "    .dataframe tbody tr th {\n",
       "        vertical-align: top;\n",
       "    }\n",
       "\n",
       "    .dataframe thead th {\n",
       "        text-align: right;\n",
       "    }\n",
       "</style>\n",
       "<table border=\"1\" class=\"dataframe\">\n",
       "  <thead>\n",
       "    <tr style=\"text-align: right;\">\n",
       "      <th></th>\n",
       "      <th>text</th>\n",
       "      <th>metadata</th>\n",
       "    </tr>\n",
       "  </thead>\n",
       "  <tbody>\n",
       "    <tr>\n",
       "      <th>0</th>\n",
       "      <td>Welcome to cnvrg.io cnvrg.io is a machine lear...</td>\n",
       "      <td>{'description': 'Documentation website for cnv...</td>\n",
       "    </tr>\n",
       "    <tr>\n",
       "      <th>1</th>\n",
       "      <td>Resource Management With our Dashboard, get a ...</td>\n",
       "      <td>{'description': 'Documentation website for cnv...</td>\n",
       "    </tr>\n",
       "    <tr>\n",
       "      <th>2</th>\n",
       "      <td>Apps cnvrg is a full-stack platform, designed ...</td>\n",
       "      <td>{'description': 'Documentation website for cnv...</td>\n",
       "    </tr>\n",
       "    <tr>\n",
       "      <th>3</th>\n",
       "      <td>R Shiny Shiny is an R package that simplifies ...</td>\n",
       "      <td>{'description': 'Documentation website for cnv...</td>\n",
       "    </tr>\n",
       "    <tr>\n",
       "      <th>4</th>\n",
       "      <td>Use R Shiny Complete the following steps to se...</td>\n",
       "      <td>{'description': 'Documentation website for cnv...</td>\n",
       "    </tr>\n",
       "    <tr>\n",
       "      <th>...</th>\n",
       "      <td>...</td>\n",
       "      <td>...</td>\n",
       "    </tr>\n",
       "    <tr>\n",
       "      <th>570</th>\n",
       "      <td>Delete a registry To delete a registry from th...</td>\n",
       "      <td>{'description': 'Documentation website for cnv...</td>\n",
       "    </tr>\n",
       "    <tr>\n",
       "      <th>571</th>\n",
       "      <td>Create an image To create an image, use the fo...</td>\n",
       "      <td>{'description': 'Documentation website for cnv...</td>\n",
       "    </tr>\n",
       "    <tr>\n",
       "      <th>572</th>\n",
       "      <td>Get an image To retrieve information about an ...</td>\n",
       "      <td>{'description': 'Documentation website for cnv...</td>\n",
       "    </tr>\n",
       "    <tr>\n",
       "      <th>573</th>\n",
       "      <td>when reffering to an image built from dockerfi...</td>\n",
       "      <td>{'description': 'Documentation website for cnv...</td>\n",
       "    </tr>\n",
       "    <tr>\n",
       "      <th>574</th>\n",
       "      <td>Delete an image To delete an image using its n...</td>\n",
       "      <td>{'description': 'Documentation website for cnv...</td>\n",
       "    </tr>\n",
       "  </tbody>\n",
       "</table>\n",
       "<p>575 rows × 2 columns</p>\n",
       "</div>"
      ],
      "text/plain": [
       "                                                  text  \\\n",
       "0    Welcome to cnvrg.io cnvrg.io is a machine lear...   \n",
       "1    Resource Management With our Dashboard, get a ...   \n",
       "2    Apps cnvrg is a full-stack platform, designed ...   \n",
       "3    R Shiny Shiny is an R package that simplifies ...   \n",
       "4    Use R Shiny Complete the following steps to se...   \n",
       "..                                                 ...   \n",
       "570  Delete a registry To delete a registry from th...   \n",
       "571  Create an image To create an image, use the fo...   \n",
       "572  Get an image To retrieve information about an ...   \n",
       "573  when reffering to an image built from dockerfi...   \n",
       "574  Delete an image To delete an image using its n...   \n",
       "\n",
       "                                              metadata  \n",
       "0    {'description': 'Documentation website for cnv...  \n",
       "1    {'description': 'Documentation website for cnv...  \n",
       "2    {'description': 'Documentation website for cnv...  \n",
       "3    {'description': 'Documentation website for cnv...  \n",
       "4    {'description': 'Documentation website for cnv...  \n",
       "..                                                 ...  \n",
       "570  {'description': 'Documentation website for cnv...  \n",
       "571  {'description': 'Documentation website for cnv...  \n",
       "572  {'description': 'Documentation website for cnv...  \n",
       "573  {'description': 'Documentation website for cnv...  \n",
       "574  {'description': 'Documentation website for cnv...  \n",
       "\n",
       "[575 rows x 2 columns]"
      ]
     },
     "metadata": {},
     "output_type": "display_data"
    }
   ],
   "source": [
    "def custom_filter(text):\n",
    "    from nltk.tokenize import word_tokenize\n",
    "    ret_txt = None\n",
    "    if len(word_tokenize(text)) >10:\n",
    "        if text.split(' ')[0].lower()!='version':\n",
    "            ret_txt = text\n",
    "    return ret_txt != None\n",
    "    \n",
    "from pyrecdp.primitives.operations import TextCustomerFilter\n",
    "custom_filter_op = TextCustomerFilter(custom_filter)\n",
    "\n",
    "ds = custom_filter_op.process_rayds(ds)\n",
    "display(ds.to_pandas())\n"
   ]
  },
  {
   "cell_type": "markdown",
   "metadata": {},
   "source": [
    "#### 2.2.4 chunk document"
   ]
  },
  {
   "cell_type": "code",
   "execution_count": 6,
   "metadata": {},
   "outputs": [
    {
     "name": "stderr",
     "output_type": "stream",
     "text": [
      "2023-12-19 15:43:40,101\tINFO streaming_executor.py:93 -- Executing DAG InputDataBuffer[Input] -> TaskPoolMapOperator[Map(<lambda>)->FlatMap(<lambda>)->Filter(<lambda>)->FlatMap(<lambda>)]\n",
      "2023-12-19 15:43:40,102\tINFO streaming_executor.py:94 -- Execution config: ExecutionOptions(resource_limits=ExecutionResources(cpu=None, gpu=None, object_store_memory=None), locality_with_output=False, preserve_order=False, actor_locality_enabled=True, verbose_progress=False)\n",
      "2023-12-19 15:43:40,103\tINFO streaming_executor.py:96 -- Tip: For detailed progress reporting, run `ray.data.DataContext.get_current().execution_options.verbose_progress = True`\n"
     ]
    },
    {
     "data": {
      "application/vnd.jupyter.widget-view+json": {
       "model_id": "aae393a41116471eb133d72df94c6815",
       "version_major": 2,
       "version_minor": 0
      },
      "text/plain": [
       "Running 0:   0%|          | 0/20 [00:00<?, ?it/s]"
      ]
     },
     "metadata": {},
     "output_type": "display_data"
    },
    {
     "data": {
      "text/html": [
       "<div>\n",
       "<style scoped>\n",
       "    .dataframe tbody tr th:only-of-type {\n",
       "        vertical-align: middle;\n",
       "    }\n",
       "\n",
       "    .dataframe tbody tr th {\n",
       "        vertical-align: top;\n",
       "    }\n",
       "\n",
       "    .dataframe thead th {\n",
       "        text-align: right;\n",
       "    }\n",
       "</style>\n",
       "<table border=\"1\" class=\"dataframe\">\n",
       "  <thead>\n",
       "    <tr style=\"text-align: right;\">\n",
       "      <th></th>\n",
       "      <th>text</th>\n",
       "      <th>metadata</th>\n",
       "    </tr>\n",
       "  </thead>\n",
       "  <tbody>\n",
       "    <tr>\n",
       "      <th>0</th>\n",
       "      <td>Welcome to cnvrg.io cnvrg.io is a machine lear...</td>\n",
       "      <td>{'description': 'Documentation website for cnv...</td>\n",
       "    </tr>\n",
       "    <tr>\n",
       "      <th>1</th>\n",
       "      <td>Dataset Use Datasets to manage data with versi...</td>\n",
       "      <td>{'description': 'Documentation website for cnv...</td>\n",
       "    </tr>\n",
       "    <tr>\n",
       "      <th>2</th>\n",
       "      <td>Use Papers to consolidate comparison across ex...</td>\n",
       "      <td>{'description': 'Documentation website for cnv...</td>\n",
       "    </tr>\n",
       "    <tr>\n",
       "      <th>3</th>\n",
       "      <td>Resource Management With our Dashboard, get a ...</td>\n",
       "      <td>{'description': 'Documentation website for cnv...</td>\n",
       "    </tr>\n",
       "    <tr>\n",
       "      <th>4</th>\n",
       "      <td>Apps cnvrg is a full-stack platform, designed ...</td>\n",
       "      <td>{'description': 'Documentation website for cnv...</td>\n",
       "    </tr>\n",
       "    <tr>\n",
       "      <th>...</th>\n",
       "      <td>...</td>\n",
       "      <td>...</td>\n",
       "    </tr>\n",
       "    <tr>\n",
       "      <th>900</th>\n",
       "      <td>Delete a registry To delete a registry from th...</td>\n",
       "      <td>{'description': 'Documentation website for cnv...</td>\n",
       "    </tr>\n",
       "    <tr>\n",
       "      <th>901</th>\n",
       "      <td>Create an image To create an image, use the fo...</td>\n",
       "      <td>{'description': 'Documentation website for cnv...</td>\n",
       "    </tr>\n",
       "    <tr>\n",
       "      <th>902</th>\n",
       "      <td>Get an image To retrieve information about an ...</td>\n",
       "      <td>{'description': 'Documentation website for cnv...</td>\n",
       "    </tr>\n",
       "    <tr>\n",
       "      <th>903</th>\n",
       "      <td>when reffering to an image built from dockerfi...</td>\n",
       "      <td>{'description': 'Documentation website for cnv...</td>\n",
       "    </tr>\n",
       "    <tr>\n",
       "      <th>904</th>\n",
       "      <td>Delete an image To delete an image using its n...</td>\n",
       "      <td>{'description': 'Documentation website for cnv...</td>\n",
       "    </tr>\n",
       "  </tbody>\n",
       "</table>\n",
       "<p>905 rows × 2 columns</p>\n",
       "</div>"
      ],
      "text/plain": [
       "                                                  text  \\\n",
       "0    Welcome to cnvrg.io cnvrg.io is a machine lear...   \n",
       "1    Dataset Use Datasets to manage data with versi...   \n",
       "2    Use Papers to consolidate comparison across ex...   \n",
       "3    Resource Management With our Dashboard, get a ...   \n",
       "4    Apps cnvrg is a full-stack platform, designed ...   \n",
       "..                                                 ...   \n",
       "900  Delete a registry To delete a registry from th...   \n",
       "901  Create an image To create an image, use the fo...   \n",
       "902  Get an image To retrieve information about an ...   \n",
       "903  when reffering to an image built from dockerfi...   \n",
       "904  Delete an image To delete an image using its n...   \n",
       "\n",
       "                                              metadata  \n",
       "0    {'description': 'Documentation website for cnv...  \n",
       "1    {'description': 'Documentation website for cnv...  \n",
       "2    {'description': 'Documentation website for cnv...  \n",
       "3    {'description': 'Documentation website for cnv...  \n",
       "4    {'description': 'Documentation website for cnv...  \n",
       "..                                                 ...  \n",
       "900  {'description': 'Documentation website for cnv...  \n",
       "901  {'description': 'Documentation website for cnv...  \n",
       "902  {'description': 'Documentation website for cnv...  \n",
       "903  {'description': 'Documentation website for cnv...  \n",
       "904  {'description': 'Documentation website for cnv...  \n",
       "\n",
       "[905 rows x 2 columns]"
      ]
     },
     "metadata": {},
     "output_type": "display_data"
    },
    {
     "name": "stderr",
     "output_type": "stream",
     "text": [
      "\u001b[2m\u001b[33m(raylet)\u001b[0m [2023-12-19 15:43:44,274 E 109492 109513] (raylet) file_system_monitor.cc:111: /tmp/ray/session_2023-12-19_15-37-41_942580_108415 is over 95% full, available space: 511811584; capacity: 422146228224. Object creation will fail if spilling is required.\n"
     ]
    }
   ],
   "source": [
    "def chunk_doc(text,max_num_of_words):\n",
    "    from nltk.tokenize import word_tokenize,sent_tokenize\n",
    "    text= text.strip()\n",
    "    if len(word_tokenize(text)) <= max_num_of_words:\n",
    "        return [text]\n",
    "    else:\n",
    "        chunks = []\n",
    "        # split by sentence\n",
    "        sentences = sent_tokenize(text)\n",
    "        # print('number of sentences: ', len(sentences))\n",
    "        words_count = 0\n",
    "        temp_chunk = \"\"\n",
    "        for s in sentences:\n",
    "            temp_chunk+=(s+\" \")\n",
    "            words_count += len(word_tokenize(s))\n",
    "            if len(word_tokenize(temp_chunk))> max_num_of_words:\n",
    "                chunks.append(temp_chunk)\n",
    "                words_count = 0\n",
    "                temp_chunk = \"\"\n",
    "                \n",
    "        return chunks\n",
    "    \n",
    "from pyrecdp.primitives.operations import CustomerDocumentSplit\n",
    "chunk_doc_op = CustomerDocumentSplit(chunk_doc, max_num_of_words=50)\n",
    "\n",
    "ds = chunk_doc_op.process_rayds(ds)\n",
    "display(ds.to_pandas())"
   ]
  }
 ],
 "metadata": {
  "colab": {
   "provenance": []
  },
  "kernelspec": {
   "display_name": "Python 3 (ipykernel)",
   "language": "python",
   "name": "python3"
  },
  "language_info": {
   "codemirror_mode": {
    "name": "ipython",
    "version": 3
   },
   "file_extension": ".py",
   "mimetype": "text/x-python",
   "name": "python",
   "nbconvert_exporter": "python",
   "pygments_lexer": "ipython3",
   "version": "3.10.13"
  }
 },
 "nbformat": 4,
 "nbformat_minor": 0
}
