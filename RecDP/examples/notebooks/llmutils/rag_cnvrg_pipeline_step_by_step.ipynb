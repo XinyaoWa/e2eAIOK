{
 "cells": [
  {
   "cell_type": "markdown",
   "metadata": {
    "id": "VkgW3cFeoYmv"
   },
   "source": [
    "# RecDP LLM - RAG Indexer Pipeline (ElasticSearch)\n",
    "\n",
    "This notebook will show you how to construct a RAG indexer pipeline with RecDP-LLM, it use Elasticsearch as backend document store"
   ]
  },
  {
   "cell_type": "markdown",
   "metadata": {
    "id": "Gb8OEtJCo4X0"
   },
   "source": [
    "# Get started"
   ]
  },
  {
   "cell_type": "markdown",
   "metadata": {
    "id": "BT-BjcaHj3eh"
   },
   "source": [
    "## 1. Install pyrecdp and dependencies"
   ]
  },
  {
   "cell_type": "code",
   "execution_count": 2,
   "metadata": {
    "id": "E3ffXVymdeKg"
   },
   "outputs": [],
   "source": [
    "! DEBIAN_FRONTEND=noninteractive apt-get install -qq -y openjdk-8-jre\n",
    "! pip install -q pyrecdp --pre\n",
    "# ! pip install 'git+https://github.com/intel/e2eAIOK.git#egg=pyrecdp&subdirectory=RecDP'"
   ]
  },
  {
   "cell_type": "markdown",
   "metadata": {
    "id": "JjTnnzw_kRVV"
   },
   "source": [
    "## 2. Setup and run RAG indexer pipeline"
   ]
  },
  {
   "cell_type": "markdown",
   "metadata": {},
   "source": [
    "### 2.1 Loader documents"
   ]
  },
  {
   "cell_type": "code",
   "execution_count": 1,
   "metadata": {},
   "outputs": [
    {
     "name": "stderr",
     "output_type": "stream",
     "text": [
      "/root/miniforge3/envs/recdp/lib/python3.10/site-packages/_distutils_hack/__init__.py:33: UserWarning: Setuptools is replacing distutils.\n",
      "  warnings.warn(\"Setuptools is replacing distutils.\")\n",
      "/root/miniforge3/envs/recdp/lib/python3.10/site-packages/pyspark/pandas/__init__.py:50: UserWarning: 'PYARROW_IGNORE_TIMEZONE' environment variable was not set. It is required to set this environment variable to '1' in both driver and executor sides if you use pyarrow>=2.0.0. pandas-on-Spark will set it for you but it does not work if there is a Spark context already launched.\n",
      "  warnings.warn(\n",
      "\u001B[32m2023-12-13 11:22:36.363\u001B[0m | \u001B[1mINFO    \u001B[0m | \u001B[36mpyrecdp.core.import_utils\u001B[0m:\u001B[36mcheck_availability_and_install\u001B[0m:\u001B[36m50\u001B[0m - \u001B[1mcheck_availability_and_install emoji==2.2.0\u001B[0m\n"
     ]
    },
    {
     "name": "stdout",
     "output_type": "stream",
     "text": [
      "\u001B[32m2023-12-13 11:22:36.397\u001B[0m | \u001B[1mINFO    \u001B[0m | \u001B[36mpyrecdp.core.import_utils\u001B[0m:\u001B[36mcheck_availability_and_install\u001B[0m:\u001B[36m45\u001B[0m - \u001B[1mcheck_availability_and_install ['unstructured']\u001B[0m\n"
     ]
    },
    {
     "name": "stderr",
     "output_type": "stream",
     "text": [
      "2023-12-13 11:22:58,390\tINFO worker.py:1642 -- Started a local Ray instance.\n"
     ]
    },
    {
     "data": {
      "text/html": [
       "<div>\n",
       "<style scoped>\n",
       "    .dataframe tbody tr th:only-of-type {\n",
       "        vertical-align: middle;\n",
       "    }\n",
       "\n",
       "    .dataframe tbody tr th {\n",
       "        vertical-align: top;\n",
       "    }\n",
       "\n",
       "    .dataframe thead th {\n",
       "        text-align: right;\n",
       "    }\n",
       "</style>\n",
       "<table border=\"1\" class=\"dataframe\">\n",
       "  <thead>\n",
       "    <tr style=\"text-align: right;\">\n",
       "      <th></th>\n",
       "      <th>text</th>\n",
       "      <th>metadata</th>\n",
       "    </tr>\n",
       "  </thead>\n",
       "  <tbody>\n",
       "    <tr>\n",
       "      <th>0</th>\n",
       "      <td># Welcome to cnvrg.io\\n\\ncnvrg.io is a machine...</td>\n",
       "      <td>{'source': 'https://app.cnvrg.io/docs/'}</td>\n",
       "    </tr>\n",
       "    <tr>\n",
       "      <th>1</th>\n",
       "      <td># cnvrg SDK V2\\n\\n# Getting Started\\n\\nThe cnv...</td>\n",
       "      <td>{'source': 'https://app.cnvrg.io/docs/core_con...</td>\n",
       "    </tr>\n",
       "    <tr>\n",
       "      <th>2</th>\n",
       "      <td># cnvrgv2 CLI\\n\\nAs data scientists, we use th...</td>\n",
       "      <td>{'source': 'https://app.cnvrg.io/docs/cli_v2/c...</td>\n",
       "    </tr>\n",
       "    <tr>\n",
       "      <th>3</th>\n",
       "      <td># Tutorials and Examples\\n\\nTo help you get st...</td>\n",
       "      <td>{'source': 'https://app.cnvrg.io/docs/collecti...</td>\n",
       "    </tr>\n",
       "  </tbody>\n",
       "</table>\n",
       "</div>"
      ],
      "text/plain": [
       "                                                text  \\\n",
       "0  # Welcome to cnvrg.io\\n\\ncnvrg.io is a machine...   \n",
       "1  # cnvrg SDK V2\\n\\n# Getting Started\\n\\nThe cnv...   \n",
       "2  # cnvrgv2 CLI\\n\\nAs data scientists, we use th...   \n",
       "3  # Tutorials and Examples\\n\\nTo help you get st...   \n",
       "\n",
       "                                            metadata  \n",
       "0           {'source': 'https://app.cnvrg.io/docs/'}  \n",
       "1  {'source': 'https://app.cnvrg.io/docs/core_con...  \n",
       "2  {'source': 'https://app.cnvrg.io/docs/cli_v2/c...  \n",
       "3  {'source': 'https://app.cnvrg.io/docs/collecti...  "
      ]
     },
     "metadata": {},
     "output_type": "display_data"
    }
   ],
   "source": [
    "urls = ['https://app.cnvrg.io/docs/', \n",
    "        'https://app.cnvrg.io/docs/core_concepts/python_sdk_v2.html',\n",
    "        'https://app.cnvrg.io/docs/cli_v2/cnvrgv2_cli.html',\n",
    "        'https://app.cnvrg.io/docs/collections/tutorials.html']\n",
    "\n",
    "from pyrecdp.primitives.operations import DocumentLoader\n",
    "url_loader = DocumentLoader(loader='UnstructuredURLLoader', loader_args={'urls': urls}, requirements=['unstructured'])\n",
    "\n",
    "ds = url_loader.process_rayds()\n",
    "display(ds.to_pandas())"
   ]
  },
  {
   "cell_type": "markdown",
   "metadata": {},
   "source": [
    "### 2.2 Preprocess documents"
   ]
  },
  {
   "cell_type": "markdown",
   "metadata": {},
   "source": [
    "#### 2.2.1 Remove header separator and Extra white space"
   ]
  },
  {
   "cell_type": "code",
   "execution_count": 2,
   "metadata": {},
   "outputs": [
    {
     "name": "stdout",
     "output_type": "stream",
     "text": [
      "\u001B[32m2023-12-13 11:23:32.657\u001B[0m | \u001B[1mINFO    \u001B[0m | \u001B[36mpyrecdp.core.import_utils\u001B[0m:\u001B[36mcheck_availability_and_install\u001B[0m:\u001B[36m45\u001B[0m - \u001B[1mcheck_availability_and_install ['ftfy', 'selectolax']\u001B[0m\n",
      "\u001B[32m2023-12-13 11:23:32.711\u001B[0m | \u001B[1mINFO    \u001B[0m | \u001B[36mpyrecdp.core.import_utils\u001B[0m:\u001B[36mcheck_availability_and_install\u001B[0m:\u001B[36m50\u001B[0m - \u001B[1mcheck_availability_and_install nltk\u001B[0m\n",
      "\u001B[32m2023-12-13 11:23:32.712\u001B[0m | \u001B[1mINFO    \u001B[0m | \u001B[36mpyrecdp.core.model_utils\u001B[0m:\u001B[36mprepare_nltk_model\u001B[0m:\u001B[36m164\u001B[0m - \u001B[1mLoading nltk punkt split model...\u001B[0m\n"
     ]
    },
    {
     "name": "stderr",
     "output_type": "stream",
     "text": [
      "2023-12-13 11:23:32,723\tINFO streaming_executor.py:93 -- Executing DAG InputDataBuffer[Input] -> TaskPoolMapOperator[Map(<lambda>)]\n",
      "2023-12-13 11:23:32,724\tINFO streaming_executor.py:94 -- Execution config: ExecutionOptions(resource_limits=ExecutionResources(cpu=None, gpu=None, object_store_memory=None), locality_with_output=False, preserve_order=False, actor_locality_enabled=True, verbose_progress=False)\n",
      "2023-12-13 11:23:32,726\tINFO streaming_executor.py:96 -- Tip: For detailed progress reporting, run `ray.data.DataContext.get_current().execution_options.verbose_progress = True`\n"
     ]
    },
    {
     "data": {
      "application/vnd.jupyter.widget-view+json": {
       "model_id": "4ea7514a2fd749ac8f64b49170e9d7b1",
       "version_major": 2,
       "version_minor": 0
      },
      "text/plain": [
       "Running 0:   0%|          | 0/4 [00:00<?, ?it/s]"
      ]
     },
     "metadata": {},
     "output_type": "display_data"
    },
    {
     "name": "stderr",
     "output_type": "stream",
     "text": [
      "\u001B[2m\u001B[36m(Map(<lambda>) pid=1791147)\u001B[0m /root/miniforge3/envs/recdp/lib/python3.10/site-packages/_distutils_hack/__init__.py:33: UserWarning: Setuptools is replacing distutils.\n",
      "\u001B[2m\u001B[36m(Map(<lambda>) pid=1791147)\u001B[0m   warnings.warn(\"Setuptools is replacing distutils.\")\n",
      "\u001B[2m\u001B[36m(Map(<lambda>) pid=1791194)\u001B[0m 2023-12-13 11:23:34.531 | INFO     | pyrecdp.core.import_utils:check_availability_and_install:50 - check_availability_and_install emoji==2.2.0\n"
     ]
    },
    {
     "data": {
      "text/html": [
       "<div>\n",
       "<style scoped>\n",
       "    .dataframe tbody tr th:only-of-type {\n",
       "        vertical-align: middle;\n",
       "    }\n",
       "\n",
       "    .dataframe tbody tr th {\n",
       "        vertical-align: top;\n",
       "    }\n",
       "\n",
       "    .dataframe thead th {\n",
       "        text-align: right;\n",
       "    }\n",
       "</style>\n",
       "<table border=\"1\" class=\"dataframe\">\n",
       "  <thead>\n",
       "    <tr style=\"text-align: right;\">\n",
       "      <th></th>\n",
       "      <th>text</th>\n",
       "      <th>metadata</th>\n",
       "    </tr>\n",
       "  </thead>\n",
       "  <tbody>\n",
       "    <tr>\n",
       "      <th>0</th>\n",
       "      <td># cnvrg SDK V2 Getting Started The cnvrg SDK w...</td>\n",
       "      <td>{'source': 'https://app.cnvrg.io/docs/core_con...</td>\n",
       "    </tr>\n",
       "    <tr>\n",
       "      <th>1</th>\n",
       "      <td># cnvrgv2 CLI As data scientists, we use the t...</td>\n",
       "      <td>{'source': 'https://app.cnvrg.io/docs/cli_v2/c...</td>\n",
       "    </tr>\n",
       "    <tr>\n",
       "      <th>2</th>\n",
       "      <td># Tutorials and Examples To help you get start...</td>\n",
       "      <td>{'source': 'https://app.cnvrg.io/docs/collecti...</td>\n",
       "    </tr>\n",
       "    <tr>\n",
       "      <th>3</th>\n",
       "      <td># Welcome to cnvrg.io cnvrg.io is a machine le...</td>\n",
       "      <td>{'source': 'https://app.cnvrg.io/docs/'}</td>\n",
       "    </tr>\n",
       "  </tbody>\n",
       "</table>\n",
       "</div>"
      ],
      "text/plain": [
       "                                                text  \\\n",
       "0  # cnvrg SDK V2 Getting Started The cnvrg SDK w...   \n",
       "1  # cnvrgv2 CLI As data scientists, we use the t...   \n",
       "2  # Tutorials and Examples To help you get start...   \n",
       "3  # Welcome to cnvrg.io cnvrg.io is a machine le...   \n",
       "\n",
       "                                            metadata  \n",
       "0  {'source': 'https://app.cnvrg.io/docs/core_con...  \n",
       "1  {'source': 'https://app.cnvrg.io/docs/cli_v2/c...  \n",
       "2  {'source': 'https://app.cnvrg.io/docs/collecti...  \n",
       "3           {'source': 'https://app.cnvrg.io/docs/'}  "
      ]
     },
     "metadata": {},
     "output_type": "display_data"
    }
   ],
   "source": [
    "from pyrecdp.primitives.operations import RAGTextFix\n",
    "text_fixer = RAGTextFix(str_to_replace={'\\n###': '', '\\n##': '', '\\n#': ''}, remove_extra_whitespace=True)\n",
    "ds = text_fixer.process_rayds(ds)\n",
    "display(ds.to_pandas())\n"
   ]
  },
  {
   "cell_type": "markdown",
   "metadata": {},
   "source": [
    "#### 2.2.2 Split document"
   ]
  },
  {
   "cell_type": "code",
   "execution_count": 3,
   "metadata": {},
   "outputs": [
    {
     "name": "stderr",
     "output_type": "stream",
     "text": [
      "2023-12-13 11:23:37,686\tINFO streaming_executor.py:93 -- Executing DAG InputDataBuffer[Input] -> TaskPoolMapOperator[Map(<lambda>)->FlatMap(<lambda>)]\n",
      "2023-12-13 11:23:37,688\tINFO streaming_executor.py:94 -- Execution config: ExecutionOptions(resource_limits=ExecutionResources(cpu=None, gpu=None, object_store_memory=None), locality_with_output=False, preserve_order=False, actor_locality_enabled=True, verbose_progress=False)\n",
      "2023-12-13 11:23:37,689\tINFO streaming_executor.py:96 -- Tip: For detailed progress reporting, run `ray.data.DataContext.get_current().execution_options.verbose_progress = True`\n"
     ]
    },
    {
     "data": {
      "application/vnd.jupyter.widget-view+json": {
       "model_id": "00ad26cc09e54793a2a98af417fecbe2",
       "version_major": 2,
       "version_minor": 0
      },
      "text/plain": [
       "Running 0:   0%|          | 0/4 [00:00<?, ?it/s]"
      ]
     },
     "metadata": {},
     "output_type": "display_data"
    },
    {
     "data": {
      "text/html": [
       "<div>\n",
       "<style scoped>\n",
       "    .dataframe tbody tr th:only-of-type {\n",
       "        vertical-align: middle;\n",
       "    }\n",
       "\n",
       "    .dataframe tbody tr th {\n",
       "        vertical-align: top;\n",
       "    }\n",
       "\n",
       "    .dataframe thead th {\n",
       "        text-align: right;\n",
       "    }\n",
       "</style>\n",
       "<table border=\"1\" class=\"dataframe\">\n",
       "  <thead>\n",
       "    <tr style=\"text-align: right;\">\n",
       "      <th></th>\n",
       "      <th>text</th>\n",
       "      <th>metadata</th>\n",
       "    </tr>\n",
       "  </thead>\n",
       "  <tbody>\n",
       "    <tr>\n",
       "      <th>0</th>\n",
       "      <td>Welcome to cnvrg.io cnvrg.io is a machine lear...</td>\n",
       "      <td>{'source': 'https://app.cnvrg.io/docs/'}</td>\n",
       "    </tr>\n",
       "    <tr>\n",
       "      <th>1</th>\n",
       "      <td>cnvrgv2 CLI As data scientists, we use the ter...</td>\n",
       "      <td>{'source': 'https://app.cnvrg.io/docs/cli_v2/c...</td>\n",
       "    </tr>\n",
       "    <tr>\n",
       "      <th>2</th>\n",
       "      <td>Tutorials and Examples To help you get started...</td>\n",
       "      <td>{'source': 'https://app.cnvrg.io/docs/collecti...</td>\n",
       "    </tr>\n",
       "    <tr>\n",
       "      <th>3</th>\n",
       "      <td>cnvrg SDK V2 Getting Started The cnvrg SDK was...</td>\n",
       "      <td>{'source': 'https://app.cnvrg.io/docs/core_con...</td>\n",
       "    </tr>\n",
       "    <tr>\n",
       "      <th>4</th>\n",
       "      <td>An array of numerical values values: [0.1, 0.0...</td>\n",
       "      <td>{'source': 'https://app.cnvrg.io/docs/core_con...</td>\n",
       "    </tr>\n",
       "    <tr>\n",
       "      <th>5</th>\n",
       "      <td>An array of string values values: [\"linear\", \"...</td>\n",
       "      <td>{'source': 'https://app.cnvrg.io/docs/core_con...</td>\n",
       "    </tr>\n",
       "    <tr>\n",
       "      <th>6</th>\n",
       "      <td>inclusive max: 20</td>\n",
       "      <td>{'source': 'https://app.cnvrg.io/docs/core_con...</td>\n",
       "    </tr>\n",
       "    <tr>\n",
       "      <th>7</th>\n",
       "      <td>not inclusive scale: \"linear\" steps: 2</td>\n",
       "      <td>{'source': 'https://app.cnvrg.io/docs/core_con...</td>\n",
       "    </tr>\n",
       "    <tr>\n",
       "      <th>8</th>\n",
       "      <td>The number of linear steps to produce. \"\"\" e =...</td>\n",
       "      <td>{'source': 'https://app.cnvrg.io/docs/core_con...</td>\n",
       "    </tr>\n",
       "  </tbody>\n",
       "</table>\n",
       "</div>"
      ],
      "text/plain": [
       "                                                text  \\\n",
       "0  Welcome to cnvrg.io cnvrg.io is a machine lear...   \n",
       "1  cnvrgv2 CLI As data scientists, we use the ter...   \n",
       "2  Tutorials and Examples To help you get started...   \n",
       "3  cnvrg SDK V2 Getting Started The cnvrg SDK was...   \n",
       "4  An array of numerical values values: [0.1, 0.0...   \n",
       "5  An array of string values values: [\"linear\", \"...   \n",
       "6                                 inclusive max: 20    \n",
       "7            not inclusive scale: \"linear\" steps: 2    \n",
       "8  The number of linear steps to produce. \"\"\" e =...   \n",
       "\n",
       "                                            metadata  \n",
       "0           {'source': 'https://app.cnvrg.io/docs/'}  \n",
       "1  {'source': 'https://app.cnvrg.io/docs/cli_v2/c...  \n",
       "2  {'source': 'https://app.cnvrg.io/docs/collecti...  \n",
       "3  {'source': 'https://app.cnvrg.io/docs/core_con...  \n",
       "4  {'source': 'https://app.cnvrg.io/docs/core_con...  \n",
       "5  {'source': 'https://app.cnvrg.io/docs/core_con...  \n",
       "6  {'source': 'https://app.cnvrg.io/docs/core_con...  \n",
       "7  {'source': 'https://app.cnvrg.io/docs/core_con...  \n",
       "8  {'source': 'https://app.cnvrg.io/docs/core_con...  "
      ]
     },
     "metadata": {},
     "output_type": "display_data"
    }
   ],
   "source": [
    "from pyrecdp.primitives.operations import CustomerDocumentSplit\n",
    "split_doc_op = CustomerDocumentSplit(func=lambda text: text.split('# ')[1:])\n",
    "ds = split_doc_op.process_rayds(ds)\n",
    "display(ds.to_pandas())"
   ]
  },
  {
   "cell_type": "markdown",
   "metadata": {},
   "source": [
    "#### 2.2.3 Add customer filter"
   ]
  },
  {
   "cell_type": "code",
   "execution_count": 4,
   "metadata": {},
   "outputs": [
    {
     "name": "stderr",
     "output_type": "stream",
     "text": [
      "2023-12-13 11:23:41,022\tINFO streaming_executor.py:93 -- Executing DAG InputDataBuffer[Input] -> TaskPoolMapOperator[Map(<lambda>)->FlatMap(<lambda>)->Filter(<lambda>)]\n",
      "2023-12-13 11:23:41,023\tINFO streaming_executor.py:94 -- Execution config: ExecutionOptions(resource_limits=ExecutionResources(cpu=None, gpu=None, object_store_memory=None), locality_with_output=False, preserve_order=False, actor_locality_enabled=True, verbose_progress=False)\n",
      "2023-12-13 11:23:41,025\tINFO streaming_executor.py:96 -- Tip: For detailed progress reporting, run `ray.data.DataContext.get_current().execution_options.verbose_progress = True`\n"
     ]
    },
    {
     "data": {
      "application/vnd.jupyter.widget-view+json": {
       "model_id": "27f9e634c5a741faa4ec740b223deeb9",
       "version_major": 2,
       "version_minor": 0
      },
      "text/plain": [
       "Running 0:   0%|          | 0/4 [00:00<?, ?it/s]"
      ]
     },
     "metadata": {},
     "output_type": "display_data"
    },
    {
     "data": {
      "text/html": [
       "<div>\n",
       "<style scoped>\n",
       "    .dataframe tbody tr th:only-of-type {\n",
       "        vertical-align: middle;\n",
       "    }\n",
       "\n",
       "    .dataframe tbody tr th {\n",
       "        vertical-align: top;\n",
       "    }\n",
       "\n",
       "    .dataframe thead th {\n",
       "        text-align: right;\n",
       "    }\n",
       "</style>\n",
       "<table border=\"1\" class=\"dataframe\">\n",
       "  <thead>\n",
       "    <tr style=\"text-align: right;\">\n",
       "      <th></th>\n",
       "      <th>text</th>\n",
       "      <th>metadata</th>\n",
       "    </tr>\n",
       "  </thead>\n",
       "  <tbody>\n",
       "    <tr>\n",
       "      <th>0</th>\n",
       "      <td>Welcome to cnvrg.io cnvrg.io is a machine lear...</td>\n",
       "      <td>{'source': 'https://app.cnvrg.io/docs/'}</td>\n",
       "    </tr>\n",
       "    <tr>\n",
       "      <th>1</th>\n",
       "      <td>cnvrgv2 CLI As data scientists, we use the ter...</td>\n",
       "      <td>{'source': 'https://app.cnvrg.io/docs/cli_v2/c...</td>\n",
       "    </tr>\n",
       "    <tr>\n",
       "      <th>2</th>\n",
       "      <td>Tutorials and Examples To help you get started...</td>\n",
       "      <td>{'source': 'https://app.cnvrg.io/docs/collecti...</td>\n",
       "    </tr>\n",
       "    <tr>\n",
       "      <th>3</th>\n",
       "      <td>cnvrg SDK V2 Getting Started The cnvrg SDK was...</td>\n",
       "      <td>{'source': 'https://app.cnvrg.io/docs/core_con...</td>\n",
       "    </tr>\n",
       "    <tr>\n",
       "      <th>4</th>\n",
       "      <td>An array of numerical values values: [0.1, 0.0...</td>\n",
       "      <td>{'source': 'https://app.cnvrg.io/docs/core_con...</td>\n",
       "    </tr>\n",
       "    <tr>\n",
       "      <th>5</th>\n",
       "      <td>An array of string values values: [\"linear\", \"...</td>\n",
       "      <td>{'source': 'https://app.cnvrg.io/docs/core_con...</td>\n",
       "    </tr>\n",
       "    <tr>\n",
       "      <th>6</th>\n",
       "      <td>The number of linear steps to produce. \"\"\" e =...</td>\n",
       "      <td>{'source': 'https://app.cnvrg.io/docs/core_con...</td>\n",
       "    </tr>\n",
       "  </tbody>\n",
       "</table>\n",
       "</div>"
      ],
      "text/plain": [
       "                                                text  \\\n",
       "0  Welcome to cnvrg.io cnvrg.io is a machine lear...   \n",
       "1  cnvrgv2 CLI As data scientists, we use the ter...   \n",
       "2  Tutorials and Examples To help you get started...   \n",
       "3  cnvrg SDK V2 Getting Started The cnvrg SDK was...   \n",
       "4  An array of numerical values values: [0.1, 0.0...   \n",
       "5  An array of string values values: [\"linear\", \"...   \n",
       "6  The number of linear steps to produce. \"\"\" e =...   \n",
       "\n",
       "                                            metadata  \n",
       "0           {'source': 'https://app.cnvrg.io/docs/'}  \n",
       "1  {'source': 'https://app.cnvrg.io/docs/cli_v2/c...  \n",
       "2  {'source': 'https://app.cnvrg.io/docs/collecti...  \n",
       "3  {'source': 'https://app.cnvrg.io/docs/core_con...  \n",
       "4  {'source': 'https://app.cnvrg.io/docs/core_con...  \n",
       "5  {'source': 'https://app.cnvrg.io/docs/core_con...  \n",
       "6  {'source': 'https://app.cnvrg.io/docs/core_con...  "
      ]
     },
     "metadata": {},
     "output_type": "display_data"
    }
   ],
   "source": [
    "def custom_filter(text):\n",
    "    from nltk.tokenize import word_tokenize\n",
    "    ret_txt = None\n",
    "    if len(word_tokenize(text)) >10:\n",
    "        if text.split(' ')[0].lower()!='version':\n",
    "            ret_txt = text\n",
    "    return ret_txt != None\n",
    "    \n",
    "from pyrecdp.primitives.operations import TextCustomerFilter\n",
    "custom_filter_op = TextCustomerFilter(custom_filter)\n",
    "\n",
    "ds = custom_filter_op.process_rayds(ds)\n",
    "display(ds.to_pandas())\n"
   ]
  },
  {
   "cell_type": "markdown",
   "metadata": {},
   "source": [
    "#### 2.2.4 chunk document"
   ]
  },
  {
   "cell_type": "code",
   "execution_count": 5,
   "metadata": {},
   "outputs": [
    {
     "name": "stderr",
     "output_type": "stream",
     "text": [
      "2023-12-13 11:23:46,037\tINFO streaming_executor.py:93 -- Executing DAG InputDataBuffer[Input] -> TaskPoolMapOperator[Map(<lambda>)->FlatMap(<lambda>)->Filter(<lambda>)->FlatMap(<lambda>)]\n",
      "2023-12-13 11:23:46,039\tINFO streaming_executor.py:94 -- Execution config: ExecutionOptions(resource_limits=ExecutionResources(cpu=None, gpu=None, object_store_memory=None), locality_with_output=False, preserve_order=False, actor_locality_enabled=True, verbose_progress=False)\n",
      "2023-12-13 11:23:46,040\tINFO streaming_executor.py:96 -- Tip: For detailed progress reporting, run `ray.data.DataContext.get_current().execution_options.verbose_progress = True`\n"
     ]
    },
    {
     "data": {
      "application/vnd.jupyter.widget-view+json": {
       "model_id": "0f66bf68a4dd41529abd60577f2fda09",
       "version_major": 2,
       "version_minor": 0
      },
      "text/plain": [
       "Running 0:   0%|          | 0/4 [00:00<?, ?it/s]"
      ]
     },
     "metadata": {},
     "output_type": "display_data"
    },
    {
     "data": {
      "text/html": [
       "<div>\n",
       "<style scoped>\n",
       "    .dataframe tbody tr th:only-of-type {\n",
       "        vertical-align: middle;\n",
       "    }\n",
       "\n",
       "    .dataframe tbody tr th {\n",
       "        vertical-align: top;\n",
       "    }\n",
       "\n",
       "    .dataframe thead th {\n",
       "        text-align: right;\n",
       "    }\n",
       "</style>\n",
       "<table border=\"1\" class=\"dataframe\">\n",
       "  <thead>\n",
       "    <tr style=\"text-align: right;\">\n",
       "      <th></th>\n",
       "      <th>text</th>\n",
       "      <th>metadata</th>\n",
       "    </tr>\n",
       "  </thead>\n",
       "  <tbody>\n",
       "    <tr>\n",
       "      <th>0</th>\n",
       "      <td>Welcome to cnvrg.io cnvrg.io is a machine lear...</td>\n",
       "      <td>{'source': 'https://app.cnvrg.io/docs/'}</td>\n",
       "    </tr>\n",
       "    <tr>\n",
       "      <th>1</th>\n",
       "      <td>Dataset Use Datasets to manage data with versi...</td>\n",
       "      <td>{'source': 'https://app.cnvrg.io/docs/'}</td>\n",
       "    </tr>\n",
       "    <tr>\n",
       "      <th>2</th>\n",
       "      <td>Use Papers to consolidate comparison across ex...</td>\n",
       "      <td>{'source': 'https://app.cnvrg.io/docs/'}</td>\n",
       "    </tr>\n",
       "    <tr>\n",
       "      <th>3</th>\n",
       "      <td>Easily update your running serving to keep it ...</td>\n",
       "      <td>{'source': 'https://app.cnvrg.io/docs/'}</td>\n",
       "    </tr>\n",
       "    <tr>\n",
       "      <th>4</th>\n",
       "      <td>Tutorials and Examples To help you get started...</td>\n",
       "      <td>{'source': 'https://app.cnvrg.io/docs/collecti...</td>\n",
       "    </tr>\n",
       "    <tr>\n",
       "      <th>...</th>\n",
       "      <td>...</td>\n",
       "      <td>...</td>\n",
       "    </tr>\n",
       "    <tr>\n",
       "      <th>92</th>\n",
       "      <td>For example, gputype=v100 .To specify several,...</td>\n",
       "      <td>{'source': 'https://app.cnvrg.io/docs/core_con...</td>\n",
       "    </tr>\n",
       "    <tr>\n",
       "      <th>93</th>\n",
       "      <td>For example, gputype=v100 .To specify several,...</td>\n",
       "      <td>{'source': 'https://app.cnvrg.io/docs/core_con...</td>\n",
       "    </tr>\n",
       "    <tr>\n",
       "      <th>94</th>\n",
       "      <td>For example, gputype=v100 .To specify several,...</td>\n",
       "      <td>{'source': 'https://app.cnvrg.io/docs/core_con...</td>\n",
       "    </tr>\n",
       "    <tr>\n",
       "      <th>95</th>\n",
       "      <td>options are: cnvrg, dockerhub, gcr, acr, ecr, ...</td>\n",
       "      <td>{'source': 'https://app.cnvrg.io/docs/core_con...</td>\n",
       "    </tr>\n",
       "    <tr>\n",
       "      <th>96</th>\n",
       "      <td>options are: cnvrg, dockerhub, gcr, acr, ecr, ...</td>\n",
       "      <td>{'source': 'https://app.cnvrg.io/docs/core_con...</td>\n",
       "    </tr>\n",
       "  </tbody>\n",
       "</table>\n",
       "<p>97 rows × 2 columns</p>\n",
       "</div>"
      ],
      "text/plain": [
       "                                                 text  \\\n",
       "0   Welcome to cnvrg.io cnvrg.io is a machine lear...   \n",
       "1   Dataset Use Datasets to manage data with versi...   \n",
       "2   Use Papers to consolidate comparison across ex...   \n",
       "3   Easily update your running serving to keep it ...   \n",
       "4   Tutorials and Examples To help you get started...   \n",
       "..                                                ...   \n",
       "92  For example, gputype=v100 .To specify several,...   \n",
       "93  For example, gputype=v100 .To specify several,...   \n",
       "94  For example, gputype=v100 .To specify several,...   \n",
       "95  options are: cnvrg, dockerhub, gcr, acr, ecr, ...   \n",
       "96  options are: cnvrg, dockerhub, gcr, acr, ecr, ...   \n",
       "\n",
       "                                             metadata  \n",
       "0            {'source': 'https://app.cnvrg.io/docs/'}  \n",
       "1            {'source': 'https://app.cnvrg.io/docs/'}  \n",
       "2            {'source': 'https://app.cnvrg.io/docs/'}  \n",
       "3            {'source': 'https://app.cnvrg.io/docs/'}  \n",
       "4   {'source': 'https://app.cnvrg.io/docs/collecti...  \n",
       "..                                                ...  \n",
       "92  {'source': 'https://app.cnvrg.io/docs/core_con...  \n",
       "93  {'source': 'https://app.cnvrg.io/docs/core_con...  \n",
       "94  {'source': 'https://app.cnvrg.io/docs/core_con...  \n",
       "95  {'source': 'https://app.cnvrg.io/docs/core_con...  \n",
       "96  {'source': 'https://app.cnvrg.io/docs/core_con...  \n",
       "\n",
       "[97 rows x 2 columns]"
      ]
     },
     "metadata": {},
     "output_type": "display_data"
    }
   ],
   "source": [
    "def chunk_doc(text,max_num_of_words):\n",
    "    from nltk.tokenize import word_tokenize,sent_tokenize\n",
    "    text= text.strip()\n",
    "    if len(word_tokenize(text)) <= max_num_of_words:\n",
    "        return [text]\n",
    "    else:\n",
    "        chunks = []\n",
    "        # split by sentence\n",
    "        sentences = sent_tokenize(text)\n",
    "        # print('number of sentences: ', len(sentences))\n",
    "        words_count = 0\n",
    "        temp_chunk = \"\"\n",
    "        for s in sentences:\n",
    "            temp_chunk+=(s+\" \")\n",
    "            words_count += len(word_tokenize(s))\n",
    "            if len(word_tokenize(temp_chunk))> max_num_of_words:\n",
    "                chunks.append(temp_chunk)\n",
    "                words_count = 0\n",
    "                temp_chunk = \"\"\n",
    "                \n",
    "        return chunks\n",
    "    \n",
    "from pyrecdp.primitives.operations import CustomerDocumentSplit\n",
    "chunk_doc_op = CustomerDocumentSplit(chunk_doc, max_num_of_words=50)\n",
    "\n",
    "ds = chunk_doc_op.process_rayds(ds)\n",
    "display(ds.to_pandas())"
   ]
  },
  {
   "cell_type": "markdown",
   "metadata": {
    "id": "pLqx_qMnmL1o"
   },
   "source": [
    "### 2.3 Store documents \n",
    "\n"
   ]
  },
  {
   "cell_type": "markdown",
   "metadata": {},
   "source": [
    "#### 2.3.1 Setup ElasticSearch\n",
    "You'll need to install Docker Engine on your development system. Note that while Docker Engine is free to use, Docker Desktop may require you to purchase a license. See the [Docker Engine Server installation instructions](https://docs.docker.com/engine/install/#server) for details."
   ]
  },
  {
   "cell_type": "code",
   "execution_count": null,
   "metadata": {},
   "outputs": [
    {
     "name": "stdout",
     "output_type": "stream",
     "text": [
      "Dec 08, 2023 1:47:14 PM sun.util.locale.provider.LocaleProviderAdapter <clinit>\n",
      "WARNING: COMPAT locale provider will be removed in a future release\n",
      "{\"type\": \"server\", \"timestamp\": \"2023-12-08T13:47:14,874Z\", \"level\": \"INFO\", \"component\": \"o.e.n.Node\", \"cluster.name\": \"docker-cluster\", \"node.name\": \"d36a0b817d49\", \"message\": \"version[7.17.15], pid[7], build[default/docker/0b8ecfb4378335f4689c4223d1f1115f16bef3ba/2023-11-10T22:03:46.987399016Z], OS[Linux/5.15.0-79-generic/amd64], JVM[Oracle Corporation/OpenJDK 64-Bit Server VM/21.0.1/21.0.1+12-29]\" }\n",
      "{\"type\": \"server\", \"timestamp\": \"2023-12-08T13:47:14,877Z\", \"level\": \"INFO\", \"component\": \"o.e.n.Node\", \"cluster.name\": \"docker-cluster\", \"node.name\": \"d36a0b817d49\", \"message\": \"JVM home [/usr/share/elasticsearch/jdk], using bundled JDK [true]\" }\n",
      "{\"type\": \"server\", \"timestamp\": \"2023-12-08T13:47:14,878Z\", \"level\": \"INFO\", \"component\": \"o.e.n.Node\", \"cluster.name\": \"docker-cluster\", \"node.name\": \"d36a0b817d49\", \"message\": \"JVM arguments [-Xshare:auto, -Des.networkaddress.cache.ttl=60, -Des.networkaddress.cache.negative.ttl=10, -XX:+AlwaysPreTouch, -Xss1m, -Djava.awt.headless=true, -Dfile.encoding=UTF-8, -Djna.nosys=true, -XX:-OmitStackTraceInFastThrow, -XX:+ShowCodeDetailsInExceptionMessages, -Dio.netty.noUnsafe=true, -Dio.netty.noKeySetOptimization=true, -Dio.netty.recycler.maxCapacityPerThread=0, -Dio.netty.allocator.numDirectArenas=0, -Dlog4j.shutdownHookEnabled=false, -Dlog4j2.disable.jmx=true, -Dlog4j2.formatMsgNoLookups=true, -Djava.locale.providers=SPI,COMPAT, --add-opens=java.base/java.io=ALL-UNNAMED, -Djava.security.manager=allow, -XX:+UseG1GC, -Djava.io.tmpdir=/tmp/elasticsearch-9317727528719022261, -XX:+HeapDumpOnOutOfMemoryError, -XX:+ExitOnOutOfMemoryError, -XX:HeapDumpPath=data, -XX:ErrorFile=logs/hs_err_pid%p.log, -Xlog:gc*,gc+age=trace,safepoint:file=logs/gc.log:utctime,pid,tags:filecount=32,filesize=64m, -Des.cgroups.hierarchy.override=/, -Xms31744m, -Xmx31744m, -XX:MaxDirectMemorySize=16642998272, -XX:InitiatingHeapOccupancyPercent=30, -XX:G1ReservePercent=25, -Des.path.home=/usr/share/elasticsearch, -Des.path.conf=/usr/share/elasticsearch/config, -Des.distribution.flavor=default, -Des.distribution.type=docker, -Des.bundled_jdk=true]\" }\n",
      "{\"type\": \"server\", \"timestamp\": \"2023-12-08T13:47:16,777Z\", \"level\": \"INFO\", \"component\": \"o.e.p.PluginsService\", \"cluster.name\": \"docker-cluster\", \"node.name\": \"d36a0b817d49\", \"message\": \"loaded module [aggs-matrix-stats]\" }\n",
      "{\"type\": \"server\", \"timestamp\": \"2023-12-08T13:47:16,778Z\", \"level\": \"INFO\", \"component\": \"o.e.p.PluginsService\", \"cluster.name\": \"docker-cluster\", \"node.name\": \"d36a0b817d49\", \"message\": \"loaded module [analysis-common]\" }\n",
      "{\"type\": \"server\", \"timestamp\": \"2023-12-08T13:47:16,778Z\", \"level\": \"INFO\", \"component\": \"o.e.p.PluginsService\", \"cluster.name\": \"docker-cluster\", \"node.name\": \"d36a0b817d49\", \"message\": \"loaded module [constant-keyword]\" }\n",
      "{\"type\": \"server\", \"timestamp\": \"2023-12-08T13:47:16,778Z\", \"level\": \"INFO\", \"component\": \"o.e.p.PluginsService\", \"cluster.name\": \"docker-cluster\", \"node.name\": \"d36a0b817d49\", \"message\": \"loaded module [frozen-indices]\" }\n",
      "{\"type\": \"server\", \"timestamp\": \"2023-12-08T13:47:16,778Z\", \"level\": \"INFO\", \"component\": \"o.e.p.PluginsService\", \"cluster.name\": \"docker-cluster\", \"node.name\": \"d36a0b817d49\", \"message\": \"loaded module [ingest-common]\" }\n",
      "{\"type\": \"server\", \"timestamp\": \"2023-12-08T13:47:16,778Z\", \"level\": \"INFO\", \"component\": \"o.e.p.PluginsService\", \"cluster.name\": \"docker-cluster\", \"node.name\": \"d36a0b817d49\", \"message\": \"loaded module [ingest-geoip]\" }\n",
      "{\"type\": \"server\", \"timestamp\": \"2023-12-08T13:47:16,779Z\", \"level\": \"INFO\", \"component\": \"o.e.p.PluginsService\", \"cluster.name\": \"docker-cluster\", \"node.name\": \"d36a0b817d49\", \"message\": \"loaded module [ingest-user-agent]\" }\n",
      "{\"type\": \"server\", \"timestamp\": \"2023-12-08T13:47:16,779Z\", \"level\": \"INFO\", \"component\": \"o.e.p.PluginsService\", \"cluster.name\": \"docker-cluster\", \"node.name\": \"d36a0b817d49\", \"message\": \"loaded module [kibana]\" }\n",
      "{\"type\": \"server\", \"timestamp\": \"2023-12-08T13:47:16,779Z\", \"level\": \"INFO\", \"component\": \"o.e.p.PluginsService\", \"cluster.name\": \"docker-cluster\", \"node.name\": \"d36a0b817d49\", \"message\": \"loaded module [lang-expression]\" }\n",
      "{\"type\": \"server\", \"timestamp\": \"2023-12-08T13:47:16,779Z\", \"level\": \"INFO\", \"component\": \"o.e.p.PluginsService\", \"cluster.name\": \"docker-cluster\", \"node.name\": \"d36a0b817d49\", \"message\": \"loaded module [lang-mustache]\" }\n",
      "{\"type\": \"server\", \"timestamp\": \"2023-12-08T13:47:16,779Z\", \"level\": \"INFO\", \"component\": \"o.e.p.PluginsService\", \"cluster.name\": \"docker-cluster\", \"node.name\": \"d36a0b817d49\", \"message\": \"loaded module [lang-painless]\" }\n",
      "{\"type\": \"server\", \"timestamp\": \"2023-12-08T13:47:16,779Z\", \"level\": \"INFO\", \"component\": \"o.e.p.PluginsService\", \"cluster.name\": \"docker-cluster\", \"node.name\": \"d36a0b817d49\", \"message\": \"loaded module [legacy-geo]\" }\n",
      "{\"type\": \"server\", \"timestamp\": \"2023-12-08T13:47:16,780Z\", \"level\": \"INFO\", \"component\": \"o.e.p.PluginsService\", \"cluster.name\": \"docker-cluster\", \"node.name\": \"d36a0b817d49\", \"message\": \"loaded module [mapper-extras]\" }\n",
      "{\"type\": \"server\", \"timestamp\": \"2023-12-08T13:47:16,780Z\", \"level\": \"INFO\", \"component\": \"o.e.p.PluginsService\", \"cluster.name\": \"docker-cluster\", \"node.name\": \"d36a0b817d49\", \"message\": \"loaded module [mapper-version]\" }\n",
      "{\"type\": \"server\", \"timestamp\": \"2023-12-08T13:47:16,780Z\", \"level\": \"INFO\", \"component\": \"o.e.p.PluginsService\", \"cluster.name\": \"docker-cluster\", \"node.name\": \"d36a0b817d49\", \"message\": \"loaded module [parent-join]\" }\n",
      "{\"type\": \"server\", \"timestamp\": \"2023-12-08T13:47:16,780Z\", \"level\": \"INFO\", \"component\": \"o.e.p.PluginsService\", \"cluster.name\": \"docker-cluster\", \"node.name\": \"d36a0b817d49\", \"message\": \"loaded module [percolator]\" }\n",
      "{\"type\": \"server\", \"timestamp\": \"2023-12-08T13:47:16,780Z\", \"level\": \"INFO\", \"component\": \"o.e.p.PluginsService\", \"cluster.name\": \"docker-cluster\", \"node.name\": \"d36a0b817d49\", \"message\": \"loaded module [rank-eval]\" }\n",
      "{\"type\": \"server\", \"timestamp\": \"2023-12-08T13:47:16,780Z\", \"level\": \"INFO\", \"component\": \"o.e.p.PluginsService\", \"cluster.name\": \"docker-cluster\", \"node.name\": \"d36a0b817d49\", \"message\": \"loaded module [reindex]\" }\n",
      "{\"type\": \"server\", \"timestamp\": \"2023-12-08T13:47:16,780Z\", \"level\": \"INFO\", \"component\": \"o.e.p.PluginsService\", \"cluster.name\": \"docker-cluster\", \"node.name\": \"d36a0b817d49\", \"message\": \"loaded module [repositories-metering-api]\" }\n",
      "{\"type\": \"server\", \"timestamp\": \"2023-12-08T13:47:16,781Z\", \"level\": \"INFO\", \"component\": \"o.e.p.PluginsService\", \"cluster.name\": \"docker-cluster\", \"node.name\": \"d36a0b817d49\", \"message\": \"loaded module [repository-encrypted]\" }\n",
      "{\"type\": \"server\", \"timestamp\": \"2023-12-08T13:47:16,781Z\", \"level\": \"INFO\", \"component\": \"o.e.p.PluginsService\", \"cluster.name\": \"docker-cluster\", \"node.name\": \"d36a0b817d49\", \"message\": \"loaded module [repository-url]\" }\n",
      "{\"type\": \"server\", \"timestamp\": \"2023-12-08T13:47:16,781Z\", \"level\": \"INFO\", \"component\": \"o.e.p.PluginsService\", \"cluster.name\": \"docker-cluster\", \"node.name\": \"d36a0b817d49\", \"message\": \"loaded module [runtime-fields-common]\" }\n",
      "{\"type\": \"server\", \"timestamp\": \"2023-12-08T13:47:16,781Z\", \"level\": \"INFO\", \"component\": \"o.e.p.PluginsService\", \"cluster.name\": \"docker-cluster\", \"node.name\": \"d36a0b817d49\", \"message\": \"loaded module [search-business-rules]\" }\n",
      "{\"type\": \"server\", \"timestamp\": \"2023-12-08T13:47:16,781Z\", \"level\": \"INFO\", \"component\": \"o.e.p.PluginsService\", \"cluster.name\": \"docker-cluster\", \"node.name\": \"d36a0b817d49\", \"message\": \"loaded module [searchable-snapshots]\" }\n",
      "{\"type\": \"server\", \"timestamp\": \"2023-12-08T13:47:16,782Z\", \"level\": \"INFO\", \"component\": \"o.e.p.PluginsService\", \"cluster.name\": \"docker-cluster\", \"node.name\": \"d36a0b817d49\", \"message\": \"loaded module [snapshot-repo-test-kit]\" }\n",
      "{\"type\": \"server\", \"timestamp\": \"2023-12-08T13:47:16,782Z\", \"level\": \"INFO\", \"component\": \"o.e.p.PluginsService\", \"cluster.name\": \"docker-cluster\", \"node.name\": \"d36a0b817d49\", \"message\": \"loaded module [spatial]\" }\n",
      "{\"type\": \"server\", \"timestamp\": \"2023-12-08T13:47:16,782Z\", \"level\": \"INFO\", \"component\": \"o.e.p.PluginsService\", \"cluster.name\": \"docker-cluster\", \"node.name\": \"d36a0b817d49\", \"message\": \"loaded module [transform]\" }\n",
      "{\"type\": \"server\", \"timestamp\": \"2023-12-08T13:47:16,782Z\", \"level\": \"INFO\", \"component\": \"o.e.p.PluginsService\", \"cluster.name\": \"docker-cluster\", \"node.name\": \"d36a0b817d49\", \"message\": \"loaded module [transport-netty4]\" }\n",
      "{\"type\": \"server\", \"timestamp\": \"2023-12-08T13:47:16,782Z\", \"level\": \"INFO\", \"component\": \"o.e.p.PluginsService\", \"cluster.name\": \"docker-cluster\", \"node.name\": \"d36a0b817d49\", \"message\": \"loaded module [unsigned-long]\" }\n",
      "{\"type\": \"server\", \"timestamp\": \"2023-12-08T13:47:16,782Z\", \"level\": \"INFO\", \"component\": \"o.e.p.PluginsService\", \"cluster.name\": \"docker-cluster\", \"node.name\": \"d36a0b817d49\", \"message\": \"loaded module [vector-tile]\" }\n",
      "{\"type\": \"server\", \"timestamp\": \"2023-12-08T13:47:16,783Z\", \"level\": \"INFO\", \"component\": \"o.e.p.PluginsService\", \"cluster.name\": \"docker-cluster\", \"node.name\": \"d36a0b817d49\", \"message\": \"loaded module [vectors]\" }\n",
      "{\"type\": \"server\", \"timestamp\": \"2023-12-08T13:47:16,783Z\", \"level\": \"INFO\", \"component\": \"o.e.p.PluginsService\", \"cluster.name\": \"docker-cluster\", \"node.name\": \"d36a0b817d49\", \"message\": \"loaded module [wildcard]\" }\n",
      "{\"type\": \"server\", \"timestamp\": \"2023-12-08T13:47:16,783Z\", \"level\": \"INFO\", \"component\": \"o.e.p.PluginsService\", \"cluster.name\": \"docker-cluster\", \"node.name\": \"d36a0b817d49\", \"message\": \"loaded module [x-pack-aggregate-metric]\" }\n",
      "{\"type\": \"server\", \"timestamp\": \"2023-12-08T13:47:16,783Z\", \"level\": \"INFO\", \"component\": \"o.e.p.PluginsService\", \"cluster.name\": \"docker-cluster\", \"node.name\": \"d36a0b817d49\", \"message\": \"loaded module [x-pack-analytics]\" }\n",
      "{\"type\": \"server\", \"timestamp\": \"2023-12-08T13:47:16,783Z\", \"level\": \"INFO\", \"component\": \"o.e.p.PluginsService\", \"cluster.name\": \"docker-cluster\", \"node.name\": \"d36a0b817d49\", \"message\": \"loaded module [x-pack-async]\" }\n",
      "{\"type\": \"server\", \"timestamp\": \"2023-12-08T13:47:16,783Z\", \"level\": \"INFO\", \"component\": \"o.e.p.PluginsService\", \"cluster.name\": \"docker-cluster\", \"node.name\": \"d36a0b817d49\", \"message\": \"loaded module [x-pack-async-search]\" }\n",
      "{\"type\": \"server\", \"timestamp\": \"2023-12-08T13:47:16,783Z\", \"level\": \"INFO\", \"component\": \"o.e.p.PluginsService\", \"cluster.name\": \"docker-cluster\", \"node.name\": \"d36a0b817d49\", \"message\": \"loaded module [x-pack-autoscaling]\" }\n",
      "{\"type\": \"server\", \"timestamp\": \"2023-12-08T13:47:16,784Z\", \"level\": \"INFO\", \"component\": \"o.e.p.PluginsService\", \"cluster.name\": \"docker-cluster\", \"node.name\": \"d36a0b817d49\", \"message\": \"loaded module [x-pack-ccr]\" }\n",
      "{\"type\": \"server\", \"timestamp\": \"2023-12-08T13:47:16,784Z\", \"level\": \"INFO\", \"component\": \"o.e.p.PluginsService\", \"cluster.name\": \"docker-cluster\", \"node.name\": \"d36a0b817d49\", \"message\": \"loaded module [x-pack-core]\" }\n",
      "{\"type\": \"server\", \"timestamp\": \"2023-12-08T13:47:16,784Z\", \"level\": \"INFO\", \"component\": \"o.e.p.PluginsService\", \"cluster.name\": \"docker-cluster\", \"node.name\": \"d36a0b817d49\", \"message\": \"loaded module [x-pack-data-streams]\" }\n",
      "{\"type\": \"server\", \"timestamp\": \"2023-12-08T13:47:16,784Z\", \"level\": \"INFO\", \"component\": \"o.e.p.PluginsService\", \"cluster.name\": \"docker-cluster\", \"node.name\": \"d36a0b817d49\", \"message\": \"loaded module [x-pack-deprecation]\" }\n",
      "{\"type\": \"server\", \"timestamp\": \"2023-12-08T13:47:16,784Z\", \"level\": \"INFO\", \"component\": \"o.e.p.PluginsService\", \"cluster.name\": \"docker-cluster\", \"node.name\": \"d36a0b817d49\", \"message\": \"loaded module [x-pack-enrich]\" }\n",
      "{\"type\": \"server\", \"timestamp\": \"2023-12-08T13:47:16,784Z\", \"level\": \"INFO\", \"component\": \"o.e.p.PluginsService\", \"cluster.name\": \"docker-cluster\", \"node.name\": \"d36a0b817d49\", \"message\": \"loaded module [x-pack-eql]\" }\n",
      "{\"type\": \"server\", \"timestamp\": \"2023-12-08T13:47:16,784Z\", \"level\": \"INFO\", \"component\": \"o.e.p.PluginsService\", \"cluster.name\": \"docker-cluster\", \"node.name\": \"d36a0b817d49\", \"message\": \"loaded module [x-pack-fleet]\" }\n",
      "{\"type\": \"server\", \"timestamp\": \"2023-12-08T13:47:16,785Z\", \"level\": \"INFO\", \"component\": \"o.e.p.PluginsService\", \"cluster.name\": \"docker-cluster\", \"node.name\": \"d36a0b817d49\", \"message\": \"loaded module [x-pack-graph]\" }\n",
      "{\"type\": \"server\", \"timestamp\": \"2023-12-08T13:47:16,785Z\", \"level\": \"INFO\", \"component\": \"o.e.p.PluginsService\", \"cluster.name\": \"docker-cluster\", \"node.name\": \"d36a0b817d49\", \"message\": \"loaded module [x-pack-identity-provider]\" }\n",
      "{\"type\": \"server\", \"timestamp\": \"2023-12-08T13:47:16,785Z\", \"level\": \"INFO\", \"component\": \"o.e.p.PluginsService\", \"cluster.name\": \"docker-cluster\", \"node.name\": \"d36a0b817d49\", \"message\": \"loaded module [x-pack-ilm]\" }\n",
      "{\"type\": \"server\", \"timestamp\": \"2023-12-08T13:47:16,785Z\", \"level\": \"INFO\", \"component\": \"o.e.p.PluginsService\", \"cluster.name\": \"docker-cluster\", \"node.name\": \"d36a0b817d49\", \"message\": \"loaded module [x-pack-logstash]\" }\n",
      "{\"type\": \"server\", \"timestamp\": \"2023-12-08T13:47:16,785Z\", \"level\": \"INFO\", \"component\": \"o.e.p.PluginsService\", \"cluster.name\": \"docker-cluster\", \"node.name\": \"d36a0b817d49\", \"message\": \"loaded module [x-pack-ml]\" }\n",
      "{\"type\": \"server\", \"timestamp\": \"2023-12-08T13:47:16,785Z\", \"level\": \"INFO\", \"component\": \"o.e.p.PluginsService\", \"cluster.name\": \"docker-cluster\", \"node.name\": \"d36a0b817d49\", \"message\": \"loaded module [x-pack-monitoring]\" }\n",
      "{\"type\": \"server\", \"timestamp\": \"2023-12-08T13:47:16,785Z\", \"level\": \"INFO\", \"component\": \"o.e.p.PluginsService\", \"cluster.name\": \"docker-cluster\", \"node.name\": \"d36a0b817d49\", \"message\": \"loaded module [x-pack-ql]\" }\n",
      "{\"type\": \"server\", \"timestamp\": \"2023-12-08T13:47:16,786Z\", \"level\": \"INFO\", \"component\": \"o.e.p.PluginsService\", \"cluster.name\": \"docker-cluster\", \"node.name\": \"d36a0b817d49\", \"message\": \"loaded module [x-pack-rollup]\" }\n",
      "{\"type\": \"server\", \"timestamp\": \"2023-12-08T13:47:16,786Z\", \"level\": \"INFO\", \"component\": \"o.e.p.PluginsService\", \"cluster.name\": \"docker-cluster\", \"node.name\": \"d36a0b817d49\", \"message\": \"loaded module [x-pack-security]\" }\n",
      "{\"type\": \"server\", \"timestamp\": \"2023-12-08T13:47:16,786Z\", \"level\": \"INFO\", \"component\": \"o.e.p.PluginsService\", \"cluster.name\": \"docker-cluster\", \"node.name\": \"d36a0b817d49\", \"message\": \"loaded module [x-pack-shutdown]\" }\n",
      "{\"type\": \"server\", \"timestamp\": \"2023-12-08T13:47:16,786Z\", \"level\": \"INFO\", \"component\": \"o.e.p.PluginsService\", \"cluster.name\": \"docker-cluster\", \"node.name\": \"d36a0b817d49\", \"message\": \"loaded module [x-pack-sql]\" }\n",
      "{\"type\": \"server\", \"timestamp\": \"2023-12-08T13:47:16,786Z\", \"level\": \"INFO\", \"component\": \"o.e.p.PluginsService\", \"cluster.name\": \"docker-cluster\", \"node.name\": \"d36a0b817d49\", \"message\": \"loaded module [x-pack-stack]\" }\n",
      "{\"type\": \"server\", \"timestamp\": \"2023-12-08T13:47:16,786Z\", \"level\": \"INFO\", \"component\": \"o.e.p.PluginsService\", \"cluster.name\": \"docker-cluster\", \"node.name\": \"d36a0b817d49\", \"message\": \"loaded module [x-pack-text-structure]\" }\n",
      "{\"type\": \"server\", \"timestamp\": \"2023-12-08T13:47:16,786Z\", \"level\": \"INFO\", \"component\": \"o.e.p.PluginsService\", \"cluster.name\": \"docker-cluster\", \"node.name\": \"d36a0b817d49\", \"message\": \"loaded module [x-pack-voting-only-node]\" }\n",
      "{\"type\": \"server\", \"timestamp\": \"2023-12-08T13:47:16,787Z\", \"level\": \"INFO\", \"component\": \"o.e.p.PluginsService\", \"cluster.name\": \"docker-cluster\", \"node.name\": \"d36a0b817d49\", \"message\": \"loaded module [x-pack-watcher]\" }\n",
      "{\"type\": \"server\", \"timestamp\": \"2023-12-08T13:47:16,787Z\", \"level\": \"INFO\", \"component\": \"o.e.p.PluginsService\", \"cluster.name\": \"docker-cluster\", \"node.name\": \"d36a0b817d49\", \"message\": \"no plugins loaded\" }\n",
      "{\"type\": \"server\", \"timestamp\": \"2023-12-08T13:47:16,845Z\", \"level\": \"INFO\", \"component\": \"o.e.e.NodeEnvironment\", \"cluster.name\": \"docker-cluster\", \"node.name\": \"d36a0b817d49\", \"message\": \"using [1] data paths, mounts [[/ (overlay)]], net usable_space [22.3gb], net total_space [393.1gb], types [overlay]\" }\n",
      "{\"type\": \"server\", \"timestamp\": \"2023-12-08T13:47:16,846Z\", \"level\": \"INFO\", \"component\": \"o.e.e.NodeEnvironment\", \"cluster.name\": \"docker-cluster\", \"node.name\": \"d36a0b817d49\", \"message\": \"heap size [31gb], compressed ordinary object pointers [true]\" }\n",
      "{\"type\": \"server\", \"timestamp\": \"2023-12-08T13:47:16,861Z\", \"level\": \"INFO\", \"component\": \"o.e.n.Node\", \"cluster.name\": \"docker-cluster\", \"node.name\": \"d36a0b817d49\", \"message\": \"node name [d36a0b817d49], node ID [H7-a5A5nS8eJMMZGU-tQgg], cluster name [docker-cluster], roles [transform, data_frozen, master, remote_cluster_client, data, ml, data_content, data_hot, data_warm, data_cold, ingest]\" }\n",
      "{\"type\": \"server\", \"timestamp\": \"2023-12-08T13:47:20,796Z\", \"level\": \"INFO\", \"component\": \"o.e.x.m.p.l.CppLogMessageHandler\", \"cluster.name\": \"docker-cluster\", \"node.name\": \"d36a0b817d49\", \"message\": \"[controller/296] [Main.cc@122] controller (64 bit): Version 7.17.15 (Build 8285074a0b4035) Copyright (c) 2023 Elasticsearch BV\" }\n",
      "{\"type\": \"server\", \"timestamp\": \"2023-12-08T13:47:21,176Z\", \"level\": \"INFO\", \"component\": \"o.e.x.s.a.s.FileRolesStore\", \"cluster.name\": \"docker-cluster\", \"node.name\": \"d36a0b817d49\", \"message\": \"parsed [0] roles from file [/usr/share/elasticsearch/config/roles.yml]\" }\n",
      "{\"type\": \"server\", \"timestamp\": \"2023-12-08T13:47:21,784Z\", \"level\": \"INFO\", \"component\": \"o.e.i.g.ConfigDatabases\", \"cluster.name\": \"docker-cluster\", \"node.name\": \"d36a0b817d49\", \"message\": \"initialized default databases [[GeoLite2-Country.mmdb, GeoLite2-City.mmdb, GeoLite2-ASN.mmdb]], config databases [[]] and watching [/usr/share/elasticsearch/config/ingest-geoip] for changes\" }\n",
      "{\"type\": \"server\", \"timestamp\": \"2023-12-08T13:47:21,785Z\", \"level\": \"INFO\", \"component\": \"o.e.i.g.DatabaseNodeService\", \"cluster.name\": \"docker-cluster\", \"node.name\": \"d36a0b817d49\", \"message\": \"initialized database registry, using geoip-databases directory [/tmp/elasticsearch-9317727528719022261/geoip-databases/H7-a5A5nS8eJMMZGU-tQgg]\" }\n",
      "{\"type\": \"server\", \"timestamp\": \"2023-12-08T13:47:22,318Z\", \"level\": \"INFO\", \"component\": \"o.e.t.NettyAllocator\", \"cluster.name\": \"docker-cluster\", \"node.name\": \"d36a0b817d49\", \"message\": \"creating NettyAllocator with the following configs: [name=elasticsearch_configured, chunk_size=1mb, suggested_max_allocation_size=1mb, factors={es.unsafe.use_netty_default_chunk_and_page_size=false, g1gc_enabled=true, g1gc_region_size=16mb}]\" }\n",
      "{\"type\": \"server\", \"timestamp\": \"2023-12-08T13:47:22,348Z\", \"level\": \"INFO\", \"component\": \"o.e.i.r.RecoverySettings\", \"cluster.name\": \"docker-cluster\", \"node.name\": \"d36a0b817d49\", \"message\": \"using rate limit [40mb] with [default=40mb, read=0b, write=0b, max=0b]\" }\n",
      "{\"type\": \"server\", \"timestamp\": \"2023-12-08T13:47:22,384Z\", \"level\": \"INFO\", \"component\": \"o.e.d.DiscoveryModule\", \"cluster.name\": \"docker-cluster\", \"node.name\": \"d36a0b817d49\", \"message\": \"using discovery type [single-node] and seed hosts providers [settings]\" }\n",
      "{\"type\": \"server\", \"timestamp\": \"2023-12-08T13:47:22,817Z\", \"level\": \"INFO\", \"component\": \"o.e.g.DanglingIndicesState\", \"cluster.name\": \"docker-cluster\", \"node.name\": \"d36a0b817d49\", \"message\": \"gateway.auto_import_dangling_indices is disabled, dangling indices will not be automatically detected or imported and must be managed manually\" }\n",
      "{\"type\": \"server\", \"timestamp\": \"2023-12-08T13:47:23,385Z\", \"level\": \"INFO\", \"component\": \"o.e.n.Node\", \"cluster.name\": \"docker-cluster\", \"node.name\": \"d36a0b817d49\", \"message\": \"initialized\" }\n",
      "{\"type\": \"server\", \"timestamp\": \"2023-12-08T13:47:23,386Z\", \"level\": \"INFO\", \"component\": \"o.e.n.Node\", \"cluster.name\": \"docker-cluster\", \"node.name\": \"d36a0b817d49\", \"message\": \"starting ...\" }\n",
      "{\"type\": \"server\", \"timestamp\": \"2023-12-08T13:47:23,392Z\", \"level\": \"INFO\", \"component\": \"o.e.x.s.c.f.PersistentCache\", \"cluster.name\": \"docker-cluster\", \"node.name\": \"d36a0b817d49\", \"message\": \"persistent cache index loaded\" }\n",
      "{\"type\": \"server\", \"timestamp\": \"2023-12-08T13:47:23,393Z\", \"level\": \"INFO\", \"component\": \"o.e.x.d.l.DeprecationIndexingComponent\", \"cluster.name\": \"docker-cluster\", \"node.name\": \"d36a0b817d49\", \"message\": \"deprecation component started\" }\n",
      "{\"type\": \"server\", \"timestamp\": \"2023-12-08T13:47:23,481Z\", \"level\": \"INFO\", \"component\": \"o.e.t.TransportService\", \"cluster.name\": \"docker-cluster\", \"node.name\": \"d36a0b817d49\", \"message\": \"publish_address {172.17.0.4:9300}, bound_addresses {0.0.0.0:9300}\" }\n",
      "{\"type\": \"server\", \"timestamp\": \"2023-12-08T13:47:23,491Z\", \"level\": \"INFO\", \"component\": \"o.e.x.m.Monitoring\", \"cluster.name\": \"docker-cluster\", \"node.name\": \"d36a0b817d49\", \"message\": \"creating template [.monitoring-alerts-7] with version [7]\" }\n",
      "{\"type\": \"server\", \"timestamp\": \"2023-12-08T13:47:23,496Z\", \"level\": \"INFO\", \"component\": \"o.e.x.m.Monitoring\", \"cluster.name\": \"docker-cluster\", \"node.name\": \"d36a0b817d49\", \"message\": \"creating template [.monitoring-es] with version [7]\" }\n",
      "{\"type\": \"server\", \"timestamp\": \"2023-12-08T13:47:23,498Z\", \"level\": \"INFO\", \"component\": \"o.e.x.m.Monitoring\", \"cluster.name\": \"docker-cluster\", \"node.name\": \"d36a0b817d49\", \"message\": \"creating template [.monitoring-kibana] with version [7]\" }\n",
      "{\"type\": \"server\", \"timestamp\": \"2023-12-08T13:47:23,500Z\", \"level\": \"INFO\", \"component\": \"o.e.x.m.Monitoring\", \"cluster.name\": \"docker-cluster\", \"node.name\": \"d36a0b817d49\", \"message\": \"creating template [.monitoring-logstash] with version [7]\" }\n",
      "{\"type\": \"server\", \"timestamp\": \"2023-12-08T13:47:23,503Z\", \"level\": \"INFO\", \"component\": \"o.e.x.m.Monitoring\", \"cluster.name\": \"docker-cluster\", \"node.name\": \"d36a0b817d49\", \"message\": \"creating template [.monitoring-beats] with version [7]\" }\n",
      "{\"type\": \"server\", \"timestamp\": \"2023-12-08T13:47:23,603Z\", \"level\": \"INFO\", \"component\": \"o.e.c.c.Coordinator\", \"cluster.name\": \"docker-cluster\", \"node.name\": \"d36a0b817d49\", \"message\": \"setting initial configuration to VotingConfiguration{H7-a5A5nS8eJMMZGU-tQgg}\" }\n",
      "{\"type\": \"server\", \"timestamp\": \"2023-12-08T13:47:23,732Z\", \"level\": \"INFO\", \"component\": \"o.e.c.s.MasterService\", \"cluster.name\": \"docker-cluster\", \"node.name\": \"d36a0b817d49\", \"message\": \"elected-as-master ([1] nodes joined)[{d36a0b817d49}{H7-a5A5nS8eJMMZGU-tQgg}{CAITPZlPRiqS087jqq9fNg}{172.17.0.4}{172.17.0.4:9300}{cdfhilmrstw} elect leader, _BECOME_MASTER_TASK_, _FINISH_ELECTION_], term: 1, version: 1, delta: master node changed {previous [], current [{d36a0b817d49}{H7-a5A5nS8eJMMZGU-tQgg}{CAITPZlPRiqS087jqq9fNg}{172.17.0.4}{172.17.0.4:9300}{cdfhilmrstw}]}\" }\n",
      "{\"type\": \"server\", \"timestamp\": \"2023-12-08T13:47:23,774Z\", \"level\": \"INFO\", \"component\": \"o.e.c.c.CoordinationState\", \"cluster.name\": \"docker-cluster\", \"node.name\": \"d36a0b817d49\", \"message\": \"cluster UUID set to [eSA1DR8kTta55tARlNN1XQ]\" }\n",
      "{\"type\": \"server\", \"timestamp\": \"2023-12-08T13:47:23,803Z\", \"level\": \"INFO\", \"component\": \"o.e.c.s.ClusterApplierService\", \"cluster.name\": \"docker-cluster\", \"node.name\": \"d36a0b817d49\", \"message\": \"master node changed {previous [], current [{d36a0b817d49}{H7-a5A5nS8eJMMZGU-tQgg}{CAITPZlPRiqS087jqq9fNg}{172.17.0.4}{172.17.0.4:9300}{cdfhilmrstw}]}, term: 1, version: 1, reason: Publication{term=1, version=1}\" }\n",
      "{\"type\": \"server\", \"timestamp\": \"2023-12-08T13:47:23,865Z\", \"level\": \"INFO\", \"component\": \"o.e.h.AbstractHttpServerTransport\", \"cluster.name\": \"docker-cluster\", \"node.name\": \"d36a0b817d49\", \"message\": \"publish_address {172.17.0.4:9200}, bound_addresses {0.0.0.0:9200}\", \"cluster.uuid\": \"eSA1DR8kTta55tARlNN1XQ\", \"node.id\": \"H7-a5A5nS8eJMMZGU-tQgg\"  }\n",
      "{\"type\": \"server\", \"timestamp\": \"2023-12-08T13:47:23,865Z\", \"level\": \"INFO\", \"component\": \"o.e.n.Node\", \"cluster.name\": \"docker-cluster\", \"node.name\": \"d36a0b817d49\", \"message\": \"started\", \"cluster.uuid\": \"eSA1DR8kTta55tARlNN1XQ\", \"node.id\": \"H7-a5A5nS8eJMMZGU-tQgg\"  }\n",
      "{\"type\": \"server\", \"timestamp\": \"2023-12-08T13:47:23,938Z\", \"level\": \"INFO\", \"component\": \"o.e.g.GatewayService\", \"cluster.name\": \"docker-cluster\", \"node.name\": \"d36a0b817d49\", \"message\": \"recovered [0] indices into cluster_state\", \"cluster.uuid\": \"eSA1DR8kTta55tARlNN1XQ\", \"node.id\": \"H7-a5A5nS8eJMMZGU-tQgg\"  }\n",
      "{\"type\": \"server\", \"timestamp\": \"2023-12-08T13:47:24,118Z\", \"level\": \"INFO\", \"component\": \"o.e.c.m.MetadataIndexTemplateService\", \"cluster.name\": \"docker-cluster\", \"node.name\": \"d36a0b817d49\", \"message\": \"adding index template [.ml-stats] for index patterns [.ml-stats-*]\", \"cluster.uuid\": \"eSA1DR8kTta55tARlNN1XQ\", \"node.id\": \"H7-a5A5nS8eJMMZGU-tQgg\"  }\n",
      "{\"type\": \"server\", \"timestamp\": \"2023-12-08T13:47:24,217Z\", \"level\": \"INFO\", \"component\": \"o.e.c.m.MetadataIndexTemplateService\", \"cluster.name\": \"docker-cluster\", \"node.name\": \"d36a0b817d49\", \"message\": \"adding index template [.ml-anomalies-] for index patterns [.ml-anomalies-*]\", \"cluster.uuid\": \"eSA1DR8kTta55tARlNN1XQ\", \"node.id\": \"H7-a5A5nS8eJMMZGU-tQgg\"  }\n",
      "{\"type\": \"server\", \"timestamp\": \"2023-12-08T13:47:24,280Z\", \"level\": \"INFO\", \"component\": \"o.e.c.m.MetadataIndexTemplateService\", \"cluster.name\": \"docker-cluster\", \"node.name\": \"d36a0b817d49\", \"message\": \"adding index template [.ml-notifications-000002] for index patterns [.ml-notifications-000002]\", \"cluster.uuid\": \"eSA1DR8kTta55tARlNN1XQ\", \"node.id\": \"H7-a5A5nS8eJMMZGU-tQgg\"  }\n",
      "{\"type\": \"server\", \"timestamp\": \"2023-12-08T13:47:24,336Z\", \"level\": \"INFO\", \"component\": \"o.e.c.m.MetadataIndexTemplateService\", \"cluster.name\": \"docker-cluster\", \"node.name\": \"d36a0b817d49\", \"message\": \"adding index template [.ml-state] for index patterns [.ml-state*]\", \"cluster.uuid\": \"eSA1DR8kTta55tARlNN1XQ\", \"node.id\": \"H7-a5A5nS8eJMMZGU-tQgg\"  }\n",
      "{\"type\": \"server\", \"timestamp\": \"2023-12-08T13:47:24,393Z\", \"level\": \"INFO\", \"component\": \"o.e.c.m.MetadataIndexTemplateService\", \"cluster.name\": \"docker-cluster\", \"node.name\": \"d36a0b817d49\", \"message\": \"adding component template [logs-settings]\", \"cluster.uuid\": \"eSA1DR8kTta55tARlNN1XQ\", \"node.id\": \"H7-a5A5nS8eJMMZGU-tQgg\"  }\n",
      "{\"type\": \"server\", \"timestamp\": \"2023-12-08T13:47:24,453Z\", \"level\": \"INFO\", \"component\": \"o.e.c.m.MetadataIndexTemplateService\", \"cluster.name\": \"docker-cluster\", \"node.name\": \"d36a0b817d49\", \"message\": \"adding component template [synthetics-mappings]\", \"cluster.uuid\": \"eSA1DR8kTta55tARlNN1XQ\", \"node.id\": \"H7-a5A5nS8eJMMZGU-tQgg\"  }\n",
      "{\"type\": \"server\", \"timestamp\": \"2023-12-08T13:47:24,507Z\", \"level\": \"INFO\", \"component\": \"o.e.c.m.MetadataIndexTemplateService\", \"cluster.name\": \"docker-cluster\", \"node.name\": \"d36a0b817d49\", \"message\": \"adding component template [logs-mappings]\", \"cluster.uuid\": \"eSA1DR8kTta55tARlNN1XQ\", \"node.id\": \"H7-a5A5nS8eJMMZGU-tQgg\"  }\n",
      "{\"type\": \"server\", \"timestamp\": \"2023-12-08T13:47:24,558Z\", \"level\": \"INFO\", \"component\": \"o.e.c.m.MetadataIndexTemplateService\", \"cluster.name\": \"docker-cluster\", \"node.name\": \"d36a0b817d49\", \"message\": \"adding component template [metrics-mappings]\", \"cluster.uuid\": \"eSA1DR8kTta55tARlNN1XQ\", \"node.id\": \"H7-a5A5nS8eJMMZGU-tQgg\"  }\n",
      "{\"type\": \"server\", \"timestamp\": \"2023-12-08T13:47:24,607Z\", \"level\": \"INFO\", \"component\": \"o.e.c.m.MetadataIndexTemplateService\", \"cluster.name\": \"docker-cluster\", \"node.name\": \"d36a0b817d49\", \"message\": \"adding component template [synthetics-settings]\", \"cluster.uuid\": \"eSA1DR8kTta55tARlNN1XQ\", \"node.id\": \"H7-a5A5nS8eJMMZGU-tQgg\"  }\n",
      "{\"type\": \"server\", \"timestamp\": \"2023-12-08T13:47:24,663Z\", \"level\": \"INFO\", \"component\": \"o.e.c.m.MetadataIndexTemplateService\", \"cluster.name\": \"docker-cluster\", \"node.name\": \"d36a0b817d49\", \"message\": \"adding component template [data-streams-mappings]\", \"cluster.uuid\": \"eSA1DR8kTta55tARlNN1XQ\", \"node.id\": \"H7-a5A5nS8eJMMZGU-tQgg\"  }\n",
      "{\"type\": \"server\", \"timestamp\": \"2023-12-08T13:47:24,706Z\", \"level\": \"INFO\", \"component\": \"o.e.c.m.MetadataIndexTemplateService\", \"cluster.name\": \"docker-cluster\", \"node.name\": \"d36a0b817d49\", \"message\": \"adding component template [metrics-settings]\", \"cluster.uuid\": \"eSA1DR8kTta55tARlNN1XQ\", \"node.id\": \"H7-a5A5nS8eJMMZGU-tQgg\"  }\n",
      "{\"type\": \"server\", \"timestamp\": \"2023-12-08T13:47:24,774Z\", \"level\": \"INFO\", \"component\": \"o.e.c.m.MetadataIndexTemplateService\", \"cluster.name\": \"docker-cluster\", \"node.name\": \"d36a0b817d49\", \"message\": \"adding index template [ilm-history] for index patterns [ilm-history-5*]\", \"cluster.uuid\": \"eSA1DR8kTta55tARlNN1XQ\", \"node.id\": \"H7-a5A5nS8eJMMZGU-tQgg\"  }\n",
      "{\"type\": \"server\", \"timestamp\": \"2023-12-08T13:47:24,840Z\", \"level\": \"INFO\", \"component\": \"o.e.c.m.MetadataIndexTemplateService\", \"cluster.name\": \"docker-cluster\", \"node.name\": \"d36a0b817d49\", \"message\": \"adding index template [.watch-history-13] for index patterns [.watcher-history-13*]\", \"cluster.uuid\": \"eSA1DR8kTta55tARlNN1XQ\", \"node.id\": \"H7-a5A5nS8eJMMZGU-tQgg\"  }\n",
      "{\"type\": \"server\", \"timestamp\": \"2023-12-08T13:47:24,884Z\", \"level\": \"INFO\", \"component\": \"o.e.c.m.MetadataIndexTemplateService\", \"cluster.name\": \"docker-cluster\", \"node.name\": \"d36a0b817d49\", \"message\": \"adding component template [.deprecation-indexing-settings]\", \"cluster.uuid\": \"eSA1DR8kTta55tARlNN1XQ\", \"node.id\": \"H7-a5A5nS8eJMMZGU-tQgg\"  }\n",
      "{\"type\": \"server\", \"timestamp\": \"2023-12-08T13:47:24,936Z\", \"level\": \"INFO\", \"component\": \"o.e.c.m.MetadataIndexTemplateService\", \"cluster.name\": \"docker-cluster\", \"node.name\": \"d36a0b817d49\", \"message\": \"adding component template [.deprecation-indexing-mappings]\", \"cluster.uuid\": \"eSA1DR8kTta55tARlNN1XQ\", \"node.id\": \"H7-a5A5nS8eJMMZGU-tQgg\"  }\n",
      "{\"type\": \"server\", \"timestamp\": \"2023-12-08T13:47:24,992Z\", \"level\": \"INFO\", \"component\": \"o.e.c.m.MetadataIndexTemplateService\", \"cluster.name\": \"docker-cluster\", \"node.name\": \"d36a0b817d49\", \"message\": \"adding index template [.slm-history] for index patterns [.slm-history-5*]\", \"cluster.uuid\": \"eSA1DR8kTta55tARlNN1XQ\", \"node.id\": \"H7-a5A5nS8eJMMZGU-tQgg\"  }\n",
      "{\"type\": \"server\", \"timestamp\": \"2023-12-08T13:47:25,042Z\", \"level\": \"INFO\", \"component\": \"o.e.c.m.MetadataIndexTemplateService\", \"cluster.name\": \"docker-cluster\", \"node.name\": \"d36a0b817d49\", \"message\": \"adding index template [logs] for index patterns [logs-*-*]\", \"cluster.uuid\": \"eSA1DR8kTta55tARlNN1XQ\", \"node.id\": \"H7-a5A5nS8eJMMZGU-tQgg\"  }\n",
      "{\"type\": \"server\", \"timestamp\": \"2023-12-08T13:47:25,094Z\", \"level\": \"INFO\", \"component\": \"o.e.c.m.MetadataIndexTemplateService\", \"cluster.name\": \"docker-cluster\", \"node.name\": \"d36a0b817d49\", \"message\": \"adding index template [synthetics] for index patterns [synthetics-*-*]\", \"cluster.uuid\": \"eSA1DR8kTta55tARlNN1XQ\", \"node.id\": \"H7-a5A5nS8eJMMZGU-tQgg\"  }\n",
      "{\"type\": \"server\", \"timestamp\": \"2023-12-08T13:47:25,146Z\", \"level\": \"INFO\", \"component\": \"o.e.c.m.MetadataIndexTemplateService\", \"cluster.name\": \"docker-cluster\", \"node.name\": \"d36a0b817d49\", \"message\": \"adding index template [metrics] for index patterns [metrics-*-*]\", \"cluster.uuid\": \"eSA1DR8kTta55tARlNN1XQ\", \"node.id\": \"H7-a5A5nS8eJMMZGU-tQgg\"  }\n",
      "{\"type\": \"server\", \"timestamp\": \"2023-12-08T13:47:25,192Z\", \"level\": \"INFO\", \"component\": \"o.e.c.m.MetadataIndexTemplateService\", \"cluster.name\": \"docker-cluster\", \"node.name\": \"d36a0b817d49\", \"message\": \"adding index template [.deprecation-indexing-template] for index patterns [.logs-deprecation.*]\", \"cluster.uuid\": \"eSA1DR8kTta55tARlNN1XQ\", \"node.id\": \"H7-a5A5nS8eJMMZGU-tQgg\"  }\n",
      "{\"type\": \"server\", \"timestamp\": \"2023-12-08T13:47:25,236Z\", \"level\": \"INFO\", \"component\": \"o.e.x.i.a.TransportPutLifecycleAction\", \"cluster.name\": \"docker-cluster\", \"node.name\": \"d36a0b817d49\", \"message\": \"adding index lifecycle policy [ml-size-based-ilm-policy]\", \"cluster.uuid\": \"eSA1DR8kTta55tARlNN1XQ\", \"node.id\": \"H7-a5A5nS8eJMMZGU-tQgg\"  }\n",
      "{\"type\": \"server\", \"timestamp\": \"2023-12-08T13:47:25,288Z\", \"level\": \"INFO\", \"component\": \"o.e.x.i.a.TransportPutLifecycleAction\", \"cluster.name\": \"docker-cluster\", \"node.name\": \"d36a0b817d49\", \"message\": \"adding index lifecycle policy [metrics]\", \"cluster.uuid\": \"eSA1DR8kTta55tARlNN1XQ\", \"node.id\": \"H7-a5A5nS8eJMMZGU-tQgg\"  }\n",
      "{\"type\": \"server\", \"timestamp\": \"2023-12-08T13:47:25,326Z\", \"level\": \"INFO\", \"component\": \"o.e.x.i.a.TransportPutLifecycleAction\", \"cluster.name\": \"docker-cluster\", \"node.name\": \"d36a0b817d49\", \"message\": \"adding index lifecycle policy [synthetics]\", \"cluster.uuid\": \"eSA1DR8kTta55tARlNN1XQ\", \"node.id\": \"H7-a5A5nS8eJMMZGU-tQgg\"  }\n",
      "{\"type\": \"server\", \"timestamp\": \"2023-12-08T13:47:25,368Z\", \"level\": \"INFO\", \"component\": \"o.e.x.i.a.TransportPutLifecycleAction\", \"cluster.name\": \"docker-cluster\", \"node.name\": \"d36a0b817d49\", \"message\": \"adding index lifecycle policy [logs]\", \"cluster.uuid\": \"eSA1DR8kTta55tARlNN1XQ\", \"node.id\": \"H7-a5A5nS8eJMMZGU-tQgg\"  }\n",
      "{\"type\": \"server\", \"timestamp\": \"2023-12-08T13:47:25,408Z\", \"level\": \"INFO\", \"component\": \"o.e.x.i.a.TransportPutLifecycleAction\", \"cluster.name\": \"docker-cluster\", \"node.name\": \"d36a0b817d49\", \"message\": \"adding index lifecycle policy [365-days-default]\", \"cluster.uuid\": \"eSA1DR8kTta55tARlNN1XQ\", \"node.id\": \"H7-a5A5nS8eJMMZGU-tQgg\"  }\n",
      "{\"type\": \"server\", \"timestamp\": \"2023-12-08T13:47:25,462Z\", \"level\": \"INFO\", \"component\": \"o.e.x.i.a.TransportPutLifecycleAction\", \"cluster.name\": \"docker-cluster\", \"node.name\": \"d36a0b817d49\", \"message\": \"adding index lifecycle policy [180-days-default]\", \"cluster.uuid\": \"eSA1DR8kTta55tARlNN1XQ\", \"node.id\": \"H7-a5A5nS8eJMMZGU-tQgg\"  }\n",
      "{\"type\": \"server\", \"timestamp\": \"2023-12-08T13:47:25,499Z\", \"level\": \"INFO\", \"component\": \"o.e.x.i.a.TransportPutLifecycleAction\", \"cluster.name\": \"docker-cluster\", \"node.name\": \"d36a0b817d49\", \"message\": \"adding index lifecycle policy [30-days-default]\", \"cluster.uuid\": \"eSA1DR8kTta55tARlNN1XQ\", \"node.id\": \"H7-a5A5nS8eJMMZGU-tQgg\"  }\n",
      "{\"type\": \"server\", \"timestamp\": \"2023-12-08T13:47:25,540Z\", \"level\": \"INFO\", \"component\": \"o.e.x.i.a.TransportPutLifecycleAction\", \"cluster.name\": \"docker-cluster\", \"node.name\": \"d36a0b817d49\", \"message\": \"adding index lifecycle policy [7-days-default]\", \"cluster.uuid\": \"eSA1DR8kTta55tARlNN1XQ\", \"node.id\": \"H7-a5A5nS8eJMMZGU-tQgg\"  }\n",
      "{\"type\": \"server\", \"timestamp\": \"2023-12-08T13:47:25,578Z\", \"level\": \"INFO\", \"component\": \"o.e.x.i.a.TransportPutLifecycleAction\", \"cluster.name\": \"docker-cluster\", \"node.name\": \"d36a0b817d49\", \"message\": \"adding index lifecycle policy [90-days-default]\", \"cluster.uuid\": \"eSA1DR8kTta55tARlNN1XQ\", \"node.id\": \"H7-a5A5nS8eJMMZGU-tQgg\"  }\n",
      "{\"type\": \"server\", \"timestamp\": \"2023-12-08T13:47:25,615Z\", \"level\": \"INFO\", \"component\": \"o.e.x.i.a.TransportPutLifecycleAction\", \"cluster.name\": \"docker-cluster\", \"node.name\": \"d36a0b817d49\", \"message\": \"adding index lifecycle policy [watch-history-ilm-policy]\", \"cluster.uuid\": \"eSA1DR8kTta55tARlNN1XQ\", \"node.id\": \"H7-a5A5nS8eJMMZGU-tQgg\"  }\n",
      "{\"type\": \"server\", \"timestamp\": \"2023-12-08T13:47:25,653Z\", \"level\": \"INFO\", \"component\": \"o.e.x.i.a.TransportPutLifecycleAction\", \"cluster.name\": \"docker-cluster\", \"node.name\": \"d36a0b817d49\", \"message\": \"adding index lifecycle policy [ilm-history-ilm-policy]\", \"cluster.uuid\": \"eSA1DR8kTta55tARlNN1XQ\", \"node.id\": \"H7-a5A5nS8eJMMZGU-tQgg\"  }\n",
      "{\"type\": \"server\", \"timestamp\": \"2023-12-08T13:47:25,690Z\", \"level\": \"INFO\", \"component\": \"o.e.x.i.a.TransportPutLifecycleAction\", \"cluster.name\": \"docker-cluster\", \"node.name\": \"d36a0b817d49\", \"message\": \"adding index lifecycle policy [slm-history-ilm-policy]\", \"cluster.uuid\": \"eSA1DR8kTta55tARlNN1XQ\", \"node.id\": \"H7-a5A5nS8eJMMZGU-tQgg\"  }\n",
      "{\"type\": \"server\", \"timestamp\": \"2023-12-08T13:47:25,727Z\", \"level\": \"INFO\", \"component\": \"o.e.x.i.a.TransportPutLifecycleAction\", \"cluster.name\": \"docker-cluster\", \"node.name\": \"d36a0b817d49\", \"message\": \"adding index lifecycle policy [.deprecation-indexing-ilm-policy]\", \"cluster.uuid\": \"eSA1DR8kTta55tARlNN1XQ\", \"node.id\": \"H7-a5A5nS8eJMMZGU-tQgg\"  }\n",
      "{\"type\": \"server\", \"timestamp\": \"2023-12-08T13:47:25,766Z\", \"level\": \"INFO\", \"component\": \"o.e.x.i.a.TransportPutLifecycleAction\", \"cluster.name\": \"docker-cluster\", \"node.name\": \"d36a0b817d49\", \"message\": \"adding index lifecycle policy [.fleet-actions-results-ilm-policy]\", \"cluster.uuid\": \"eSA1DR8kTta55tARlNN1XQ\", \"node.id\": \"H7-a5A5nS8eJMMZGU-tQgg\"  }\n",
      "{\"type\": \"server\", \"timestamp\": \"2023-12-08T13:47:25,894Z\", \"level\": \"INFO\", \"component\": \"o.e.l.LicenseService\", \"cluster.name\": \"docker-cluster\", \"node.name\": \"d36a0b817d49\", \"message\": \"license [2c8be2c9-13b1-402b-a385-31768507e22e] mode [basic] - valid\", \"cluster.uuid\": \"eSA1DR8kTta55tARlNN1XQ\", \"node.id\": \"H7-a5A5nS8eJMMZGU-tQgg\"  }\n",
      "{\"type\": \"server\", \"timestamp\": \"2023-12-08T13:47:25,895Z\", \"level\": \"INFO\", \"component\": \"o.e.x.s.s.SecurityStatusChangeListener\", \"cluster.name\": \"docker-cluster\", \"node.name\": \"d36a0b817d49\", \"message\": \"Active license is now [BASIC]; Security is disabled\", \"cluster.uuid\": \"eSA1DR8kTta55tARlNN1XQ\", \"node.id\": \"H7-a5A5nS8eJMMZGU-tQgg\"  }\n",
      "{\"type\": \"server\", \"timestamp\": \"2023-12-08T13:47:25,896Z\", \"level\": \"WARN\", \"component\": \"o.e.x.s.s.SecurityStatusChangeListener\", \"cluster.name\": \"docker-cluster\", \"node.name\": \"d36a0b817d49\", \"message\": \"Elasticsearch built-in security features are not enabled. Without authentication, your cluster could be accessible to anyone. See https://www.elastic.co/guide/en/elasticsearch/reference/7.17/security-minimal-setup.html to enable security.\", \"cluster.uuid\": \"eSA1DR8kTta55tARlNN1XQ\", \"node.id\": \"H7-a5A5nS8eJMMZGU-tQgg\"  }\n",
      "{\"type\": \"deprecation.elasticsearch\", \"timestamp\": \"2023-12-08T13:47:25,898Z\", \"level\": \"CRITICAL\", \"component\": \"o.e.d.x.s.s.SecurityStatusChangeListener\", \"cluster.name\": \"docker-cluster\", \"node.name\": \"d36a0b817d49\", \"message\": \"The default behavior of disabling security on basic licenses is deprecated. In a later version of Elasticsearch, the value of [xpack.security.enabled] will default to \\\"true\\\" , regardless of the license level. See https://www.elastic.co/guide/en/elasticsearch/reference/7.17/security-minimal-setup.html to enable security, or explicitly disable security by setting [xpack.security.enabled] to false in elasticsearch.yml\", \"key\": \"security_implicitly_disabled\", \"category\": \"security\", \"cluster.uuid\": \"eSA1DR8kTta55tARlNN1XQ\", \"node.id\": \"H7-a5A5nS8eJMMZGU-tQgg\"  }\n",
      "{\"type\": \"server\", \"timestamp\": \"2023-12-08T13:47:25,945Z\", \"level\": \"INFO\", \"component\": \"o.e.i.g.GeoIpDownloader\", \"cluster.name\": \"docker-cluster\", \"node.name\": \"d36a0b817d49\", \"message\": \"updating geoip databases\", \"cluster.uuid\": \"eSA1DR8kTta55tARlNN1XQ\", \"node.id\": \"H7-a5A5nS8eJMMZGU-tQgg\"  }\n",
      "{\"type\": \"server\", \"timestamp\": \"2023-12-08T13:47:25,946Z\", \"level\": \"INFO\", \"component\": \"o.e.i.g.GeoIpDownloader\", \"cluster.name\": \"docker-cluster\", \"node.name\": \"d36a0b817d49\", \"message\": \"fetching geoip databases overview from [https://geoip.elastic.co/v1/database?elastic_geoip_service_tos=agree]\", \"cluster.uuid\": \"eSA1DR8kTta55tARlNN1XQ\", \"node.id\": \"H7-a5A5nS8eJMMZGU-tQgg\"  }\n",
      "{\"type\": \"server\", \"timestamp\": \"2023-12-08T13:47:26,816Z\", \"level\": \"INFO\", \"component\": \"o.e.c.m.MetadataCreateIndexService\", \"cluster.name\": \"docker-cluster\", \"node.name\": \"d36a0b817d49\", \"message\": \"[.ds-.logs-deprecation.elasticsearch-default-2023.12.08-000001] creating index, cause [initialize_data_stream], templates [.deprecation-indexing-template], shards [1]/[1]\", \"cluster.uuid\": \"eSA1DR8kTta55tARlNN1XQ\", \"node.id\": \"H7-a5A5nS8eJMMZGU-tQgg\"  }\n",
      "{\"type\": \"server\", \"timestamp\": \"2023-12-08T13:47:26,826Z\", \"level\": \"INFO\", \"component\": \"o.e.c.r.a.AllocationService\", \"cluster.name\": \"docker-cluster\", \"node.name\": \"d36a0b817d49\", \"message\": \"updating number_of_replicas to [0] for indices [.ds-.logs-deprecation.elasticsearch-default-2023.12.08-000001]\", \"cluster.uuid\": \"eSA1DR8kTta55tARlNN1XQ\", \"node.id\": \"H7-a5A5nS8eJMMZGU-tQgg\"  }\n",
      "{\"type\": \"server\", \"timestamp\": \"2023-12-08T13:47:26,838Z\", \"level\": \"INFO\", \"component\": \"o.e.c.m.MetadataCreateDataStreamService\", \"cluster.name\": \"docker-cluster\", \"node.name\": \"d36a0b817d49\", \"message\": \"adding data stream [.logs-deprecation.elasticsearch-default] with write index [.ds-.logs-deprecation.elasticsearch-default-2023.12.08-000001], backing indices [], and aliases []\", \"cluster.uuid\": \"eSA1DR8kTta55tARlNN1XQ\", \"node.id\": \"H7-a5A5nS8eJMMZGU-tQgg\"  }\n",
      "{\"type\": \"server\", \"timestamp\": \"2023-12-08T13:47:26,930Z\", \"level\": \"INFO\", \"component\": \"o.e.x.i.IndexLifecycleTransition\", \"cluster.name\": \"docker-cluster\", \"node.name\": \"d36a0b817d49\", \"message\": \"moving index [.ds-.logs-deprecation.elasticsearch-default-2023.12.08-000001] from [null] to [{\\\"phase\\\":\\\"new\\\",\\\"action\\\":\\\"complete\\\",\\\"name\\\":\\\"complete\\\"}] in policy [.deprecation-indexing-ilm-policy]\", \"cluster.uuid\": \"eSA1DR8kTta55tARlNN1XQ\", \"node.id\": \"H7-a5A5nS8eJMMZGU-tQgg\"  }\n",
      "{\"type\": \"server\", \"timestamp\": \"2023-12-08T13:47:26,983Z\", \"level\": \"INFO\", \"component\": \"o.e.x.i.IndexLifecycleTransition\", \"cluster.name\": \"docker-cluster\", \"node.name\": \"d36a0b817d49\", \"message\": \"moving index [.ds-.logs-deprecation.elasticsearch-default-2023.12.08-000001] from [{\\\"phase\\\":\\\"new\\\",\\\"action\\\":\\\"complete\\\",\\\"name\\\":\\\"complete\\\"}] to [{\\\"phase\\\":\\\"hot\\\",\\\"action\\\":\\\"unfollow\\\",\\\"name\\\":\\\"branch-check-unfollow-prerequisites\\\"}] in policy [.deprecation-indexing-ilm-policy]\", \"cluster.uuid\": \"eSA1DR8kTta55tARlNN1XQ\", \"node.id\": \"H7-a5A5nS8eJMMZGU-tQgg\"  }\n",
      "{\"type\": \"server\", \"timestamp\": \"2023-12-08T13:47:27,024Z\", \"level\": \"INFO\", \"component\": \"o.e.c.r.a.AllocationService\", \"cluster.name\": \"docker-cluster\", \"node.name\": \"d36a0b817d49\", \"message\": \"Cluster health status changed from [YELLOW] to [GREEN] (reason: [shards started [[.ds-.logs-deprecation.elasticsearch-default-2023.12.08-000001][0]]]).\", \"cluster.uuid\": \"eSA1DR8kTta55tARlNN1XQ\", \"node.id\": \"H7-a5A5nS8eJMMZGU-tQgg\"  }\n",
      "{\"type\": \"server\", \"timestamp\": \"2023-12-08T13:47:27,063Z\", \"level\": \"INFO\", \"component\": \"o.e.x.i.IndexLifecycleTransition\", \"cluster.name\": \"docker-cluster\", \"node.name\": \"d36a0b817d49\", \"message\": \"moving index [.ds-.logs-deprecation.elasticsearch-default-2023.12.08-000001] from [{\\\"phase\\\":\\\"hot\\\",\\\"action\\\":\\\"unfollow\\\",\\\"name\\\":\\\"branch-check-unfollow-prerequisites\\\"}] to [{\\\"phase\\\":\\\"hot\\\",\\\"action\\\":\\\"rollover\\\",\\\"name\\\":\\\"check-rollover-ready\\\"}] in policy [.deprecation-indexing-ilm-policy]\", \"cluster.uuid\": \"eSA1DR8kTta55tARlNN1XQ\", \"node.id\": \"H7-a5A5nS8eJMMZGU-tQgg\"  }\n",
      "{\"type\": \"server\", \"timestamp\": \"2023-12-08T13:47:27,208Z\", \"level\": \"INFO\", \"component\": \"o.e.c.m.MetadataMappingService\", \"cluster.name\": \"docker-cluster\", \"node.name\": \"d36a0b817d49\", \"message\": \"[.ds-.logs-deprecation.elasticsearch-default-2023.12.08-000001/3PiFvL99TKCbcgpgC-K8xA] update_mapping [_doc]\", \"cluster.uuid\": \"eSA1DR8kTta55tARlNN1XQ\", \"node.id\": \"H7-a5A5nS8eJMMZGU-tQgg\"  }\n",
      "{\"type\": \"server\", \"timestamp\": \"2023-12-08T13:47:32,001Z\", \"level\": \"INFO\", \"component\": \"o.e.c.m.MetadataCreateIndexService\", \"cluster.name\": \"docker-cluster\", \"node.name\": \"d36a0b817d49\", \"message\": \"[.ds-ilm-history-5-2023.12.08-000001] creating index, cause [initialize_data_stream], templates [ilm-history], shards [1]/[0]\", \"cluster.uuid\": \"eSA1DR8kTta55tARlNN1XQ\", \"node.id\": \"H7-a5A5nS8eJMMZGU-tQgg\"  }\n",
      "{\"type\": \"server\", \"timestamp\": \"2023-12-08T13:47:32,004Z\", \"level\": \"INFO\", \"component\": \"o.e.c.m.MetadataCreateDataStreamService\", \"cluster.name\": \"docker-cluster\", \"node.name\": \"d36a0b817d49\", \"message\": \"adding data stream [ilm-history-5] with write index [.ds-ilm-history-5-2023.12.08-000001], backing indices [], and aliases []\", \"cluster.uuid\": \"eSA1DR8kTta55tARlNN1XQ\", \"node.id\": \"H7-a5A5nS8eJMMZGU-tQgg\"  }\n",
      "{\"type\": \"server\", \"timestamp\": \"2023-12-08T13:47:32,061Z\", \"level\": \"INFO\", \"component\": \"o.e.x.i.IndexLifecycleTransition\", \"cluster.name\": \"docker-cluster\", \"node.name\": \"d36a0b817d49\", \"message\": \"moving index [.ds-ilm-history-5-2023.12.08-000001] from [null] to [{\\\"phase\\\":\\\"new\\\",\\\"action\\\":\\\"complete\\\",\\\"name\\\":\\\"complete\\\"}] in policy [ilm-history-ilm-policy]\", \"cluster.uuid\": \"eSA1DR8kTta55tARlNN1XQ\", \"node.id\": \"H7-a5A5nS8eJMMZGU-tQgg\"  }\n",
      "{\"type\": \"server\", \"timestamp\": \"2023-12-08T13:47:32,096Z\", \"level\": \"INFO\", \"component\": \"o.e.c.r.a.AllocationService\", \"cluster.name\": \"docker-cluster\", \"node.name\": \"d36a0b817d49\", \"message\": \"Cluster health status changed from [YELLOW] to [GREEN] (reason: [shards started [[.ds-ilm-history-5-2023.12.08-000001][0]]]).\", \"cluster.uuid\": \"eSA1DR8kTta55tARlNN1XQ\", \"node.id\": \"H7-a5A5nS8eJMMZGU-tQgg\"  }\n",
      "{\"type\": \"server\", \"timestamp\": \"2023-12-08T13:47:32,138Z\", \"level\": \"INFO\", \"component\": \"o.e.x.i.IndexLifecycleTransition\", \"cluster.name\": \"docker-cluster\", \"node.name\": \"d36a0b817d49\", \"message\": \"moving index [.ds-ilm-history-5-2023.12.08-000001] from [{\\\"phase\\\":\\\"new\\\",\\\"action\\\":\\\"complete\\\",\\\"name\\\":\\\"complete\\\"}] to [{\\\"phase\\\":\\\"hot\\\",\\\"action\\\":\\\"unfollow\\\",\\\"name\\\":\\\"branch-check-unfollow-prerequisites\\\"}] in policy [ilm-history-ilm-policy]\", \"cluster.uuid\": \"eSA1DR8kTta55tARlNN1XQ\", \"node.id\": \"H7-a5A5nS8eJMMZGU-tQgg\"  }\n",
      "{\"type\": \"server\", \"timestamp\": \"2023-12-08T13:47:32,175Z\", \"level\": \"INFO\", \"component\": \"o.e.x.i.IndexLifecycleTransition\", \"cluster.name\": \"docker-cluster\", \"node.name\": \"d36a0b817d49\", \"message\": \"moving index [.ds-ilm-history-5-2023.12.08-000001] from [{\\\"phase\\\":\\\"hot\\\",\\\"action\\\":\\\"unfollow\\\",\\\"name\\\":\\\"branch-check-unfollow-prerequisites\\\"}] to [{\\\"phase\\\":\\\"hot\\\",\\\"action\\\":\\\"rollover\\\",\\\"name\\\":\\\"check-rollover-ready\\\"}] in policy [ilm-history-ilm-policy]\", \"cluster.uuid\": \"eSA1DR8kTta55tARlNN1XQ\", \"node.id\": \"H7-a5A5nS8eJMMZGU-tQgg\"  }\n",
      "{\"type\": \"server\", \"timestamp\": \"2023-12-08T13:47:36,016Z\", \"level\": \"ERROR\", \"component\": \"o.e.i.g.GeoIpDownloader\", \"cluster.name\": \"docker-cluster\", \"node.name\": \"d36a0b817d49\", \"message\": \"exception during geoip databases update\", \"cluster.uuid\": \"eSA1DR8kTta55tARlNN1XQ\", \"node.id\": \"H7-a5A5nS8eJMMZGU-tQgg\" , \n",
      "\"stacktrace\": [\"java.net.SocketTimeoutException: Connect timed out\",\n",
      "\"at sun.nio.ch.NioSocketImpl.timedFinishConnect(NioSocketImpl.java:546) ~[?:?]\",\n",
      "\"at sun.nio.ch.NioSocketImpl.connect(NioSocketImpl.java:592) ~[?:?]\",\n",
      "\"at java.net.SocksSocketImpl.connect(SocksSocketImpl.java:327) ~[?:?]\",\n",
      "\"at java.net.Socket.connect(Socket.java:751) ~[?:?]\",\n",
      "\"at sun.security.ssl.SSLSocketImpl.connect(SSLSocketImpl.java:304) ~[?:?]\",\n",
      "\"at sun.net.NetworkClient.doConnect(NetworkClient.java:178) ~[?:?]\",\n",
      "\"at sun.net.www.http.HttpClient.openServer(HttpClient.java:531) ~[?:?]\",\n",
      "\"at sun.net.www.http.HttpClient.openServer(HttpClient.java:636) ~[?:?]\",\n",
      "\"at sun.net.www.protocol.https.HttpsClient.<init>(HttpsClient.java:264) ~[?:?]\",\n",
      "\"at sun.net.www.protocol.https.HttpsClient.New(HttpsClient.java:377) ~[?:?]\",\n",
      "\"at sun.net.www.protocol.https.AbstractDelegateHttpsURLConnection.getNewHttpClient(AbstractDelegateHttpsURLConnection.java:193) ~[?:?]\",\n",
      "\"at sun.net.www.protocol.http.HttpURLConnection.plainConnect0(HttpURLConnection.java:1237) ~[?:?]\",\n",
      "\"at sun.net.www.protocol.http.HttpURLConnection.plainConnect(HttpURLConnection.java:1123) ~[?:?]\",\n",
      "\"at sun.net.www.protocol.https.AbstractDelegateHttpsURLConnection.connect(AbstractDelegateHttpsURLConnection.java:179) ~[?:?]\",\n",
      "\"at sun.net.www.protocol.http.HttpURLConnection.getInputStream0(HttpURLConnection.java:1675) ~[?:?]\",\n",
      "\"at sun.net.www.protocol.http.HttpURLConnection.getInputStream(HttpURLConnection.java:1599) ~[?:?]\",\n",
      "\"at java.net.HttpURLConnection.getResponseCode(HttpURLConnection.java:531) ~[?:?]\",\n",
      "\"at sun.net.www.protocol.https.HttpsURLConnectionImpl.getResponseCode(HttpsURLConnectionImpl.java:307) ~[?:?]\",\n",
      "\"at org.elasticsearch.ingest.geoip.HttpClient.lambda$get$0(HttpClient.java:55) ~[ingest-geoip-7.17.15.jar:7.17.15]\",\n",
      "\"at java.security.AccessController.doPrivileged(AccessController.java:571) ~[?:?]\",\n",
      "\"at org.elasticsearch.ingest.geoip.HttpClient.doPrivileged(HttpClient.java:97) ~[ingest-geoip-7.17.15.jar:7.17.15]\",\n",
      "\"at org.elasticsearch.ingest.geoip.HttpClient.get(HttpClient.java:49) ~[ingest-geoip-7.17.15.jar:7.17.15]\",\n",
      "\"at org.elasticsearch.ingest.geoip.HttpClient.getBytes(HttpClient.java:40) ~[ingest-geoip-7.17.15.jar:7.17.15]\",\n",
      "\"at org.elasticsearch.ingest.geoip.GeoIpDownloader.fetchDatabasesOverview(GeoIpDownloader.java:159) ~[ingest-geoip-7.17.15.jar:7.17.15]\",\n",
      "\"at org.elasticsearch.ingest.geoip.GeoIpDownloader.updateDatabases(GeoIpDownloader.java:147) ~[ingest-geoip-7.17.15.jar:7.17.15]\",\n",
      "\"at org.elasticsearch.ingest.geoip.GeoIpDownloader.runDownloader(GeoIpDownloader.java:284) [ingest-geoip-7.17.15.jar:7.17.15]\",\n",
      "\"at org.elasticsearch.ingest.geoip.GeoIpDownloaderTaskExecutor.nodeOperation(GeoIpDownloaderTaskExecutor.java:100) [ingest-geoip-7.17.15.jar:7.17.15]\",\n",
      "\"at org.elasticsearch.ingest.geoip.GeoIpDownloaderTaskExecutor.nodeOperation(GeoIpDownloaderTaskExecutor.java:46) [ingest-geoip-7.17.15.jar:7.17.15]\",\n",
      "\"at org.elasticsearch.persistent.NodePersistentTasksExecutor$1.doRun(NodePersistentTasksExecutor.java:42) [elasticsearch-7.17.15.jar:7.17.15]\",\n",
      "\"at org.elasticsearch.common.util.concurrent.ThreadContext$ContextPreservingAbstractRunnable.doRun(ThreadContext.java:777) [elasticsearch-7.17.15.jar:7.17.15]\",\n",
      "\"at org.elasticsearch.common.util.concurrent.AbstractRunnable.run(AbstractRunnable.java:26) [elasticsearch-7.17.15.jar:7.17.15]\",\n",
      "\"at java.util.concurrent.ThreadPoolExecutor.runWorker(ThreadPoolExecutor.java:1144) [?:?]\",\n",
      "\"at java.util.concurrent.ThreadPoolExecutor$Worker.run(ThreadPoolExecutor.java:642) [?:?]\",\n",
      "\"at java.lang.Thread.run(Thread.java:1583) [?:?]\"] }\n",
      "{\"type\": \"server\", \"timestamp\": \"2023-12-08T13:47:53,858Z\", \"level\": \"WARN\", \"component\": \"o.e.c.r.a.DiskThresholdMonitor\", \"cluster.name\": \"docker-cluster\", \"node.name\": \"d36a0b817d49\", \"message\": \"high disk watermark [90%] exceeded on [H7-a5A5nS8eJMMZGU-tQgg][d36a0b817d49][/usr/share/elasticsearch/data/nodes/0] free: 22.3gb[5.6%], shards will be relocated away from this node; currently relocating away shards totalling [0] bytes; the node is expected to continue to exceed the high disk watermark when these relocations are complete\", \"cluster.uuid\": \"eSA1DR8kTta55tARlNN1XQ\", \"node.id\": \"H7-a5A5nS8eJMMZGU-tQgg\"  }\n",
      "^C\n",
      "{\"type\": \"server\", \"timestamp\": \"2023-12-08T13:48:20,526Z\", \"level\": \"INFO\", \"component\": \"o.e.n.Node\", \"cluster.name\": \"docker-cluster\", \"node.name\": \"d36a0b817d49\", \"message\": \"stopping ...\", \"cluster.uuid\": \"eSA1DR8kTta55tARlNN1XQ\", \"node.id\": \"H7-a5A5nS8eJMMZGU-tQgg\"  }\n",
      "{\"type\": \"server\", \"timestamp\": \"2023-12-08T13:48:20,530Z\", \"level\": \"INFO\", \"component\": \"o.e.x.w.WatcherService\", \"cluster.name\": \"docker-cluster\", \"node.name\": \"d36a0b817d49\", \"message\": \"stopping watch service, reason [shutdown initiated]\", \"cluster.uuid\": \"eSA1DR8kTta55tARlNN1XQ\", \"node.id\": \"H7-a5A5nS8eJMMZGU-tQgg\"  }\n",
      "{\"type\": \"server\", \"timestamp\": \"2023-12-08T13:48:20,530Z\", \"level\": \"INFO\", \"component\": \"o.e.x.m.p.l.CppLogMessageHandler\", \"cluster.name\": \"docker-cluster\", \"node.name\": \"d36a0b817d49\", \"message\": \"[controller/296] [Main.cc@174] ML controller exiting\", \"cluster.uuid\": \"eSA1DR8kTta55tARlNN1XQ\", \"node.id\": \"H7-a5A5nS8eJMMZGU-tQgg\"  }\n",
      "{\"type\": \"server\", \"timestamp\": \"2023-12-08T13:48:20,531Z\", \"level\": \"INFO\", \"component\": \"o.e.x.m.p.NativeController\", \"cluster.name\": \"docker-cluster\", \"node.name\": \"d36a0b817d49\", \"message\": \"Native controller process has stopped - no new native processes can be started\", \"cluster.uuid\": \"eSA1DR8kTta55tARlNN1XQ\", \"node.id\": \"H7-a5A5nS8eJMMZGU-tQgg\"  }\n",
      "{\"type\": \"server\", \"timestamp\": \"2023-12-08T13:48:20,531Z\", \"level\": \"INFO\", \"component\": \"o.e.x.w.WatcherLifeCycleService\", \"cluster.name\": \"docker-cluster\", \"node.name\": \"d36a0b817d49\", \"message\": \"watcher has stopped and shutdown\", \"cluster.uuid\": \"eSA1DR8kTta55tARlNN1XQ\", \"node.id\": \"H7-a5A5nS8eJMMZGU-tQgg\"  }\n"
     ]
    }
   ],
   "source": [
    "!docker run -p 127.0.0.1:9200:9200 -p 127.0.0.1:9300:9300 -e \"discovery.type=single-node\" docker.elastic.co/elasticsearch/elasticsearch:7.17.15"
   ]
  },
  {
   "cell_type": "code",
   "execution_count": null,
   "metadata": {},
   "outputs": [
    {
     "name": "stdout",
     "output_type": "stream",
     "text": [
      "{\n",
      "  \"name\" : \"efc38f135e49\",\n",
      "  \"cluster_name\" : \"docker-cluster\",\n",
      "  \"cluster_uuid\" : \"aevYlbdERfqS-jC8RXmeLw\",\n",
      "  \"version\" : {\n",
      "    \"number\" : \"7.17.15\",\n",
      "    \"build_flavor\" : \"default\",\n",
      "    \"build_type\" : \"docker\",\n",
      "    \"build_hash\" : \"0b8ecfb4378335f4689c4223d1f1115f16bef3ba\",\n",
      "    \"build_date\" : \"2023-11-10T22:03:46.987399016Z\",\n",
      "    \"build_snapshot\" : false,\n",
      "    \"lucene_version\" : \"8.11.1\",\n",
      "    \"minimum_wire_compatibility_version\" : \"6.8.0\",\n",
      "    \"minimum_index_compatibility_version\" : \"6.0.0-beta1\"\n",
      "  },\n",
      "  \"tagline\" : \"You Know, for Search\"\n",
      "}\n"
     ]
    }
   ],
   "source": [
    "! curl -X GET \"localhost:9200\""
   ]
  },
  {
   "cell_type": "markdown",
   "metadata": {},
   "source": [
    "#### 2.3.2 Ingest documents into document store"
   ]
  },
  {
   "cell_type": "code",
   "execution_count": 6,
   "metadata": {},
   "outputs": [
    {
     "name": "stdout",
     "output_type": "stream",
     "text": [
      "\u001B[32m2023-12-13 11:23:53.342\u001B[0m | \u001B[1mINFO    \u001B[0m | \u001B[36mpyrecdp.core.import_utils\u001B[0m:\u001B[36mcheck_availability_and_install\u001B[0m:\u001B[36m45\u001B[0m - \u001B[1mcheck_availability_and_install ['langchain']\u001B[0m\n",
      "\u001B[32m2023-12-13 11:23:53.346\u001B[0m | \u001B[1mINFO    \u001B[0m | \u001B[36mpyrecdp.core.import_utils\u001B[0m:\u001B[36mcheck_availability_and_install\u001B[0m:\u001B[36m45\u001B[0m - \u001B[1mcheck_availability_and_install ['farm-haystack', 'farm-haystack[elasticsearch7]']\u001B[0m\n"
     ]
    },
    {
     "name": "stderr",
     "output_type": "stream",
     "text": [
      "WARNING: pip is being invoked by an old script wrapper. This will fail in a future version of pip.\n",
      "Please see https://github.com/pypa/pip/issues/5599 for advice on fixing the underlying issue.\n",
      "To avoid this problem you can invoke Python with '-m pip' instead of running pip directly.\n"
     ]
    },
    {
     "data": {
      "text/html": [
       "<pre style=\"white-space:pre;overflow-x:auto;line-height:normal;font-family:Menlo,'DejaVu Sans Mono',consolas,'Courier New',monospace\"><span style=\"color: #808000; text-decoration-color: #808000\">WARNING: Running pip as the 'root' user can result in broken permissions and conflicting behaviour with the system package manager. It is recommended to use a virtual environment instead: https://pip.pypa.io/warnings/venv\n",
       "</span></pre>\n"
      ],
      "text/plain": [
       "\u001B[33mWARNING: Running pip as the 'root' user can result in broken permissions and conflicting behaviour with the system package manager. It is recommended to use a virtual environment instead: https://pip.pypa.io/warnings/venv\u001B[0m\u001B[33m\n",
       "\u001B[0m"
      ]
     },
     "metadata": {},
     "output_type": "display_data"
    },
    {
     "name": "stderr",
     "output_type": "stream",
     "text": [
      "WARNING: pip is being invoked by an old script wrapper. This will fail in a future version of pip.\n",
      "Please see https://github.com/pypa/pip/issues/5599 for advice on fixing the underlying issue.\n",
      "To avoid this problem you can invoke Python with '-m pip' instead of running pip directly.\n"
     ]
    },
    {
     "data": {
      "text/html": [
       "<pre style=\"white-space:pre;overflow-x:auto;line-height:normal;font-family:Menlo,'DejaVu Sans Mono',consolas,'Courier New',monospace\"><span style=\"color: #808000; text-decoration-color: #808000\">WARNING: Running pip as the 'root' user can result in broken permissions and conflicting behaviour with the system package manager. It is recommended to use a virtual environment instead: https://pip.pypa.io/warnings/venv\n",
       "</span></pre>\n"
      ],
      "text/plain": [
       "\u001B[33mWARNING: Running pip as the 'root' user can result in broken permissions and conflicting behaviour with the system package manager. It is recommended to use a virtual environment instead: https://pip.pypa.io/warnings/venv\u001B[0m\u001B[33m\n",
       "\u001B[0m"
      ]
     },
     "metadata": {},
     "output_type": "display_data"
    },
    {
     "name": "stderr",
     "output_type": "stream",
     "text": [
      "/root/miniforge3/envs/recdp/lib/python3.10/site-packages/elasticsearch/connection/base.py:200: ElasticsearchWarning: Elasticsearch built-in security features are not enabled. Without authentication, your cluster could be accessible to anyone. See https://www.elastic.co/guide/en/elasticsearch/reference/7.17/security-minimal-setup.html to enable security.\n",
      "  warnings.warn(message, category=ElasticsearchWarning)\n"
     ]
    },
    {
     "data": {
      "text/html": [
       "<div>\n",
       "<style scoped>\n",
       "    .dataframe tbody tr th:only-of-type {\n",
       "        vertical-align: middle;\n",
       "    }\n",
       "\n",
       "    .dataframe tbody tr th {\n",
       "        vertical-align: top;\n",
       "    }\n",
       "\n",
       "    .dataframe thead th {\n",
       "        text-align: right;\n",
       "    }\n",
       "</style>\n",
       "<table border=\"1\" class=\"dataframe\">\n",
       "  <thead>\n",
       "    <tr style=\"text-align: right;\">\n",
       "      <th></th>\n",
       "      <th>text</th>\n",
       "      <th>metadata</th>\n",
       "    </tr>\n",
       "  </thead>\n",
       "  <tbody>\n",
       "    <tr>\n",
       "      <th>0</th>\n",
       "      <td>Welcome to cnvrg.io cnvrg.io is a machine lear...</td>\n",
       "      <td>{'source': 'https://app.cnvrg.io/docs/'}</td>\n",
       "    </tr>\n",
       "    <tr>\n",
       "      <th>1</th>\n",
       "      <td>Dataset Use Datasets to manage data with versi...</td>\n",
       "      <td>{'source': 'https://app.cnvrg.io/docs/'}</td>\n",
       "    </tr>\n",
       "    <tr>\n",
       "      <th>2</th>\n",
       "      <td>Use Papers to consolidate comparison across ex...</td>\n",
       "      <td>{'source': 'https://app.cnvrg.io/docs/'}</td>\n",
       "    </tr>\n",
       "    <tr>\n",
       "      <th>3</th>\n",
       "      <td>Easily update your running serving to keep it ...</td>\n",
       "      <td>{'source': 'https://app.cnvrg.io/docs/'}</td>\n",
       "    </tr>\n",
       "    <tr>\n",
       "      <th>4</th>\n",
       "      <td>Tutorials and Examples To help you get started...</td>\n",
       "      <td>{'source': 'https://app.cnvrg.io/docs/collecti...</td>\n",
       "    </tr>\n",
       "    <tr>\n",
       "      <th>...</th>\n",
       "      <td>...</td>\n",
       "      <td>...</td>\n",
       "    </tr>\n",
       "    <tr>\n",
       "      <th>92</th>\n",
       "      <td>For example, gputype=v100 .To specify several,...</td>\n",
       "      <td>{'source': 'https://app.cnvrg.io/docs/core_con...</td>\n",
       "    </tr>\n",
       "    <tr>\n",
       "      <th>93</th>\n",
       "      <td>For example, gputype=v100 .To specify several,...</td>\n",
       "      <td>{'source': 'https://app.cnvrg.io/docs/core_con...</td>\n",
       "    </tr>\n",
       "    <tr>\n",
       "      <th>94</th>\n",
       "      <td>For example, gputype=v100 .To specify several,...</td>\n",
       "      <td>{'source': 'https://app.cnvrg.io/docs/core_con...</td>\n",
       "    </tr>\n",
       "    <tr>\n",
       "      <th>95</th>\n",
       "      <td>options are: cnvrg, dockerhub, gcr, acr, ecr, ...</td>\n",
       "      <td>{'source': 'https://app.cnvrg.io/docs/core_con...</td>\n",
       "    </tr>\n",
       "    <tr>\n",
       "      <th>96</th>\n",
       "      <td>options are: cnvrg, dockerhub, gcr, acr, ecr, ...</td>\n",
       "      <td>{'source': 'https://app.cnvrg.io/docs/core_con...</td>\n",
       "    </tr>\n",
       "  </tbody>\n",
       "</table>\n",
       "<p>97 rows × 2 columns</p>\n",
       "</div>"
      ],
      "text/plain": [
       "                                                 text  \\\n",
       "0   Welcome to cnvrg.io cnvrg.io is a machine lear...   \n",
       "1   Dataset Use Datasets to manage data with versi...   \n",
       "2   Use Papers to consolidate comparison across ex...   \n",
       "3   Easily update your running serving to keep it ...   \n",
       "4   Tutorials and Examples To help you get started...   \n",
       "..                                                ...   \n",
       "92  For example, gputype=v100 .To specify several,...   \n",
       "93  For example, gputype=v100 .To specify several,...   \n",
       "94  For example, gputype=v100 .To specify several,...   \n",
       "95  options are: cnvrg, dockerhub, gcr, acr, ecr, ...   \n",
       "96  options are: cnvrg, dockerhub, gcr, acr, ecr, ...   \n",
       "\n",
       "                                             metadata  \n",
       "0            {'source': 'https://app.cnvrg.io/docs/'}  \n",
       "1            {'source': 'https://app.cnvrg.io/docs/'}  \n",
       "2            {'source': 'https://app.cnvrg.io/docs/'}  \n",
       "3            {'source': 'https://app.cnvrg.io/docs/'}  \n",
       "4   {'source': 'https://app.cnvrg.io/docs/collecti...  \n",
       "..                                                ...  \n",
       "92  {'source': 'https://app.cnvrg.io/docs/core_con...  \n",
       "93  {'source': 'https://app.cnvrg.io/docs/core_con...  \n",
       "94  {'source': 'https://app.cnvrg.io/docs/core_con...  \n",
       "95  {'source': 'https://app.cnvrg.io/docs/core_con...  \n",
       "96  {'source': 'https://app.cnvrg.io/docs/core_con...  \n",
       "\n",
       "[97 rows x 2 columns]"
      ]
     },
     "metadata": {},
     "output_type": "display_data"
    }
   ],
   "source": [
    "from pyrecdp.primitives.operations import DocumentIngestion\n",
    "indexer_op = DocumentIngestion(\n",
    "    rag_framework='haystack',\n",
    "    vector_store='elasticsearch',\n",
    "    vector_store_args={'host': 'localhost', 'port': 9200},\n",
    ")\n",
    "\n",
    "ds = indexer_op.process_rayds(ds)\n",
    "display(ds.to_pandas())"
   ]
  }
 ],
 "metadata": {
  "colab": {
   "provenance": []
  },
  "kernelspec": {
   "display_name": "Python 3 (ipykernel)",
   "language": "python",
   "name": "python3"
  },
  "language_info": {
   "codemirror_mode": {
    "name": "ipython",
    "version": 3
   },
   "file_extension": ".py",
   "mimetype": "text/x-python",
   "name": "python",
   "nbconvert_exporter": "python",
   "pygments_lexer": "ipython3",
   "version": "3.10.12"
  }
 },
 "nbformat": 4,
 "nbformat_minor": 0
}
