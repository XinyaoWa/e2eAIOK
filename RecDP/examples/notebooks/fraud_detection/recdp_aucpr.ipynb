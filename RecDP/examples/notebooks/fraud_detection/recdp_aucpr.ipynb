{
 "cells": [
  {
   "attachments": {},
   "cell_type": "markdown",
   "metadata": {},
   "source": [
    "# Auto Feature Engineering Workflow Demo"
   ]
  },
  {
   "attachments": {},
   "cell_type": "markdown",
   "metadata": {},
   "source": [
    "## Content\n",
    "\n",
    "* [Auto Feature Engineering RUN](#Auto-Feature-Engineering-RUN)\n",
    "* [Feature Profiling](#Feature-Profiling)\n",
    "* [Pipeline Plot](#Pipeline-Plot)\n",
    "* [Feature Importance](#Feature-Importance)"
   ]
  },
  {
   "attachments": {},
   "cell_type": "markdown",
   "metadata": {},
   "source": [
    "## 1. Introduction"
   ]
  },
  {
   "attachments": {},
   "cell_type": "markdown",
   "metadata": {},
   "source": [
    "This AutoFE workflow demo shows how to leverage the Auto-Feature-Engineering toolkit (codename:RecDP) to automatically transform raw tabular data to a ready-to-train data with enriched usefull new features, while significantly improve developer productivity and end-to-end data prepration performance.\n",
    "![auto feature engineering](recdp_autofe_overview.jpg)"
   ]
  },
  {
   "attachments": {},
   "cell_type": "markdown",
   "metadata": {},
   "source": [
    "AutoFE workflows uses RecDP to: \n",
    "\n",
    "(1) Automatically profile the dataset, infer data type of each input columns  \n",
    "(2) Determines the proper feature engineering primitives with infered data type  \n",
    "(3) Generates data preparation pipelines with chained operators  \n",
    "(4) Generates DAG for operations  \n",
    "(5) Execute DAG on different engines  \n",
    "(6) Feature importance analsyis  "
   ]
  },
  {
   "attachments": {},
   "cell_type": "markdown",
   "metadata": {
    "tags": []
   },
   "source": [
    "## 2. Auto Feature Engineering Workflow Demo"
   ]
  },
  {
   "attachments": {},
   "cell_type": "markdown",
   "metadata": {
    "tags": []
   },
   "source": [
    "### Step 1: Configuration file \n",
    "edit `workflow.yaml`, supported configurations are listed in table\n",
    "\n",
    "| Name            | Description   |\n",
    "| --------------- | ------------- |\n",
    "| dataset_path | set dataset directory |\n",
    "| target_label | specify target lable of dataset|\n",
    "| engine_type | config auto feature engineering engine type, support pandas and spark |"
   ]
  },
  {
   "cell_type": "code",
   "execution_count": 1,
   "metadata": {
    "tags": []
   },
   "outputs": [
    {
     "name": "stdout",
     "output_type": "stream",
     "text": [
      "dataset_path: ./raw_data/card_transaction.v1.csv\n",
      "target_label: 'Is Fraud?'\n",
      "engine_type: pandas"
     ]
    }
   ],
   "source": [
    "!cat workflow.yaml"
   ]
  },
  {
   "cell_type": "code",
   "execution_count": 2,
   "metadata": {},
   "outputs": [
    {
     "name": "stdout",
     "output_type": "stream",
     "text": [
      "Read /home/vmagent/app/workspace/./raw_data/card_transaction.v1.csv started ...\n",
      "Read /home/vmagent/app/workspace/./raw_data/card_transaction.v1.csv took 33.024780344218016 sec\n"
     ]
    },
    {
     "data": {
      "text/html": [
       "<div>\n",
       "<style scoped>\n",
       "    .dataframe tbody tr th:only-of-type {\n",
       "        vertical-align: middle;\n",
       "    }\n",
       "\n",
       "    .dataframe tbody tr th {\n",
       "        vertical-align: top;\n",
       "    }\n",
       "\n",
       "    .dataframe thead th {\n",
       "        text-align: right;\n",
       "    }\n",
       "</style>\n",
       "<table border=\"1\" class=\"dataframe\">\n",
       "  <thead>\n",
       "    <tr style=\"text-align: right;\">\n",
       "      <th></th>\n",
       "      <th>User</th>\n",
       "      <th>Card</th>\n",
       "      <th>Year</th>\n",
       "      <th>Month</th>\n",
       "      <th>Day</th>\n",
       "      <th>Time</th>\n",
       "      <th>Amount</th>\n",
       "      <th>Use Chip</th>\n",
       "      <th>Merchant Name</th>\n",
       "      <th>Merchant City</th>\n",
       "      <th>Merchant State</th>\n",
       "      <th>Zip</th>\n",
       "      <th>MCC</th>\n",
       "      <th>Errors?</th>\n",
       "      <th>Is Fraud?</th>\n",
       "    </tr>\n",
       "  </thead>\n",
       "  <tbody>\n",
       "    <tr>\n",
       "      <th>0</th>\n",
       "      <td>0</td>\n",
       "      <td>0</td>\n",
       "      <td>2002</td>\n",
       "      <td>9</td>\n",
       "      <td>1</td>\n",
       "      <td>06:21</td>\n",
       "      <td>$134.09</td>\n",
       "      <td>Swipe Transaction</td>\n",
       "      <td>3527213246127876953</td>\n",
       "      <td>La Verne</td>\n",
       "      <td>CA</td>\n",
       "      <td>91750.0</td>\n",
       "      <td>5300</td>\n",
       "      <td>NaN</td>\n",
       "      <td>No</td>\n",
       "    </tr>\n",
       "    <tr>\n",
       "      <th>1</th>\n",
       "      <td>0</td>\n",
       "      <td>0</td>\n",
       "      <td>2002</td>\n",
       "      <td>9</td>\n",
       "      <td>1</td>\n",
       "      <td>06:42</td>\n",
       "      <td>$38.48</td>\n",
       "      <td>Swipe Transaction</td>\n",
       "      <td>-727612092139916043</td>\n",
       "      <td>Monterey Park</td>\n",
       "      <td>CA</td>\n",
       "      <td>91754.0</td>\n",
       "      <td>5411</td>\n",
       "      <td>NaN</td>\n",
       "      <td>No</td>\n",
       "    </tr>\n",
       "    <tr>\n",
       "      <th>2</th>\n",
       "      <td>0</td>\n",
       "      <td>0</td>\n",
       "      <td>2002</td>\n",
       "      <td>9</td>\n",
       "      <td>2</td>\n",
       "      <td>06:22</td>\n",
       "      <td>$120.34</td>\n",
       "      <td>Swipe Transaction</td>\n",
       "      <td>-727612092139916043</td>\n",
       "      <td>Monterey Park</td>\n",
       "      <td>CA</td>\n",
       "      <td>91754.0</td>\n",
       "      <td>5411</td>\n",
       "      <td>NaN</td>\n",
       "      <td>No</td>\n",
       "    </tr>\n",
       "    <tr>\n",
       "      <th>3</th>\n",
       "      <td>0</td>\n",
       "      <td>0</td>\n",
       "      <td>2002</td>\n",
       "      <td>9</td>\n",
       "      <td>2</td>\n",
       "      <td>17:45</td>\n",
       "      <td>$128.95</td>\n",
       "      <td>Swipe Transaction</td>\n",
       "      <td>3414527459579106770</td>\n",
       "      <td>Monterey Park</td>\n",
       "      <td>CA</td>\n",
       "      <td>91754.0</td>\n",
       "      <td>5651</td>\n",
       "      <td>NaN</td>\n",
       "      <td>No</td>\n",
       "    </tr>\n",
       "    <tr>\n",
       "      <th>4</th>\n",
       "      <td>0</td>\n",
       "      <td>0</td>\n",
       "      <td>2002</td>\n",
       "      <td>9</td>\n",
       "      <td>3</td>\n",
       "      <td>06:23</td>\n",
       "      <td>$104.71</td>\n",
       "      <td>Swipe Transaction</td>\n",
       "      <td>5817218446178736267</td>\n",
       "      <td>La Verne</td>\n",
       "      <td>CA</td>\n",
       "      <td>91750.0</td>\n",
       "      <td>5912</td>\n",
       "      <td>NaN</td>\n",
       "      <td>No</td>\n",
       "    </tr>\n",
       "    <tr>\n",
       "      <th>...</th>\n",
       "      <td>...</td>\n",
       "      <td>...</td>\n",
       "      <td>...</td>\n",
       "      <td>...</td>\n",
       "      <td>...</td>\n",
       "      <td>...</td>\n",
       "      <td>...</td>\n",
       "      <td>...</td>\n",
       "      <td>...</td>\n",
       "      <td>...</td>\n",
       "      <td>...</td>\n",
       "      <td>...</td>\n",
       "      <td>...</td>\n",
       "      <td>...</td>\n",
       "      <td>...</td>\n",
       "    </tr>\n",
       "    <tr>\n",
       "      <th>24386895</th>\n",
       "      <td>1999</td>\n",
       "      <td>1</td>\n",
       "      <td>2020</td>\n",
       "      <td>2</td>\n",
       "      <td>27</td>\n",
       "      <td>22:23</td>\n",
       "      <td>$-54.00</td>\n",
       "      <td>Chip Transaction</td>\n",
       "      <td>-5162038175624867091</td>\n",
       "      <td>Merrimack</td>\n",
       "      <td>NH</td>\n",
       "      <td>3054.0</td>\n",
       "      <td>5541</td>\n",
       "      <td>NaN</td>\n",
       "      <td>No</td>\n",
       "    </tr>\n",
       "    <tr>\n",
       "      <th>24386896</th>\n",
       "      <td>1999</td>\n",
       "      <td>1</td>\n",
       "      <td>2020</td>\n",
       "      <td>2</td>\n",
       "      <td>27</td>\n",
       "      <td>22:24</td>\n",
       "      <td>$54.00</td>\n",
       "      <td>Chip Transaction</td>\n",
       "      <td>-5162038175624867091</td>\n",
       "      <td>Merrimack</td>\n",
       "      <td>NH</td>\n",
       "      <td>3054.0</td>\n",
       "      <td>5541</td>\n",
       "      <td>NaN</td>\n",
       "      <td>No</td>\n",
       "    </tr>\n",
       "    <tr>\n",
       "      <th>24386897</th>\n",
       "      <td>1999</td>\n",
       "      <td>1</td>\n",
       "      <td>2020</td>\n",
       "      <td>2</td>\n",
       "      <td>28</td>\n",
       "      <td>07:43</td>\n",
       "      <td>$59.15</td>\n",
       "      <td>Chip Transaction</td>\n",
       "      <td>2500998799892805156</td>\n",
       "      <td>Merrimack</td>\n",
       "      <td>NH</td>\n",
       "      <td>3054.0</td>\n",
       "      <td>4121</td>\n",
       "      <td>NaN</td>\n",
       "      <td>No</td>\n",
       "    </tr>\n",
       "    <tr>\n",
       "      <th>24386898</th>\n",
       "      <td>1999</td>\n",
       "      <td>1</td>\n",
       "      <td>2020</td>\n",
       "      <td>2</td>\n",
       "      <td>28</td>\n",
       "      <td>20:10</td>\n",
       "      <td>$43.12</td>\n",
       "      <td>Chip Transaction</td>\n",
       "      <td>2500998799892805156</td>\n",
       "      <td>Merrimack</td>\n",
       "      <td>NH</td>\n",
       "      <td>3054.0</td>\n",
       "      <td>4121</td>\n",
       "      <td>NaN</td>\n",
       "      <td>No</td>\n",
       "    </tr>\n",
       "    <tr>\n",
       "      <th>24386899</th>\n",
       "      <td>1999</td>\n",
       "      <td>1</td>\n",
       "      <td>2020</td>\n",
       "      <td>2</td>\n",
       "      <td>28</td>\n",
       "      <td>23:10</td>\n",
       "      <td>$45.13</td>\n",
       "      <td>Chip Transaction</td>\n",
       "      <td>4751695835751691036</td>\n",
       "      <td>Merrimack</td>\n",
       "      <td>NH</td>\n",
       "      <td>3054.0</td>\n",
       "      <td>5814</td>\n",
       "      <td>NaN</td>\n",
       "      <td>No</td>\n",
       "    </tr>\n",
       "  </tbody>\n",
       "</table>\n",
       "<p>24386900 rows × 15 columns</p>\n",
       "</div>"
      ],
      "text/plain": [
       "          User  Card  Year  Month  Day   Time   Amount           Use Chip        Merchant Name  Merchant City Merchant State      Zip   MCC Errors?  \\\n",
       "0            0     0  2002      9    1  06:21  $134.09  Swipe Transaction  3527213246127876953       La Verne             CA  91750.0  5300     NaN   \n",
       "1            0     0  2002      9    1  06:42   $38.48  Swipe Transaction  -727612092139916043  Monterey Park             CA  91754.0  5411     NaN   \n",
       "2            0     0  2002      9    2  06:22  $120.34  Swipe Transaction  -727612092139916043  Monterey Park             CA  91754.0  5411     NaN   \n",
       "3            0     0  2002      9    2  17:45  $128.95  Swipe Transaction  3414527459579106770  Monterey Park             CA  91754.0  5651     NaN   \n",
       "4            0     0  2002      9    3  06:23  $104.71  Swipe Transaction  5817218446178736267       La Verne             CA  91750.0  5912     NaN   \n",
       "...        ...   ...   ...    ...  ...    ...      ...                ...                  ...            ...            ...      ...   ...     ...   \n",
       "24386895  1999     1  2020      2   27  22:23  $-54.00   Chip Transaction -5162038175624867091      Merrimack             NH   3054.0  5541     NaN   \n",
       "24386896  1999     1  2020      2   27  22:24   $54.00   Chip Transaction -5162038175624867091      Merrimack             NH   3054.0  5541     NaN   \n",
       "24386897  1999     1  2020      2   28  07:43   $59.15   Chip Transaction  2500998799892805156      Merrimack             NH   3054.0  4121     NaN   \n",
       "24386898  1999     1  2020      2   28  20:10   $43.12   Chip Transaction  2500998799892805156      Merrimack             NH   3054.0  4121     NaN   \n",
       "24386899  1999     1  2020      2   28  23:10   $45.13   Chip Transaction  4751695835751691036      Merrimack             NH   3054.0  5814     NaN   \n",
       "\n",
       "         Is Fraud?  \n",
       "0               No  \n",
       "1               No  \n",
       "2               No  \n",
       "3               No  \n",
       "4               No  \n",
       "...            ...  \n",
       "24386895        No  \n",
       "24386896        No  \n",
       "24386897        No  \n",
       "24386898        No  \n",
       "24386899        No  \n",
       "\n",
       "[24386900 rows x 15 columns]"
      ]
     },
     "execution_count": 2,
     "metadata": {},
     "output_type": "execute_result"
    }
   ],
   "source": [
    "data = load_data()\n",
    "data"
   ]
  },
  {
   "cell_type": "code",
   "execution_count": 3,
   "metadata": {},
   "outputs": [],
   "source": [
    "train_data = data[data['Year'] < 2018].reset_index(drop=True)\n",
    "valid_data = data[data['Year'] == 2018].reset_index(drop=True)\n",
    "test_data = data[data['Year'] > 2018].reset_index(drop=True)"
   ]
  },
  {
   "cell_type": "code",
   "execution_count": 4,
   "metadata": {},
   "outputs": [
    {
     "data": {
      "text/html": [
       "<div>\n",
       "<style scoped>\n",
       "    .dataframe tbody tr th:only-of-type {\n",
       "        vertical-align: middle;\n",
       "    }\n",
       "\n",
       "    .dataframe tbody tr th {\n",
       "        vertical-align: top;\n",
       "    }\n",
       "\n",
       "    .dataframe thead th {\n",
       "        text-align: right;\n",
       "    }\n",
       "</style>\n",
       "<table border=\"1\" class=\"dataframe\">\n",
       "  <thead>\n",
       "    <tr style=\"text-align: right;\">\n",
       "      <th></th>\n",
       "      <th>User</th>\n",
       "      <th>Card</th>\n",
       "      <th>Year</th>\n",
       "      <th>Month</th>\n",
       "      <th>Day</th>\n",
       "      <th>Time</th>\n",
       "      <th>Amount</th>\n",
       "      <th>Use Chip</th>\n",
       "      <th>Merchant Name</th>\n",
       "      <th>Merchant City</th>\n",
       "      <th>Merchant State</th>\n",
       "      <th>Zip</th>\n",
       "      <th>MCC</th>\n",
       "      <th>Errors?</th>\n",
       "      <th>Is Fraud?</th>\n",
       "    </tr>\n",
       "  </thead>\n",
       "  <tbody>\n",
       "    <tr>\n",
       "      <th>0</th>\n",
       "      <td>0</td>\n",
       "      <td>0</td>\n",
       "      <td>2002</td>\n",
       "      <td>9</td>\n",
       "      <td>1</td>\n",
       "      <td>06:21</td>\n",
       "      <td>$134.09</td>\n",
       "      <td>Swipe Transaction</td>\n",
       "      <td>3527213246127876953</td>\n",
       "      <td>La Verne</td>\n",
       "      <td>CA</td>\n",
       "      <td>91750.0</td>\n",
       "      <td>5300</td>\n",
       "      <td>NaN</td>\n",
       "      <td>No</td>\n",
       "    </tr>\n",
       "    <tr>\n",
       "      <th>1</th>\n",
       "      <td>0</td>\n",
       "      <td>0</td>\n",
       "      <td>2002</td>\n",
       "      <td>9</td>\n",
       "      <td>1</td>\n",
       "      <td>06:42</td>\n",
       "      <td>$38.48</td>\n",
       "      <td>Swipe Transaction</td>\n",
       "      <td>-727612092139916043</td>\n",
       "      <td>Monterey Park</td>\n",
       "      <td>CA</td>\n",
       "      <td>91754.0</td>\n",
       "      <td>5411</td>\n",
       "      <td>NaN</td>\n",
       "      <td>No</td>\n",
       "    </tr>\n",
       "    <tr>\n",
       "      <th>2</th>\n",
       "      <td>0</td>\n",
       "      <td>0</td>\n",
       "      <td>2002</td>\n",
       "      <td>9</td>\n",
       "      <td>2</td>\n",
       "      <td>06:22</td>\n",
       "      <td>$120.34</td>\n",
       "      <td>Swipe Transaction</td>\n",
       "      <td>-727612092139916043</td>\n",
       "      <td>Monterey Park</td>\n",
       "      <td>CA</td>\n",
       "      <td>91754.0</td>\n",
       "      <td>5411</td>\n",
       "      <td>NaN</td>\n",
       "      <td>No</td>\n",
       "    </tr>\n",
       "    <tr>\n",
       "      <th>3</th>\n",
       "      <td>0</td>\n",
       "      <td>0</td>\n",
       "      <td>2002</td>\n",
       "      <td>9</td>\n",
       "      <td>2</td>\n",
       "      <td>17:45</td>\n",
       "      <td>$128.95</td>\n",
       "      <td>Swipe Transaction</td>\n",
       "      <td>3414527459579106770</td>\n",
       "      <td>Monterey Park</td>\n",
       "      <td>CA</td>\n",
       "      <td>91754.0</td>\n",
       "      <td>5651</td>\n",
       "      <td>NaN</td>\n",
       "      <td>No</td>\n",
       "    </tr>\n",
       "    <tr>\n",
       "      <th>4</th>\n",
       "      <td>0</td>\n",
       "      <td>0</td>\n",
       "      <td>2002</td>\n",
       "      <td>9</td>\n",
       "      <td>3</td>\n",
       "      <td>06:23</td>\n",
       "      <td>$104.71</td>\n",
       "      <td>Swipe Transaction</td>\n",
       "      <td>5817218446178736267</td>\n",
       "      <td>La Verne</td>\n",
       "      <td>CA</td>\n",
       "      <td>91750.0</td>\n",
       "      <td>5912</td>\n",
       "      <td>NaN</td>\n",
       "      <td>No</td>\n",
       "    </tr>\n",
       "    <tr>\n",
       "      <th>...</th>\n",
       "      <td>...</td>\n",
       "      <td>...</td>\n",
       "      <td>...</td>\n",
       "      <td>...</td>\n",
       "      <td>...</td>\n",
       "      <td>...</td>\n",
       "      <td>...</td>\n",
       "      <td>...</td>\n",
       "      <td>...</td>\n",
       "      <td>...</td>\n",
       "      <td>...</td>\n",
       "      <td>...</td>\n",
       "      <td>...</td>\n",
       "      <td>...</td>\n",
       "      <td>...</td>\n",
       "    </tr>\n",
       "    <tr>\n",
       "      <th>20604842</th>\n",
       "      <td>1999</td>\n",
       "      <td>1</td>\n",
       "      <td>2017</td>\n",
       "      <td>12</td>\n",
       "      <td>31</td>\n",
       "      <td>07:39</td>\n",
       "      <td>$68.68</td>\n",
       "      <td>Online Transaction</td>\n",
       "      <td>-6160036380778658394</td>\n",
       "      <td>ONLINE</td>\n",
       "      <td>NaN</td>\n",
       "      <td>NaN</td>\n",
       "      <td>4121</td>\n",
       "      <td>NaN</td>\n",
       "      <td>No</td>\n",
       "    </tr>\n",
       "    <tr>\n",
       "      <th>20604843</th>\n",
       "      <td>1999</td>\n",
       "      <td>1</td>\n",
       "      <td>2017</td>\n",
       "      <td>12</td>\n",
       "      <td>31</td>\n",
       "      <td>11:16</td>\n",
       "      <td>$53.88</td>\n",
       "      <td>Chip Transaction</td>\n",
       "      <td>-7389834768703789874</td>\n",
       "      <td>Phoenix</td>\n",
       "      <td>AZ</td>\n",
       "      <td>85009.0</td>\n",
       "      <td>7538</td>\n",
       "      <td>NaN</td>\n",
       "      <td>No</td>\n",
       "    </tr>\n",
       "    <tr>\n",
       "      <th>20604844</th>\n",
       "      <td>1999</td>\n",
       "      <td>1</td>\n",
       "      <td>2017</td>\n",
       "      <td>12</td>\n",
       "      <td>31</td>\n",
       "      <td>11:38</td>\n",
       "      <td>$73.57</td>\n",
       "      <td>Chip Transaction</td>\n",
       "      <td>-2472481739355111587</td>\n",
       "      <td>Phoenix</td>\n",
       "      <td>AZ</td>\n",
       "      <td>85009.0</td>\n",
       "      <td>7538</td>\n",
       "      <td>NaN</td>\n",
       "      <td>No</td>\n",
       "    </tr>\n",
       "    <tr>\n",
       "      <th>20604845</th>\n",
       "      <td>1999</td>\n",
       "      <td>1</td>\n",
       "      <td>2017</td>\n",
       "      <td>12</td>\n",
       "      <td>31</td>\n",
       "      <td>12:27</td>\n",
       "      <td>$8.12</td>\n",
       "      <td>Online Transaction</td>\n",
       "      <td>6455213054093379528</td>\n",
       "      <td>ONLINE</td>\n",
       "      <td>NaN</td>\n",
       "      <td>NaN</td>\n",
       "      <td>5815</td>\n",
       "      <td>NaN</td>\n",
       "      <td>No</td>\n",
       "    </tr>\n",
       "    <tr>\n",
       "      <th>20604846</th>\n",
       "      <td>1999</td>\n",
       "      <td>1</td>\n",
       "      <td>2017</td>\n",
       "      <td>12</td>\n",
       "      <td>31</td>\n",
       "      <td>20:14</td>\n",
       "      <td>$46.35</td>\n",
       "      <td>Online Transaction</td>\n",
       "      <td>-6160036380778658394</td>\n",
       "      <td>ONLINE</td>\n",
       "      <td>NaN</td>\n",
       "      <td>NaN</td>\n",
       "      <td>4121</td>\n",
       "      <td>NaN</td>\n",
       "      <td>No</td>\n",
       "    </tr>\n",
       "  </tbody>\n",
       "</table>\n",
       "<p>20604847 rows × 15 columns</p>\n",
       "</div>"
      ],
      "text/plain": [
       "          User  Card  Year  Month  Day   Time   Amount            Use Chip        Merchant Name  Merchant City Merchant State      Zip   MCC  \\\n",
       "0            0     0  2002      9    1  06:21  $134.09   Swipe Transaction  3527213246127876953       La Verne             CA  91750.0  5300   \n",
       "1            0     0  2002      9    1  06:42   $38.48   Swipe Transaction  -727612092139916043  Monterey Park             CA  91754.0  5411   \n",
       "2            0     0  2002      9    2  06:22  $120.34   Swipe Transaction  -727612092139916043  Monterey Park             CA  91754.0  5411   \n",
       "3            0     0  2002      9    2  17:45  $128.95   Swipe Transaction  3414527459579106770  Monterey Park             CA  91754.0  5651   \n",
       "4            0     0  2002      9    3  06:23  $104.71   Swipe Transaction  5817218446178736267       La Verne             CA  91750.0  5912   \n",
       "...        ...   ...   ...    ...  ...    ...      ...                 ...                  ...            ...            ...      ...   ...   \n",
       "20604842  1999     1  2017     12   31  07:39   $68.68  Online Transaction -6160036380778658394         ONLINE            NaN      NaN  4121   \n",
       "20604843  1999     1  2017     12   31  11:16   $53.88    Chip Transaction -7389834768703789874        Phoenix             AZ  85009.0  7538   \n",
       "20604844  1999     1  2017     12   31  11:38   $73.57    Chip Transaction -2472481739355111587        Phoenix             AZ  85009.0  7538   \n",
       "20604845  1999     1  2017     12   31  12:27    $8.12  Online Transaction  6455213054093379528         ONLINE            NaN      NaN  5815   \n",
       "20604846  1999     1  2017     12   31  20:14   $46.35  Online Transaction -6160036380778658394         ONLINE            NaN      NaN  4121   \n",
       "\n",
       "         Errors? Is Fraud?  \n",
       "0            NaN        No  \n",
       "1            NaN        No  \n",
       "2            NaN        No  \n",
       "3            NaN        No  \n",
       "4            NaN        No  \n",
       "...          ...       ...  \n",
       "20604842     NaN        No  \n",
       "20604843     NaN        No  \n",
       "20604844     NaN        No  \n",
       "20604845     NaN        No  \n",
       "20604846     NaN        No  \n",
       "\n",
       "[20604847 rows x 15 columns]"
      ]
     },
     "execution_count": 4,
     "metadata": {},
     "output_type": "execute_result"
    }
   ],
   "source": [
    "train_data"
   ]
  },
  {
   "attachments": {},
   "cell_type": "markdown",
   "metadata": {
    "tags": []
   },
   "source": [
    "### Step 2: Kick off AuoFE workflow "
   ]
  },
  {
   "cell_type": "code",
   "execution_count": 5,
   "metadata": {
    "vscode": {
     "languageId": "plaintext"
    }
   },
   "outputs": [
    {
     "name": "stdout",
     "output_type": "stream",
     "text": [
      "AutoFE started to profile data\n"
     ]
    },
    {
     "name": "stderr",
     "output_type": "stream",
     "text": [
      "100%|█████████████████████████████████████████████████████████████████████████████████████████████████████████████████████████████████████████████████████████████████████████████████████████████████████████████████████████████████████████████████████████████████████████████████| 15/15 [00:01<00:00,  7.87it/s]\n",
      "100%|█████████████████████████████████████████████████████████████████████████████████████████████████████████████████████████████████████████████████████████████████████████████████████████████████████████████████████████████████████████████████████████████████████████████| 15/15 [00:00<00:00, 334651.91it/s]\n",
      "100%|█████████████████████████████████████████████████████████████████████████████████████████████████████████████████████████████████████████████████████████████████████████████████████████████████████████████████████████████████████████████████████████████████████████████| 15/15 [00:00<00:00, 295373.52it/s]\n",
      "TypeConvertFeatureGenerator: 100%|████████████████████████████████████████████████████████████████████████████████████████████████████████████████████████████████████████████████████████████████████████████████████████████████████████████████████████████████████████████████████| 2/2 [00:00<00:00, 1189.20it/s]\n"
     ]
    },
    {
     "name": "stdout",
     "output_type": "stream",
     "text": [
      "AutoFE started to create data pipeline\n",
      "We exclude some Feature Engineer Generator as listed, you can use 'include_op = [\"XXXFeatureGenerator\"]'  to re-add them, exclude_op list ['TargetEncodeFeatureGenerator']\n"
     ]
    },
    {
     "name": "stderr",
     "output_type": "stream",
     "text": [
      "/usr/local/lib/python3.10/dist-packages/pyrecdp/core/dataframe.py:19: UserWarning: registration of accessor <class 'pandas_flavor.register.register_dataframe_method.<locals>.inner.<locals>.AccessorMethod'> under name 'may_sample' for type <class 'pandas.core.frame.DataFrame'> is overriding a preexisting attribute with the same name.\n",
      "  def may_sample(df, nrows = 100000):\n",
      "100%|█████████████████████████████████████████████████████████████████████████████████████████████████████████████████████████████████████████████████████████████████████████████████████████████████████████████████████████████████████████████████████████████████████████████████| 15/15 [00:01<00:00,  7.93it/s]\n",
      "100%|█████████████████████████████████████████████████████████████████████████████████████████████████████████████████████████████████████████████████████████████████████████████████████████████████████████████████████████████████████████████████████████████████████████████| 15/15 [00:00<00:00, 338250.32it/s]\n",
      "100%|█████████████████████████████████████████████████████████████████████████████████████████████████████████████████████████████████████████████████████████████████████████████████████████████████████████████████████████████████████████████████████████████████████████████| 15/15 [00:00<00:00, 199096.71it/s]\n"
     ]
    },
    {
     "name": "stdout",
     "output_type": "stream",
     "text": [
      "Feature List generated, using analyzed feature tags to create data pipeline\n"
     ]
    },
    {
     "name": "stderr",
     "output_type": "stream",
     "text": [
      "DropUselessFeatureGenerator: 100%|███████████████████████████████████████████████████████████████████████████████████████████████████████████████████████████████████████████████████████████████████████████████████████████████████████████████████████████████████████████████████| 19/19 [00:00<00:00, 826.64it/s]\n"
     ]
    },
    {
     "name": "stdout",
     "output_type": "stream",
     "text": [
      "AutoFE started to fit_transform data\n",
      "execute with pandas started ...\n",
      "execute DataFrame started ...\n",
      "  execute DataFrame took 2.6832463536411524 sec\n",
      "execute type_infer started ...\n",
      "  execute type_infer took 5.989440640434623 sec\n",
      "execute time_series_infer started ...\n",
      "  execute time_series_infer took 8.516013622283936e-06 sec\n",
      "execute string_to_number started ...\n",
      "Amount [('Amount__string_to_number', <class 'pyrecdp.primitives.generators.feature_transform.StringToNumber'>)]\n",
      "  execute string_to_number took 26.475773755460978 sec\n",
      "execute astype started ...\n",
      "User [('User', <class 'pyrecdp.primitives.generators.type.IntTransformer'>)]\n",
      "Card [('Card', <class 'pyrecdp.primitives.generators.type.IntTransformer'>)]\n",
      "Year [('Year', <class 'pyrecdp.primitives.generators.type.IntTransformer'>)]\n",
      "Month [('Month', <class 'pyrecdp.primitives.generators.type.IntTransformer'>)]\n",
      "Day [('Day', <class 'pyrecdp.primitives.generators.type.IntTransformer'>)]\n",
      "Merchant Name [('Merchant Name', <class 'pyrecdp.primitives.generators.type.IntTransformer'>)]\n",
      "Zip [('Zip', <class 'pyrecdp.primitives.generators.type.IntTransformer'>)]\n",
      "MCC [('MCC', <class 'pyrecdp.primitives.generators.type.IntTransformer'>)]\n",
      "Amount__string_to_number [('Amount__string_to_number', <class 'pyrecdp.primitives.generators.type.IntTransformer'>)]\n",
      "  execute astype took 3.364266850054264 sec\n",
      "execute fillna started ...\n",
      "  execute fillna took 16.852959590032697 sec\n",
      "execute rename started ...\n",
      "  execute rename took 2.589829759672284 sec\n",
      "execute astype started ...\n",
      "Time [('Time_dt', <class 'pyrecdp.primitives.generators.datetime.DatetimeTransformer'>)]\n",
      "  execute astype took 2.1399123650044203 sec\n",
      "execute datetime_feature started ...\n",
      "Time_dt [('Time_dt__hour', <class 'featuretools.primitives.standard.transform.datetime.hour.Hour'>)]\n",
      "  execute datetime_feature took 1.792037583887577 sec\n",
      "execute onehot_encode started ...\n"
     ]
    },
    {
     "name": "stderr",
     "output_type": "stream",
     "text": [
      "OnehotEncode: 100%|█████████████████████████████████████████████████████████████████████████████████████████████████████████████████████████████████████████████████████████████████████████████████████████████████████████████████████████████████████████████████████████████████████| 1/1 [00:08<00:00,  8.66s/it]\n"
     ]
    },
    {
     "name": "stdout",
     "output_type": "stream",
     "text": [
      "  execute onehot_encode took 12.629370361566544 sec\n",
      "execute list_onehot_encode started ...\n"
     ]
    },
    {
     "name": "stderr",
     "output_type": "stream",
     "text": [
      "ListOnehotEncode: 100%|█████████████████████████████████████████████████████████████████████████████████████████████████████████████████████████████████████████████████████████████████████████████████████████████████████████████████████████████████████████████████████████████████| 1/1 [00:38<00:00, 38.96s/it]\n"
     ]
    },
    {
     "name": "stdout",
     "output_type": "stream",
     "text": [
      "  execute list_onehot_encode took 43.78560215048492 sec\n",
      "execute categorify started ...\n"
     ]
    },
    {
     "name": "stderr",
     "output_type": "stream",
     "text": [
      "Categorify: 100%|███████████████████████████████████████████████████████████████████████████████████████████████████████████████████████████████████████████████████████████████████████████████████████████████████████████████████████████████████████████████████████████████████████| 1/1 [00:11<00:00, 11.54s/it]\n"
     ]
    },
    {
     "name": "stdout",
     "output_type": "stream",
     "text": [
      "  execute categorify took 23.29580421745777 sec\n",
      "execute group_categorify started ...\n"
     ]
    },
    {
     "name": "stderr",
     "output_type": "stream",
     "text": [
      "GroupCategorify: 100%|████████████████████████████████████████████████████████████████████████████████████████████████████████████████████████████████████████████████████████████████████████████████████████████████████████████████████████████████████████████████████████████████| 11/11 [00:30<00:00,  2.82s/it]\n"
     ]
    },
    {
     "name": "stdout",
     "output_type": "stream",
     "text": [
      "  execute group_categorify took 42.965254763141274 sec\n",
      "execute categorify started ...\n"
     ]
    },
    {
     "name": "stderr",
     "output_type": "stream",
     "text": [
      "Categorify: 100%|███████████████████████████████████████████████████████████████████████████████████████████████████████████████████████████████████████████████████████████████████████████████████████████████████████████████████████████████████████████████████████████████████████| 5/5 [00:16<00:00,  3.38s/it]\n"
     ]
    },
    {
     "name": "stdout",
     "output_type": "stream",
     "text": [
      "  execute categorify took 30.21593920700252 sec\n",
      "execute count_encode started ...\n"
     ]
    },
    {
     "name": "stderr",
     "output_type": "stream",
     "text": [
      "CountEncode: 100%|████████████████████████████████████████████████████████████████████████████████████████████████████████████████████████████████████████████████████████████████████████████████████████████████████████████████████████████████████████████████████████████████████| 24/24 [01:00<00:00,  2.52s/it]\n"
     ]
    },
    {
     "name": "stdout",
     "output_type": "stream",
     "text": [
      "  execute count_encode took 68.20907056890428 sec\n",
      "execute rename started ...\n",
      "  execute rename took 15.036789229139686 sec\n",
      "execute drop started ...\n",
      "  execute drop took 4.037968432530761 sec\n",
      "execute DataFrame started ...\n",
      "  execute DataFrame took 2.666190266609192e-05 sec\n",
      "execute lightgbm started ...\n"
     ]
    },
    {
     "name": "stderr",
     "output_type": "stream",
     "text": [
      "/usr/local/lib/python3.10/dist-packages/lightgbm/engine.py:239: UserWarning: 'verbose_eval' argument is deprecated and will be removed in a future release of LightGBM. Pass 'log_evaluation()' callback via 'callbacks' argument instead.\n",
      "  _log_warning(\"'verbose_eval' argument is deprecated and will be removed in a future release of LightGBM. \"\n"
     ]
    },
    {
     "name": "stdout",
     "output_type": "stream",
     "text": [
      "[LightGBM] [Info] Number of positive: 22743, number of negative: 18521620\n",
      "[LightGBM] [Warning] Auto-choosing row-wise multi-threading, the overhead of testing was 0.520934 seconds.\n",
      "You can set `force_row_wise=true` to remove the overhead.\n",
      "And if memory is not enough, you can set `force_col_wise=true`.\n",
      "[LightGBM] [Info] Total Bins 8229\n",
      "[LightGBM] [Info] Number of data points in the train set: 18544363, number of used features: 60\n",
      "[LightGBM] [Info] [binary:BoostFromScore]: pavg=0.001226 -> initscore=-6.702437\n",
      "[LightGBM] [Info] Start training from score -6.702437\n",
      "[100]\tvalid_0's auc: 0.965475\n",
      "  execute lightgbm took 46.42636171914637 sec\n",
      "execute with pandas took 348.49195898137987 sec\n",
      "execute with pandas started ...\n",
      "execute DataFrame started ...\n",
      "  execute DataFrame took 0.15072613023221493 sec\n",
      "execute type_infer started ...\n",
      "  execute type_infer took 0.09974788874387741 sec\n",
      "execute time_series_infer started ...\n",
      "  execute time_series_infer took 1.1976808309555054e-05 sec\n",
      "execute string_to_number started ...\n",
      "Amount [['Amount__string_to_number', ['pyrecdp.primitives.generators.feature_transform', 'StringToNumber']]]\n",
      "  execute string_to_number took 2.487491514533758 sec\n",
      "execute astype started ...\n",
      "User [['User', ['pyrecdp.primitives.generators.type', 'IntTransformer']]]\n",
      "Card [['Card', ['pyrecdp.primitives.generators.type', 'IntTransformer']]]\n",
      "Year [['Year', ['pyrecdp.primitives.generators.type', 'IntTransformer']]]\n",
      "Month [['Month', ['pyrecdp.primitives.generators.type', 'IntTransformer']]]\n",
      "Day [['Day', ['pyrecdp.primitives.generators.type', 'IntTransformer']]]\n",
      "Merchant Name [['Merchant Name', ['pyrecdp.primitives.generators.type', 'IntTransformer']]]\n",
      "Zip [['Zip', ['pyrecdp.primitives.generators.type', 'IntTransformer']]]\n",
      "MCC [['MCC', ['pyrecdp.primitives.generators.type', 'IntTransformer']]]\n",
      "Amount__string_to_number [['Amount__string_to_number', ['pyrecdp.primitives.generators.type', 'IntTransformer']]]\n",
      "  execute astype took 0.044402025640010834 sec\n",
      "execute fillna started ...\n",
      "  execute fillna took 1.1078327279537916 sec\n",
      "execute rename started ...\n",
      "  execute rename took 0.12292599864304066 sec\n",
      "execute astype started ...\n",
      "Time [['Time_dt', ['pyrecdp.primitives.generators.datetime', 'DatetimeTransformer']]]\n",
      "  execute astype took 0.21805048547685146 sec\n",
      "execute datetime_feature started ...\n",
      "Time_dt [['Time_dt__hour', ['featuretools.primitives.standard.transform.datetime.hour', 'Hour']]]\n",
      "  execute datetime_feature took 0.11956792511045933 sec\n",
      "execute onehot_encode started ...\n"
     ]
    },
    {
     "name": "stderr",
     "output_type": "stream",
     "text": [
      "OnehotEncode: 100%|█████████████████████████████████████████████████████████████████████████████████████████████████████████████████████████████████████████████████████████████████████████████████████████████████████████████████████████████████████████████████████████████████████| 1/1 [00:14<00:00, 14.93s/it]\n"
     ]
    },
    {
     "name": "stdout",
     "output_type": "stream",
     "text": [
      "  execute onehot_encode took 15.710102409124374 sec\n",
      "execute list_onehot_encode started ...\n"
     ]
    },
    {
     "name": "stderr",
     "output_type": "stream",
     "text": [
      "ListOnehotEncode: 100%|█████████████████████████████████████████████████████████████████████████████████████████████████████████████████████████████████████████████████████████████████████████████████████████████████████████████████████████████████████████████████████████████████| 1/1 [00:18<00:00, 18.25s/it]\n"
     ]
    },
    {
     "name": "stdout",
     "output_type": "stream",
     "text": [
      "  execute list_onehot_encode took 19.11058635637164 sec\n",
      "execute categorify started ...\n"
     ]
    },
    {
     "name": "stderr",
     "output_type": "stream",
     "text": [
      "Categorify: 100%|███████████████████████████████████████████████████████████████████████████████████████████████████████████████████████████████████████████████████████████████████████████████████████████████████████████████████████████████████████████████████████████████████████| 1/1 [00:15<00:00, 15.66s/it]\n"
     ]
    },
    {
     "name": "stdout",
     "output_type": "stream",
     "text": [
      "  execute categorify took 17.18998370692134 sec\n",
      "execute group_categorify started ...\n"
     ]
    },
    {
     "name": "stderr",
     "output_type": "stream",
     "text": [
      "GroupCategorify: 100%|████████████████████████████████████████████████████████████████████████████████████████████████████████████████████████████████████████████████████████████████████████████████████████████████████████████████████████████████████████████████████████████████| 11/11 [00:28<00:00,  2.57s/it]\n"
     ]
    },
    {
     "name": "stdout",
     "output_type": "stream",
     "text": [
      "  execute group_categorify took 29.78528548963368 sec\n",
      "execute categorify started ...\n"
     ]
    },
    {
     "name": "stderr",
     "output_type": "stream",
     "text": [
      "Categorify: 100%|███████████████████████████████████████████████████████████████████████████████████████████████████████████████████████████████████████████████████████████████████████████████████████████████████████████████████████████████████████████████████████████████████████| 5/5 [00:17<00:00,  3.47s/it]\n"
     ]
    },
    {
     "name": "stdout",
     "output_type": "stream",
     "text": [
      "  execute categorify took 19.07645934820175 sec\n",
      "execute count_encode started ...\n"
     ]
    },
    {
     "name": "stderr",
     "output_type": "stream",
     "text": [
      "CountEncode: 100%|████████████████████████████████████████████████████████████████████████████████████████████████████████████████████████████████████████████████████████████████████████████████████████████████████████████████████████████████████████████████████████████████████| 24/24 [00:21<00:00,  1.10it/s]\n"
     ]
    },
    {
     "name": "stdout",
     "output_type": "stream",
     "text": [
      "  execute count_encode took 23.105682138353586 sec\n",
      "execute rename started ...\n",
      "  execute rename took 1.2808195054531097 sec\n",
      "execute drop started ...\n",
      "  execute drop took 0.3382793068885803 sec\n",
      "execute with pandas took 129.9495365396142 sec\n",
      "execute with pandas started ...\n",
      "execute DataFrame started ...\n",
      "  execute DataFrame took 0.17810492031276226 sec\n",
      "execute type_infer started ...\n",
      "  execute type_infer took 0.1025854591280222 sec\n",
      "execute time_series_infer started ...\n",
      "  execute time_series_infer took 8.169561624526978e-06 sec\n",
      "execute string_to_number started ...\n",
      "Amount [['Amount__string_to_number', ['pyrecdp.primitives.generators.feature_transform', 'StringToNumber']]]\n",
      "  execute string_to_number took 2.7114114686846733 sec\n",
      "execute astype started ...\n",
      "User [['User', ['pyrecdp.primitives.generators.type', 'IntTransformer']]]\n",
      "Card [['Card', ['pyrecdp.primitives.generators.type', 'IntTransformer']]]\n",
      "Year [['Year', ['pyrecdp.primitives.generators.type', 'IntTransformer']]]\n",
      "Month [['Month', ['pyrecdp.primitives.generators.type', 'IntTransformer']]]\n",
      "Day [['Day', ['pyrecdp.primitives.generators.type', 'IntTransformer']]]\n",
      "Merchant Name [['Merchant Name', ['pyrecdp.primitives.generators.type', 'IntTransformer']]]\n",
      "Zip [['Zip', ['pyrecdp.primitives.generators.type', 'IntTransformer']]]\n",
      "MCC [['MCC', ['pyrecdp.primitives.generators.type', 'IntTransformer']]]\n",
      "Amount__string_to_number [['Amount__string_to_number', ['pyrecdp.primitives.generators.type', 'IntTransformer']]]\n",
      "  execute astype took 0.05795818381011486 sec\n",
      "execute fillna started ...\n",
      "  execute fillna took 1.1495185904204845 sec\n",
      "execute rename started ...\n",
      "  execute rename took 0.15910918451845646 sec\n",
      "execute astype started ...\n",
      "Time [['Time_dt', ['pyrecdp.primitives.generators.datetime', 'DatetimeTransformer']]]\n",
      "  execute astype took 0.22289198264479637 sec\n",
      "execute datetime_feature started ...\n",
      "Time_dt [['Time_dt__hour', ['featuretools.primitives.standard.transform.datetime.hour', 'Hour']]]\n",
      "  execute datetime_feature took 0.13893737457692623 sec\n",
      "execute onehot_encode started ...\n"
     ]
    },
    {
     "name": "stderr",
     "output_type": "stream",
     "text": [
      "OnehotEncode: 100%|█████████████████████████████████████████████████████████████████████████████████████████████████████████████████████████████████████████████████████████████████████████████████████████████████████████████████████████████████████████████████████████████████████| 1/1 [00:16<00:00, 16.78s/it]\n"
     ]
    },
    {
     "name": "stdout",
     "output_type": "stream",
     "text": [
      "  execute onehot_encode took 17.62602687627077 sec\n",
      "execute list_onehot_encode started ...\n"
     ]
    },
    {
     "name": "stderr",
     "output_type": "stream",
     "text": [
      "ListOnehotEncode: 100%|█████████████████████████████████████████████████████████████████████████████████████████████████████████████████████████████████████████████████████████████████████████████████████████████████████████████████████████████████████████████████████████████████| 1/1 [00:20<00:00, 20.46s/it]\n"
     ]
    },
    {
     "name": "stdout",
     "output_type": "stream",
     "text": [
      "  execute list_onehot_encode took 21.448780139908195 sec\n",
      "execute categorify started ...\n"
     ]
    },
    {
     "name": "stderr",
     "output_type": "stream",
     "text": [
      "Categorify: 100%|███████████████████████████████████████████████████████████████████████████████████████████████████████████████████████████████████████████████████████████████████████████████████████████████████████████████████████████████████████████████████████████████████████| 1/1 [00:17<00:00, 17.40s/it]\n"
     ]
    },
    {
     "name": "stdout",
     "output_type": "stream",
     "text": [
      "  execute categorify took 19.158766467124224 sec\n",
      "execute group_categorify started ...\n"
     ]
    },
    {
     "name": "stderr",
     "output_type": "stream",
     "text": [
      "GroupCategorify: 100%|████████████████████████████████████████████████████████████████████████████████████████████████████████████████████████████████████████████████████████████████████████████████████████████████████████████████████████████████████████████████████████████████| 11/11 [00:31<00:00,  2.89s/it]\n"
     ]
    },
    {
     "name": "stdout",
     "output_type": "stream",
     "text": [
      "  execute group_categorify took 33.59953934699297 sec\n",
      "execute categorify started ...\n"
     ]
    },
    {
     "name": "stderr",
     "output_type": "stream",
     "text": [
      "Categorify: 100%|███████████████████████████████████████████████████████████████████████████████████████████████████████████████████████████████████████████████████████████████████████████████████████████████████████████████████████████████████████████████████████████████████████| 5/5 [00:19<00:00,  3.85s/it]\n"
     ]
    },
    {
     "name": "stdout",
     "output_type": "stream",
     "text": [
      "  execute categorify took 21.207000767812133 sec\n",
      "execute count_encode started ...\n"
     ]
    },
    {
     "name": "stderr",
     "output_type": "stream",
     "text": [
      "CountEncode: 100%|████████████████████████████████████████████████████████████████████████████████████████████████████████████████████████████████████████████████████████████████████████████████████████████████████████████████████████████████████████████████████████████████████| 24/24 [00:24<00:00,  1.03s/it]\n"
     ]
    },
    {
     "name": "stdout",
     "output_type": "stream",
     "text": [
      "  execute count_encode took 26.191638411954045 sec\n",
      "execute rename started ...\n",
      "  execute rename took 1.5085009392350912 sec\n",
      "execute drop started ...\n",
      "  execute drop took 0.40141013264656067 sec\n",
      "execute with pandas took 145.8634836524725 sec\n"
     ]
    }
   ],
   "source": [
    "from pyrecdp.autofe import AutoFE\n",
    "\n",
    "pipeline = AutoFE(dataset=train_data, label=target_label, time_series = 'Day')\n",
    "transformed_train_df = pipeline.fit_transform()\n",
    "\n",
    "valid_pipeline = AutoFE.clone_pipeline(pipeline, valid_data)\n",
    "transformed_valid_df = valid_pipeline.transform()\n",
    "\n",
    "test_pipeline = AutoFE.clone_pipeline(pipeline, test_data)\n",
    "transformed_test_df = test_pipeline.transform()"
   ]
  },
  {
   "cell_type": "code",
   "execution_count": 7,
   "metadata": {},
   "outputs": [],
   "source": [
    "transformed_train_df.to_parquet(\"transformed_train_df_day.parquet\")\n",
    "transformed_valid_df.to_parquet(\"transformed_valid_df_day.parquet\")\n",
    "transformed_test_df.to_parquet(\"transformed_test_df_day.parquet\")"
   ]
  },
  {
   "attachments": {},
   "cell_type": "markdown",
   "metadata": {},
   "source": [
    "## 3. AutoFE Deep dive "
   ]
  },
  {
   "attachments": {},
   "cell_type": "markdown",
   "metadata": {
    "tags": []
   },
   "source": [
    "### 3.1 Feature Profiling\n",
    "AutoFE provides feature profiler to analyze the feature distribution and identify insights of feature."
   ]
  },
  {
   "cell_type": "code",
   "execution_count": null,
   "metadata": {},
   "outputs": [],
   "source": [
    "pipeline.profile(engine_type)"
   ]
  },
  {
   "attachments": {},
   "cell_type": "markdown",
   "metadata": {},
   "source": [
    "## 3.2 Pipeline Plot"
   ]
  },
  {
   "cell_type": "code",
   "execution_count": 7,
   "metadata": {},
   "outputs": [
    {
     "data": {
      "image/svg+xml": [
       "<?xml version=\"1.0\" encoding=\"UTF-8\" standalone=\"no\"?>\n",
       "<!DOCTYPE svg PUBLIC \"-//W3C//DTD SVG 1.1//EN\"\n",
       " \"http://www.w3.org/Graphics/SVG/1.1/DTD/svg11.dtd\">\n",
       "<!-- Generated by graphviz version 2.43.0 (0)\n",
       " -->\n",
       "<!-- Title: %3 Pages: 1 -->\n",
       "<svg width=\"2087pt\" height=\"3261pt\"\n",
       " viewBox=\"0.00 0.00 2087.00 3261.00\" xmlns=\"http://www.w3.org/2000/svg\" xmlns:xlink=\"http://www.w3.org/1999/xlink\">\n",
       "<g id=\"graph0\" class=\"graph\" transform=\"scale(1 1) rotate(0) translate(4 3257)\">\n",
       "<title>%3</title>\n",
       "<polygon fill=\"white\" stroke=\"transparent\" points=\"-4,4 -4,-3257 2083,-3257 2083,4 -4,4\"/>\n",
       "<!-- 0 -->\n",
       "<g id=\"node1\" class=\"node\">\n",
       "<title>0</title>\n",
       "<polygon fill=\"none\" stroke=\"black\" points=\"949.5,-3216.5 949.5,-3252.5 1129.5,-3252.5 1129.5,-3216.5 949.5,-3216.5\"/>\n",
       "<text text-anchor=\"middle\" x=\"998\" y=\"-3231.4\" font-family=\"Times,serif\" font-size=\"12.00\">0:DataFrame</text>\n",
       "<polyline fill=\"none\" stroke=\"black\" points=\"1046.5,-3216.5 1046.5,-3252.5 \"/>\n",
       "<text text-anchor=\"middle\" x=\"1088\" y=\"-3231.4\" font-family=\"Times,serif\" font-size=\"12.00\">main_table</text>\n",
       "</g>\n",
       "<!-- 1 -->\n",
       "<g id=\"node2\" class=\"node\">\n",
       "<title>1</title>\n",
       "<polygon fill=\"none\" stroke=\"black\" points=\"435,-2962.5 435,-3179.5 1644,-3179.5 1644,-2962.5 435,-2962.5\"/>\n",
       "<text text-anchor=\"middle\" x=\"479\" y=\"-3067.9\" font-family=\"Times,serif\" font-size=\"12.00\">1:type_infer</text>\n",
       "<polyline fill=\"none\" stroke=\"black\" points=\"523,-2962.5 523,-3179.5 \"/>\n",
       "<text text-anchor=\"start\" x=\"531\" y=\"-3151.9\" font-family=\"Times,serif\" font-size=\"12.00\">[&#39;User&#39;, [&#39;is_integer&#39;, &#39;is_numeric&#39;, &#39;is_categorical&#39;]]</text>\n",
       "<text text-anchor=\"start\" x=\"531\" y=\"-3138.9\" font-family=\"Times,serif\" font-size=\"12.00\">[&#39;Card&#39;, [&#39;is_integer&#39;, &#39;is_numeric&#39;, &#39;is_categorical&#39;]]</text>\n",
       "<text text-anchor=\"start\" x=\"531\" y=\"-3125.9\" font-family=\"Times,serif\" font-size=\"12.00\">[&#39;Year&#39;, [&#39;is_integer&#39;, &#39;is_numeric&#39;, &#39;is_categorical&#39;]]</text>\n",
       "<text text-anchor=\"start\" x=\"531\" y=\"-3112.9\" font-family=\"Times,serif\" font-size=\"12.00\">[&#39;Month&#39;, [&#39;is_integer&#39;, &#39;is_numeric&#39;, &#39;is_categorical&#39;]]</text>\n",
       "<text text-anchor=\"start\" x=\"531\" y=\"-3099.9\" font-family=\"Times,serif\" font-size=\"12.00\">[&#39;Day&#39;, [&#39;is_integer&#39;, &#39;is_numeric&#39;, &#39;is_categorical&#39;, &#39;is_timeseries&#39;]]</text>\n",
       "<text text-anchor=\"start\" x=\"531\" y=\"-3086.9\" font-family=\"Times,serif\" font-size=\"12.00\">[&#39;Time&#39;, [&#39;is_string&#39;, &#39;is_datetime&#39;, &#39;is_categorical&#39;, [&#39;datetime_ft&#39;, [&#39;hour&#39;]]]]</text>\n",
       "<text text-anchor=\"start\" x=\"531\" y=\"-3073.9\" font-family=\"Times,serif\" font-size=\"12.00\">[&#39;Amount&#39;, [&#39;is_string&#39;, &#39;is_re_numeric&#39;]]</text>\n",
       "<text text-anchor=\"start\" x=\"531\" y=\"-3060.9\" font-family=\"Times,serif\" font-size=\"12.00\">[&#39;Use Chip&#39;, [&#39;is_string&#39;, &#39;is_categorical&#39;, [&#39;is_onehot&#39;, [&#39;Swipe Transaction&#39;, &#39;Online Transaction&#39;, &#39;Chip Transaction&#39;]]]]</text>\n",
       "<text text-anchor=\"start\" x=\"531\" y=\"-3047.9\" font-family=\"Times,serif\" font-size=\"12.00\">[&#39;Merchant Name&#39;, [&#39;is_integer&#39;, &#39;is_numeric&#39;, &#39;is_categorical&#39;]]</text>\n",
       "<text text-anchor=\"start\" x=\"531\" y=\"-3034.9\" font-family=\"Times,serif\" font-size=\"12.00\">[&#39;Merchant City&#39;, [&#39;is_string&#39;, &#39;is_categorical&#39;]]</text>\n",
       "<text text-anchor=\"start\" x=\"531\" y=\"-3021.9\" font-family=\"Times,serif\" font-size=\"12.00\">[&#39;Merchant State&#39;, [&#39;is_string&#39;, &#39;is_categorical&#39;]]</text>\n",
       "<text text-anchor=\"start\" x=\"531\" y=\"-3008.9\" font-family=\"Times,serif\" font-size=\"12.00\">[&#39;Zip&#39;, [&#39;is_integer&#39;, &#39;is_numeric&#39;]]</text>\n",
       "<text text-anchor=\"start\" x=\"531\" y=\"-2995.9\" font-family=\"Times,serif\" font-size=\"12.00\">[&#39;MCC&#39;, [&#39;is_integer&#39;, &#39;is_numeric&#39;, &#39;is_categorical&#39;]]</text>\n",
       "<text text-anchor=\"start\" x=\"531\" y=\"-2982.9\" font-family=\"Times,serif\" font-size=\"12.00\">[&#39;Errors?&#39;, [&#39;is_string&#39;, &#39;is_categorical&#39;, [&#39;is_list_string&#39;, [&#39;,&#39;, [nan, &#39;Insufficient Balance&#39;, &#39;&#39;, &#39;Bad Expiration&#39;, &#39;Technical Glitch&#39;, &#39;Bad Card Number&#39;, &#39;Bad PIN&#39;, &#39;Bad CVV&#39;, &#39;Bad Zipcode&#39;]]]]]</text>\n",
       "<text text-anchor=\"start\" x=\"531\" y=\"-2969.9\" font-family=\"Times,serif\" font-size=\"12.00\">[&#39;Is Fraud?&#39;, [&#39;is_string&#39;, &#39;is_label&#39;, &#39;is_categorical_label&#39;]]</text>\n",
       "</g>\n",
       "<!-- 0&#45;&gt;1 -->\n",
       "<g id=\"edge1\" class=\"edge\">\n",
       "<title>0&#45;&gt;1</title>\n",
       "<path fill=\"none\" stroke=\"black\" d=\"M1039.5,-3216.22C1039.5,-3209.02 1039.5,-3199.99 1039.5,-3190\"/>\n",
       "<polygon fill=\"black\" stroke=\"black\" points=\"1043,-3189.71 1039.5,-3179.71 1036,-3189.71 1043,-3189.71\"/>\n",
       "</g>\n",
       "<!-- 2 -->\n",
       "<g id=\"node3\" class=\"node\">\n",
       "<title>2</title>\n",
       "<polygon fill=\"none\" stroke=\"black\" points=\"0,-2708.5 0,-2925.5 2079,-2925.5 2079,-2708.5 0,-2708.5\"/>\n",
       "<text text-anchor=\"middle\" x=\"65\" y=\"-2813.9\" font-family=\"Times,serif\" font-size=\"12.00\">2:time_series_infer</text>\n",
       "<polyline fill=\"none\" stroke=\"black\" points=\"130,-2708.5 130,-2925.5 \"/>\n",
       "<text text-anchor=\"start\" x=\"138\" y=\"-2897.9\" font-family=\"Times,serif\" font-size=\"12.00\">[&#39;User&#39;, [&#39;is_integer&#39;, &#39;is_numeric&#39;, &#39;is_categorical&#39;, [&#39;group_id&#39;, [&#39;Day_User_idx&#39;]], &#39;is_grouped_categorical&#39;]]</text>\n",
       "<text text-anchor=\"start\" x=\"138\" y=\"-2884.9\" font-family=\"Times,serif\" font-size=\"12.00\">[&#39;Card&#39;, [&#39;is_integer&#39;, &#39;is_numeric&#39;, &#39;is_categorical&#39;, [&#39;group_id&#39;, [&#39;Day_Card_idx&#39;]], &#39;is_grouped_categorical&#39;]]</text>\n",
       "<text text-anchor=\"start\" x=\"138\" y=\"-2871.9\" font-family=\"Times,serif\" font-size=\"12.00\">[&#39;Year&#39;, [&#39;is_integer&#39;, &#39;is_numeric&#39;, &#39;is_categorical&#39;, [&#39;group_id&#39;, [&#39;Day_Year_idx&#39;]], &#39;is_grouped_categorical&#39;]]</text>\n",
       "<text text-anchor=\"start\" x=\"138\" y=\"-2858.9\" font-family=\"Times,serif\" font-size=\"12.00\">[&#39;Month&#39;, [&#39;is_integer&#39;, &#39;is_numeric&#39;, &#39;is_categorical&#39;, [&#39;group_id&#39;, [&#39;Day_Month_idx&#39;]], &#39;is_grouped_categorical&#39;]]</text>\n",
       "<text text-anchor=\"start\" x=\"138\" y=\"-2845.9\" font-family=\"Times,serif\" font-size=\"12.00\">[&#39;Day&#39;, [&#39;is_integer&#39;, &#39;is_numeric&#39;, &#39;is_categorical&#39;, &#39;is_timeseries&#39;, [&#39;group_id&#39;, [&#39;Day_User_idx&#39;, &#39;Day_Card_idx&#39;, &#39;Day_Year_idx&#39;, &#39;Day_Month_idx&#39;, &#39;Day_Time_idx&#39;, &#39;Day_Use Chip_idx&#39;, &#39;Day_Merchant Name_idx&#39;, &#39;Day_Merchant City_idx&#39;, &#39;Day_Merchant State_idx&#39;, &#39;Day_MCC_idx&#39;, &#39;Day_Errors?_idx&#39;]], &#39;is_grouped_categorical&#39;]]</text>\n",
       "<text text-anchor=\"start\" x=\"138\" y=\"-2832.9\" font-family=\"Times,serif\" font-size=\"12.00\">[&#39;Time&#39;, [&#39;is_string&#39;, &#39;is_datetime&#39;, &#39;is_categorical&#39;, [&#39;datetime_ft&#39;, [&#39;hour&#39;]], [&#39;group_id&#39;, [&#39;Day_Time_idx&#39;]], &#39;is_grouped_categorical&#39;]]</text>\n",
       "<text text-anchor=\"start\" x=\"138\" y=\"-2819.9\" font-family=\"Times,serif\" font-size=\"12.00\">[&#39;Amount&#39;, [&#39;is_string&#39;, &#39;is_re_numeric&#39;]]</text>\n",
       "<text text-anchor=\"start\" x=\"138\" y=\"-2806.9\" font-family=\"Times,serif\" font-size=\"12.00\">[&#39;Use Chip&#39;, [&#39;is_string&#39;, &#39;is_categorical&#39;, [&#39;is_onehot&#39;, [&#39;Swipe Transaction&#39;, &#39;Online Transaction&#39;, &#39;Chip Transaction&#39;]], [&#39;group_id&#39;, [&#39;Day_Use Chip_idx&#39;]], &#39;is_grouped_categorical&#39;]]</text>\n",
       "<text text-anchor=\"start\" x=\"138\" y=\"-2793.9\" font-family=\"Times,serif\" font-size=\"12.00\">[&#39;Merchant Name&#39;, [&#39;is_integer&#39;, &#39;is_numeric&#39;, &#39;is_categorical&#39;, [&#39;group_id&#39;, [&#39;Day_Merchant Name_idx&#39;]], &#39;is_grouped_categorical&#39;]]</text>\n",
       "<text text-anchor=\"start\" x=\"138\" y=\"-2780.9\" font-family=\"Times,serif\" font-size=\"12.00\">[&#39;Merchant City&#39;, [&#39;is_string&#39;, &#39;is_categorical&#39;, [&#39;group_id&#39;, [&#39;Day_Merchant City_idx&#39;]], &#39;is_grouped_categorical&#39;]]</text>\n",
       "<text text-anchor=\"start\" x=\"138\" y=\"-2767.9\" font-family=\"Times,serif\" font-size=\"12.00\">[&#39;Merchant State&#39;, [&#39;is_string&#39;, &#39;is_categorical&#39;, [&#39;group_id&#39;, [&#39;Day_Merchant State_idx&#39;]], &#39;is_grouped_categorical&#39;]]</text>\n",
       "<text text-anchor=\"start\" x=\"138\" y=\"-2754.9\" font-family=\"Times,serif\" font-size=\"12.00\">[&#39;Zip&#39;, [&#39;is_integer&#39;, &#39;is_numeric&#39;]]</text>\n",
       "<text text-anchor=\"start\" x=\"138\" y=\"-2741.9\" font-family=\"Times,serif\" font-size=\"12.00\">[&#39;MCC&#39;, [&#39;is_integer&#39;, &#39;is_numeric&#39;, &#39;is_categorical&#39;, [&#39;group_id&#39;, [&#39;Day_MCC_idx&#39;]], &#39;is_grouped_categorical&#39;]]</text>\n",
       "<text text-anchor=\"start\" x=\"138\" y=\"-2728.9\" font-family=\"Times,serif\" font-size=\"12.00\">[&#39;Errors?&#39;, [&#39;is_string&#39;, &#39;is_categorical&#39;, [&#39;is_list_string&#39;, [&#39;,&#39;, [nan, &#39;Insufficient Balance&#39;, &#39;&#39;, &#39;Bad Expiration&#39;, &#39;Technical Glitch&#39;, &#39;Bad Card Number&#39;, &#39;Bad PIN&#39;, &#39;Bad CVV&#39;, &#39;Bad Zipcode&#39;]]], [&#39;group_id&#39;, [&#39;Day_Errors?_idx&#39;]], &#39;is_grouped_categorical&#39;]]</text>\n",
       "<text text-anchor=\"start\" x=\"138\" y=\"-2715.9\" font-family=\"Times,serif\" font-size=\"12.00\">[&#39;Is Fraud?&#39;, [&#39;is_string&#39;, &#39;is_label&#39;, &#39;is_categorical_label&#39;]]</text>\n",
       "</g>\n",
       "<!-- 1&#45;&gt;2 -->\n",
       "<g id=\"edge2\" class=\"edge\">\n",
       "<title>1&#45;&gt;2</title>\n",
       "<path fill=\"none\" stroke=\"black\" d=\"M1039.5,-2962.4C1039.5,-2953.55 1039.5,-2944.59 1039.5,-2935.67\"/>\n",
       "<polygon fill=\"black\" stroke=\"black\" points=\"1043,-2935.64 1039.5,-2925.64 1036,-2935.64 1043,-2935.64\"/>\n",
       "</g>\n",
       "<!-- 3 -->\n",
       "<g id=\"node4\" class=\"node\">\n",
       "<title>3</title>\n",
       "<polygon fill=\"none\" stroke=\"black\" points=\"616,-2635.5 616,-2671.5 1463,-2671.5 1463,-2635.5 616,-2635.5\"/>\n",
       "<text text-anchor=\"middle\" x=\"683\" y=\"-2650.4\" font-family=\"Times,serif\" font-size=\"12.00\">3:string_to_number</text>\n",
       "<polyline fill=\"none\" stroke=\"black\" points=\"750,-2635.5 750,-2671.5 \"/>\n",
       "<text text-anchor=\"middle\" x=\"1106.5\" y=\"-2650.4\" font-family=\"Times,serif\" font-size=\"12.00\">[&quot;Amount: [[&#39;Amount__string_to_number&#39;, [&#39;pyrecdp.primitives.generators.feature_transform&#39;, &#39;StringToNumber&#39;]]]&quot;]</text>\n",
       "</g>\n",
       "<!-- 2&#45;&gt;3 -->\n",
       "<g id=\"edge3\" class=\"edge\">\n",
       "<title>2&#45;&gt;3</title>\n",
       "<path fill=\"none\" stroke=\"black\" d=\"M1039.5,-2708.28C1039.5,-2698.68 1039.5,-2689.66 1039.5,-2681.85\"/>\n",
       "<polygon fill=\"black\" stroke=\"black\" points=\"1043,-2681.67 1039.5,-2671.67 1036,-2681.67 1043,-2681.67\"/>\n",
       "</g>\n",
       "<!-- 4 -->\n",
       "<g id=\"node5\" class=\"node\">\n",
       "<title>4</title>\n",
       "<polygon fill=\"none\" stroke=\"black\" points=\"646.5,-2459.5 646.5,-2598.5 1432.5,-2598.5 1432.5,-2459.5 646.5,-2459.5\"/>\n",
       "<text text-anchor=\"middle\" x=\"680\" y=\"-2525.9\" font-family=\"Times,serif\" font-size=\"12.00\">4:astype</text>\n",
       "<polyline fill=\"none\" stroke=\"black\" points=\"713.5,-2459.5 713.5,-2598.5 \"/>\n",
       "<text text-anchor=\"start\" x=\"721.5\" y=\"-2570.9\" font-family=\"Times,serif\" font-size=\"12.00\">User: [[&#39;User&#39;, [&#39;pyrecdp.primitives.generators.type&#39;, &#39;IntTransformer&#39;]]]</text>\n",
       "<text text-anchor=\"start\" x=\"721.5\" y=\"-2557.9\" font-family=\"Times,serif\" font-size=\"12.00\">Card: [[&#39;Card&#39;, [&#39;pyrecdp.primitives.generators.type&#39;, &#39;IntTransformer&#39;]]]</text>\n",
       "<text text-anchor=\"start\" x=\"721.5\" y=\"-2544.9\" font-family=\"Times,serif\" font-size=\"12.00\">Year: [[&#39;Year&#39;, [&#39;pyrecdp.primitives.generators.type&#39;, &#39;IntTransformer&#39;]]]</text>\n",
       "<text text-anchor=\"start\" x=\"721.5\" y=\"-2531.9\" font-family=\"Times,serif\" font-size=\"12.00\">Month: [[&#39;Month&#39;, [&#39;pyrecdp.primitives.generators.type&#39;, &#39;IntTransformer&#39;]]]</text>\n",
       "<text text-anchor=\"start\" x=\"721.5\" y=\"-2518.9\" font-family=\"Times,serif\" font-size=\"12.00\">Day: [[&#39;Day&#39;, [&#39;pyrecdp.primitives.generators.type&#39;, &#39;IntTransformer&#39;]]]</text>\n",
       "<text text-anchor=\"start\" x=\"721.5\" y=\"-2505.9\" font-family=\"Times,serif\" font-size=\"12.00\">Merchant Name: [[&#39;Merchant Name&#39;, [&#39;pyrecdp.primitives.generators.type&#39;, &#39;IntTransformer&#39;]]]</text>\n",
       "<text text-anchor=\"start\" x=\"721.5\" y=\"-2492.9\" font-family=\"Times,serif\" font-size=\"12.00\">Zip: [[&#39;Zip&#39;, [&#39;pyrecdp.primitives.generators.type&#39;, &#39;IntTransformer&#39;]]]</text>\n",
       "<text text-anchor=\"start\" x=\"721.5\" y=\"-2479.9\" font-family=\"Times,serif\" font-size=\"12.00\">MCC: [[&#39;MCC&#39;, [&#39;pyrecdp.primitives.generators.type&#39;, &#39;IntTransformer&#39;]]]</text>\n",
       "<text text-anchor=\"start\" x=\"721.5\" y=\"-2466.9\" font-family=\"Times,serif\" font-size=\"12.00\">Amount__string_to_number: [[&#39;Amount__string_to_number&#39;, [&#39;pyrecdp.primitives.generators.type&#39;, &#39;IntTransformer&#39;]]]</text>\n",
       "</g>\n",
       "<!-- 3&#45;&gt;4 -->\n",
       "<g id=\"edge4\" class=\"edge\">\n",
       "<title>3&#45;&gt;4</title>\n",
       "<path fill=\"none\" stroke=\"black\" d=\"M1039.5,-2635.47C1039.5,-2628.02 1039.5,-2618.71 1039.5,-2608.72\"/>\n",
       "<polygon fill=\"black\" stroke=\"black\" points=\"1043,-2608.55 1039.5,-2598.55 1036,-2608.55 1043,-2608.55\"/>\n",
       "</g>\n",
       "<!-- 5 -->\n",
       "<g id=\"node6\" class=\"node\">\n",
       "<title>5</title>\n",
       "<polygon fill=\"none\" stroke=\"black\" points=\"910,-2192.5 910,-2422.5 1169,-2422.5 1169,-2192.5 910,-2192.5\"/>\n",
       "<text text-anchor=\"middle\" x=\"939.5\" y=\"-2304.4\" font-family=\"Times,serif\" font-size=\"12.00\">5:fillna</text>\n",
       "<polyline fill=\"none\" stroke=\"black\" points=\"969,-2192.5 969,-2422.5 \"/>\n",
       "<text text-anchor=\"start\" x=\"977\" y=\"-2394.9\" font-family=\"Times,serif\" font-size=\"12.00\">User: &#45;1</text>\n",
       "<text text-anchor=\"start\" x=\"977\" y=\"-2381.9\" font-family=\"Times,serif\" font-size=\"12.00\">Card: &#45;1</text>\n",
       "<text text-anchor=\"start\" x=\"977\" y=\"-2368.9\" font-family=\"Times,serif\" font-size=\"12.00\">Year: &#45;1</text>\n",
       "<text text-anchor=\"start\" x=\"977\" y=\"-2355.9\" font-family=\"Times,serif\" font-size=\"12.00\">Month: &#45;1</text>\n",
       "<text text-anchor=\"start\" x=\"977\" y=\"-2342.9\" font-family=\"Times,serif\" font-size=\"12.00\">Day: &#45;1</text>\n",
       "<text text-anchor=\"start\" x=\"977\" y=\"-2329.9\" font-family=\"Times,serif\" font-size=\"12.00\">Time: 0</text>\n",
       "<text text-anchor=\"start\" x=\"977\" y=\"-2316.9\" font-family=\"Times,serif\" font-size=\"12.00\">Amount: </text>\n",
       "<text text-anchor=\"start\" x=\"977\" y=\"-2303.9\" font-family=\"Times,serif\" font-size=\"12.00\">Use Chip: </text>\n",
       "<text text-anchor=\"start\" x=\"977\" y=\"-2290.9\" font-family=\"Times,serif\" font-size=\"12.00\">Merchant Name: &#45;1</text>\n",
       "<text text-anchor=\"start\" x=\"977\" y=\"-2277.9\" font-family=\"Times,serif\" font-size=\"12.00\">Merchant City: </text>\n",
       "<text text-anchor=\"start\" x=\"977\" y=\"-2264.9\" font-family=\"Times,serif\" font-size=\"12.00\">Merchant State: </text>\n",
       "<text text-anchor=\"start\" x=\"977\" y=\"-2251.9\" font-family=\"Times,serif\" font-size=\"12.00\">Zip: &#45;1</text>\n",
       "<text text-anchor=\"start\" x=\"977\" y=\"-2238.9\" font-family=\"Times,serif\" font-size=\"12.00\">MCC: &#45;1</text>\n",
       "<text text-anchor=\"start\" x=\"977\" y=\"-2225.9\" font-family=\"Times,serif\" font-size=\"12.00\">Errors?: </text>\n",
       "<text text-anchor=\"start\" x=\"977\" y=\"-2212.9\" font-family=\"Times,serif\" font-size=\"12.00\">Is Fraud?: </text>\n",
       "<text text-anchor=\"start\" x=\"977\" y=\"-2199.9\" font-family=\"Times,serif\" font-size=\"12.00\">Amount__string_to_number: &#45;1</text>\n",
       "</g>\n",
       "<!-- 4&#45;&gt;5 -->\n",
       "<g id=\"edge5\" class=\"edge\">\n",
       "<title>4&#45;&gt;5</title>\n",
       "<path fill=\"none\" stroke=\"black\" d=\"M1039.5,-2459.45C1039.5,-2450.95 1039.5,-2442.07 1039.5,-2433.05\"/>\n",
       "<polygon fill=\"black\" stroke=\"black\" points=\"1043,-2432.82 1039.5,-2422.82 1036,-2432.82 1043,-2432.82\"/>\n",
       "</g>\n",
       "<!-- 6 -->\n",
       "<g id=\"node7\" class=\"node\">\n",
       "<title>6</title>\n",
       "<polygon fill=\"none\" stroke=\"black\" points=\"825.5,-2016.5 825.5,-2155.5 1253.5,-2155.5 1253.5,-2016.5 825.5,-2016.5\"/>\n",
       "<text text-anchor=\"middle\" x=\"862.5\" y=\"-2082.9\" font-family=\"Times,serif\" font-size=\"12.00\">6:rename</text>\n",
       "<polyline fill=\"none\" stroke=\"black\" points=\"899.5,-2016.5 899.5,-2155.5 \"/>\n",
       "<text text-anchor=\"start\" x=\"907.5\" y=\"-2127.9\" font-family=\"Times,serif\" font-size=\"12.00\">Use Chip: Use_Chip</text>\n",
       "<text text-anchor=\"start\" x=\"907.5\" y=\"-2114.9\" font-family=\"Times,serif\" font-size=\"12.00\">Merchant Name: Merchant_Name</text>\n",
       "<text text-anchor=\"start\" x=\"907.5\" y=\"-2101.9\" font-family=\"Times,serif\" font-size=\"12.00\">Merchant City: Merchant_City</text>\n",
       "<text text-anchor=\"start\" x=\"907.5\" y=\"-2088.9\" font-family=\"Times,serif\" font-size=\"12.00\">Merchant State: Merchant_State</text>\n",
       "<text text-anchor=\"start\" x=\"907.5\" y=\"-2075.9\" font-family=\"Times,serif\" font-size=\"12.00\">Zip: Zip</text>\n",
       "<text text-anchor=\"start\" x=\"907.5\" y=\"-2062.9\" font-family=\"Times,serif\" font-size=\"12.00\">MCC: MCC</text>\n",
       "<text text-anchor=\"start\" x=\"907.5\" y=\"-2049.9\" font-family=\"Times,serif\" font-size=\"12.00\">Errors?: Errors</text>\n",
       "<text text-anchor=\"start\" x=\"907.5\" y=\"-2036.9\" font-family=\"Times,serif\" font-size=\"12.00\">Is Fraud?: Is_Fraud</text>\n",
       "<text text-anchor=\"start\" x=\"907.5\" y=\"-2023.9\" font-family=\"Times,serif\" font-size=\"12.00\">Amount__string_to_number: Amount__string_to_number</text>\n",
       "</g>\n",
       "<!-- 5&#45;&gt;6 -->\n",
       "<g id=\"edge6\" class=\"edge\">\n",
       "<title>5&#45;&gt;6</title>\n",
       "<path fill=\"none\" stroke=\"black\" d=\"M1039.5,-2192.25C1039.5,-2183.27 1039.5,-2174.32 1039.5,-2165.66\"/>\n",
       "<polygon fill=\"black\" stroke=\"black\" points=\"1043,-2165.63 1039.5,-2155.63 1036,-2165.63 1043,-2165.63\"/>\n",
       "</g>\n",
       "<!-- 7 -->\n",
       "<g id=\"node8\" class=\"node\">\n",
       "<title>7</title>\n",
       "<polygon fill=\"none\" stroke=\"black\" points=\"730,-1943.5 730,-1979.5 1349,-1979.5 1349,-1943.5 730,-1943.5\"/>\n",
       "<text text-anchor=\"middle\" x=\"763.5\" y=\"-1958.4\" font-family=\"Times,serif\" font-size=\"12.00\">7:astype</text>\n",
       "<polyline fill=\"none\" stroke=\"black\" points=\"797,-1943.5 797,-1979.5 \"/>\n",
       "<text text-anchor=\"middle\" x=\"1073\" y=\"-1958.4\" font-family=\"Times,serif\" font-size=\"12.00\">[&quot;Time: [[&#39;Time_dt&#39;, [&#39;pyrecdp.primitives.generators.datetime&#39;, &#39;DatetimeTransformer&#39;]]]&quot;]</text>\n",
       "</g>\n",
       "<!-- 6&#45;&gt;7 -->\n",
       "<g id=\"edge7\" class=\"edge\">\n",
       "<title>6&#45;&gt;7</title>\n",
       "<path fill=\"none\" stroke=\"black\" d=\"M1039.5,-2016.23C1039.5,-2006.93 1039.5,-1997.87 1039.5,-1989.91\"/>\n",
       "<polygon fill=\"black\" stroke=\"black\" points=\"1043,-1989.84 1039.5,-1979.84 1036,-1989.84 1043,-1989.84\"/>\n",
       "</g>\n",
       "<!-- 8 -->\n",
       "<g id=\"node9\" class=\"node\">\n",
       "<title>8</title>\n",
       "<polygon fill=\"none\" stroke=\"black\" points=\"665,-1870.5 665,-1906.5 1414,-1906.5 1414,-1870.5 665,-1870.5\"/>\n",
       "<text text-anchor=\"middle\" x=\"730\" y=\"-1885.4\" font-family=\"Times,serif\" font-size=\"12.00\">8:datetime_feature</text>\n",
       "<polyline fill=\"none\" stroke=\"black\" points=\"795,-1870.5 795,-1906.5 \"/>\n",
       "<text text-anchor=\"middle\" x=\"1104.5\" y=\"-1885.4\" font-family=\"Times,serif\" font-size=\"12.00\">[&quot;Time_dt: [[&#39;Time_dt__hour&#39;, [&#39;featuretools.primitives.standard.transform.datetime.hour&#39;, &#39;Hour&#39;]]]&quot;]</text>\n",
       "</g>\n",
       "<!-- 7&#45;&gt;8 -->\n",
       "<g id=\"edge8\" class=\"edge\">\n",
       "<title>7&#45;&gt;8</title>\n",
       "<path fill=\"none\" stroke=\"black\" d=\"M1039.5,-1943.31C1039.5,-1935.29 1039.5,-1925.55 1039.5,-1916.57\"/>\n",
       "<polygon fill=\"black\" stroke=\"black\" points=\"1043,-1916.53 1039.5,-1906.53 1036,-1916.53 1043,-1916.53\"/>\n",
       "</g>\n",
       "<!-- 9 -->\n",
       "<g id=\"node10\" class=\"node\">\n",
       "<title>9</title>\n",
       "<polygon fill=\"none\" stroke=\"black\" points=\"743,-1797.5 743,-1833.5 1336,-1833.5 1336,-1797.5 743,-1797.5\"/>\n",
       "<text text-anchor=\"middle\" x=\"802\" y=\"-1812.4\" font-family=\"Times,serif\" font-size=\"12.00\">9:onehot_encode</text>\n",
       "<polyline fill=\"none\" stroke=\"black\" points=\"861,-1797.5 861,-1833.5 \"/>\n",
       "<text text-anchor=\"middle\" x=\"1098.5\" y=\"-1812.4\" font-family=\"Times,serif\" font-size=\"12.00\">[&quot;Use_Chip: [&#39;Swipe Transaction&#39;, &#39;Online Transaction&#39;, &#39;Chip Transaction&#39;]&quot;]</text>\n",
       "</g>\n",
       "<!-- 8&#45;&gt;9 -->\n",
       "<g id=\"edge9\" class=\"edge\">\n",
       "<title>8&#45;&gt;9</title>\n",
       "<path fill=\"none\" stroke=\"black\" d=\"M1039.5,-1870.31C1039.5,-1862.29 1039.5,-1852.55 1039.5,-1843.57\"/>\n",
       "<polygon fill=\"black\" stroke=\"black\" points=\"1043,-1843.53 1039.5,-1833.53 1036,-1843.53 1043,-1843.53\"/>\n",
       "</g>\n",
       "<!-- 10 -->\n",
       "<g id=\"node11\" class=\"node\">\n",
       "<title>10</title>\n",
       "<polygon fill=\"none\" stroke=\"black\" points=\"540,-1724.5 540,-1760.5 1539,-1760.5 1539,-1724.5 540,-1724.5\"/>\n",
       "<text text-anchor=\"middle\" x=\"614.5\" y=\"-1739.4\" font-family=\"Times,serif\" font-size=\"12.00\">10:list_onehot_encode</text>\n",
       "<polyline fill=\"none\" stroke=\"black\" points=\"689,-1724.5 689,-1760.5 \"/>\n",
       "<text text-anchor=\"middle\" x=\"1114\" y=\"-1739.4\" font-family=\"Times,serif\" font-size=\"12.00\">[&quot;Errors: [&#39;,&#39;, [nan, &#39;Insufficient Balance&#39;, &#39;&#39;, &#39;Bad Expiration&#39;, &#39;Technical Glitch&#39;, &#39;Bad Card Number&#39;, &#39;Bad PIN&#39;, &#39;Bad CVV&#39;, &#39;Bad Zipcode&#39;]]&quot;]</text>\n",
       "</g>\n",
       "<!-- 9&#45;&gt;10 -->\n",
       "<g id=\"edge10\" class=\"edge\">\n",
       "<title>9&#45;&gt;10</title>\n",
       "<path fill=\"none\" stroke=\"black\" d=\"M1039.5,-1797.31C1039.5,-1789.29 1039.5,-1779.55 1039.5,-1770.57\"/>\n",
       "<polygon fill=\"black\" stroke=\"black\" points=\"1043,-1770.53 1039.5,-1760.53 1036,-1770.53 1043,-1770.53\"/>\n",
       "</g>\n",
       "<!-- 11 -->\n",
       "<g id=\"node12\" class=\"node\">\n",
       "<title>11</title>\n",
       "<polygon fill=\"none\" stroke=\"black\" points=\"777.5,-1651.5 777.5,-1687.5 1301.5,-1687.5 1301.5,-1651.5 777.5,-1651.5\"/>\n",
       "<text text-anchor=\"middle\" x=\"826\" y=\"-1666.4\" font-family=\"Times,serif\" font-size=\"12.00\">11:categorify</text>\n",
       "<polyline fill=\"none\" stroke=\"black\" points=\"874.5,-1651.5 874.5,-1687.5 \"/>\n",
       "<text text-anchor=\"middle\" x=\"1088\" y=\"-1666.4\" font-family=\"Times,serif\" font-size=\"12.00\">[&quot;Is_Fraud: [&#39;pipeline_default/Is_Fraud_categorify_dict&#39;, &#39;Is_Fraud&#39;]&quot;]</text>\n",
       "</g>\n",
       "<!-- 10&#45;&gt;11 -->\n",
       "<g id=\"edge11\" class=\"edge\">\n",
       "<title>10&#45;&gt;11</title>\n",
       "<path fill=\"none\" stroke=\"black\" d=\"M1039.5,-1724.31C1039.5,-1716.29 1039.5,-1706.55 1039.5,-1697.57\"/>\n",
       "<polygon fill=\"black\" stroke=\"black\" points=\"1043,-1697.53 1039.5,-1687.53 1036,-1697.53 1043,-1697.53\"/>\n",
       "</g>\n",
       "<!-- 12 -->\n",
       "<g id=\"node13\" class=\"node\">\n",
       "<title>12</title>\n",
       "<polygon fill=\"none\" stroke=\"black\" points=\"512,-1449.5 512,-1614.5 1567,-1614.5 1567,-1449.5 512,-1449.5\"/>\n",
       "<text text-anchor=\"middle\" x=\"581.5\" y=\"-1528.9\" font-family=\"Times,serif\" font-size=\"12.00\">12:group_categorify</text>\n",
       "<polyline fill=\"none\" stroke=\"black\" points=\"651,-1449.5 651,-1614.5 \"/>\n",
       "<text text-anchor=\"start\" x=\"659\" y=\"-1586.9\" font-family=\"Times,serif\" font-size=\"12.00\">Day_User_idx: [[&#39;User&#39;, &#39;Day&#39;], &#39;pipeline_default/Day_User_idx_categorify_dict.parquet&#39;, &#39;Day_User_idx&#39;]</text>\n",
       "<text text-anchor=\"start\" x=\"659\" y=\"-1573.9\" font-family=\"Times,serif\" font-size=\"12.00\">Day_Card_idx: [[&#39;Card&#39;, &#39;Day&#39;], &#39;pipeline_default/Day_Card_idx_categorify_dict.parquet&#39;, &#39;Day_Card_idx&#39;]</text>\n",
       "<text text-anchor=\"start\" x=\"659\" y=\"-1560.9\" font-family=\"Times,serif\" font-size=\"12.00\">Day_Year_idx: [[&#39;Year&#39;, &#39;Day&#39;], &#39;pipeline_default/Day_Year_idx_categorify_dict.parquet&#39;, &#39;Day_Year_idx&#39;]</text>\n",
       "<text text-anchor=\"start\" x=\"659\" y=\"-1547.9\" font-family=\"Times,serif\" font-size=\"12.00\">Day_Month_idx: [[&#39;Month&#39;, &#39;Day&#39;], &#39;pipeline_default/Day_Month_idx_categorify_dict.parquet&#39;, &#39;Day_Month_idx&#39;]</text>\n",
       "<text text-anchor=\"start\" x=\"659\" y=\"-1534.9\" font-family=\"Times,serif\" font-size=\"12.00\">Day_Time_idx: [[&#39;Day&#39;, &#39;Time&#39;], &#39;pipeline_default/Day_Time_idx_categorify_dict.parquet&#39;, &#39;Day_Time_idx&#39;]</text>\n",
       "<text text-anchor=\"start\" x=\"659\" y=\"-1521.9\" font-family=\"Times,serif\" font-size=\"12.00\">Day_Use Chip_idx: [[&#39;Day&#39;, &#39;Use_Chip&#39;], &#39;pipeline_default/Day_Use Chip_idx_categorify_dict.parquet&#39;, &#39;Day_Use Chip_idx&#39;]</text>\n",
       "<text text-anchor=\"start\" x=\"659\" y=\"-1508.9\" font-family=\"Times,serif\" font-size=\"12.00\">Day_Merchant Name_idx: [[&#39;Day&#39;, &#39;Merchant_Name&#39;], &#39;pipeline_default/Day_Merchant Name_idx_categorify_dict.parquet&#39;, &#39;Day_Merchant Name_idx&#39;]</text>\n",
       "<text text-anchor=\"start\" x=\"659\" y=\"-1495.9\" font-family=\"Times,serif\" font-size=\"12.00\">Day_Merchant City_idx: [[&#39;Day&#39;, &#39;Merchant_City&#39;], &#39;pipeline_default/Day_Merchant City_idx_categorify_dict.parquet&#39;, &#39;Day_Merchant City_idx&#39;]</text>\n",
       "<text text-anchor=\"start\" x=\"659\" y=\"-1482.9\" font-family=\"Times,serif\" font-size=\"12.00\">Day_Merchant State_idx: [[&#39;Day&#39;, &#39;Merchant_State&#39;], &#39;pipeline_default/Day_Merchant State_idx_categorify_dict.parquet&#39;, &#39;Day_Merchant State_idx&#39;]</text>\n",
       "<text text-anchor=\"start\" x=\"659\" y=\"-1469.9\" font-family=\"Times,serif\" font-size=\"12.00\">Day_MCC_idx: [[&#39;Day&#39;, &#39;MCC&#39;], &#39;pipeline_default/Day_MCC_idx_categorify_dict.parquet&#39;, &#39;Day_MCC_idx&#39;]</text>\n",
       "<text text-anchor=\"start\" x=\"659\" y=\"-1456.9\" font-family=\"Times,serif\" font-size=\"12.00\">Day_Errors?_idx: [[&#39;Day&#39;, &#39;Errors&#39;], &#39;pipeline_default/Day_Errors?_idx_categorify_dict.parquet&#39;, &#39;Day_Errors?_idx&#39;]</text>\n",
       "</g>\n",
       "<!-- 11&#45;&gt;12 -->\n",
       "<g id=\"edge12\" class=\"edge\">\n",
       "<title>11&#45;&gt;12</title>\n",
       "<path fill=\"none\" stroke=\"black\" d=\"M1039.5,-1651.34C1039.5,-1644.02 1039.5,-1634.88 1039.5,-1624.93\"/>\n",
       "<polygon fill=\"black\" stroke=\"black\" points=\"1043,-1624.75 1039.5,-1614.75 1036,-1624.75 1043,-1624.75\"/>\n",
       "</g>\n",
       "<!-- 13 -->\n",
       "<g id=\"node14\" class=\"node\">\n",
       "<title>13</title>\n",
       "<polygon fill=\"none\" stroke=\"black\" points=\"708,-1325.5 708,-1412.5 1371,-1412.5 1371,-1325.5 708,-1325.5\"/>\n",
       "<text text-anchor=\"middle\" x=\"756.5\" y=\"-1365.9\" font-family=\"Times,serif\" font-size=\"12.00\">13:categorify</text>\n",
       "<polyline fill=\"none\" stroke=\"black\" points=\"805,-1325.5 805,-1412.5 \"/>\n",
       "<text text-anchor=\"start\" x=\"813\" y=\"-1384.9\" font-family=\"Times,serif\" font-size=\"12.00\">Time: [&#39;pipeline_default/Time_categorify_dict&#39;, &#39;Time__idx&#39;]</text>\n",
       "<text text-anchor=\"start\" x=\"813\" y=\"-1371.9\" font-family=\"Times,serif\" font-size=\"12.00\">Use_Chip: [&#39;pipeline_default/Use_Chip_categorify_dict&#39;, &#39;Use_Chip__idx&#39;]</text>\n",
       "<text text-anchor=\"start\" x=\"813\" y=\"-1358.9\" font-family=\"Times,serif\" font-size=\"12.00\">Merchant_City: [&#39;pipeline_default/Merchant_City_categorify_dict&#39;, &#39;Merchant_City__idx&#39;]</text>\n",
       "<text text-anchor=\"start\" x=\"813\" y=\"-1345.9\" font-family=\"Times,serif\" font-size=\"12.00\">Merchant_State: [&#39;pipeline_default/Merchant_State_categorify_dict&#39;, &#39;Merchant_State__idx&#39;]</text>\n",
       "<text text-anchor=\"start\" x=\"813\" y=\"-1332.9\" font-family=\"Times,serif\" font-size=\"12.00\">Errors: [&#39;pipeline_default/Errors_categorify_dict&#39;, &#39;Errors__idx&#39;]</text>\n",
       "</g>\n",
       "<!-- 12&#45;&gt;13 -->\n",
       "<g id=\"edge13\" class=\"edge\">\n",
       "<title>12&#45;&gt;13</title>\n",
       "<path fill=\"none\" stroke=\"black\" d=\"M1039.5,-1449.09C1039.5,-1440.14 1039.5,-1431.21 1039.5,-1422.76\"/>\n",
       "<polygon fill=\"black\" stroke=\"black\" points=\"1043,-1422.7 1039.5,-1412.7 1036,-1422.7 1043,-1422.7\"/>\n",
       "</g>\n",
       "<!-- 14 -->\n",
       "<g id=\"node15\" class=\"node\">\n",
       "<title>14</title>\n",
       "<polygon fill=\"none\" stroke=\"black\" points=\"624,-954.5 624,-1288.5 1455,-1288.5 1455,-954.5 624,-954.5\"/>\n",
       "<text text-anchor=\"middle\" x=\"683\" y=\"-1118.4\" font-family=\"Times,serif\" font-size=\"12.00\">14:count_encode</text>\n",
       "<polyline fill=\"none\" stroke=\"black\" points=\"742,-954.5 742,-1288.5 \"/>\n",
       "<text text-anchor=\"start\" x=\"750\" y=\"-1260.9\" font-family=\"Times,serif\" font-size=\"12.00\">User: [&#39;pipeline_default/User_CE_dict.pkl&#39;, &#39;User__CE&#39;]</text>\n",
       "<text text-anchor=\"start\" x=\"750\" y=\"-1247.9\" font-family=\"Times,serif\" font-size=\"12.00\">Card: [&#39;pipeline_default/Card_CE_dict.pkl&#39;, &#39;Card__CE&#39;]</text>\n",
       "<text text-anchor=\"start\" x=\"750\" y=\"-1234.9\" font-family=\"Times,serif\" font-size=\"12.00\">Year: [&#39;pipeline_default/Year_CE_dict.pkl&#39;, &#39;Year__CE&#39;]</text>\n",
       "<text text-anchor=\"start\" x=\"750\" y=\"-1221.9\" font-family=\"Times,serif\" font-size=\"12.00\">Month: [&#39;pipeline_default/Month_CE_dict.pkl&#39;, &#39;Month__CE&#39;]</text>\n",
       "<text text-anchor=\"start\" x=\"750\" y=\"-1208.9\" font-family=\"Times,serif\" font-size=\"12.00\">Day: [&#39;pipeline_default/Day_CE_dict.pkl&#39;, &#39;Day__CE&#39;]</text>\n",
       "<text text-anchor=\"start\" x=\"750\" y=\"-1195.9\" font-family=\"Times,serif\" font-size=\"12.00\">Time: [&#39;pipeline_default/Time_CE_dict.pkl&#39;, &#39;Time__CE&#39;]</text>\n",
       "<text text-anchor=\"start\" x=\"750\" y=\"-1182.9\" font-family=\"Times,serif\" font-size=\"12.00\">Use_Chip: [&#39;pipeline_default/Use_Chip_CE_dict.pkl&#39;, &#39;Use_Chip__CE&#39;]</text>\n",
       "<text text-anchor=\"start\" x=\"750\" y=\"-1169.9\" font-family=\"Times,serif\" font-size=\"12.00\">Merchant_Name: [&#39;pipeline_default/Merchant_Name_CE_dict.pkl&#39;, &#39;Merchant_Name__CE&#39;]</text>\n",
       "<text text-anchor=\"start\" x=\"750\" y=\"-1156.9\" font-family=\"Times,serif\" font-size=\"12.00\">Merchant_City: [&#39;pipeline_default/Merchant_City_CE_dict.pkl&#39;, &#39;Merchant_City__CE&#39;]</text>\n",
       "<text text-anchor=\"start\" x=\"750\" y=\"-1143.9\" font-family=\"Times,serif\" font-size=\"12.00\">Merchant_State: [&#39;pipeline_default/Merchant_State_CE_dict.pkl&#39;, &#39;Merchant_State__CE&#39;]</text>\n",
       "<text text-anchor=\"start\" x=\"750\" y=\"-1130.9\" font-family=\"Times,serif\" font-size=\"12.00\">MCC: [&#39;pipeline_default/MCC_CE_dict.pkl&#39;, &#39;MCC__CE&#39;]</text>\n",
       "<text text-anchor=\"start\" x=\"750\" y=\"-1117.9\" font-family=\"Times,serif\" font-size=\"12.00\">Errors: [&#39;pipeline_default/Errors_CE_dict.pkl&#39;, &#39;Errors__CE&#39;]</text>\n",
       "<text text-anchor=\"start\" x=\"750\" y=\"-1104.9\" font-family=\"Times,serif\" font-size=\"12.00\">Time_dt__hour: [&#39;pipeline_default/Time_dt__hour_CE_dict.pkl&#39;, &#39;Time_dt__hour__CE&#39;]</text>\n",
       "<text text-anchor=\"start\" x=\"750\" y=\"-1091.9\" font-family=\"Times,serif\" font-size=\"12.00\">Day_User_idx: [&#39;pipeline_default/Day_User_idx_CE_dict.pkl&#39;, &#39;Day_User_idx__CE&#39;]</text>\n",
       "<text text-anchor=\"start\" x=\"750\" y=\"-1078.9\" font-family=\"Times,serif\" font-size=\"12.00\">Day_Card_idx: [&#39;pipeline_default/Day_Card_idx_CE_dict.pkl&#39;, &#39;Day_Card_idx__CE&#39;]</text>\n",
       "<text text-anchor=\"start\" x=\"750\" y=\"-1065.9\" font-family=\"Times,serif\" font-size=\"12.00\">Day_Year_idx: [&#39;pipeline_default/Day_Year_idx_CE_dict.pkl&#39;, &#39;Day_Year_idx__CE&#39;]</text>\n",
       "<text text-anchor=\"start\" x=\"750\" y=\"-1052.9\" font-family=\"Times,serif\" font-size=\"12.00\">Day_Month_idx: [&#39;pipeline_default/Day_Month_idx_CE_dict.pkl&#39;, &#39;Day_Month_idx__CE&#39;]</text>\n",
       "<text text-anchor=\"start\" x=\"750\" y=\"-1039.9\" font-family=\"Times,serif\" font-size=\"12.00\">Day_Time_idx: [&#39;pipeline_default/Day_Time_idx_CE_dict.pkl&#39;, &#39;Day_Time_idx__CE&#39;]</text>\n",
       "<text text-anchor=\"start\" x=\"750\" y=\"-1026.9\" font-family=\"Times,serif\" font-size=\"12.00\">Day_Use Chip_idx: [&#39;pipeline_default/Day_Use Chip_idx_CE_dict.pkl&#39;, &#39;Day_Use Chip_idx__CE&#39;]</text>\n",
       "<text text-anchor=\"start\" x=\"750\" y=\"-1013.9\" font-family=\"Times,serif\" font-size=\"12.00\">Day_Merchant Name_idx: [&#39;pipeline_default/Day_Merchant Name_idx_CE_dict.pkl&#39;, &#39;Day_Merchant Name_idx__CE&#39;]</text>\n",
       "<text text-anchor=\"start\" x=\"750\" y=\"-1000.9\" font-family=\"Times,serif\" font-size=\"12.00\">Day_Merchant City_idx: [&#39;pipeline_default/Day_Merchant City_idx_CE_dict.pkl&#39;, &#39;Day_Merchant City_idx__CE&#39;]</text>\n",
       "<text text-anchor=\"start\" x=\"750\" y=\"-987.9\" font-family=\"Times,serif\" font-size=\"12.00\">Day_Merchant State_idx: [&#39;pipeline_default/Day_Merchant State_idx_CE_dict.pkl&#39;, &#39;Day_Merchant State_idx__CE&#39;]</text>\n",
       "<text text-anchor=\"start\" x=\"750\" y=\"-974.9\" font-family=\"Times,serif\" font-size=\"12.00\">Day_MCC_idx: [&#39;pipeline_default/Day_MCC_idx_CE_dict.pkl&#39;, &#39;Day_MCC_idx__CE&#39;]</text>\n",
       "<text text-anchor=\"start\" x=\"750\" y=\"-961.9\" font-family=\"Times,serif\" font-size=\"12.00\">Day_Errors?_idx: [&#39;pipeline_default/Day_Errors?_idx_CE_dict.pkl&#39;, &#39;Day_Errors?_idx__CE&#39;]</text>\n",
       "</g>\n",
       "<!-- 13&#45;&gt;14 -->\n",
       "<g id=\"edge14\" class=\"edge\">\n",
       "<title>13&#45;&gt;14</title>\n",
       "<path fill=\"none\" stroke=\"black\" d=\"M1039.5,-1325.24C1039.5,-1317.27 1039.5,-1308.5 1039.5,-1299.22\"/>\n",
       "<polygon fill=\"black\" stroke=\"black\" points=\"1043,-1298.96 1039.5,-1288.96 1036,-1298.96 1043,-1298.96\"/>\n",
       "</g>\n",
       "<!-- 15 -->\n",
       "<g id=\"node16\" class=\"node\">\n",
       "<title>15</title>\n",
       "<polygon fill=\"none\" stroke=\"black\" points=\"802,-219.5 802,-917.5 1277,-917.5 1277,-219.5 802,-219.5\"/>\n",
       "<text text-anchor=\"middle\" x=\"842.5\" y=\"-565.4\" font-family=\"Times,serif\" font-size=\"12.00\">15:rename</text>\n",
       "<polyline fill=\"none\" stroke=\"black\" points=\"883,-219.5 883,-917.5 \"/>\n",
       "<text text-anchor=\"start\" x=\"891\" y=\"-889.9\" font-family=\"Times,serif\" font-size=\"12.00\">Use_Chip__Swipe Transaction: Use_Chip__Swipe_Transaction</text>\n",
       "<text text-anchor=\"start\" x=\"891\" y=\"-876.9\" font-family=\"Times,serif\" font-size=\"12.00\">Use_Chip__Online Transaction: Use_Chip__Online_Transaction</text>\n",
       "<text text-anchor=\"start\" x=\"891\" y=\"-863.9\" font-family=\"Times,serif\" font-size=\"12.00\">Use_Chip__Chip Transaction: Use_Chip__Chip_Transaction</text>\n",
       "<text text-anchor=\"start\" x=\"891\" y=\"-850.9\" font-family=\"Times,serif\" font-size=\"12.00\">Errors_nan: Errors_nan</text>\n",
       "<text text-anchor=\"start\" x=\"891\" y=\"-837.9\" font-family=\"Times,serif\" font-size=\"12.00\">Errors_Insufficient Balance: Errors_Insufficient_Balance</text>\n",
       "<text text-anchor=\"start\" x=\"891\" y=\"-824.9\" font-family=\"Times,serif\" font-size=\"12.00\">Errors_: Errors_</text>\n",
       "<text text-anchor=\"start\" x=\"891\" y=\"-811.9\" font-family=\"Times,serif\" font-size=\"12.00\">Errors_Bad Expiration: Errors_Bad_Expiration</text>\n",
       "<text text-anchor=\"start\" x=\"891\" y=\"-798.9\" font-family=\"Times,serif\" font-size=\"12.00\">Errors_Technical Glitch: Errors_Technical_Glitch</text>\n",
       "<text text-anchor=\"start\" x=\"891\" y=\"-785.9\" font-family=\"Times,serif\" font-size=\"12.00\">Errors_Bad Card Number: Errors_Bad_Card_Number</text>\n",
       "<text text-anchor=\"start\" x=\"891\" y=\"-772.9\" font-family=\"Times,serif\" font-size=\"12.00\">Errors_Bad PIN: Errors_Bad_PIN</text>\n",
       "<text text-anchor=\"start\" x=\"891\" y=\"-759.9\" font-family=\"Times,serif\" font-size=\"12.00\">Errors_Bad CVV: Errors_Bad_CVV</text>\n",
       "<text text-anchor=\"start\" x=\"891\" y=\"-746.9\" font-family=\"Times,serif\" font-size=\"12.00\">Errors_Bad Zipcode: Errors_Bad_Zipcode</text>\n",
       "<text text-anchor=\"start\" x=\"891\" y=\"-733.9\" font-family=\"Times,serif\" font-size=\"12.00\">Day_User_idx: Day_User_idx</text>\n",
       "<text text-anchor=\"start\" x=\"891\" y=\"-720.9\" font-family=\"Times,serif\" font-size=\"12.00\">Day_Card_idx: Day_Card_idx</text>\n",
       "<text text-anchor=\"start\" x=\"891\" y=\"-707.9\" font-family=\"Times,serif\" font-size=\"12.00\">Day_Year_idx: Day_Year_idx</text>\n",
       "<text text-anchor=\"start\" x=\"891\" y=\"-694.9\" font-family=\"Times,serif\" font-size=\"12.00\">Day_Month_idx: Day_Month_idx</text>\n",
       "<text text-anchor=\"start\" x=\"891\" y=\"-681.9\" font-family=\"Times,serif\" font-size=\"12.00\">Day_Time_idx: Day_Time_idx</text>\n",
       "<text text-anchor=\"start\" x=\"891\" y=\"-668.9\" font-family=\"Times,serif\" font-size=\"12.00\">Day_Use Chip_idx: Day_Use_Chip_idx</text>\n",
       "<text text-anchor=\"start\" x=\"891\" y=\"-655.9\" font-family=\"Times,serif\" font-size=\"12.00\">Day_Merchant Name_idx: Day_Merchant_Name_idx</text>\n",
       "<text text-anchor=\"start\" x=\"891\" y=\"-642.9\" font-family=\"Times,serif\" font-size=\"12.00\">Day_Merchant City_idx: Day_Merchant_City_idx</text>\n",
       "<text text-anchor=\"start\" x=\"891\" y=\"-629.9\" font-family=\"Times,serif\" font-size=\"12.00\">Day_Merchant State_idx: Day_Merchant_State_idx</text>\n",
       "<text text-anchor=\"start\" x=\"891\" y=\"-616.9\" font-family=\"Times,serif\" font-size=\"12.00\">Day_MCC_idx: Day_MCC_idx</text>\n",
       "<text text-anchor=\"start\" x=\"891\" y=\"-603.9\" font-family=\"Times,serif\" font-size=\"12.00\">Day_Errors?_idx: Day_Errors_idx</text>\n",
       "<text text-anchor=\"start\" x=\"891\" y=\"-590.9\" font-family=\"Times,serif\" font-size=\"12.00\">Time__idx: Time__idx</text>\n",
       "<text text-anchor=\"start\" x=\"891\" y=\"-577.9\" font-family=\"Times,serif\" font-size=\"12.00\">Use_Chip__idx: Use_Chip__idx</text>\n",
       "<text text-anchor=\"start\" x=\"891\" y=\"-564.9\" font-family=\"Times,serif\" font-size=\"12.00\">Merchant_City__idx: Merchant_City__idx</text>\n",
       "<text text-anchor=\"start\" x=\"891\" y=\"-551.9\" font-family=\"Times,serif\" font-size=\"12.00\">Merchant_State__idx: Merchant_State__idx</text>\n",
       "<text text-anchor=\"start\" x=\"891\" y=\"-538.9\" font-family=\"Times,serif\" font-size=\"12.00\">Errors__idx: Errors__idx</text>\n",
       "<text text-anchor=\"start\" x=\"891\" y=\"-525.9\" font-family=\"Times,serif\" font-size=\"12.00\">User__CE: User__CE</text>\n",
       "<text text-anchor=\"start\" x=\"891\" y=\"-512.9\" font-family=\"Times,serif\" font-size=\"12.00\">Card__CE: Card__CE</text>\n",
       "<text text-anchor=\"start\" x=\"891\" y=\"-499.9\" font-family=\"Times,serif\" font-size=\"12.00\">Year__CE: Year__CE</text>\n",
       "<text text-anchor=\"start\" x=\"891\" y=\"-486.9\" font-family=\"Times,serif\" font-size=\"12.00\">Month__CE: Month__CE</text>\n",
       "<text text-anchor=\"start\" x=\"891\" y=\"-473.9\" font-family=\"Times,serif\" font-size=\"12.00\">Day__CE: Day__CE</text>\n",
       "<text text-anchor=\"start\" x=\"891\" y=\"-460.9\" font-family=\"Times,serif\" font-size=\"12.00\">Time__CE: Time__CE</text>\n",
       "<text text-anchor=\"start\" x=\"891\" y=\"-447.9\" font-family=\"Times,serif\" font-size=\"12.00\">Use_Chip__CE: Use_Chip__CE</text>\n",
       "<text text-anchor=\"start\" x=\"891\" y=\"-434.9\" font-family=\"Times,serif\" font-size=\"12.00\">Merchant_Name__CE: Merchant_Name__CE</text>\n",
       "<text text-anchor=\"start\" x=\"891\" y=\"-421.9\" font-family=\"Times,serif\" font-size=\"12.00\">Merchant_City__CE: Merchant_City__CE</text>\n",
       "<text text-anchor=\"start\" x=\"891\" y=\"-408.9\" font-family=\"Times,serif\" font-size=\"12.00\">Merchant_State__CE: Merchant_State__CE</text>\n",
       "<text text-anchor=\"start\" x=\"891\" y=\"-395.9\" font-family=\"Times,serif\" font-size=\"12.00\">MCC__CE: MCC__CE</text>\n",
       "<text text-anchor=\"start\" x=\"891\" y=\"-382.9\" font-family=\"Times,serif\" font-size=\"12.00\">Errors__CE: Errors__CE</text>\n",
       "<text text-anchor=\"start\" x=\"891\" y=\"-369.9\" font-family=\"Times,serif\" font-size=\"12.00\">Time_dt__hour__CE: Time_dt__hour__CE</text>\n",
       "<text text-anchor=\"start\" x=\"891\" y=\"-356.9\" font-family=\"Times,serif\" font-size=\"12.00\">Day_User_idx__CE: Day_User_idx__CE</text>\n",
       "<text text-anchor=\"start\" x=\"891\" y=\"-343.9\" font-family=\"Times,serif\" font-size=\"12.00\">Day_Card_idx__CE: Day_Card_idx__CE</text>\n",
       "<text text-anchor=\"start\" x=\"891\" y=\"-330.9\" font-family=\"Times,serif\" font-size=\"12.00\">Day_Year_idx__CE: Day_Year_idx__CE</text>\n",
       "<text text-anchor=\"start\" x=\"891\" y=\"-317.9\" font-family=\"Times,serif\" font-size=\"12.00\">Day_Month_idx__CE: Day_Month_idx__CE</text>\n",
       "<text text-anchor=\"start\" x=\"891\" y=\"-304.9\" font-family=\"Times,serif\" font-size=\"12.00\">Day_Time_idx__CE: Day_Time_idx__CE</text>\n",
       "<text text-anchor=\"start\" x=\"891\" y=\"-291.9\" font-family=\"Times,serif\" font-size=\"12.00\">Day_Use Chip_idx__CE: Day_Use_Chip_idx__CE</text>\n",
       "<text text-anchor=\"start\" x=\"891\" y=\"-278.9\" font-family=\"Times,serif\" font-size=\"12.00\">Day_Merchant Name_idx__CE: Day_Merchant_Name_idx__CE</text>\n",
       "<text text-anchor=\"start\" x=\"891\" y=\"-265.9\" font-family=\"Times,serif\" font-size=\"12.00\">Day_Merchant City_idx__CE: Day_Merchant_City_idx__CE</text>\n",
       "<text text-anchor=\"start\" x=\"891\" y=\"-252.9\" font-family=\"Times,serif\" font-size=\"12.00\">Day_Merchant State_idx__CE: Day_Merchant_State_idx__CE</text>\n",
       "<text text-anchor=\"start\" x=\"891\" y=\"-239.9\" font-family=\"Times,serif\" font-size=\"12.00\">Day_MCC_idx__CE: Day_MCC_idx__CE</text>\n",
       "<text text-anchor=\"start\" x=\"891\" y=\"-226.9\" font-family=\"Times,serif\" font-size=\"12.00\">Day_Errors?_idx__CE: Day_Errors_idx__CE</text>\n",
       "</g>\n",
       "<!-- 14&#45;&gt;15 -->\n",
       "<g id=\"edge15\" class=\"edge\">\n",
       "<title>14&#45;&gt;15</title>\n",
       "<path fill=\"none\" stroke=\"black\" d=\"M1039.5,-954.43C1039.5,-945.8 1039.5,-937 1039.5,-928.06\"/>\n",
       "<polygon fill=\"black\" stroke=\"black\" points=\"1043,-927.92 1039.5,-917.92 1036,-927.92 1043,-927.92\"/>\n",
       "</g>\n",
       "<!-- 16 -->\n",
       "<g id=\"node17\" class=\"node\">\n",
       "<title>16</title>\n",
       "<polygon fill=\"none\" stroke=\"black\" points=\"748,-146.5 748,-182.5 1331,-182.5 1331,-146.5 748,-146.5\"/>\n",
       "<text text-anchor=\"middle\" x=\"780\" y=\"-161.4\" font-family=\"Times,serif\" font-size=\"12.00\">16:drop</text>\n",
       "<polyline fill=\"none\" stroke=\"black\" points=\"812,-146.5 812,-182.5 \"/>\n",
       "<text text-anchor=\"middle\" x=\"1071.5\" y=\"-161.4\" font-family=\"Times,serif\" font-size=\"12.00\">[&#39;Time&#39;, &#39;Amount&#39;, &#39;Use_Chip&#39;, &#39;Merchant_City&#39;, &#39;Merchant_State&#39;, &#39;Errors&#39;, &#39;Time_dt&#39;]</text>\n",
       "</g>\n",
       "<!-- 15&#45;&gt;16 -->\n",
       "<g id=\"edge16\" class=\"edge\">\n",
       "<title>15&#45;&gt;16</title>\n",
       "<path fill=\"none\" stroke=\"black\" d=\"M1039.5,-219.3C1039.5,-209.37 1039.5,-200.49 1039.5,-192.96\"/>\n",
       "<polygon fill=\"black\" stroke=\"black\" points=\"1043,-192.91 1039.5,-182.91 1036,-192.91 1043,-192.91\"/>\n",
       "</g>\n",
       "<!-- 17 -->\n",
       "<g id=\"node18\" class=\"node\">\n",
       "<title>17</title>\n",
       "<polygon fill=\"none\" stroke=\"black\" points=\"946,-73.5 946,-109.5 1133,-109.5 1133,-73.5 946,-73.5\"/>\n",
       "<text text-anchor=\"middle\" x=\"998\" y=\"-88.4\" font-family=\"Times,serif\" font-size=\"12.00\">17:DataFrame</text>\n",
       "<polyline fill=\"none\" stroke=\"black\" points=\"1050,-73.5 1050,-109.5 \"/>\n",
       "<text text-anchor=\"middle\" x=\"1091.5\" y=\"-88.4\" font-family=\"Times,serif\" font-size=\"12.00\">main_table</text>\n",
       "</g>\n",
       "<!-- 16&#45;&gt;17 -->\n",
       "<g id=\"edge17\" class=\"edge\">\n",
       "<title>16&#45;&gt;17</title>\n",
       "<path fill=\"none\" stroke=\"black\" d=\"M1039.5,-146.31C1039.5,-138.29 1039.5,-128.55 1039.5,-119.57\"/>\n",
       "<polygon fill=\"black\" stroke=\"black\" points=\"1043,-119.53 1039.5,-109.53 1036,-119.53 1043,-119.53\"/>\n",
       "</g>\n",
       "<!-- 18 -->\n",
       "<g id=\"node19\" class=\"node\">\n",
       "<title>18</title>\n",
       "<polygon fill=\"none\" stroke=\"black\" points=\"754,-0.5 754,-36.5 1325,-36.5 1325,-0.5 754,-0.5\"/>\n",
       "<text text-anchor=\"middle\" x=\"798.5\" y=\"-15.4\" font-family=\"Times,serif\" font-size=\"12.00\">18:lightgbm</text>\n",
       "<polyline fill=\"none\" stroke=\"black\" points=\"843,-0.5 843,-36.5 \"/>\n",
       "<text text-anchor=\"middle\" x=\"1084\" y=\"-15.4\" font-family=\"Times,serif\" font-size=\"12.00\">[&#39;label: Is_Fraud&#39;, &#39;objective: binary&#39;, &#39;train_test_splitter: None&#39;, &#39;metrics: auc&#39;]</text>\n",
       "</g>\n",
       "<!-- 17&#45;&gt;18 -->\n",
       "<g id=\"edge18\" class=\"edge\">\n",
       "<title>17&#45;&gt;18</title>\n",
       "<path fill=\"none\" stroke=\"black\" d=\"M1039.5,-73.31C1039.5,-65.29 1039.5,-55.55 1039.5,-46.57\"/>\n",
       "<polygon fill=\"black\" stroke=\"black\" points=\"1043,-46.53 1039.5,-36.53 1036,-46.53 1043,-46.53\"/>\n",
       "</g>\n",
       "</g>\n",
       "</svg>\n"
      ],
      "text/plain": [
       "<graphviz.graphs.Digraph at 0x7f8e4d3ddd80>"
      ]
     },
     "execution_count": 7,
     "metadata": {},
     "output_type": "execute_result"
    }
   ],
   "source": [
    "pipeline.plot()"
   ]
  },
  {
   "attachments": {},
   "cell_type": "markdown",
   "metadata": {},
   "source": [
    "## 3.3 Feature Importance"
   ]
  },
  {
   "cell_type": "code",
   "execution_count": 8,
   "metadata": {
    "tags": []
   },
   "outputs": [
    {
     "data": {
      "text/plain": [
       "<Axes: >"
      ]
     },
     "execution_count": 8,
     "metadata": {},
     "output_type": "execute_result"
    },
    {
     "data": {
      "image/png": "[encoded data removed]",
      "text/plain": [
       "<Figure size 1500x2200 with 1 Axes>"
      ]
     },
     "metadata": {},
     "output_type": "display_data"
    }
   ],
   "source": [
    "pipeline.feature_importance()"
   ]
  },
  {
   "attachments": {},
   "cell_type": "markdown",
   "metadata": {
    "tags": []
   },
   "source": [
    "## 4. Model training"
   ]
  },
  {
   "cell_type": "code",
   "execution_count": null,
   "metadata": {},
   "outputs": [],
   "source": [
    "! pip install xgboost"
   ]
  },
  {
   "cell_type": "code",
   "execution_count": 6,
   "metadata": {},
   "outputs": [
    {
     "name": "stdout",
     "output_type": "stream",
     "text": [
      "XGBoost training started ...\n",
      "[0]\ttrain-aucpr:0.36088\teval-aucpr:0.17358\ttest-aucpr:0.12966\n",
      "[100]\ttrain-aucpr:0.73810\teval-aucpr:0.73312\ttest-aucpr:0.67325\n",
      "[200]\ttrain-aucpr:0.80110\teval-aucpr:0.88399\ttest-aucpr:0.82050\n",
      "[300]\ttrain-aucpr:0.83101\teval-aucpr:0.91006\ttest-aucpr:0.84560\n",
      "[400]\ttrain-aucpr:0.84765\teval-aucpr:0.91060\ttest-aucpr:0.84745\n",
      "[500]\ttrain-aucpr:0.86105\teval-aucpr:0.92446\ttest-aucpr:0.87223\n",
      "[600]\ttrain-aucpr:0.87171\teval-aucpr:0.92893\ttest-aucpr:0.88008\n",
      "[700]\ttrain-aucpr:0.88173\teval-aucpr:0.92999\ttest-aucpr:0.88120\n",
      "[800]\ttrain-aucpr:0.89142\teval-aucpr:0.92815\ttest-aucpr:0.87653\n",
      "[900]\ttrain-aucpr:0.89965\teval-aucpr:0.93022\ttest-aucpr:0.87934\n",
      "[999]\ttrain-aucpr:0.90681\teval-aucpr:0.93160\ttest-aucpr:0.88154\n",
      "XGBoost training took 1175.042554659769 sec\n",
      "XGBoost test started ...\n",
      "XGBoost test took 1.2980223800987005 sec\n",
      "testing results aucpr on test set is 0.8815356998504907\n"
     ]
    }
   ],
   "source": [
    "# # test with XGBoost\n",
    "from sklearn.metrics import average_precision_score, precision_recall_curve, auc\n",
    "import xgboost as xgb  \n",
    "\n",
    "target_label = 'Is_Fraud'\n",
    "model_params = {\n",
    "    'eval_metric': 'aucpr',\n",
    "    'objective': 'binary:logistic',\n",
    "    'tree_method': 'hist',\n",
    "    'random_state': 42,\n",
    "    'learning_rate': 0.05,\n",
    "    'max_depth': 6,\n",
    "    'subsample': 0.6,\n",
    "    'colsample_bytree': 0.8,\n",
    "    'min_child_weight': 9,\n",
    "}\n",
    "training_params = {\n",
    "    'num_boost_round': 1000,\n",
    "    'verbose_eval': 100,\n",
    "}\n",
    "\n",
    "exclude_features = []\n",
    "features_train = [i for i in transformed_valid_df.columns if i not in [target_label] + exclude_features]\n",
    "\n",
    "dtrain = xgb.DMatrix(data=transformed_train_df[features_train], label=transformed_train_df[target_label])\n",
    "dvalid = xgb.DMatrix(data=transformed_valid_df[features_train], label=transformed_valid_df[target_label])\n",
    "dtest = xgb.DMatrix(data=transformed_test_df[features_train], label=transformed_test_df[target_label])\n",
    "\n",
    "watch_list = [(dtrain,'train'), (dvalid, 'eval'), (dtest, 'test')]\n",
    "#watch_list = [(dtrain,'train'), (dtest, 'test')]\n",
    "with Timer(\"XGBoost training\"):\n",
    "    model = xgb.train(model_params, **training_params, dtrain=dtrain, evals=watch_list)\n",
    "\n",
    "with Timer(\"XGBoost test\"):\n",
    "    probs = model.predict(dtest)\n",
    "    precision, recall, _ = precision_recall_curve(transformed_test_df[target_label], probs)\n",
    "    test_result = auc(recall, precision)\n",
    "print(f\"testing results aucpr on test set is {test_result}\")"
   ]
  },
  {
   "cell_type": "code",
   "execution_count": 8,
   "metadata": {},
   "outputs": [
    {
     "name": "stdout",
     "output_type": "stream",
     "text": [
      "60 ['User', 'Card', 'Year', 'Month', 'Day', 'Merchant_Name', 'Zip', 'MCC', 'Amount__string_to_number', 'Time_dt__hour', 'Use_Chip__Chip_Transaction', 'Use_Chip__Online_Transaction', 'Use_Chip__Swipe_Transaction', 'Errors_Bad_CVV', 'Errors_Bad_Card_Number', 'Errors_Bad_Expiration', 'Errors_Bad_PIN', 'Errors_Bad_Zipcode', 'Errors_Insufficient_Balance', 'Errors_Technical_Glitch', 'Day_Card_idx', 'Day_Month_idx', 'Day_Year_idx', 'Day_User_idx', 'Day_Use_Chip_idx', 'Day_MCC_idx', 'Day_Time_idx', 'Day_Errors_idx', 'Day_Merchant_State_idx', 'Day_Merchant_City_idx', 'Day_Merchant_Name_idx', 'Time__idx', 'Use_Chip__idx', 'Merchant_State__idx', 'Errors__idx', 'Merchant_City__idx', 'Merchant_City__CE', 'Time__CE', 'Use_Chip__CE', 'Merchant_State__CE', 'Errors__CE', 'Card__CE', 'Day__CE', 'Month__CE', 'User__CE', 'Year__CE', 'Time_dt__hour__CE', 'Day_Card_idx__CE', 'MCC__CE', 'Day_Use_Chip_idx__CE', 'Day_Month_idx__CE', 'Day_User_idx__CE', 'Day_Year_idx__CE', 'Day_Errors_idx__CE', 'Day_Merchant_State_idx__CE', 'Day_MCC_idx__CE', 'Day_Merchant_City_idx__CE', 'Merchant_Name__CE', 'Day_Time_idx__CE', 'Day_Merchant_Name_idx__CE']\n"
     ]
    }
   ],
   "source": [
    "print(len(features_train), features_train)"
   ]
  },
  {
   "cell_type": "code",
   "execution_count": 9,
   "metadata": {},
   "outputs": [
    {
     "name": "stdout",
     "output_type": "stream",
     "text": [
      "XGBoost training started ...\n",
      "[0]\ttrain-aucpr:0.42491\teval-aucpr:0.40767\ttest-aucpr:0.32711\n",
      "[100]\ttrain-aucpr:0.74842\teval-aucpr:0.75722\ttest-aucpr:0.68287\n",
      "[200]\ttrain-aucpr:0.80069\teval-aucpr:0.90994\ttest-aucpr:0.85136\n",
      "[300]\ttrain-aucpr:0.83219\teval-aucpr:0.90850\ttest-aucpr:0.83773\n",
      "[400]\ttrain-aucpr:0.84967\teval-aucpr:0.91229\ttest-aucpr:0.84552\n",
      "[500]\ttrain-aucpr:0.86411\teval-aucpr:0.91515\ttest-aucpr:0.85264\n",
      "[600]\ttrain-aucpr:0.87497\teval-aucpr:0.91679\ttest-aucpr:0.85181\n",
      "[700]\ttrain-aucpr:0.88579\teval-aucpr:0.91757\ttest-aucpr:0.85581\n",
      "[800]\ttrain-aucpr:0.89461\teval-aucpr:0.91991\ttest-aucpr:0.86272\n",
      "[900]\ttrain-aucpr:0.90297\teval-aucpr:0.91659\ttest-aucpr:0.85780\n",
      "[999]\ttrain-aucpr:0.91027\teval-aucpr:0.91373\ttest-aucpr:0.84964\n",
      "XGBoost training took 1140.5190069247037 sec\n",
      "XGBoost test started ...\n",
      "XGBoost test took 1.2858655955642462 sec\n",
      "testing results aucpr on test set is 0.8496025058070872\n"
     ]
    }
   ],
   "source": [
    "# # # test with XGBoost\n",
    "# from sklearn.metrics import average_precision_score, precision_recall_curve, auc\n",
    "# import xgboost as xgb  \n",
    "\n",
    "# target_label = 'Is_Fraud'\n",
    "# model_params = {\n",
    "#     'eval_metric': 'aucpr',\n",
    "#     'objective': 'binary:logistic',\n",
    "#     'tree_method': 'hist',\n",
    "#     'random_state': 42,\n",
    "#     'learning_rate': 0.05,\n",
    "#     'max_depth': 6,\n",
    "#     'subsample': 0.8,\n",
    "#     'colsample_bytree': 0.8,\n",
    "#     'min_child_weight': 9,\n",
    "# }\n",
    "# training_params = {\n",
    "#     'num_boost_round': 1000,\n",
    "#     'verbose_eval': 100,\n",
    "# }\n",
    "\n",
    "# exclude_features = []\n",
    "# features_train = [i for i in transformed_valid_df.columns if i not in [target_label] + exclude_features]\n",
    "\n",
    "# dtrain = xgb.DMatrix(data=transformed_train_df[features_train], label=transformed_train_df[target_label])\n",
    "# dvalid = xgb.DMatrix(data=transformed_valid_df[features_train], label=transformed_valid_df[target_label])\n",
    "# dtest = xgb.DMatrix(data=transformed_test_df[features_train], label=transformed_test_df[target_label])\n",
    "\n",
    "# watch_list = [(dtrain,'train'), (dvalid, 'eval'), (dtest, 'test')]\n",
    "# #watch_list = [(dtrain,'train'), (dtest, 'test')]\n",
    "# with Timer(\"XGBoost training\"):\n",
    "#     model = xgb.train(model_params, **training_params, dtrain=dtrain, evals=watch_list)\n",
    "\n",
    "# with Timer(\"XGBoost test\"):\n",
    "#     probs = model.predict(dtest)\n",
    "#     precision, recall, _ = precision_recall_curve(transformed_test_df[target_label], probs)\n",
    "#     test_result = auc(recall, precision)\n",
    "# print(f\"testing results aucpr on test set is {test_result}\")"
   ]
  },
  {
   "attachments": {},
   "cell_type": "markdown",
   "metadata": {},
   "source": [
    "# 5. Performance Evaluation"
   ]
  },
  {
   "attachments": {},
   "cell_type": "markdown",
   "metadata": {},
   "source": [
    "Auto Feature Engineering only required 3 lines of configuration, Comparing with Manual written codes, it significantly reduces the feature engineering complexity\n",
    "\n",
    "| Name            | Line of Codes / config   | Process Time | Num Feature | Feature Engineering Methods |\n",
    "| --------------- | ------------- | ------------- | ------------- | ------------- |\n",
    "| Manual Written codes | [~ 93 lines](https://github.com/intel-sandbox/graph_platform/blob/main/workflows/fraud_detection.ipynb) | ~ 176 secs (pandas) | 26 | Data Standardize, numerical_convert, Data Split, categorify, concat, min_max_scaling, onehot_encode, multi_hot_encoding, target_encoding |\n",
    "| Distributed ML workflow | [~ 50 lines](https://github.com/intel/recommender-system-with-classical-ml/blob/main/applications/fraud_detection/data-preprocessing.yaml)| TBD | 26 | Data Standardize, numerical_convert, Data Split, categorify, concat, min_max_scaling, onehot_encode, multi_hot_encoding, target_encoding |\n",
    "| AutoFE workflow | 3 lines | ~ 200 secs (pandas) | 33 | Data Standardize, numerical_convert, categorify, onehot_encode, multi_hot_encoding, target_encoding |"
   ]
  }
 ],
 "metadata": {
  "kernelspec": {
   "display_name": "Python 3 (ipykernel)",
   "language": "python",
   "name": "python3"
  },
  "language_info": {
   "codemirror_mode": {
    "name": "ipython",
    "version": 3
   },
   "file_extension": ".py",
   "mimetype": "text/x-python",
   "name": "python",
   "nbconvert_exporter": "python",
   "pygments_lexer": "ipython3",
   "version": "3.10.6"
  }
 },
 "nbformat": 4,
 "nbformat_minor": 4
}
